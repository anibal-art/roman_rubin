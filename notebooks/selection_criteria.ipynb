{
 "cells": [
  {
   "cell_type": "code",
   "execution_count": 1,
   "id": "28a676a7-c324-4cea-a62d-40886da7f665",
   "metadata": {},
   "outputs": [
    {
     "name": "stdout",
     "output_type": "stream",
     "text": [
      "/home/anibal/roman_rubin\n"
     ]
    }
   ],
   "source": [
    "import os, sys\n",
    "import numpy as np\n",
    "import matplotlib.pyplot as plt\n",
    "from pyLIMA.outputs import pyLIMA_plots\n",
    "from cycler import cycler\n",
    "import pandas as pd\n",
    "sys.path.append(os.path.dirname(os.getcwd()))\n",
    "from functions_roman_rubin import sim_fit,sim_event\n",
    "from functions_roman_rubin import model_rubin_roman, fit_rubin_roman\n",
    "from functions_roman_rubin import read_data, save\n"
   ]
  },
  {
   "cell_type": "code",
   "execution_count": 9,
   "id": "1c2cecb8-c888-44db-acd5-858778b048b5",
   "metadata": {},
   "outputs": [
    {
     "data": {
      "text/html": [
       "<div><i>QTable length=195</i>\n",
       "<table id=\"table135850974766416\" class=\"table-striped table-bordered table-condensed\">\n",
       "<thead><tr><th>err_mag</th><th>mag</th><th>time</th></tr></thead>\n",
       "<thead><tr><th>float64</th><th>float64</th><th>float64</th></tr></thead>\n",
       "<tr><td>0.005164116906782586</td><td>17.133669893892222</td><td>2460413.788102894</td></tr>\n",
       "<tr><td>0.005239444992825591</td><td>17.12578558963919</td><td>2460413.790359606</td></tr>\n",
       "<tr><td>0.005391593536212567</td><td>17.12518303125244</td><td>2460418.9099950152</td></tr>\n",
       "<tr><td>0.005277823611919124</td><td>17.122123599118652</td><td>2460418.921196972</td></tr>\n",
       "<tr><td>0.00531796163829732</td><td>17.127077401946472</td><td>2460422.7991361674</td></tr>\n",
       "<tr><td>0.00520098784716724</td><td>17.129289229408545</td><td>2460434.8951345733</td></tr>\n",
       "<tr><td>...</td><td>...</td><td>...</td></tr>\n",
       "<tr><td>0.005253027691554667</td><td>17.11313171327494</td><td>2463792.7471020827</td></tr>\n",
       "<tr><td>0.005211505572679524</td><td>17.118686786269716</td><td>2463794.7349967896</td></tr>\n",
       "<tr><td>0.0052274025986157905</td><td>17.114121929211386</td><td>2463796.7359614526</td></tr>\n",
       "<tr><td>0.0052226415809217665</td><td>17.118304410890318</td><td>2463822.683784628</td></tr>\n",
       "<tr><td>0.005193726370054569</td><td>17.123778177330642</td><td>2463841.559719697</td></tr>\n",
       "<tr><td>0.005509017492553072</td><td>17.12130918471549</td><td>2463854.5699972636</td></tr>\n",
       "<tr><td>0.005351793332261831</td><td>17.118597297840132</td><td>2463868.4912725613</td></tr>\n",
       "</table></div>"
      ],
      "text/plain": [
       "<QTable length=195>\n",
       "       err_mag               mag                time       \n",
       "       float64             float64            float64      \n",
       "--------------------- ------------------ ------------------\n",
       " 0.005164116906782586 17.133669893892222  2460413.788102894\n",
       " 0.005239444992825591  17.12578558963919  2460413.790359606\n",
       " 0.005391593536212567  17.12518303125244 2460418.9099950152\n",
       " 0.005277823611919124 17.122123599118652  2460418.921196972\n",
       "  0.00531796163829732 17.127077401946472 2460422.7991361674\n",
       "  0.00520098784716724 17.129289229408545 2460434.8951345733\n",
       "                  ...                ...                ...\n",
       " 0.005253027691554667  17.11313171327494 2463792.7471020827\n",
       " 0.005211505572679524 17.118686786269716 2463794.7349967896\n",
       "0.0052274025986157905 17.114121929211386 2463796.7359614526\n",
       "0.0052226415809217665 17.118304410890318  2463822.683784628\n",
       " 0.005193726370054569 17.123778177330642  2463841.559719697\n",
       " 0.005509017492553072  17.12130918471549 2463854.5699972636\n",
       " 0.005351793332261831 17.118597297840132 2463868.4912725613"
      ]
     },
     "execution_count": 9,
     "metadata": {},
     "output_type": "execute_result"
    }
   ],
   "source": [
    "current_path = os.path.dirname(os.getcwd())\n",
    "path_to_save_model= current_path+'/test_sim_fit/'\n",
    "info_dataset, pyLIMA_parameters, bands = read_data(path_to_save_model+'/Event_517.h5')\n",
    "bands['W149']\n",
    "bands['u']\n",
    "bands['g']\n",
    "bands['r']\n",
    "bands['i']"
   ]
  },
  {
   "cell_type": "code",
   "execution_count": 6,
   "id": "f9be8478-bdc4-45ed-80f3-cfb8968badf3",
   "metadata": {},
   "outputs": [],
   "source": [
    "\n",
    "ulens_params = []\n",
    "PAR = ['t_center','u_center','tE','rho','separation','mass_ratio','alpha','piEN','piEE']\n",
    "ZP = {'W149':27.615, 'u':27.03, 'g':28.38, 'r':28.16,\n",
    "          'i':27.85, 'z':27.46, 'y':26.68}\n",
    "for b in (PAR):\n",
    "    ulens_params.append(pyLIMA_parameters[b])\n",
    "flux_params = []\n",
    "\n",
    "# Here we change the zero point to the pyLIMA convention in order to make the alignment\n",
    "for b in bands:\n",
    "    if not len(bands[b])==0:\n",
    "        zp_Rubin_to_pyLIMA = (10**((-27.4+ZP[b])/2.5))\n",
    "        \n",
    "        flux_params.append(pyLIMA_parameters['fsource_'+b]/zp_Rubin_to_pyLIMA)\n",
    "        flux_params.append(pyLIMA_parameters['ftotal_'+b]/zp_Rubin_to_pyLIMA)\n",
    "        \n",
    "true_params = ulens_params+flux_params\n"
   ]
  }
 ],
 "metadata": {
  "kernelspec": {
   "display_name": "PyLIMA",
   "language": "python",
   "name": "pylima"
  },
  "language_info": {
   "codemirror_mode": {
    "name": "ipython",
    "version": 3
   },
   "file_extension": ".py",
   "mimetype": "text/x-python",
   "name": "python",
   "nbconvert_exporter": "python",
   "pygments_lexer": "ipython3",
   "version": "3.9.20"
  }
 },
 "nbformat": 4,
 "nbformat_minor": 5
}
