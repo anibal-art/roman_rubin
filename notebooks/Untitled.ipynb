{
 "cells": [
  {
   "cell_type": "code",
   "execution_count": 1,
   "id": "a9a2cb69-b498-4c1f-bdda-0a1aa6a6318c",
   "metadata": {},
   "outputs": [
    {
     "name": "stdout",
     "output_type": "stream",
     "text": [
      "/home/anibal/roman_rubin/notebooks\n"
     ]
    }
   ],
   "source": [
    "!pwd"
   ]
  },
  {
   "cell_type": "code",
   "execution_count": 13,
   "id": "44c14264-ef8e-444e-8526-5cc5858e8f21",
   "metadata": {},
   "outputs": [
    {
     "name": "stdout",
     "output_type": "stream",
     "text": [
      "<class 'pandas.core.frame.DataFrame'>\n",
      "RangeIndex: 8609 entries, 0 to 8608\n",
      "Data columns (total 32 columns):\n",
      " #   Column                 Non-Null Count  Dtype  \n",
      "---  ------                 --------------  -----  \n",
      " 0   Source                 8609 non-null   int64  \n",
      " 1   Set                    8609 non-null   int64  \n",
      " 2   t0                     8609 non-null   float64\n",
      " 3   u0                     8609 non-null   float64\n",
      " 4   te                     8609 non-null   float64\n",
      " 5   rho                    8609 non-null   float64\n",
      " 6   s                      8609 non-null   float64\n",
      " 7   q                      8609 non-null   float64\n",
      " 8   alpha                  8609 non-null   float64\n",
      " 9   piEN                   8609 non-null   float64\n",
      " 10  piEE                   8609 non-null   float64\n",
      " 11  t0_err                 0 non-null      float64\n",
      " 12  u0_err                 0 non-null      float64\n",
      " 13  te_err                 0 non-null      float64\n",
      " 14  rho_err                0 non-null      float64\n",
      " 15  s_err                  0 non-null      float64\n",
      " 16  q_err                  0 non-null      float64\n",
      " 17  alpha_err              0 non-null      float64\n",
      " 18  piEN_err               0 non-null      float64\n",
      " 19  piEE_err               0 non-null      float64\n",
      " 20  piE                    8609 non-null   float64\n",
      " 21  piE_err                8605 non-null   float64\n",
      " 22  piE_err_MC             8605 non-null   float64\n",
      " 23  mass_thetaE            8609 non-null   object \n",
      " 24  mass_mu                8609 non-null   object \n",
      " 25  mass_thetaS            8609 non-null   object \n",
      " 26  err_mass_thetaE_NotMC  8548 non-null   float64\n",
      " 27  mass_err_thetaE        8609 non-null   object \n",
      " 28  mass_err_mu            8609 non-null   object \n",
      " 29  mass_err_thetaS        8609 non-null   object \n",
      " 30  chichi                 8609 non-null   float64\n",
      " 31  dof                    8609 non-null   int64  \n",
      "dtypes: float64(23), int64(3), object(6)\n",
      "memory usage: 2.1+ MB\n",
      "None\n"
     ]
    }
   ],
   "source": [
    "import pandas as pd\n",
    "import numpy as np\n",
    "import matplotlib.pyplot as plt\n",
    "\n",
    "print(pd.read_csv(\"/home/anibal/roman_rubin/test_USBL/fit_rr.csv\").info())"
   ]
  }
 ],
 "metadata": {
  "kernelspec": {
   "display_name": "PyLIMA",
   "language": "python",
   "name": "pylima"
  },
  "language_info": {
   "codemirror_mode": {
    "name": "ipython",
    "version": 3
   },
   "file_extension": ".py",
   "mimetype": "text/x-python",
   "name": "python",
   "nbconvert_exporter": "python",
   "pygments_lexer": "ipython3",
   "version": "3.9.20"
  }
 },
 "nbformat": 4,
 "nbformat_minor": 5
}
