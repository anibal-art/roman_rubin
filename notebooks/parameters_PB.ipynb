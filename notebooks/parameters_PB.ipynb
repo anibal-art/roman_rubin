{
 "cells": [
  {
   "cell_type": "code",
   "execution_count": 1,
   "id": "853741e4-c82a-430a-a10b-8a19a0e65bdc",
   "metadata": {
    "tags": []
   },
   "outputs": [],
   "source": [
    "import pandas as pd\n",
    "import numpy as np\n",
    "import matplotlib.pyplot as plt\n",
    "from tqdm.auto import tqdm\n",
    "from astropy import constants as const\n",
    "from astropy import units as u\n",
    "import math\n",
    "from astropy.constants import c, L_sun, sigma_sb, M_jup, M_earth"
   ]
  },
  {
   "cell_type": "code",
   "execution_count": 2,
   "id": "7279447f-d724-446b-86aa-5bea2b13efff",
   "metadata": {
    "tags": []
   },
   "outputs": [
    {
     "name": "stderr",
     "output_type": "stream",
     "text": [
      "/tmp/ipykernel_39023/3020319067.py:1: FutureWarning: The 'delim_whitespace' keyword in pd.read_csv is deprecated and will be removed in a future version. Use ``sep='\\s+'`` instead\n",
      "  df_koshimoto_large = pd.read_csv('/home/anibal/genulens/tmp_new.dat', delim_whitespace=True, comment='#', header=None)\n"
     ]
    }
   ],
   "source": [
    "df_koshimoto_large = pd.read_csv('/home/anibal/genulens/tmp_new.dat', delim_whitespace=True, comment='#', header=None)\n",
    "header = [\"wtj\", \"M_L\", \"D_L\", \"D_S\", \"tE\", \"thetaE\", \"piE\", \"piEN\", \"piEE\", \"mu_rel\", \"muSl\", \"muSb\", \"i_L\", \"iS\",\n",
    "          \"iL\", \"fREM\"]\n",
    "df_koshimoto_large.columns = header\n",
    "# data[\"D_S\"]=df_koshimoto_large[\"D_S\"]\n",
    "# data[\"D_L\"]=df_koshimoto_large[\"D_L\"]\n",
    "# data[\"mu_rel\"]=df_koshimoto_large[\"mu_rel\"]\n",
    "\n"
   ]
  },
  {
   "cell_type": "code",
   "execution_count": 3,
   "id": "d36d2adc-ed19-4dbc-bbf1-2a145a077a42",
   "metadata": {
    "tags": []
   },
   "outputs": [],
   "source": [
    "\n",
    "# plt.hist(data[\"mu_rel\"], bins=np.arange(0,100,10))\n",
    "# plt.yscale('log')\n",
    "# plt.xlabel(r'$\\mu_{rel}$')"
   ]
  },
  {
   "cell_type": "code",
   "execution_count": 4,
   "id": "669528b7-4887-4667-88a9-3585511be5e0",
   "metadata": {
    "tags": []
   },
   "outputs": [
    {
     "name": "stdout",
     "output_type": "stream",
     "text": [
      "The len() of the database is:  6752296\n"
     ]
    },
    {
     "data": {
      "text/html": [
       "<div>\n",
       "<style scoped>\n",
       "    .dataframe tbody tr th:only-of-type {\n",
       "        vertical-align: middle;\n",
       "    }\n",
       "\n",
       "    .dataframe tbody tr th {\n",
       "        vertical-align: top;\n",
       "    }\n",
       "\n",
       "    .dataframe thead th {\n",
       "        text-align: right;\n",
       "    }\n",
       "</style>\n",
       "<table border=\"1\" class=\"dataframe\">\n",
       "  <thead>\n",
       "    <tr style=\"text-align: right;\">\n",
       "      <th></th>\n",
       "      <th>u</th>\n",
       "      <th>g</th>\n",
       "      <th>r</th>\n",
       "      <th>i</th>\n",
       "      <th>z</th>\n",
       "      <th>Y</th>\n",
       "      <th>W149</th>\n",
       "      <th>radius</th>\n",
       "      <th>D_S</th>\n",
       "      <th>D_L</th>\n",
       "      <th>mu_rel</th>\n",
       "    </tr>\n",
       "  </thead>\n",
       "  <tbody>\n",
       "    <tr>\n",
       "      <th>0</th>\n",
       "      <td>27.940</td>\n",
       "      <td>25.112</td>\n",
       "      <td>23.791</td>\n",
       "      <td>23.052</td>\n",
       "      <td>22.687</td>\n",
       "      <td>22.509</td>\n",
       "      <td>22.4888</td>\n",
       "      <td>0.204717</td>\n",
       "      <td>7708</td>\n",
       "      <td>3337</td>\n",
       "      <td>1.752341</td>\n",
       "    </tr>\n",
       "    <tr>\n",
       "      <th>1</th>\n",
       "      <td>32.152</td>\n",
       "      <td>28.801</td>\n",
       "      <td>27.358</td>\n",
       "      <td>25.353</td>\n",
       "      <td>24.371</td>\n",
       "      <td>23.905</td>\n",
       "      <td>23.7048</td>\n",
       "      <td>0.256539</td>\n",
       "      <td>5443</td>\n",
       "      <td>3490</td>\n",
       "      <td>3.368060</td>\n",
       "    </tr>\n",
       "    <tr>\n",
       "      <th>2</th>\n",
       "      <td>29.916</td>\n",
       "      <td>26.583</td>\n",
       "      <td>25.143</td>\n",
       "      <td>23.976</td>\n",
       "      <td>23.416</td>\n",
       "      <td>23.174</td>\n",
       "      <td>23.0758</td>\n",
       "      <td>0.377705</td>\n",
       "      <td>7715</td>\n",
       "      <td>4581</td>\n",
       "      <td>6.920123</td>\n",
       "    </tr>\n",
       "    <tr>\n",
       "      <th>3</th>\n",
       "      <td>19.718</td>\n",
       "      <td>18.786</td>\n",
       "      <td>18.695</td>\n",
       "      <td>18.736</td>\n",
       "      <td>18.808</td>\n",
       "      <td>18.839</td>\n",
       "      <td>19.3448</td>\n",
       "      <td>1.236383</td>\n",
       "      <td>6055</td>\n",
       "      <td>2758</td>\n",
       "      <td>9.626590</td>\n",
       "    </tr>\n",
       "    <tr>\n",
       "      <th>4</th>\n",
       "      <td>28.293</td>\n",
       "      <td>25.580</td>\n",
       "      <td>24.286</td>\n",
       "      <td>23.587</td>\n",
       "      <td>23.239</td>\n",
       "      <td>23.064</td>\n",
       "      <td>23.0568</td>\n",
       "      <td>0.232088</td>\n",
       "      <td>7359</td>\n",
       "      <td>6834</td>\n",
       "      <td>6.344430</td>\n",
       "    </tr>\n",
       "  </tbody>\n",
       "</table>\n",
       "</div>"
      ],
      "text/plain": [
       "        u       g       r       i       z       Y     W149    radius   D_S  \\\n",
       "0  27.940  25.112  23.791  23.052  22.687  22.509  22.4888  0.204717  7708   \n",
       "1  32.152  28.801  27.358  25.353  24.371  23.905  23.7048  0.256539  5443   \n",
       "2  29.916  26.583  25.143  23.976  23.416  23.174  23.0758  0.377705  7715   \n",
       "3  19.718  18.786  18.695  18.736  18.808  18.839  19.3448  1.236383  6055   \n",
       "4  28.293  25.580  24.286  23.587  23.239  23.064  23.0568  0.232088  7359   \n",
       "\n",
       "    D_L    mu_rel  \n",
       "0  3337  1.752341  \n",
       "1  3490  3.368060  \n",
       "2  4581  6.920123  \n",
       "3  2758  9.626590  \n",
       "4  6834  6.344430  "
      ]
     },
     "execution_count": 4,
     "metadata": {},
     "output_type": "execute_result"
    }
   ],
   "source": [
    "try:\n",
    "    data = pd.read_csv('/home/anibal/Downloads/things/df_trilegal_radios.csv')\n",
    "except:\n",
    "    Radii_star = []\n",
    "    for i in tqdm(range(len(data))):\n",
    "        logL = data['logL'][i]  # log10 of the luminosity in Lsun from TRILEGAL\n",
    "        logTe = data['logTe'][i]  # log10 of effective temperature in K from TRILEGAL\n",
    "        L_star = 10**(logL)\n",
    "        Teff = (10**(logTe))*u.K\n",
    "        top = L_star*L_sun\n",
    "        sigma = sigma_sb\n",
    "        bot = 4*np.pi*sigma*Teff**4\n",
    "        Rstar = np.sqrt(top/bot)\n",
    "        Radii_star.append(Rstar.to('R_sun').value)\n",
    "\n",
    "    data['radius']=Radii_star\n",
    "    df_koshimoto_large = pd.read_csv('/home/anibal/genulens/tmp_new.dat', delim_whitespace=True, comment='#', header=None)\n",
    "    header = [\"wtj\", \"M_L\", \"D_L\", \"D_S\", \"tE\", \"thetaE\", \"piE\", \"piEN\", \"piEE\", \"mu_rel\", \"muSl\", \"muSb\", \"i_L\", \"iS\",\n",
    "              \"iL\", \"fREM\"]\n",
    "    df_koshimoto_large.columns = header\n",
    "    data[\"D_S\"]=df_koshimoto_large[\"D_S\"]\n",
    "    data[\"D_L\"]=df_koshimoto_large[\"D_L\"]\n",
    "    data[\"mu_rel\"]=df_koshimoto_large[\"mu_rel\"]\n",
    "\n",
    "    data = data[['u','g','r','i','z','Y','W149','radius','D_S','D_L','mu_rel']]\n",
    "    data = data[data['D_S']<8000]\n",
    "    data.to_csv('/home/anibal/Downloads/df_trilegal_radios.csv', index=False)\n",
    "    \n",
    "print('The len() of the database is: ',len(data))\n",
    "data.head()"
   ]
  },
  {
   "cell_type": "code",
   "execution_count": 23,
   "id": "b2bf6d03-65be-4c6d-bada-f8a74f62ec60",
   "metadata": {
    "tags": []
   },
   "outputs": [],
   "source": [
    "# print(len(data))# data.columns = ['u', 'g', 'r', 'i', 'z', 'Y', 'W149', 'radius', 'D_S', 'D_L', 'mu_rel']#, 't0', 'tE', 'u0', 'rho', 'piEE', 'piEN']"
   ]
  },
  {
   "cell_type": "code",
   "execution_count": 6,
   "id": "1351f651-4ff2-4da9-850f-5bd6d65f30e5",
   "metadata": {
    "tags": []
   },
   "outputs": [
    {
     "data": {
      "image/png": "[encoded data removed]",
      "text/plain": [
       "<Figure size 640x480 with 1 Axes>"
      ]
     },
     "metadata": {},
     "output_type": "display_data"
    }
   ],
   "source": [
    "plt.hist(np.random.lognormal(3.1,1,1000),bins=200)\n",
    "plt.show()\n"
   ]
  },
  {
   "cell_type": "code",
   "execution_count": 25,
   "id": "d4f71efb-cd28-4d97-a9e3-e402fa7a84e9",
   "metadata": {
    "tags": []
   },
   "outputs": [],
   "source": [
    "# print((1*u.rad).to('mas'))\n",
    "# aconv = (180 * 60 * 60 * 1000) / math.pi\n",
    "# print(aconv)"
   ]
  },
  {
   "cell_type": "code",
   "execution_count": 249,
   "id": "dfd5a10c-fd51-4ab3-937d-d5b406e4c256",
   "metadata": {
    "tags": []
   },
   "outputs": [],
   "source": [
    "# 5e-3"
   ]
  },
  {
   "cell_type": "code",
   "execution_count": 248,
   "id": "8820615f-8500-4a1f-bfca-61894e163002",
   "metadata": {
    "tags": []
   },
   "outputs": [],
   "source": [
    "# 1000*u.M_jup.to('M_sun')"
   ]
  },
  {
   "cell_type": "code",
   "execution_count": 7,
   "id": "be490957-faef-4347-9dce-670ac11a2ddc",
   "metadata": {
    "tags": []
   },
   "outputs": [
    {
     "name": "stdout",
     "output_type": "stream",
     "text": [
      "0.001\n",
      "0.001\n"
     ]
    }
   ],
   "source": [
    "print(round((1*u.M_jup/u.M_sun).decompose().value,3))\n",
    "print(1e-3)"
   ]
  },
  {
   "cell_type": "code",
   "execution_count": 132,
   "id": "c74ae2ed-514f-4175-a20a-6407aef4a0f3",
   "metadata": {
    "tags": []
   },
   "outputs": [
    {
     "data": {
      "application/vnd.jupyter.widget-view+json": {
       "model_id": "f60543d8d3be410b92579fb33f125caa",
       "version_major": 2,
       "version_minor": 0
      },
      "text/plain": [
       "  0%|          | 0/1 [00:00<?, ?it/s]"
      ]
     },
     "metadata": {},
     "output_type": "display_data"
    },
    {
     "name": "stdout",
     "output_type": "stream",
     "text": [
      "6.735284919657184\n",
      "thetaE se lo puede estimar asi con tE 6.735284919657183\n",
      "thetaE se lo puede estimar asi con rho 6.735284919657183\n",
      "la masa es 32.779257350982064 solMass\n",
      "la masa se la puede estimar asi 32.77925735098207 solMass\n"
     ]
    }
   ],
   "source": [
    "ang_radii_E = []\n",
    "radii_source = []\n",
    "tstart_Roman = 2461508.763828608\n",
    "mlist=[]\n",
    "dict_micro = {'m_planet':[],'m_star':[],'t0': [],'te': [],'u0': [],'rho': [],'piEE': [],'piEN': [],'s':[],'q':[],'alpha':[]}\n",
    "for i in tqdm(range(int(1))):#4e+4))):#len(data))):\n",
    "    # ml = (50*u.M_sun).value\n",
    "    m_planet = np.random.uniform(0.0031463518655061432 , 13)* u.M_jup\n",
    "    m_star = np.random.uniform(1 , 120 )* u.M_sun\n",
    "    q = (m_planet/m_star).decompose()\n",
    "    ml = (m_star+m_planet).decompose().to('M_sun')\n",
    "    # print(ml)\n",
    "    # ml = np.random.uniform((1 * u.M_sun).value, (120 * u.M_sun).value)\n",
    "    # ml = ml*u.M_sun\n",
    "    # print(ml)\n",
    "    DS = (data.iloc[i]['D_S'] * u.pc).to('kpc')\n",
    "    DL = (data.iloc[i]['D_L'] * u.pc).to('kpc')\n",
    "    c = const.c\n",
    "    G = const.G\n",
    "    yr2day = 365.25\n",
    "    pi_rel = ((1 / DL) - (1 / DS))\n",
    "    # print(pi_rel)\n",
    "    k = 4 * G / (c ** 2)\n",
    "    aconv = (180 * 60 * 60 * 1000) / math.pi\n",
    "    theta_E = np.sqrt(k * pi_rel * ml).decompose() * aconv #multiplico por aconv para pasar de rad a mas\n",
    "    print(theta_E)\n",
    "    \n",
    "    mu_rel = data.iloc[i]['mu_rel']\n",
    "    tE = float((theta_E/mu_rel)*yr2day)\n",
    "    print('thetaE se lo puede estimar asi con tE', mu_rel*tE/yr2day)\n",
    "    \n",
    "    piE = float(pi_rel.value/theta_E)\n",
    "    ang_radii_E.append(theta_E)\n",
    "    Rstar = data['radius'][i]*u.R_sun\n",
    "    theta_s = np.arctan(Rstar/DS).decompose().to('mas').value\n",
    "    radii_source.append(theta_s)\n",
    "    \n",
    "    \n",
    "    #------------------------------------------------------------------------------------------------\n",
    "    # t0 = np.random.uniform(tstart_Roman,\n",
    "                           # tstart_Roman + 5 * 365)  # from 100 day before Roman is launched to one year later\n",
    "    u0 = np.random.uniform(0, 3)\n",
    "    rho = float((theta_s/theta_E).value)\n",
    "\n",
    "    print('thetaE se lo puede estimar asi con rho', theta_s/rho)\n",
    "    phi = np.random.uniform(0, np.pi)\n",
    "    piEE = piE * np.cos(phi)\n",
    "    piEN = piE * np.sin(phi)\n",
    "    d = np.random.uniform(0.1,28)\n",
    "    s = float(((np.arctan(d*u.au/DL).to('mas'))/(theta_E)).value)\n",
    "    \n",
    "    print('la masa es', (m_planet+m_star).to('M_sun'))\n",
    "    \n",
    "    \n",
    "    print('la masa se la puede estimar asi', ((theta_E/aconv**2)*u.kpc/(k*np.sqrt(piEN**2+piEE**2))).decompose().to('M_sun'))\n",
    "\n",
    "    # print(s)\n",
    "    # print(theta_E)\n",
    "    # s = np.random.uniform(0,np.arctan(d/dl)/theta_E)\n",
    "    t0 = np.random.uniform(tstart_Roman,\n",
    "                       tstart_Roman + 5 * 365)\n",
    "    dict_micro['u0'].append(u0)\n",
    "    dict_micro['te'].append(tE)\n",
    "    dict_micro['rho'].append(rho)\n",
    "    dict_micro['piEE'].append(piEE)\n",
    "    dict_micro['piEN'].append(piEN)\n",
    "    dict_micro['t0'].append(t0)\n",
    "    dict_micro['q'].append(q.value)\n",
    "    dict_micro['s'].append(s)\n",
    "    dict_micro['alpha'].append(np.random.uniform(0,np.pi))\n",
    "    dict_micro['m_planet'].append(m_planet)\n",
    "    dict_micro['m_star'].append(m_star)    \n",
    "    mass_kg = (pi_rel/(k*(pi_rel/theta_E)**2)).decompose()\n",
    "    # print(mass_kg.to('M_sun'))\n",
    "    # print((theta_E/aconv)**2)\n",
    "    # print((((theta_E/aconv)**2)/(k*pi_rel)).decompose().to('M_sun'))\n",
    "    mlist.append((((theta_E/aconv)**2)/(k*pi_rel)).decompose().to('M_sun'))\n",
    "    # print(theta_E)\n",
    "    # print(theta_s/rho)\n",
    "    # mass.append(mass_kg.to('M_sun'))\n",
    "    # print(mass_kg.to('M_sun'))\n",
    "    # print((theta_E/(k*(pi_rel/theta_E))).decompose().to('M_sun'))\n",
    "# plt.hist(mlist)"
   ]
  },
  {
   "cell_type": "markdown",
   "id": "db5e592d-686a-4915-a46c-493d17ff72ab",
   "metadata": {},
   "source": [
    "data"
   ]
  },
  {
   "cell_type": "code",
   "execution_count": 31,
   "id": "0d0036db-4541-4add-b82c-38ba731ef9c0",
   "metadata": {
    "tags": []
   },
   "outputs": [],
   "source": [
    "data = data.head(int(4e+4))\n",
    "for key in dict_micro:\n",
    "    data[key] = dict_micro[key]"
   ]
  },
  {
   "cell_type": "code",
   "execution_count": 32,
   "id": "6f1868c8-4232-47ec-bc32-3107ae010236",
   "metadata": {
    "tags": []
   },
   "outputs": [
    {
     "name": "stdout",
     "output_type": "stream",
     "text": [
      "2.7369744158349234 jupiterMass\n",
      "2.7369744158349243 jupiterMass\n"
     ]
    }
   ],
   "source": [
    "# 1*u.M_earth\n",
    "# 1*u.M_earth.to('M_jup')\n",
    "mp = data['m_planet'].iloc[0]#.to('M_sun')\n",
    "ms = data['m_star'].iloc[0]\n",
    "q = data['q'].iloc[0]\n",
    "\n",
    "mt = ms+mp\n",
    "mplanet = mt*q/(q+1)\n",
    "print(mplanet.to('M_jup'))\n",
    "print(mp)"
   ]
  },
  {
   "cell_type": "code",
   "execution_count": 39,
   "id": "86beba82-758b-464e-896c-6ad110ad33fe",
   "metadata": {
    "tags": []
   },
   "outputs": [
    {
     "data": {
      "text/latex": [
       "$2.9704641 \\times 10^{-27} \\; \\mathrm{\\frac{m}{kg}}$"
      ],
      "text/plain": [
       "<Quantity 2.97046411e-27 m / kg>"
      ]
     },
     "execution_count": 39,
     "metadata": {},
     "output_type": "execute_result"
    }
   ],
   "source": [
    "k"
   ]
  },
  {
   "cell_type": "code",
   "execution_count": 122,
   "id": "dbe03174-373b-48ae-9bf2-96db201b7532",
   "metadata": {
    "tags": []
   },
   "outputs": [
    {
     "name": "stdout",
     "output_type": "stream",
     "text": [
      "13.552882760390048 solMass\n",
      "13.552882760390055 solMass\n"
     ]
    }
   ],
   "source": [
    "i=10\n",
    "mp = data['m_planet'].iloc[i]#.to('M_sun')\n",
    "ms = data['m_star'].iloc[i]\n",
    "mt= mp+ms\n",
    "\n",
    "tE = data['te'].iloc[i]\n",
    "mu_rel = data['mu_rel'].iloc[i]\n",
    "piEE = data['piEE'].iloc[i]\n",
    "piEN = data['piEN'].iloc[i]\n",
    "thetaE =tE*mu_rel/yr2day \n",
    "\n",
    "\n",
    "mest = ((thetaE/aconv**2)*u.kpc/(k*np.sqrt(piEN**2+piEE**2))).decompose().to('M_sun')\n",
    "\n",
    "print(mt.to('M_sun'))\n",
    "print(mest)"
   ]
  },
  {
   "cell_type": "code",
   "execution_count": 18,
   "id": "3b8747ba-2d4c-4afe-bb45-68b2f46f286f",
   "metadata": {
    "tags": []
   },
   "outputs": [],
   "source": [
    "# print(len(data[data['rho']>0.1*data['u0']]))\n",
    "# print(len(data))"
   ]
  },
  {
   "cell_type": "code",
   "execution_count": null,
   "id": "9334a861-19e9-45b8-90bb-0ee962ac2c3e",
   "metadata": {
    "tags": []
   },
   "outputs": [],
   "source": [
    "# plt.hist(data['te'])\n",
    "# plt.yscale('log')\n",
    "# plt.show()\n",
    "# plt.plot(data['u0'], data['rho'], marker='o', linestyle='')\n",
    "# plt.yscale('log')"
   ]
  },
  {
   "cell_type": "code",
   "execution_count": 273,
   "id": "0ccdf44f-e28c-4618-9f2c-94e2fa78788e",
   "metadata": {
    "tags": []
   },
   "outputs": [],
   "source": [
    "file_name = '/home/anibal/Downloads/things/df_trilegal_PB_params.csv'\n",
    "# data.to_csv(file_name, index=False)"
   ]
  },
  {
   "cell_type": "code",
   "execution_count": 277,
   "id": "aadfb8b8-7c54-4e17-8799-a59cbfb2a7b2",
   "metadata": {
    "tags": []
   },
   "outputs": [
    {
     "name": "stdout",
     "output_type": "stream",
     "text": [
      "5000\n"
     ]
    }
   ],
   "source": [
    "i=0\n",
    "file_name = f'/home/anibal/results_roman_rubin/FFP_fs_split_{i + 1}.csv'\n",
    "# data.to_csv(file_name, index=False)\n",
    "\n",
    "data = pd.read_csv(file_name)\n",
    "data.head()\n",
    "print(len(data))"
   ]
  },
  {
   "cell_type": "code",
   "execution_count": 284,
   "id": "3d70d23a-ec4c-494c-92a0-5ba2b12701e3",
   "metadata": {
    "tags": []
   },
   "outputs": [
    {
     "data": {
      "image/png": "[encoded data removed]",
      "text/plain": [
       "<Figure size 640x480 with 2 Axes>"
      ]
     },
     "metadata": {},
     "output_type": "display_data"
    }
   ],
   "source": [
    "plt.hist2d(data['te'],np.sqrt(data['piEE']**2+data['piEE']**2),bins=(np.logspace(-2,2\n",
    "                                                                                 ,20),np.logspace(-2,1,20)),cmap=plt.cm.BuPu)\n",
    "plt.yscale('log')\n",
    "plt.xscale('log')\n",
    "plt.xlabel(r'$t_E \\ [days]$', fontsize=20)\n",
    "plt.ylabel(r'$\\pi_E  $', fontsize=20)\n",
    "plt.colorbar()\n",
    "plt.show()"
   ]
  },
  {
   "cell_type": "code",
   "execution_count": 24,
   "id": "88003427-0e47-44f8-95bb-097aee959356",
   "metadata": {
    "tags": []
   },
   "outputs": [
    {
     "data": {
      "image/png": "[encoded data removed]",
      "text/plain": [
       "<Figure size 640x480 with 2 Axes>"
      ]
     },
     "metadata": {},
     "output_type": "display_data"
    }
   ],
   "source": [
    "plt.hist2d(data['u0'], data['rho'],\n",
    "           bins=(np.logspace(-0.6,0.6,20),np.logspace(-5,-2,20)),cmap=plt.cm.BuPu)\n",
    "plt.yscale('log')\n",
    "plt.xscale('log')\n",
    "plt.xlabel(r'$\\rho$', fontsize=20)\n",
    "plt.ylabel(r'$u_0$', fontsize=20)\n",
    "plt.xticks(fontsize=12)\n",
    "plt.yticks(fontsize=12)\n",
    "plt.colorbar()\n",
    "plt.show()"
   ]
  },
  {
   "cell_type": "code",
   "execution_count": null,
   "id": "afeac650-c82b-4b6e-8caa-aa8a1b43a293",
   "metadata": {
    "tags": []
   },
   "outputs": [],
   "source": [
    "# plt.hist(data['alpha'])\n",
    "# # plt.yscale('log')\n",
    "# plt.xlabel('s', fontsize=20)"
   ]
  },
  {
   "cell_type": "code",
   "execution_count": 235,
   "id": "caf89edd-1c03-43ab-9d91-e430a775e68c",
   "metadata": {
    "tags": []
   },
   "outputs": [
    {
     "name": "stdout",
     "output_type": "stream",
     "text": [
      "Split 1 saved to /home/anibal/results_roman_rubin/PB_planet_split_1.csv\n",
      "Split 2 saved to /home/anibal/results_roman_rubin/PB_planet_split_2.csv\n",
      "Split 3 saved to /home/anibal/results_roman_rubin/PB_planet_split_3.csv\n",
      "Split 4 saved to /home/anibal/results_roman_rubin/PB_planet_split_4.csv\n",
      "Split 5 saved to /home/anibal/results_roman_rubin/PB_planet_split_5.csv\n",
      "Split 6 saved to /home/anibal/results_roman_rubin/PB_planet_split_6.csv\n",
      "Split 7 saved to /home/anibal/results_roman_rubin/PB_planet_split_7.csv\n",
      "Split 8 saved to /home/anibal/results_roman_rubin/PB_planet_split_8.csv\n"
     ]
    }
   ],
   "source": [
    "import pandas as pd\n",
    "# Calculate the number of rows in each split\n",
    "rows_per_split = 5000\n",
    "num_splits = len(data) // rows_per_split\n",
    "# Split the DataFrame into 8 pieces with approximately 5000 rows each\n",
    "df_splits = [data.iloc[i * rows_per_split:(i + 1) * rows_per_split] for i in range(num_splits)]\n",
    "# Save each split DataFrame to a CSV file\n",
    "\n",
    "j = 0\n",
    "for i, df_split in enumerate(df_splits):\n",
    "    csv_filename = f'/home/anibal/results_roman_rubin/PB_planet_split_{i + 1}.csv'\n",
    "    df_split.to_csv(csv_filename, index=False)\n",
    "    print(f\"Split {i + 1} saved to {csv_filename}\")\n",
    "    j = j+1\n",
    "    if j>8:\n",
    "        break\n"
   ]
  },
  {
   "cell_type": "code",
   "execution_count": 26,
   "id": "e210760c-2d2d-403f-8b88-0cb87204b0c4",
   "metadata": {
    "tags": []
   },
   "outputs": [
    {
     "data": {
      "text/html": [
       "<div>\n",
       "<style scoped>\n",
       "    .dataframe tbody tr th:only-of-type {\n",
       "        vertical-align: middle;\n",
       "    }\n",
       "\n",
       "    .dataframe tbody tr th {\n",
       "        vertical-align: top;\n",
       "    }\n",
       "\n",
       "    .dataframe thead th {\n",
       "        text-align: right;\n",
       "    }\n",
       "</style>\n",
       "<table border=\"1\" class=\"dataframe\">\n",
       "  <thead>\n",
       "    <tr style=\"text-align: right;\">\n",
       "      <th></th>\n",
       "      <th>u</th>\n",
       "      <th>g</th>\n",
       "      <th>r</th>\n",
       "      <th>i</th>\n",
       "      <th>z</th>\n",
       "      <th>Y</th>\n",
       "      <th>W149</th>\n",
       "      <th>radius</th>\n",
       "      <th>D_S</th>\n",
       "      <th>D_L</th>\n",
       "      <th>mu_rel</th>\n",
       "      <th>t0</th>\n",
       "      <th>te</th>\n",
       "      <th>u0</th>\n",
       "      <th>rho</th>\n",
       "      <th>piEE</th>\n",
       "      <th>piEN</th>\n",
       "      <th>s</th>\n",
       "      <th>q</th>\n",
       "      <th>alpha</th>\n",
       "    </tr>\n",
       "  </thead>\n",
       "  <tbody>\n",
       "    <tr>\n",
       "      <th>0</th>\n",
       "      <td>29.601</td>\n",
       "      <td>26.474</td>\n",
       "      <td>25.107</td>\n",
       "      <td>23.698</td>\n",
       "      <td>23.008</td>\n",
       "      <td>22.705</td>\n",
       "      <td>22.6108</td>\n",
       "      <td>0.456723</td>\n",
       "      <td>7659</td>\n",
       "      <td>7585</td>\n",
       "      <td>3.256063</td>\n",
       "      <td>2.462801e+06</td>\n",
       "      <td>93.811431</td>\n",
       "      <td>2.033267</td>\n",
       "      <td>0.000332</td>\n",
       "      <td>0.001486</td>\n",
       "      <td>0.000333</td>\n",
       "      <td>0.604626</td>\n",
       "      <td>0.265870</td>\n",
       "      <td>3.108559</td>\n",
       "    </tr>\n",
       "    <tr>\n",
       "      <th>1</th>\n",
       "      <td>32.166</td>\n",
       "      <td>28.715</td>\n",
       "      <td>27.287</td>\n",
       "      <td>25.486</td>\n",
       "      <td>24.612</td>\n",
       "      <td>24.219</td>\n",
       "      <td>24.0668</td>\n",
       "      <td>0.279031</td>\n",
       "      <td>7712</td>\n",
       "      <td>4363</td>\n",
       "      <td>3.795269</td>\n",
       "      <td>2.462971e+06</td>\n",
       "      <td>663.406368</td>\n",
       "      <td>1.313730</td>\n",
       "      <td>0.000024</td>\n",
       "      <td>-0.007374</td>\n",
       "      <td>0.012414</td>\n",
       "      <td>0.273392</td>\n",
       "      <td>0.277424</td>\n",
       "      <td>2.460325</td>\n",
       "    </tr>\n",
       "    <tr>\n",
       "      <th>2</th>\n",
       "      <td>30.278</td>\n",
       "      <td>27.203</td>\n",
       "      <td>25.849</td>\n",
       "      <td>24.504</td>\n",
       "      <td>23.844</td>\n",
       "      <td>23.556</td>\n",
       "      <td>23.4698</td>\n",
       "      <td>0.434663</td>\n",
       "      <td>7857</td>\n",
       "      <td>6306</td>\n",
       "      <td>9.093387</td>\n",
       "      <td>2.461781e+06</td>\n",
       "      <td>172.702449</td>\n",
       "      <td>2.498220</td>\n",
       "      <td>0.000060</td>\n",
       "      <td>0.005952</td>\n",
       "      <td>0.004193</td>\n",
       "      <td>0.533999</td>\n",
       "      <td>0.099116</td>\n",
       "      <td>1.728898</td>\n",
       "    </tr>\n",
       "    <tr>\n",
       "      <th>3</th>\n",
       "      <td>30.377</td>\n",
       "      <td>27.346</td>\n",
       "      <td>26.007</td>\n",
       "      <td>24.720</td>\n",
       "      <td>24.087</td>\n",
       "      <td>23.811</td>\n",
       "      <td>23.7328</td>\n",
       "      <td>0.374243</td>\n",
       "      <td>7672</td>\n",
       "      <td>7318</td>\n",
       "      <td>6.616242</td>\n",
       "      <td>2.462450e+06</td>\n",
       "      <td>136.612546</td>\n",
       "      <td>2.696524</td>\n",
       "      <td>0.000092</td>\n",
       "      <td>0.002525</td>\n",
       "      <td>0.000344</td>\n",
       "      <td>1.270386</td>\n",
       "      <td>0.440784</td>\n",
       "      <td>1.258011</td>\n",
       "    </tr>\n",
       "    <tr>\n",
       "      <th>4</th>\n",
       "      <td>30.666</td>\n",
       "      <td>27.514</td>\n",
       "      <td>26.141</td>\n",
       "      <td>24.701</td>\n",
       "      <td>23.997</td>\n",
       "      <td>23.688</td>\n",
       "      <td>23.5898</td>\n",
       "      <td>0.427714</td>\n",
       "      <td>6667</td>\n",
       "      <td>6534</td>\n",
       "      <td>7.007349</td>\n",
       "      <td>2.462930e+06</td>\n",
       "      <td>60.486056</td>\n",
       "      <td>0.802751</td>\n",
       "      <td>0.000257</td>\n",
       "      <td>0.002534</td>\n",
       "      <td>0.000709</td>\n",
       "      <td>2.892857</td>\n",
       "      <td>0.187787</td>\n",
       "      <td>3.047995</td>\n",
       "    </tr>\n",
       "    <tr>\n",
       "      <th>...</th>\n",
       "      <td>...</td>\n",
       "      <td>...</td>\n",
       "      <td>...</td>\n",
       "      <td>...</td>\n",
       "      <td>...</td>\n",
       "      <td>...</td>\n",
       "      <td>...</td>\n",
       "      <td>...</td>\n",
       "      <td>...</td>\n",
       "      <td>...</td>\n",
       "      <td>...</td>\n",
       "      <td>...</td>\n",
       "      <td>...</td>\n",
       "      <td>...</td>\n",
       "      <td>...</td>\n",
       "      <td>...</td>\n",
       "      <td>...</td>\n",
       "      <td>...</td>\n",
       "      <td>...</td>\n",
       "      <td>...</td>\n",
       "    </tr>\n",
       "    <tr>\n",
       "      <th>4995</th>\n",
       "      <td>31.337</td>\n",
       "      <td>28.155</td>\n",
       "      <td>26.774</td>\n",
       "      <td>25.298</td>\n",
       "      <td>24.577</td>\n",
       "      <td>24.260</td>\n",
       "      <td>24.1558</td>\n",
       "      <td>0.384727</td>\n",
       "      <td>6873</td>\n",
       "      <td>2958</td>\n",
       "      <td>4.881865</td>\n",
       "      <td>2.462119e+06</td>\n",
       "      <td>428.205053</td>\n",
       "      <td>0.093096</td>\n",
       "      <td>0.000045</td>\n",
       "      <td>-0.021885</td>\n",
       "      <td>0.025556</td>\n",
       "      <td>1.157177</td>\n",
       "      <td>0.138672</td>\n",
       "      <td>0.948839</td>\n",
       "    </tr>\n",
       "    <tr>\n",
       "      <th>4996</th>\n",
       "      <td>29.996</td>\n",
       "      <td>27.112</td>\n",
       "      <td>25.825</td>\n",
       "      <td>24.770</td>\n",
       "      <td>24.249</td>\n",
       "      <td>24.021</td>\n",
       "      <td>23.9658</td>\n",
       "      <td>0.236675</td>\n",
       "      <td>7834</td>\n",
       "      <td>6738</td>\n",
       "      <td>9.453507</td>\n",
       "      <td>2.462750e+06</td>\n",
       "      <td>122.330240</td>\n",
       "      <td>0.337320</td>\n",
       "      <td>0.000044</td>\n",
       "      <td>-0.002470</td>\n",
       "      <td>0.006075</td>\n",
       "      <td>0.379112</td>\n",
       "      <td>0.794784</td>\n",
       "      <td>2.003939</td>\n",
       "    </tr>\n",
       "    <tr>\n",
       "      <th>4997</th>\n",
       "      <td>28.678</td>\n",
       "      <td>26.135</td>\n",
       "      <td>24.949</td>\n",
       "      <td>24.119</td>\n",
       "      <td>23.708</td>\n",
       "      <td>23.510</td>\n",
       "      <td>23.4908</td>\n",
       "      <td>0.363206</td>\n",
       "      <td>7685</td>\n",
       "      <td>7437</td>\n",
       "      <td>6.296039</td>\n",
       "      <td>2.461578e+06</td>\n",
       "      <td>70.138267</td>\n",
       "      <td>1.221696</td>\n",
       "      <td>0.000182</td>\n",
       "      <td>-0.003362</td>\n",
       "      <td>0.001257</td>\n",
       "      <td>2.997325</td>\n",
       "      <td>0.360187</td>\n",
       "      <td>2.993907</td>\n",
       "    </tr>\n",
       "    <tr>\n",
       "      <th>4998</th>\n",
       "      <td>30.134</td>\n",
       "      <td>27.326</td>\n",
       "      <td>26.065</td>\n",
       "      <td>25.123</td>\n",
       "      <td>24.658</td>\n",
       "      <td>24.451</td>\n",
       "      <td>24.4058</td>\n",
       "      <td>0.264334</td>\n",
       "      <td>7073</td>\n",
       "      <td>6913</td>\n",
       "      <td>3.860890</td>\n",
       "      <td>2.462905e+06</td>\n",
       "      <td>129.522818</td>\n",
       "      <td>0.506608</td>\n",
       "      <td>0.000127</td>\n",
       "      <td>0.000318</td>\n",
       "      <td>0.002369</td>\n",
       "      <td>0.183013</td>\n",
       "      <td>0.917157</td>\n",
       "      <td>1.115706</td>\n",
       "    </tr>\n",
       "    <tr>\n",
       "      <th>4999</th>\n",
       "      <td>28.897</td>\n",
       "      <td>26.317</td>\n",
       "      <td>25.119</td>\n",
       "      <td>24.274</td>\n",
       "      <td>23.856</td>\n",
       "      <td>23.657</td>\n",
       "      <td>23.6348</td>\n",
       "      <td>0.345663</td>\n",
       "      <td>7559</td>\n",
       "      <td>7110</td>\n",
       "      <td>4.783762</td>\n",
       "      <td>2.461860e+06</td>\n",
       "      <td>212.252171</td>\n",
       "      <td>0.670761</td>\n",
       "      <td>0.000076</td>\n",
       "      <td>-0.001452</td>\n",
       "      <td>0.002631</td>\n",
       "      <td>0.830736</td>\n",
       "      <td>0.252277</td>\n",
       "      <td>1.907538</td>\n",
       "    </tr>\n",
       "  </tbody>\n",
       "</table>\n",
       "<p>5000 rows × 20 columns</p>\n",
       "</div>"
      ],
      "text/plain": [
       "           u       g       r       i       z       Y     W149    radius   D_S  \\\n",
       "0     29.601  26.474  25.107  23.698  23.008  22.705  22.6108  0.456723  7659   \n",
       "1     32.166  28.715  27.287  25.486  24.612  24.219  24.0668  0.279031  7712   \n",
       "2     30.278  27.203  25.849  24.504  23.844  23.556  23.4698  0.434663  7857   \n",
       "3     30.377  27.346  26.007  24.720  24.087  23.811  23.7328  0.374243  7672   \n",
       "4     30.666  27.514  26.141  24.701  23.997  23.688  23.5898  0.427714  6667   \n",
       "...      ...     ...     ...     ...     ...     ...      ...       ...   ...   \n",
       "4995  31.337  28.155  26.774  25.298  24.577  24.260  24.1558  0.384727  6873   \n",
       "4996  29.996  27.112  25.825  24.770  24.249  24.021  23.9658  0.236675  7834   \n",
       "4997  28.678  26.135  24.949  24.119  23.708  23.510  23.4908  0.363206  7685   \n",
       "4998  30.134  27.326  26.065  25.123  24.658  24.451  24.4058  0.264334  7073   \n",
       "4999  28.897  26.317  25.119  24.274  23.856  23.657  23.6348  0.345663  7559   \n",
       "\n",
       "       D_L    mu_rel            t0          te        u0       rho      piEE  \\\n",
       "0     7585  3.256063  2.462801e+06   93.811431  2.033267  0.000332  0.001486   \n",
       "1     4363  3.795269  2.462971e+06  663.406368  1.313730  0.000024 -0.007374   \n",
       "2     6306  9.093387  2.461781e+06  172.702449  2.498220  0.000060  0.005952   \n",
       "3     7318  6.616242  2.462450e+06  136.612546  2.696524  0.000092  0.002525   \n",
       "4     6534  7.007349  2.462930e+06   60.486056  0.802751  0.000257  0.002534   \n",
       "...    ...       ...           ...         ...       ...       ...       ...   \n",
       "4995  2958  4.881865  2.462119e+06  428.205053  0.093096  0.000045 -0.021885   \n",
       "4996  6738  9.453507  2.462750e+06  122.330240  0.337320  0.000044 -0.002470   \n",
       "4997  7437  6.296039  2.461578e+06   70.138267  1.221696  0.000182 -0.003362   \n",
       "4998  6913  3.860890  2.462905e+06  129.522818  0.506608  0.000127  0.000318   \n",
       "4999  7110  4.783762  2.461860e+06  212.252171  0.670761  0.000076 -0.001452   \n",
       "\n",
       "          piEN         s         q     alpha  \n",
       "0     0.000333  0.604626  0.265870  3.108559  \n",
       "1     0.012414  0.273392  0.277424  2.460325  \n",
       "2     0.004193  0.533999  0.099116  1.728898  \n",
       "3     0.000344  1.270386  0.440784  1.258011  \n",
       "4     0.000709  2.892857  0.187787  3.047995  \n",
       "...        ...       ...       ...       ...  \n",
       "4995  0.025556  1.157177  0.138672  0.948839  \n",
       "4996  0.006075  0.379112  0.794784  2.003939  \n",
       "4997  0.001257  2.997325  0.360187  2.993907  \n",
       "4998  0.002369  0.183013  0.917157  1.115706  \n",
       "4999  0.002631  0.830736  0.252277  1.907538  \n",
       "\n",
       "[5000 rows x 20 columns]"
      ]
     },
     "metadata": {},
     "output_type": "display_data"
    },
    {
     "name": "stdout",
     "output_type": "stream",
     "text": [
      "5000\n"
     ]
    },
    {
     "data": {
      "image/png": "[encoded data removed]",
      "text/plain": [
       "<Figure size 640x480 with 1 Axes>"
      ]
     },
     "metadata": {},
     "output_type": "display_data"
    }
   ],
   "source": [
    "split_data = pd.read_csv('/home/anibal/results_roman_rubin/PB_split_4.csv', sep=',', decimal='.')\n",
    "display(split_data)\n",
    "plt.hist(split_data['te'])\n",
    "plt.yscale('log')\n",
    "print(len(split_data))"
   ]
  },
  {
   "cell_type": "code",
   "execution_count": null,
   "id": "625bd313-3dca-4b4f-b1f5-cb149af36687",
   "metadata": {},
   "outputs": [],
   "source": []
  }
 ],
 "metadata": {
  "kernelspec": {
   "display_name": "PYLIMA_UTD",
   "language": "python",
   "name": "pylima_utd"
  },
  "language_info": {
   "codemirror_mode": {
    "name": "ipython",
    "version": 3
   },
   "file_extension": ".py",
   "mimetype": "text/x-python",
   "name": "python",
   "nbconvert_exporter": "python",
   "pygments_lexer": "ipython3",
   "version": "3.11.9"
  }
 },
 "nbformat": 4,
 "nbformat_minor": 5
}
