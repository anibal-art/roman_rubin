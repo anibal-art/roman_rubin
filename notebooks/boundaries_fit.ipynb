{
 "cells": [
  {
   "cell_type": "code",
   "execution_count": 1,
   "id": "f458902d-c641-4c19-91cd-b20cfa5a60e2",
   "metadata": {},
   "outputs": [
    {
     "name": "stdout",
     "output_type": "stream",
     "text": [
      "Parent Directory: /home/anibal/roman_rubin\n"
     ]
    }
   ],
   "source": [
    "import os\n",
    "import pandas as pd\n",
    "import numpy as np\n",
    "import matplotlib.pyplot as plt\n",
    "import matplotlib.pyplot as plt\n",
    "from mpl_toolkits.axes_grid1.inset_locator import inset_axes\n",
    "# Get the current working directory\n",
    "current_path = os.getcwd()\n",
    "# Get the parent directory\n",
    "parent_directory = os.path.abspath(os.path.join(current_path, os.pardir))\n",
    "print(\"Parent Directory:\", parent_directory)"
   ]
  },
  {
   "cell_type": "code",
   "execution_count": 6,
   "id": "514316a3-95cd-4f23-8814-1b18e0b8d5f4",
   "metadata": {},
   "outputs": [],
   "source": [
    "path= parent_directory+'/all_results/PB/'\n",
    "# true = pd.read_csv(path+\"PB_MCprop\"+'true_ffp.csv')\n",
    "# fit_rr = pd.read_csv(path+\"PB_MCprop\"+'fit_rr_ffp.csv')\n",
    "# fit_roman = pd.read_csv(path+\"PB_MCprop\"+'fit_roman_ffp.csv')\n",
    "fit_rr = pd.read_csv(\"/home/anibal/roman_rubin/all_results/FFP/test_FFP/fit_rr.csv\")\n",
    "fit_roman =  pd.read_csv(\"/home/anibal/roman_rubin/all_results/FFP/test_FFP/fit_roman.csv\")\n",
    "true = pd.read_csv(\"/home/anibal/roman_rubin/all_results/FFP/test_FFP/true.csv\")\n",
    "true['categories']=true['Category']\n",
    "fit_rr['chi2']=fit_rr['chichi']\n",
    "fit_roman['chi2']=fit_roman['chichi']\n",
    "\n",
    "fit_rr[\"piE\"]=np.sqrt(fit_rr[\"piEE\"]**2+fit_rr[\"piEN\"]**2)\n",
    "fit_roman[\"piE\"]=np.sqrt(fit_roman[\"piEE\"]**2+fit_roman[\"piEN\"]**2)\n",
    "true[\"piE\"]=np.sqrt(true[\"piEE\"]**2+true[\"piEN\"]**2)"
   ]
  },
  {
   "cell_type": "code",
   "execution_count": 8,
   "id": "bdd59dc7-7ed4-450b-bff6-db5e64f86c24",
   "metadata": {},
   "outputs": [],
   "source": [
    "met_1_rr = pd.DataFrame(columns = true.columns)\n",
    "met_1_roman= pd.DataFrame(columns = true.columns)\n",
    "met_2_rr = pd.DataFrame(columns = true.columns)\n",
    "met_2_roman= pd.DataFrame(columns = true.columns)\n",
    "met_3_rr = pd.DataFrame(columns = true.columns)\n",
    "met_3_roman= pd.DataFrame(columns = true.columns)\n",
    "err_ratio= pd.DataFrame(columns = true.columns)\n",
    "residuals_ratio= pd.DataFrame(columns = true.columns)\n",
    "\n",
    "err_ratio['Source'] = true['Source']\n",
    "residuals_ratio['Source'] = true['Source']\n",
    "met_1_roman['Source'] = true['Source']\n",
    "met_1_rr['Source'] = true['Source']\n",
    "met_2_roman['Source'] = true['Source']\n",
    "met_2_rr['Source'] = true['Source']\n",
    "met_3_roman['Source'] = true['Source']\n",
    "met_3_rr['Source'] = true['Source']\n",
    "\n",
    "keys = ['t0','u0','te','rho','piEN','piEE','piE']\n",
    "\n",
    "for key in keys:\n",
    "    met_1_rr[key] = abs(true[key]-fit_rr[key])/true[key]\n",
    "    met_1_roman[key] = abs(true[key]-fit_roman[key])/true[key]\n",
    "    met_2_rr[key] = abs(true[key]-fit_rr[key])/fit_rr[key+'_err']\n",
    "    met_2_roman[key] = abs(true[key]-fit_roman[key])/fit_roman[key+'_err']\n",
    "    met_3_rr[key] = abs(fit_rr[key+'_err']/fit_rr[key])\n",
    "    met_3_roman[key] = abs(fit_roman[key+'_err']/fit_roman[key])\n",
    "    err_ratio[key]=abs(fit_rr[key+'_err'])/fit_roman[key+'_err']\n",
    "    residuals_ratio[key]=abs(fit_rr[key+'_err'])/fit_roman[key+'_err']"
   ]
  },
  {
   "cell_type": "code",
   "execution_count": 26,
   "id": "53e0c70b-c2cc-4098-831b-45cbc8a3780a",
   "metadata": {},
   "outputs": [
    {
     "name": "stdout",
     "output_type": "stream",
     "text": [
      "2632    3706\n",
      "Name: Source, dtype: int64\n",
      "373      996\n",
      "2252    1975\n",
      "2638    1702\n",
      "Name: Source, dtype: int64\n",
      "15     4133\n",
      "20     4147\n",
      "28     4156\n",
      "31     2114\n",
      "34     2118\n",
      "       ... \n",
      "717    3916\n",
      "732    1902\n",
      "746    1932\n",
      "769    1999\n",
      "771    2004\n",
      "Name: Source, Length: 70, dtype: int64\n",
      "3       4107\n",
      "6       2071\n",
      "9         26\n",
      "17      4137\n",
      "26      2106\n",
      "        ... \n",
      "2685    1957\n",
      "2687    1961\n",
      "2688    1983\n",
      "2693    2028\n",
      "2694    2030\n",
      "Name: Source, Length: 1197, dtype: int64\n",
      "1       2052\n",
      "6       2071\n",
      "8       4121\n",
      "12      4124\n",
      "15      4133\n",
      "        ... \n",
      "2690    1992\n",
      "2692    2018\n",
      "2693    2028\n",
      "2694    2030\n",
      "2695    4079\n",
      "Name: Source, Length: 1082, dtype: int64\n"
     ]
    }
   ],
   "source": [
    "for p in ('u0','te','rho','piEE','piEN'):\n",
    "    print(met_1_rr['Source'][met_1_rr[p]>(9)])\n"
   ]
  },
  {
   "cell_type": "code",
   "execution_count": 34,
   "id": "689bdd02-38a7-4407-b672-63dc94f4ab9a",
   "metadata": {},
   "outputs": [],
   "source": [
    "# Create an empty list to store sets of \"Source\" values\n",
    "# source_sets = []\n",
    "\n",
    "# # Iterate over the parameters and collect the \"Source\" values\n",
    "# for p in ('u0', 'te', 'rho', 'piEE', 'piEN'):\n",
    "#     sources = set(met_1_rr['Source'][met_1_rr[p] > 9.5])\n",
    "#     source_sets.append(sources)\n",
    "# # Compute the intersection of all sets\n",
    "\n",
    "# common_sources = set.intersection(source_sets)\n",
    "# # Print the result\n",
    "# print(f\"Common 'Source' values across all iterations: {common_sources}\")\n",
    "# print(f\"Number of common 'Source' values: {len(common_sources)}\")\n"
   ]
  },
  {
   "cell_type": "code",
   "execution_count": 57,
   "id": "ecb0081b-7b11-4fc5-ae8e-18ccd58b1cb0",
   "metadata": {},
   "outputs": [
    {
     "name": "stdout",
     "output_type": "stream",
     "text": [
      "Common 'Source' values across all iterations: set()\n",
      "Number of common 'Source' values: 0\n"
     ]
    }
   ],
   "source": [
    "# Create an empty list to store sets of \"Source\" values\n",
    "source_sets = []\n",
    "\n",
    "# Iterate over the parameters and collect the \"Source\" values\n",
    "\n",
    "for p in ( 't0','u0','te','rho', 'piEE', 'piEN'):\n",
    "    sources = set(met_1_rr['Source'][met_1_rr[p] < 9.])\n",
    "    \n",
    "    source_sets.append(sources)\n",
    "\n",
    "# Compute the intersection of all sets using the unpacking operator *\n",
    "common_sources = set.intersection(*source_sets)\n",
    "\n",
    "# # Print the result\n",
    "print(f\"Common 'Source' values across all iterations: {common_sources}\")\n",
    "print(f\"Number of common 'Source' values: {len(common_sources)}\")\n"
   ]
  }
 ],
 "metadata": {
  "kernelspec": {
   "display_name": "PyLIMA",
   "language": "python",
   "name": "pylima"
  },
  "language_info": {
   "codemirror_mode": {
    "name": "ipython",
    "version": 3
   },
   "file_extension": ".py",
   "mimetype": "text/x-python",
   "name": "python",
   "nbconvert_exporter": "python",
   "pygments_lexer": "ipython3",
   "version": "3.9.20"
  }
 },
 "nbformat": 4,
 "nbformat_minor": 5
}
