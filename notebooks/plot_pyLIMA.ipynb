{
 "cells": [
  {
   "cell_type": "code",
   "execution_count": 1,
   "id": "33c8bc95-d6a8-4322-bb5f-8e61a408fa7a",
   "metadata": {
    "tags": []
   },
   "outputs": [],
   "source": [
    "import matplotlib.pyplot as plt\n",
    "import matplotlib.patches as patches\n",
    "from matplotlib.gridspec import GridSpec\n",
    "from mpl_toolkits.axes_grid1.inset_locator import inset_axes, mark_inset\n",
    "\n",
    "import numpy as np\n",
    "import pandas as pd\n",
    "from scipy.signal import find_peaks,peak_widths\n",
    "import os, sys, re, copy, math\n",
    "from tqdm.auto import tqdm\n",
    "\n",
    "home = '/home/anibal/'\n",
    "sys.path.append(home + '/roman_rubin/fit_codes')\n",
    "# this codes are in the /fit_codes directory \n",
    "# https://github.com/anibal-art/roman_rubin/tree/main/fit_codes\n",
    "# from fit_results import chi_dof, best_model, event_fits, sigmas\n",
    "# from filter_curves import read_curves\n",
    "# from analysis_metrics import m1,m2,m3, fit_true, metrics, sigma_ratio, bias_ratio, fit_values\n",
    "# from plot_models import plot_LCmodel\n",
    "# from plot_lightcurves import model\n",
    "\n",
    "sys.path.append(home + '/che/archive/photutils')\n",
    "from bandpass import Bandpass\n",
    "from signaltonoise import calc_mag_error_m5\n",
    "from photometric_parameters import PhotometricParameters\n",
    "\n",
    "#astropy \n",
    "import astropy.units as u\n",
    "from astropy import constants as const\n",
    "from astropy.table import QTable\n",
    "from astropy.time import Time\n",
    "from astropy.coordinates import SkyCoord\n",
    "\n",
    "#pyLIMA\n",
    "from pyLIMA import event\n",
    "from pyLIMA import telescopes\n",
    "from pyLIMA.toolbox import time_series\n",
    "from pyLIMA.simulations import simulator\n",
    "from pyLIMA.models import PSBL_model\n",
    "from pyLIMA.models import USBL_model\n",
    "from pyLIMA.models import FSPLarge_model\n",
    "from pyLIMA.models import PSPL_model\n",
    "from pyLIMA.fits import TRF_fit\n",
    "from pyLIMA.fits import DE_fit\n",
    "from pyLIMA.fits import MCMC_fit\n",
    "from pyLIMA.outputs import pyLIMA_plots\n",
    "from pyLIMA.outputs import file_outputs\n",
    "\n",
    "import multiprocessing as mul\n",
    "import h5py"
   ]
  }
 ],
 "metadata": {
  "kernelspec": {
   "display_name": "PYLIMA_UTD",
   "language": "python",
   "name": "pylima_utd"
  },
  "language_info": {
   "codemirror_mode": {
    "name": "ipython",
    "version": 3
   },
   "file_extension": ".py",
   "mimetype": "text/x-python",
   "name": "python",
   "nbconvert_exporter": "python",
   "pygments_lexer": "ipython3",
   "version": "3.11.9"
  }
 },
 "nbformat": 4,
 "nbformat_minor": 5
}
