{
 "cells": [
  {
   "cell_type": "code",
   "execution_count": 15,
   "id": "375ce81f-58c3-430a-a73b-706900674bdd",
   "metadata": {
    "tags": []
   },
   "outputs": [],
   "source": [
    "import matplotlib.pyplot as plt\n",
    "import matplotlib.patches as patches\n",
    "import numpy as np\n",
    "import pandas as pd\n",
    "import os, sys\n",
    "import re\n",
    "from pyLIMA import telescopes\n",
    "from pyLIMA.models import PSBL_model\n",
    "from pyLIMA.models import USBL_model\n",
    "\n",
    "from pyLIMA.models import FSPLarge_model\n",
    "from pyLIMA.outputs import pyLIMA_plots\n",
    "from pyLIMA import event\n",
    "from tqdm.auto import tqdm\n",
    "from astropy.time import Time\n",
    "import matplotlib.pyplot as plt\n",
    "from matplotlib.gridspec import GridSpec\n",
    "\n",
    "home = '/home/anibal/'\n",
    "sys.path.append(home + '/roman_rubin/fit_codes')\n",
    "# this codes are in the /fit_codes directory \n",
    "# https://github.com/anibal-art/roman_rubin/tree/main/fit_codes\n",
    "# from fit_results import chi_dof, best_model, event_fits, sigmas\n",
    "# from filter_curves import read_curves\n",
    "# from analysis_metrics import m1,m2,m3, fit_true, metrics_from_df, sigma_ratio, bias_ratio, fit_values\n",
    "from plot_models import plot_LCmodel\n",
    "from plot_lightcurves import model\n",
    "from mpl_toolkits.axes_grid1.inset_locator import inset_axes, mark_inset\n",
    "# from plot_models import plot_only_model\n",
    "\n",
    "import sys,os\n",
    "home = '/home/anibal/'\n",
    "sys.path.append(home + '/roman_rubin')\n",
    "from roman_rubin import fit_rubin_roman\n",
    "from roman_rubin import read_data\n",
    "from roman_rubin import sim_event"
   ]
  },
  {
   "cell_type": "code",
   "execution_count": 16,
   "id": "0f3b841d-4ae0-4cef-8943-6b93b6cce067",
   "metadata": {
    "tags": []
   },
   "outputs": [],
   "source": [
    "# '/home/anibal/roman_rubin/simulation/dataSlice_rolling.npy'\n",
    "path_ephemerides = '/home/anibal/files_db/james_webb.txt' #PATH TO EPHEMERIDES\n",
    "path = '/home/anibal/results_roman_rubin/FFP_final/FFP/'\n",
    "save_results = path+'results/'\n",
    "path_set_sim = [path+'set_sim'+str(i)+'/' for i in range(1,9)]\n",
    "path_set_fit = [path+'set_fit'+str(i)+'/' for i in range(1,9)]\n"
   ]
  },
  {
   "cell_type": "code",
   "execution_count": 17,
   "id": "bf13bb74-1299-44ac-821f-8024362bdf8e",
   "metadata": {
    "tags": []
   },
   "outputs": [
    {
     "data": {
      "image/png": "[encoded data removed]",
      "text/plain": [
       "<Figure size 640x480 with 1 Axes>"
      ]
     },
     "metadata": {},
     "output_type": "display_data"
    }
   ],
   "source": [
    "source = 7085#6187\n",
    "nset = int(source/5000)\n",
    "nsource=int(source-5000*nset)\n",
    "path_event = path+f'set_sim{nset}/Event_{source-nset*5000}.h5'\n",
    "data, params, bands = read_data(path_event)\n",
    "data_fit = np.load(path+f'set_fit{nset}/Event_RR_{source-nset*5000}_TRF.npy',allow_pickle=True).item()\n",
    "\n",
    "# print(data_fit['best_model'][4:6])\n",
    "\n",
    "# print(np.sqrt(np.diag(data_fit['covariance_matrix']))[4:6])\n",
    "# print(np.sqrt(np.diag(data_fit['covariance_matrix']))[4:6]/data_fit['best_model'][4:6])\n",
    "plt.close('all')\n",
    "for b in bands:\n",
    "    plt.errorbar(bands[b]['time'],bands[b]['mag'],bands[b]['err_mag'],marker='o',ls='')\n",
    "plt.gca().invert_yaxis()\n",
    "plt.xlabel('MJD')\n",
    "plt.ylabel('Magnitude')\n",
    "# plt.xlim(params['t0']-8*params['tE'],params['t0']+8*params['tE'])\n",
    "plt.title(r'$t_E$ = '+f\"{round(params['tE'],2)} days\",fontsize=15)\n",
    "plt.show()\n"
   ]
  },
  {
   "cell_type": "code",
   "execution_count": 18,
   "id": "9901521f-dd37-4675-94ac-00eaf6396edc",
   "metadata": {
    "tags": []
   },
   "outputs": [],
   "source": [
    "# data"
   ]
  },
  {
   "cell_type": "code",
   "execution_count": 19,
   "id": "e9033c80-63bf-404f-b74c-633a1283a742",
   "metadata": {
    "tags": []
   },
   "outputs": [
    {
     "data": {
      "text/plain": [
       "<function roman_rubin.sim_event(i, data, path_ephemerides, path_dataslice, model)>"
      ]
     },
     "execution_count": 19,
     "metadata": {},
     "output_type": "execute_result"
    }
   ],
   "source": [
    "\n",
    "sim_event"
   ]
  },
  {
   "cell_type": "code",
   "execution_count": 20,
   "id": "1274d82a-2fc0-494d-8b32-b604e54ed759",
   "metadata": {
    "tags": []
   },
   "outputs": [
    {
     "data": {
      "text/plain": [
       "{'fblend_W149': 993.3450477039107,\n",
       " 'fblend_g': 90441.81193099408,\n",
       " 'fblend_i': 45346.570258099346,\n",
       " 'fblend_r': 46070.38407526747,\n",
       " 'fblend_u': 20565.801320899784,\n",
       " 'fblend_y': 12391.404584800843,\n",
       " 'fblend_z': 4001.903594931103,\n",
       " 'fsource_W149': 30693.572954009673,\n",
       " 'fsource_g': 196900.77673649244,\n",
       " 'fsource_i': 56325.10978853824,\n",
       " 'fsource_r': 128672.70145146486,\n",
       " 'fsource_u': 36240.9560897775,\n",
       " 'fsource_y': 14057.031683742747,\n",
       " 'fsource_z': 55263.32992909047,\n",
       " 'ftotal_W149': 31686.918001713584,\n",
       " 'ftotal_g': 287342.5886674865,\n",
       " 'ftotal_i': 101671.68004663759,\n",
       " 'ftotal_r': 174743.08552673232,\n",
       " 'ftotal_u': 56806.75741067728,\n",
       " 'ftotal_y': 26448.43626854359,\n",
       " 'ftotal_z': 59265.23352402157,\n",
       " 'gblend_W149': 0.03236329146796657,\n",
       " 'gblend_g': 0.45932684182363676,\n",
       " 'gblend_i': 0.8050862293627886,\n",
       " 'gblend_r': 0.3580431867488626,\n",
       " 'gblend_u': 0.5674740277257968,\n",
       " 'gblend_y': 0.8815093302472785,\n",
       " 'gblend_z': 0.07241517295584665,\n",
       " 'piEE': -0.0003958690672665,\n",
       " 'piEN': 0.0019575599407397,\n",
       " 'rho': 0.0107375172572834,\n",
       " 't0': 2461524.7690079208,\n",
       " 'tE': 5.646070425265917,\n",
       " 'u0': 0.8155728614150288}"
      ]
     },
     "execution_count": 20,
     "metadata": {},
     "output_type": "execute_result"
    }
   ],
   "source": [
    "params"
   ]
  },
  {
   "cell_type": "code",
   "execution_count": null,
   "id": "6664c427-acd4-4d33-85ed-8808da6a64ee",
   "metadata": {
    "tags": []
   },
   "outputs": [],
   "source": [
    "\n"
   ]
  },
  {
   "cell_type": "code",
   "execution_count": 21,
   "id": "350b3b51-b74b-404a-9078-c075e479637b",
   "metadata": {
    "tags": []
   },
   "outputs": [],
   "source": [
    "# os.listdir('/home/anibal/roman_rubin/simulation/')"
   ]
  },
  {
   "cell_type": "code",
   "execution_count": 22,
   "id": "7d1714a9-4472-4030-8ad2-777c3534bc4f",
   "metadata": {
    "tags": []
   },
   "outputs": [
    {
     "name": "stderr",
     "output_type": "stream",
     "text": [
      "/home/anibal/anaconda3/envs/pyLIMA_utd/lib/python3.11/site-packages/erfa/core.py:133: ErfaWarning: ERFA function \"dtf2d\" yielded 1 of \"dubious year (Note 6)\"\n",
      "  warn(f'ERFA function \"{func_name}\" yielded {wmsg}', ErfaWarning)\n",
      "/home/anibal/anaconda3/envs/pyLIMA_utd/lib/python3.11/site-packages/erfa/core.py:133: ErfaWarning: ERFA function \"utctai\" yielded 20736 of \"dubious year (Note 3)\"\n",
      "  warn(f'ERFA function \"{func_name}\" yielded {wmsg}', ErfaWarning)\n",
      "/home/anibal/anaconda3/envs/pyLIMA_utd/lib/python3.11/site-packages/erfa/core.py:133: ErfaWarning: ERFA function \"taiutc\" yielded 20736 of \"dubious year (Note 4)\"\n",
      "  warn(f'ERFA function \"{func_name}\" yielded {wmsg}', ErfaWarning)\n"
     ]
    },
    {
     "name": "stdout",
     "output_type": "stream",
     "text": [
      "Parallax(Full) estimated for the telescope W149: SUCCESS\n",
      "Parallax(Full) estimated for the telescope u: SUCCESS\n",
      "Parallax(Full) estimated for the telescope g: SUCCESS\n",
      "Parallax(Full) estimated for the telescope r: SUCCESS\n",
      "Parallax(Full) estimated for the telescope i: SUCCESS\n",
      "Parallax(Full) estimated for the telescope z: SUCCESS\n",
      "Parallax(Full) estimated for the telescope y: SUCCESS\n",
      "[2461524.7690079208, 0.8155728614150288, 5.646070425265917, 0.0107375172572834, 0.0019575599407397, -0.0003958690672665, 26979.012093614812, 4707.905908098771, 46142.82046125391, 10663.936949423372, 234320.20192328942, 53022.38674419714, 96282.68517945865, 78460.40034727368, 75771.07475023436, 25900.605296403217, 35859.24121099295, 23405.992313028608, 16677.863593179893, 9770.572675363697]\n"
     ]
    },
    {
     "name": "stderr",
     "output_type": "stream",
     "text": [
      "/home/anibal/anaconda3/envs/pyLIMA_utd/lib/python3.11/site-packages/erfa/core.py:133: ErfaWarning: ERFA function \"utctai\" yielded 36 of \"dubious year (Note 3)\"\n",
      "  warn(f'ERFA function \"{func_name}\" yielded {wmsg}', ErfaWarning)\n",
      "/home/anibal/anaconda3/envs/pyLIMA_utd/lib/python3.11/site-packages/erfa/core.py:133: ErfaWarning: ERFA function \"taiutc\" yielded 36 of \"dubious year (Note 4)\"\n",
      "  warn(f'ERFA function \"{func_name}\" yielded {wmsg}', ErfaWarning)\n",
      "/home/anibal/anaconda3/envs/pyLIMA_utd/lib/python3.11/site-packages/erfa/core.py:133: ErfaWarning: ERFA function \"epv00\" yielded 36 of \"warning: date outsidethe range 1900-2100 AD\"\n",
      "  warn(f'ERFA function \"{func_name}\" yielded {wmsg}', ErfaWarning)\n",
      "/home/anibal/anaconda3/envs/pyLIMA_utd/lib/python3.11/site-packages/erfa/core.py:133: ErfaWarning: ERFA function \"utcut1\" yielded 36 of \"dubious year (Note 3)\"\n",
      "  warn(f'ERFA function \"{func_name}\" yielded {wmsg}', ErfaWarning)\n",
      "/home/anibal/anaconda3/envs/pyLIMA_utd/lib/python3.11/site-packages/erfa/core.py:133: ErfaWarning: ERFA function \"utctai\" yielded 191 of \"dubious year (Note 3)\"\n",
      "  warn(f'ERFA function \"{func_name}\" yielded {wmsg}', ErfaWarning)\n",
      "/home/anibal/anaconda3/envs/pyLIMA_utd/lib/python3.11/site-packages/erfa/core.py:133: ErfaWarning: ERFA function \"taiutc\" yielded 191 of \"dubious year (Note 4)\"\n",
      "  warn(f'ERFA function \"{func_name}\" yielded {wmsg}', ErfaWarning)\n",
      "/home/anibal/anaconda3/envs/pyLIMA_utd/lib/python3.11/site-packages/erfa/core.py:133: ErfaWarning: ERFA function \"epv00\" yielded 191 of \"warning: date outsidethe range 1900-2100 AD\"\n",
      "  warn(f'ERFA function \"{func_name}\" yielded {wmsg}', ErfaWarning)\n",
      "/home/anibal/anaconda3/envs/pyLIMA_utd/lib/python3.11/site-packages/erfa/core.py:133: ErfaWarning: ERFA function \"utcut1\" yielded 191 of \"dubious year (Note 3)\"\n",
      "  warn(f'ERFA function \"{func_name}\" yielded {wmsg}', ErfaWarning)\n",
      "/home/anibal/anaconda3/envs/pyLIMA_utd/lib/python3.11/site-packages/erfa/core.py:133: ErfaWarning: ERFA function \"utctai\" yielded 630 of \"dubious year (Note 3)\"\n",
      "  warn(f'ERFA function \"{func_name}\" yielded {wmsg}', ErfaWarning)\n",
      "/home/anibal/anaconda3/envs/pyLIMA_utd/lib/python3.11/site-packages/erfa/core.py:133: ErfaWarning: ERFA function \"taiutc\" yielded 630 of \"dubious year (Note 4)\"\n",
      "  warn(f'ERFA function \"{func_name}\" yielded {wmsg}', ErfaWarning)\n",
      "/home/anibal/anaconda3/envs/pyLIMA_utd/lib/python3.11/site-packages/erfa/core.py:133: ErfaWarning: ERFA function \"epv00\" yielded 630 of \"warning: date outsidethe range 1900-2100 AD\"\n",
      "  warn(f'ERFA function \"{func_name}\" yielded {wmsg}', ErfaWarning)\n",
      "/home/anibal/anaconda3/envs/pyLIMA_utd/lib/python3.11/site-packages/erfa/core.py:133: ErfaWarning: ERFA function \"utcut1\" yielded 630 of \"dubious year (Note 3)\"\n",
      "  warn(f'ERFA function \"{func_name}\" yielded {wmsg}', ErfaWarning)\n",
      "/home/anibal/anaconda3/envs/pyLIMA_utd/lib/python3.11/site-packages/erfa/core.py:133: ErfaWarning: ERFA function \"utctai\" yielded 195 of \"dubious year (Note 3)\"\n",
      "  warn(f'ERFA function \"{func_name}\" yielded {wmsg}', ErfaWarning)\n",
      "/home/anibal/anaconda3/envs/pyLIMA_utd/lib/python3.11/site-packages/erfa/core.py:133: ErfaWarning: ERFA function \"taiutc\" yielded 195 of \"dubious year (Note 4)\"\n",
      "  warn(f'ERFA function \"{func_name}\" yielded {wmsg}', ErfaWarning)\n",
      "/home/anibal/anaconda3/envs/pyLIMA_utd/lib/python3.11/site-packages/erfa/core.py:133: ErfaWarning: ERFA function \"epv00\" yielded 195 of \"warning: date outsidethe range 1900-2100 AD\"\n",
      "  warn(f'ERFA function \"{func_name}\" yielded {wmsg}', ErfaWarning)\n",
      "/home/anibal/anaconda3/envs/pyLIMA_utd/lib/python3.11/site-packages/erfa/core.py:133: ErfaWarning: ERFA function \"utcut1\" yielded 195 of \"dubious year (Note 3)\"\n",
      "  warn(f'ERFA function \"{func_name}\" yielded {wmsg}', ErfaWarning)\n",
      "/home/anibal/anaconda3/envs/pyLIMA_utd/lib/python3.11/site-packages/erfa/core.py:133: ErfaWarning: ERFA function \"utctai\" yielded 176 of \"dubious year (Note 3)\"\n",
      "  warn(f'ERFA function \"{func_name}\" yielded {wmsg}', ErfaWarning)\n",
      "/home/anibal/anaconda3/envs/pyLIMA_utd/lib/python3.11/site-packages/erfa/core.py:133: ErfaWarning: ERFA function \"taiutc\" yielded 176 of \"dubious year (Note 4)\"\n",
      "  warn(f'ERFA function \"{func_name}\" yielded {wmsg}', ErfaWarning)\n",
      "/home/anibal/anaconda3/envs/pyLIMA_utd/lib/python3.11/site-packages/erfa/core.py:133: ErfaWarning: ERFA function \"epv00\" yielded 176 of \"warning: date outsidethe range 1900-2100 AD\"\n",
      "  warn(f'ERFA function \"{func_name}\" yielded {wmsg}', ErfaWarning)\n",
      "/home/anibal/anaconda3/envs/pyLIMA_utd/lib/python3.11/site-packages/erfa/core.py:133: ErfaWarning: ERFA function \"utcut1\" yielded 176 of \"dubious year (Note 3)\"\n",
      "  warn(f'ERFA function \"{func_name}\" yielded {wmsg}', ErfaWarning)\n",
      "/home/anibal/anaconda3/envs/pyLIMA_utd/lib/python3.11/site-packages/erfa/core.py:133: ErfaWarning: ERFA function \"utctai\" yielded 58 of \"dubious year (Note 3)\"\n",
      "  warn(f'ERFA function \"{func_name}\" yielded {wmsg}', ErfaWarning)\n",
      "/home/anibal/anaconda3/envs/pyLIMA_utd/lib/python3.11/site-packages/erfa/core.py:133: ErfaWarning: ERFA function \"taiutc\" yielded 58 of \"dubious year (Note 4)\"\n",
      "  warn(f'ERFA function \"{func_name}\" yielded {wmsg}', ErfaWarning)\n",
      "/home/anibal/anaconda3/envs/pyLIMA_utd/lib/python3.11/site-packages/erfa/core.py:133: ErfaWarning: ERFA function \"epv00\" yielded 58 of \"warning: date outsidethe range 1900-2100 AD\"\n",
      "  warn(f'ERFA function \"{func_name}\" yielded {wmsg}', ErfaWarning)\n",
      "/home/anibal/anaconda3/envs/pyLIMA_utd/lib/python3.11/site-packages/erfa/core.py:133: ErfaWarning: ERFA function \"utcut1\" yielded 58 of \"dubious year (Note 3)\"\n",
      "  warn(f'ERFA function \"{func_name}\" yielded {wmsg}', ErfaWarning)\n"
     ]
    },
    {
     "name": "stdout",
     "output_type": "stream",
     "text": [
      "A good event to fit\n"
     ]
    }
   ],
   "source": [
    "\n",
    "trilegal_data = pd.read_csv(f'/home/anibal/results_roman_rubin/FFP_uni_split_{nset}.csv').iloc[nsource]\n",
    "trilegal_data\n",
    "trilegal_data['tE']=trilegal_data['te']\n",
    "path_to_save = home + '/results_roman_rubin/'+'cadence_custom_FFP/'\n",
    "\n",
    "%matplotlib widget\n",
    "plt.close('all')\n",
    "path_dataslice = '/home/anibal/roman_rubin/simulation/dataSlice_custom_roman.npy'\n",
    "\n",
    "my_own_model, pyLIMA_parameters, all_residuals, b = sim_event(source,  trilegal_data, path_ephemerides, path_dataslice,'FSPL')\n"
   ]
  },
  {
   "cell_type": "code",
   "execution_count": 23,
   "id": "75facf3b-f5ec-42ea-9a78-abd3b30a0825",
   "metadata": {
    "tags": []
   },
   "outputs": [],
   "source": [
    "from pyLIMA.fits import TRF_fit\n",
    "def fit_rubin_roman(Source, event_params, path_save, path_ephemerides, model, algo, Origin, wfirst_lc, lsst_u, lsst_g,\n",
    "                    lsst_r, lsst_i, lsst_z,\n",
    "                    lsst_y):\n",
    "    '''\n",
    "    Perform fit for Rubin and Roman data for fspl, usbl and pspl\n",
    "    \n",
    "    '''\n",
    "\n",
    "    tlsst = 60350.38482057137 + 2400000.5\n",
    "    RA, DEC = 267.92497054815516, -29.152232510353276\n",
    "    e = event.Event(ra=RA, dec=DEC)\n",
    "    if len(lsst_u) + len(lsst_g) + len(lsst_r) + len(lsst_i) + len(lsst_z) + len(lsst_y) == 0:\n",
    "        e.name = 'Event_Roman_' + str(int(Source))\n",
    "    else:\n",
    "        e.name = 'Event_RR_' + str(int(Source))\n",
    "    tel_list = []\n",
    "\n",
    "    # Add a PyLIMA telescope object to the event with the Gaia lightcurve\n",
    "    tel1 = telescopes.Telescope(name='Roman', camera_filter='W149',\n",
    "                                light_curve=wfirst_lc,\n",
    "                                light_curve_names=['time', 'mag', 'err_mag'],\n",
    "                                light_curve_units=['JD', 'mag', 'mag'],\n",
    "                                location='Space')\n",
    "\n",
    "    ephemerides = np.loadtxt(path_ephemerides)\n",
    "    ephemerides[:, 0] = ephemerides[:, 0]\n",
    "    ephemerides[:, 3] *= 60 * 300000 / 150000000\n",
    "    deltaT = tlsst - ephemerides[:, 0][0]\n",
    "    ephemerides[:, 0] = ephemerides[:, 0] + deltaT\n",
    "    tel1.spacecraft_positions = {'astrometry': [], 'photometry': ephemerides}\n",
    "    e.telescopes.append(tel1)\n",
    "    tel_list.append('Roman')\n",
    "\n",
    "    lsst_lc_list = [lsst_u, lsst_g, lsst_r, lsst_i, lsst_z, lsst_y]\n",
    "    lsst_bands = \"ugrizy\"\n",
    "    for j in range(len(lsst_lc_list)):\n",
    "        if not len(lsst_lc_list[j]) == 0:\n",
    "            tel = telescopes.Telescope(name=lsst_bands[j], camera_filter=lsst_bands[j],\n",
    "                                       light_curve=lsst_lc_list[j],\n",
    "                                       light_curve_names=['time', 'mag', 'err_mag'],\n",
    "                                       light_curve_units=['JD', 'mag', 'mag'],\n",
    "                                       location='Earth')\n",
    "            e.telescopes.append(tel)\n",
    "            tel_list.append(lsst_bands[j])\n",
    "    e.check_event()\n",
    "    # Give the model initial guess values somewhere near their actual values so that the fit doesn't take all day\n",
    "    t0 = float(event_params['t0'])\n",
    "    u0 = float(event_params['u0'])\n",
    "    tE = float(event_params['te'])\n",
    "    piEN = float(event_params['piEN'])\n",
    "    piEE = float(event_params['piEE'])\n",
    "\n",
    "    rango = 0.5\n",
    "    if model == 'FSPL':\n",
    "        rho = float(event_params['rho'])\n",
    "        pyLIMAmodel = FSPLarge_model.FSPLargemodel(e, blend_flux_parameter='ftotal', parallax=['Full', t0])\n",
    "        param_guess = [t0, u0, tE, rho, piEN, piEE]\n",
    "        \n",
    "    elif model == 'USBL':\n",
    "        rho = float(event_params['rho'])\n",
    "        s = float(event_params['s'])\n",
    "        q = float(event_params['q'])\n",
    "        alpha = float(event_params['alpha'])\n",
    "        # pyLIMAmodel = USBL_model.USBLmodel(e, blend_flux_parameter='ftotal', parallax=['Full', t0])\n",
    "        pyLIMAmodel = USBL_model.USBLmodel(e,\n",
    "                                           blend_flux_parameter='ftotal',\n",
    "                                           parallax=['Full', t0])\n",
    "        param_guess = [t0, u0, tE, rho, s, q, alpha, piEN, piEE]\n",
    "        \n",
    "    elif model == 'PSPL':\n",
    "        pyLIMAmodel = PSPL_model.PSPLmodel(e,blend_flux_parameter='ftotal', parallax=['Full', t0])\n",
    "        param_guess = [t0, u0, tE, piEN, piEE]\n",
    "\n",
    "    if algo == 'TRF':\n",
    "        # my_fit = LM_fit.LMfit(pspl)\n",
    "        # fit_2 = LM_fit.LMfit(pyLIMAmodel)\n",
    "        fit_2 = TRF_fit.TRFfit(pyLIMAmodel)\n",
    "        pool = None\n",
    "    elif algo == 'MCMC':\n",
    "        fit_2 = MCMC_fit.MCMCfit(pyLIMAmodel, MCMC_links=10000)\n",
    "        pool = mul.Pool(processes=32)\n",
    "    elif algo == 'DE':\n",
    "        fit_2 = DE_fit.DEfit(pyLIMAmodel, telescopes_fluxes_method='polyfit', DE_population_size=20,\n",
    "                             max_iteration=10000,\n",
    "                             display_progress=True)\n",
    "        pool = mul.Pool(processes=32)\n",
    "    fit_2.model_parameters_guess = param_guess\n",
    "\n",
    "    if model == 'USBL':\n",
    "        fit_2.fit_parameters['separation'][1] = [s - np.abs(s) * rango, s + np.abs(s) * rango]\n",
    "        fit_2.fit_parameters['mass_ratio'][1] = [q - rango * q, q + rango * q]\n",
    "        fit_2.fit_parameters['alpha'][1] = [0, np.pi]\n",
    "\n",
    "    if (model == 'USBL') or (model == 'FSPL'):\n",
    "        fit_2.fit_parameters['rho'][1] = [0, rho + rango * abs(rho)]\n",
    "\n",
    "    fit_2.fit_parameters['t0'][1] = [t0 - 10, t0 + 10]  # t0 limits\n",
    "    fit_2.fit_parameters['u0'][1] = [u0 - abs(u0) * rango, u0 + abs(u0) * rango]  # u0 limits\n",
    "    fit_2.fit_parameters['tE'][1] = [tE - tE * rango, tE + tE * rango]  # tE limits in days\n",
    "    fit_2.fit_parameters['piEE'][1] = [piEE - rango * abs(piEE),\n",
    "                                       piEE + rango * abs(piEE)]  # parallax vector parameter boundaries\n",
    "    fit_2.fit_parameters['piEN'][1] = [piEN - rango * abs(piEN),\n",
    "                                       piEN + rango * abs(piEN)]  # parallax vector parameter boundaries\n",
    "    if algo == \"MCMC\" or algo=='DE':\n",
    "        fit_2.fit(computational_pool=pool)\n",
    "    else:\n",
    "        fit_2.fit()\n",
    "    true_values = np.array(event_params)\n",
    "    fit_2.fit_results['true_params'] = event_params\n",
    "    np.save(path_save + e.name + '_' + algo + '.npy', fit_2.fit_results)\n",
    "    return fit_2, e, pyLIMAmodel\n"
   ]
  },
  {
   "cell_type": "code",
   "execution_count": 24,
   "id": "3db58fd8-3257-48bd-8237-4f8893499a60",
   "metadata": {
    "tags": []
   },
   "outputs": [],
   "source": [
    "my_own_model.event.telescopes[0].name\n",
    "Bands={}\n",
    "for k in range(len(my_own_model.event.telescopes)):\n",
    "    Bands[my_own_model.event.telescopes[k].name]=my_own_model.event.telescopes[k].lightcurve_magnitude"
   ]
  },
  {
   "cell_type": "code",
   "execution_count": 25,
   "id": "ab0fd94e-a947-4d3f-aef1-7c406bc9df38",
   "metadata": {
    "tags": []
   },
   "outputs": [],
   "source": [
    "bands=Bands"
   ]
  },
  {
   "cell_type": "code",
   "execution_count": 26,
   "id": "15e933f0-4665-47ee-906e-9dbd1446c7ea",
   "metadata": {},
   "outputs": [
    {
     "name": "stdout",
     "output_type": "stream",
     "text": [
      "check_event  : Everything looks fine...\n"
     ]
    },
    {
     "name": "stderr",
     "output_type": "stream",
     "text": [
      "/home/anibal/anaconda3/envs/pyLIMA_utd/lib/python3.11/site-packages/erfa/core.py:133: ErfaWarning: ERFA function \"utctai\" yielded 20736 of \"dubious year (Note 3)\"\n",
      "  warn(f'ERFA function \"{func_name}\" yielded {wmsg}', ErfaWarning)\n",
      "/home/anibal/anaconda3/envs/pyLIMA_utd/lib/python3.11/site-packages/erfa/core.py:133: ErfaWarning: ERFA function \"taiutc\" yielded 20736 of \"dubious year (Note 4)\"\n",
      "  warn(f'ERFA function \"{func_name}\" yielded {wmsg}', ErfaWarning)\n"
     ]
    },
    {
     "name": "stdout",
     "output_type": "stream",
     "text": [
      "Parallax(Full) estimated for the telescope Roman: SUCCESS\n",
      "Parallax(Full) estimated for the telescope u: SUCCESS\n",
      "Parallax(Full) estimated for the telescope z: SUCCESS\n",
      "Parallax(Full) estimated for the telescope y: SUCCESS\n"
     ]
    },
    {
     "name": "stderr",
     "output_type": "stream",
     "text": [
      "/home/anibal/anaconda3/envs/pyLIMA_utd/lib/python3.11/site-packages/erfa/core.py:133: ErfaWarning: ERFA function \"utctai\" yielded 36 of \"dubious year (Note 3)\"\n",
      "  warn(f'ERFA function \"{func_name}\" yielded {wmsg}', ErfaWarning)\n",
      "/home/anibal/anaconda3/envs/pyLIMA_utd/lib/python3.11/site-packages/erfa/core.py:133: ErfaWarning: ERFA function \"taiutc\" yielded 36 of \"dubious year (Note 4)\"\n",
      "  warn(f'ERFA function \"{func_name}\" yielded {wmsg}', ErfaWarning)\n",
      "/home/anibal/anaconda3/envs/pyLIMA_utd/lib/python3.11/site-packages/erfa/core.py:133: ErfaWarning: ERFA function \"epv00\" yielded 36 of \"warning: date outsidethe range 1900-2100 AD\"\n",
      "  warn(f'ERFA function \"{func_name}\" yielded {wmsg}', ErfaWarning)\n",
      "/home/anibal/anaconda3/envs/pyLIMA_utd/lib/python3.11/site-packages/erfa/core.py:133: ErfaWarning: ERFA function \"utcut1\" yielded 36 of \"dubious year (Note 3)\"\n",
      "  warn(f'ERFA function \"{func_name}\" yielded {wmsg}', ErfaWarning)\n",
      "/home/anibal/anaconda3/envs/pyLIMA_utd/lib/python3.11/site-packages/erfa/core.py:133: ErfaWarning: ERFA function \"utctai\" yielded 176 of \"dubious year (Note 3)\"\n",
      "  warn(f'ERFA function \"{func_name}\" yielded {wmsg}', ErfaWarning)\n",
      "/home/anibal/anaconda3/envs/pyLIMA_utd/lib/python3.11/site-packages/erfa/core.py:133: ErfaWarning: ERFA function \"taiutc\" yielded 176 of \"dubious year (Note 4)\"\n",
      "  warn(f'ERFA function \"{func_name}\" yielded {wmsg}', ErfaWarning)\n",
      "/home/anibal/anaconda3/envs/pyLIMA_utd/lib/python3.11/site-packages/erfa/core.py:133: ErfaWarning: ERFA function \"epv00\" yielded 176 of \"warning: date outsidethe range 1900-2100 AD\"\n",
      "  warn(f'ERFA function \"{func_name}\" yielded {wmsg}', ErfaWarning)\n",
      "/home/anibal/anaconda3/envs/pyLIMA_utd/lib/python3.11/site-packages/erfa/core.py:133: ErfaWarning: ERFA function \"utcut1\" yielded 176 of \"dubious year (Note 3)\"\n",
      "  warn(f'ERFA function \"{func_name}\" yielded {wmsg}', ErfaWarning)\n",
      "/home/anibal/anaconda3/envs/pyLIMA_utd/lib/python3.11/site-packages/erfa/core.py:133: ErfaWarning: ERFA function \"utctai\" yielded 58 of \"dubious year (Note 3)\"\n",
      "  warn(f'ERFA function \"{func_name}\" yielded {wmsg}', ErfaWarning)\n",
      "/home/anibal/anaconda3/envs/pyLIMA_utd/lib/python3.11/site-packages/erfa/core.py:133: ErfaWarning: ERFA function \"taiutc\" yielded 58 of \"dubious year (Note 4)\"\n",
      "  warn(f'ERFA function \"{func_name}\" yielded {wmsg}', ErfaWarning)\n",
      "/home/anibal/anaconda3/envs/pyLIMA_utd/lib/python3.11/site-packages/erfa/core.py:133: ErfaWarning: ERFA function \"epv00\" yielded 58 of \"warning: date outsidethe range 1900-2100 AD\"\n",
      "  warn(f'ERFA function \"{func_name}\" yielded {wmsg}', ErfaWarning)\n",
      "/home/anibal/anaconda3/envs/pyLIMA_utd/lib/python3.11/site-packages/erfa/core.py:133: ErfaWarning: ERFA function \"utcut1\" yielded 58 of \"dubious year (Note 3)\"\n",
      "  warn(f'ERFA function \"{func_name}\" yielded {wmsg}', ErfaWarning)\n"
     ]
    },
    {
     "name": "stdout",
     "output_type": "stream",
     "text": [
      "initial_guess  : Initial parameters guess SUCCESS\n",
      "Using guess:  [2461524.7690079208, 0.8155728614150288, 5.646070425265917, 0.0107375172572834, 0.0019575599407397, -0.0003958690672665, 22148.6519069788, 12998.503033967772, 39927.34011628971, 39914.90507076064, 28045.865356441762, 28045.47528651652, 25663.071598661692, 25660.486570665336]\n"
     ]
    },
    {
     "name": "stderr",
     "output_type": "stream",
     "text": [
      "/home/anibal/anaconda3/envs/pyLIMA_utd/lib/python3.11/site-packages/pyLIMA/models/ML_model.py:486: RankWarning: Polyfit may be poorly conditioned\n",
      "  self.derive_telescope_flux(telescope, pyLIMA_parameters, magnification)\n",
      "/home/anibal/anaconda3/envs/pyLIMA_utd/lib/python3.11/site-packages/pyLIMA/models/ML_model.py:486: RankWarning: Polyfit may be poorly conditioned\n",
      "  self.derive_telescope_flux(telescope, pyLIMA_parameters, magnification)\n",
      "/home/anibal/anaconda3/envs/pyLIMA_utd/lib/python3.11/site-packages/pyLIMA/models/ML_model.py:486: RankWarning: Polyfit may be poorly conditioned\n",
      "  self.derive_telescope_flux(telescope, pyLIMA_parameters, magnification)\n"
     ]
    },
    {
     "name": "stdout",
     "output_type": "stream",
     "text": [
      "fit  : Trust Region Reflective fit SUCCESS\n",
      "best_model: [2461524.724812013, 0.8018300086394802, 5.690918960272587, 0.001758645803192164, 0.0019466933817977074, -0.0004585613508775046, 21319.2104764759, 25994.373760831324, 2.0199195163277914, 79828.43544633349, 24938.06967861199, 56089.38614041696, 25663.07160369639, 51317.88751287659] chi2 41528.50937367014\n"
     ]
    }
   ],
   "source": [
    "params['te']=params['tE']\n",
    "\n",
    "path_ephemerides = '/home/anibal/files_db/james_webb.txt'\n",
    "f = 'W149'\n",
    "wfirst_lc = np.array([bands[f]['time'],bands[f]['mag'],bands[f]['err_mag']]).T\n",
    "f = 'u'\n",
    "lsst_u = np.array([bands[f]['time'],bands[f]['mag'],bands[f]['err_mag']]).T\n",
    "f = 'g'\n",
    "lsst_g = np.array([bands[f]['time'],bands[f]['mag'],bands[f]['err_mag']]).T\n",
    "f = 'r'\n",
    "lsst_r = np.array([bands[f]['time'],bands[f]['mag'],bands[f]['err_mag']]).T\n",
    "f = 'i'\n",
    "lsst_i = np.array([bands[f]['time'],bands[f]['mag'],bands[f]['err_mag']]).T\n",
    "f = 'z'\n",
    "lsst_z = np.array([bands[f]['time'],bands[f]['mag'],bands[f]['err_mag']]).T\n",
    "f = 'y'\n",
    "lsst_y = np.array([bands[f]['time'],bands[f]['mag'],bands[f]['err_mag']]).T\n",
    "\n",
    "fit_2, e, pyLIMAmodel = fit_rubin_roman(source, params, '/home/anibal/',path_ephemerides,'FSPL','TRF','origin',\n",
    "               wfirst_lc, lsst_u, lsst_g, lsst_r, lsst_i, lsst_z, lsst_y)"
   ]
  },
  {
   "cell_type": "code",
   "execution_count": 27,
   "id": "100b75aa-1eb8-4abd-8a34-e7af48a99c22",
   "metadata": {
    "tags": []
   },
   "outputs": [
    {
     "name": "stdout",
     "output_type": "stream",
     "text": [
      "[0.001758645803192164, 0.0019466933817977074]\n",
      "[ 0.58473263 69.09465714]\n",
      "[  332.49027584 35493.34362784]\n"
     ]
    }
   ],
   "source": [
    "print(fit_2.fit_results['best_model'][3:5])\n",
    "print(np.sqrt(np.diag(fit_2.fit_results['covariance_matrix']))[3:5])\n",
    "print(np.sqrt(np.diag(fit_2.fit_results['covariance_matrix']))[3:5]/fit_2.fit_results['best_model'][3:5])"
   ]
  },
  {
   "cell_type": "code",
   "execution_count": null,
   "id": "11d861ce-285b-49fa-8e97-d1bebdcb5274",
   "metadata": {},
   "outputs": [],
   "source": []
  },
  {
   "cell_type": "code",
   "execution_count": null,
   "id": "f66b27cf-8d81-4083-9d74-8d22fd6306cb",
   "metadata": {},
   "outputs": [],
   "source": []
  },
  {
   "cell_type": "code",
   "execution_count": null,
   "id": "1d430141-7bbd-4453-aea3-f1b68c16bf2a",
   "metadata": {},
   "outputs": [],
   "source": []
  },
  {
   "cell_type": "code",
   "execution_count": null,
   "id": "3ed93158-6012-4cb8-828e-e0846149baa1",
   "metadata": {},
   "outputs": [],
   "source": []
  },
  {
   "cell_type": "code",
   "execution_count": null,
   "id": "2c9acb2b-d4ab-4419-a640-85550889d3c6",
   "metadata": {},
   "outputs": [],
   "source": []
  },
  {
   "cell_type": "code",
   "execution_count": 28,
   "id": "c80a1f6f-54e7-44f5-b527-e6ad750d4b1e",
   "metadata": {
    "tags": []
   },
   "outputs": [
    {
     "ename": "IndexError",
     "evalue": "list index out of range",
     "output_type": "error",
     "traceback": [
      "\u001b[0;31m---------------------------------------------------------------------------\u001b[0m",
      "\u001b[0;31mIndexError\u001b[0m                                Traceback (most recent call last)",
      "Cell \u001b[0;32mIn[28], line 9\u001b[0m\n\u001b[1;32m      7\u001b[0m values \u001b[38;5;241m=\u001b[39m \u001b[38;5;28mlist\u001b[39m(params\u001b[38;5;241m.\u001b[39mvalues())\n\u001b[1;32m      8\u001b[0m rounded_values \u001b[38;5;241m=\u001b[39m [\u001b[38;5;28mround\u001b[39m(\u001b[38;5;28mfloat\u001b[39m(num), \u001b[38;5;241m3\u001b[39m) \u001b[38;5;28;01mfor\u001b[39;00m num \u001b[38;5;129;01min\u001b[39;00m values]\n\u001b[0;32m----> 9\u001b[0m rounded_values_units \u001b[38;5;241m=\u001b[39m \u001b[43m[\u001b[49m\u001b[38;5;28;43mstr\u001b[39;49m\u001b[43m(\u001b[49m\u001b[43mrounded_values\u001b[49m\u001b[43m[\u001b[49m\u001b[43mi\u001b[49m\u001b[43m]\u001b[49m\u001b[43m)\u001b[49m\u001b[43m \u001b[49m\u001b[38;5;241;43m+\u001b[39;49m\u001b[43m \u001b[49m\u001b[43munits\u001b[49m\u001b[43m[\u001b[49m\u001b[43mi\u001b[49m\u001b[43m]\u001b[49m\u001b[43m \u001b[49m\u001b[38;5;28;43;01mfor\u001b[39;49;00m\u001b[43m \u001b[49m\u001b[43mi\u001b[49m\u001b[43m \u001b[49m\u001b[38;5;129;43;01min\u001b[39;49;00m\u001b[43m \u001b[49m\u001b[38;5;28;43mrange\u001b[39;49m\u001b[43m(\u001b[49m\u001b[38;5;28;43mlen\u001b[39;49m\u001b[43m(\u001b[49m\u001b[43mrounded_values\u001b[49m\u001b[43m)\u001b[49m\u001b[43m)\u001b[49m\u001b[43m]\u001b[49m\n\u001b[1;32m     10\u001b[0m \u001b[38;5;28mprint\u001b[39m(rounded_values_units)\n\u001b[1;32m     12\u001b[0m \u001b[38;5;66;03m# Create a figure and axis with GridSpec\u001b[39;00m\n",
      "Cell \u001b[0;32mIn[28], line 9\u001b[0m, in \u001b[0;36m<listcomp>\u001b[0;34m(.0)\u001b[0m\n\u001b[1;32m      7\u001b[0m values \u001b[38;5;241m=\u001b[39m \u001b[38;5;28mlist\u001b[39m(params\u001b[38;5;241m.\u001b[39mvalues())\n\u001b[1;32m      8\u001b[0m rounded_values \u001b[38;5;241m=\u001b[39m [\u001b[38;5;28mround\u001b[39m(\u001b[38;5;28mfloat\u001b[39m(num), \u001b[38;5;241m3\u001b[39m) \u001b[38;5;28;01mfor\u001b[39;00m num \u001b[38;5;129;01min\u001b[39;00m values]\n\u001b[0;32m----> 9\u001b[0m rounded_values_units \u001b[38;5;241m=\u001b[39m [\u001b[38;5;28mstr\u001b[39m(rounded_values[i]) \u001b[38;5;241m+\u001b[39m \u001b[43munits\u001b[49m\u001b[43m[\u001b[49m\u001b[43mi\u001b[49m\u001b[43m]\u001b[49m \u001b[38;5;28;01mfor\u001b[39;00m i \u001b[38;5;129;01min\u001b[39;00m \u001b[38;5;28mrange\u001b[39m(\u001b[38;5;28mlen\u001b[39m(rounded_values))]\n\u001b[1;32m     10\u001b[0m \u001b[38;5;28mprint\u001b[39m(rounded_values_units)\n\u001b[1;32m     12\u001b[0m \u001b[38;5;66;03m# Create a figure and axis with GridSpec\u001b[39;00m\n",
      "\u001b[0;31mIndexError\u001b[0m: list index out of range"
     ]
    }
   ],
   "source": [
    "\n",
    "%matplotlib inline\n",
    "plt.close('all')\n",
    "\n",
    "# Sample lists of LaTeX strings and corresponding values\n",
    "latex_strings = [r'$t_0$', r'$u_0$', r'$t_E$', r'$\\rho$', r'$\\pi_{EE}$', r'$\\pi_{EN}$']\n",
    "units = [' [JD]', ' ', ' [day]', ' ', ' ', ' ']\n",
    "values = list(params.values())\n",
    "rounded_values = [round(float(num), 3) for num in values]\n",
    "rounded_values_units = [str(rounded_values[i]) + units[i] for i in range(len(rounded_values))]\n",
    "print(rounded_values_units)\n",
    "\n",
    "# Create a figure and axis with GridSpec\n",
    "fig = plt.figure(figsize=(10, 6))\n",
    "gs = GridSpec(2, 2, height_ratios=[3, 1])  # 2 rows, 2 columns\n",
    "\n",
    "# Plotting the first figure in the first column of the top row\n",
    "ax1 = fig.add_subplot(gs[0, 0])\n",
    "ax1.grid(True) \n",
    "ax1.invert_yaxis()\n",
    "for key in curves:\n",
    "    if not len(curves[key])==0:\n",
    "        # plt.errorbar(curves[key][:,0], curves[key][:,1], curves[key][:,2], marker='o', linestyle='')\n",
    "        # ax1.errorbar(curves[key][:, 0], curves[key][:, 1], curves[key][:, 2], marker='o', linestyle='')\n",
    "        if key == 'r':\n",
    "            ax1.errorbar(curves[key][:, 0], curves[key][:, 1], curves[key][:, 2], marker='o', linestyle='', zorder=2.5)\n",
    "        else:\n",
    "            ax1.errorbar(curves[key][:, 0], curves[key][:, 1], curves[key][:, 2], marker='o', linestyle='')\n",
    "\n",
    "ax1.set_xlabel('JD [day]',fontsize=15)\n",
    "ax1.set_ylabel('Magnitude',fontsize=15)\n",
    "ax1.set_title('Rubin cadence baselinev2.0',fontsize=18)\n",
    "# Plotting the second figure in the second column of the top row\n",
    "ax2 = fig.add_subplot(gs[0, 1], sharey=ax1)\n",
    "# Plot your second figure here\n",
    "for key in curves:\n",
    "    if not len(curves[key])==0:\n",
    "        if key == 'r':\n",
    "            ax2.errorbar(new_curves[key][:, 0], new_curves[key][:, 1], new_curves[key][:, 2], marker='o', linestyle='', zorder=2.5)\n",
    "        else:\n",
    "            ax2.errorbar(new_curves[key][:, 0], new_curves[key][:, 1], new_curves[key][:, 2], marker='o', linestyle='')\n",
    "\n",
    "ax2.set_xlabel('JD [day]',fontsize=15)\n",
    "ax2.set_xlim(t0-2*tE,t0+2*tE)\n",
    "ax1.set_xlim(t0-2*tE,t0+2*tE)\n",
    "ax2.grid(True) \n",
    "ax2.set_title('Rubin custom cadence',fontsize=18)\n",
    "\n",
    "# inset_ax = inset_axes(ax2, width=\"40%\", height=\"40%\", loc='upper right')\n",
    "# inset_ax.errorbar(new_curves['r'][:, 0], new_curves['r'][:, 1], new_curves['r'][:, 2], marker='o', color='red',linestyle='', zorder=2.5,alpha=0.5)\n",
    "# inset_ax.errorbar(new_curves['w'][:, 0], new_curves['w'][:, 1], new_curves['w'][:, 2], marker='o', color='blue',linestyle='',alpha=0.5 )\n",
    "\n",
    "# inset_ax.set_xlim(new_curves['w'][:,0][0]-10,new_curves['w'][:,0][20794]+10)\n",
    "# inset_ax.invert_yaxis()\n",
    "# inset_ax.grid(True)\n",
    "# inset_ax.set_title('Inset Plot')\n",
    "# ax2.set_yticks([])\n",
    "# ax2.set_ylabel('Magnitude',fontsize=15)\n",
    "# ax2.invert_yaxis()\n",
    "\n",
    "# Create a table with LaTeX strings and values in the first column of the bottom row\n",
    "ax3 = fig.add_subplot(gs[1, :])\n",
    "ax3.axis('off')  # Hide the axis\n",
    "table_data = [[latex_strings[i], rounded_values_units[i]] for i in range(len(latex_strings))]\n",
    "table = ax3.table(cellText=table_data,loc='center', bbox=[0.25, 0, 0.55, 1.6])  # Add the table to the axis\n",
    "table.auto_set_font_size(False)\n",
    "table.set_fontsize(14)\n",
    "table.scale(1., 1.)  # Adjust scaling as needed\n",
    "\n",
    "plt.tight_layout()  # Adjust layout to prevent overlap\n",
    "plt.show()\n"
   ]
  },
  {
   "cell_type": "code",
   "execution_count": null,
   "id": "09cdb735-7775-4196-bdca-a7091eef9e0b",
   "metadata": {
    "tags": []
   },
   "outputs": [],
   "source": [
    "sys.path.append(home + '/results_roman_rubin/FFP_final/FFP/fit_FFP')\n",
    "os.listdir(home + '/results_roman_rubin/FFP_final/FFP/fit_FFP')\n",
    "from fit_events_FFP import fit_rubin_roman\n",
    "event_params = params\n",
    "path_save = path_to_save\n",
    "algo = 'TRF'\n",
    "wfirst_lc = new_curves['w']\n",
    "lsst_u = new_curves['u']\n",
    "lsst_g = new_curves['g']\n",
    "lsst_r = new_curves['r'] \n",
    "lsst_i = new_curves['i']\n",
    "lsst_z = new_curves['z']\n",
    "lsst_y = new_curves['y']\n",
    "# path_ephemerides\n",
    "# (, , , )\n",
    "Source = int(nsource)#1542\n",
    "fit_2, e, tel_list = fit_rubin_roman(Source,event_params, path_save, path_ephemerides, algo, wfirst_lc, lsst_u, lsst_g, lsst_r, lsst_i, lsst_z, lsst_y)"
   ]
  },
  {
   "cell_type": "code",
   "execution_count": null,
   "id": "2a6f943e-92a6-4f74-ac6a-a5d036f33af3",
   "metadata": {
    "tags": []
   },
   "outputs": [],
   "source": [
    "# path_ephemerides"
   ]
  },
  {
   "cell_type": "code",
   "execution_count": null,
   "id": "460e1d55-9aec-4405-937b-f8916ad1bc2a",
   "metadata": {
    "tags": []
   },
   "outputs": [],
   "source": [
    "time_fit = fit_2.fit_results['fit_time']\n",
    "best_fit = np.array(fit_2.fit_results[\"best_model\"])\n",
    "# if algo == 'TRF':\n",
    "cov = fit_2.fit_results[\"covariance_matrix\"]\n",
    "chichi = fit_2.fit_results[\"chi2\"]"
   ]
  },
  {
   "cell_type": "code",
   "execution_count": null,
   "id": "c250f6f9-4199-46f3-a9e1-4c735003de7c",
   "metadata": {
    "tags": []
   },
   "outputs": [],
   "source": [
    "best_fit\n",
    "sigmas = np.sqrt(np.diag(cov))\n",
    "true_values = np.array([float(value) for value in params.values()])"
   ]
  },
  {
   "cell_type": "code",
   "execution_count": null,
   "id": "2439ea4d-9ebf-468d-baf3-8d6b7ce51a7c",
   "metadata": {
    "tags": []
   },
   "outputs": [],
   "source": [
    "print('relative error = ',best_fit[0:6]/sigmas[0:6])\n",
    "print('bias relativa to the error = ',abs(true_values-best_fit[0:6])/sigmas[0:6])\n",
    "print('bias relativa to the true = ',abs(true_values-best_fit[0:6])/true_values)"
   ]
  },
  {
   "cell_type": "code",
   "execution_count": null,
   "id": "89eeac69-3045-42be-889c-56fd8cb31ed7",
   "metadata": {
    "tags": []
   },
   "outputs": [],
   "source": [
    "#comparacion con el fit sin la cadencia custom\n",
    "sim_original = [f for f in os.listdir(home + '/results_roman_rubin/FFP_final/FFP/set_sim1/') if '1542' in f]\n",
    "fit_original = [f for f in os.listdir(home + '/results_roman_rubin/FFP_final/FFP/set_fit1/') if '1542' in f]\n",
    "\n",
    "print(fit_original[0])\n",
    "fit_roman = np.load(home + '/results_roman_rubin/FFP_final/FFP/set_fit1/'+fit_original[0], allow_pickle=True).item()\n",
    "\n",
    "print(fit_original[1])\n",
    "fit_rr =np.load(home + '/results_roman_rubin/FFP_final/FFP/set_fit1/'+fit_original[1], allow_pickle=True).item()\n",
    "\n",
    "# fit_rr['best_model'][0:6]\n",
    "# np.sqrt(np.diag(fit_rr['covariance_matrix']))[0:6]\n",
    "\n",
    "print('relative error = ',fit_rr['best_model'][0:6]/np.sqrt(np.diag(fit_rr['covariance_matrix']))[0:6])\n",
    "print('bias relativa to the error = ',abs(true_values-fit_rr['best_model'][0:6])/np.sqrt(np.diag(fit_rr['covariance_matrix']))[0:6])\n",
    "print('bias relativa to the true = ',abs(true_values-fit_rr['best_model'][0:6])/true_values)"
   ]
  },
  {
   "cell_type": "code",
   "execution_count": null,
   "id": "9f4c37c8-6c5b-426f-a19c-cee5242fca3d",
   "metadata": {
    "tags": []
   },
   "outputs": [],
   "source": [
    "print('relative error = ',fit_roman['best_model'][0:6]/np.sqrt(np.diag(fit_roman['covariance_matrix']))[0:6])\n",
    "print('bias relativa to the error = ',abs(fit_roman['best_model'][0:6]-true_values)/np.sqrt(np.diag(fit_roman['covariance_matrix']))[0:6])\n",
    "print('bias relativa to the true = ',abs(fit_roman['best_model'][0:6]-true_values)/true_values)"
   ]
  },
  {
   "cell_type": "code",
   "execution_count": null,
   "id": "e0074dc0-0abf-4294-8c9f-e2bbda9d7323",
   "metadata": {},
   "outputs": [],
   "source": [
    "import numpy as np\n",
    "import matplotlib.pyplot as plt\n",
    "\n",
    "# Define your data and plotting code here\n",
    "%matplotlib inline\n",
    "plt.close('all')\n",
    "fig, axs = plt.subplots(1, 3, figsize=(15, 5))  # 1 row, 3 columns\n",
    "\n",
    "# Plotting relative error\n",
    "axs[0].set_title(r'Relative error: $\\frac{\\sigma}{fit}$', fontsize=15)\n",
    "m3_roman = np.sqrt(np.diag(fit_roman['covariance_matrix']))[2:6]/abs(fit_roman['best_model'][2:6])\n",
    "m3_rr = np.sqrt(np.diag(fit_rr['covariance_matrix']))[2:6]/abs(fit_rr['best_model'][2:6])\n",
    "m3_rubcus = sigmas[2:6]/abs(best_fit[2:6])\n",
    "axs[0].plot(np.arange(1,5,1), m3_roman, marker='o', label='Roman', lw=1)\n",
    "axs[0].plot(np.arange(1,5,1), m3_rr, marker='o', label='Roman+Rubin', lw=1)\n",
    "axs[0].plot(np.arange(1,5,1), m3_rubcus, marker='o', color='red', label='Roman+Rubin custom', lw=1)\n",
    "axs[0].set_xticks(np.arange(1,5,1))\n",
    "axs[0].set_xticklabels([r'$t_E$', r'$\\rho$', r'$\\pi_{EE}$', r'$\\pi_{EN}$'], fontsize=15)\n",
    "axs[0].set_yscale('log')\n",
    "axs[0].legend(loc='best')\n",
    "\n",
    "# Plotting relative bias to the error\n",
    "axs[1].set_title(r'Relative bias to the error: $\\frac{|fit-true|}{\\sigma}$', fontsize=15)\n",
    "m2_roman = abs(fit_roman['best_model'][2:6]-true_values[2:6])/np.sqrt(np.diag(fit_roman['covariance_matrix']))[2:6]\n",
    "m2_rr = abs(fit_rr['best_model'][2:6]-true_values[2:6])/np.sqrt(np.diag(fit_rr['covariance_matrix']))[2:6]\n",
    "m2_rubcus = abs(best_fit[2:6]-true_values[2:6])/sigmas[2:6]\n",
    "axs[1].plot(np.arange(1,5,1), m2_roman, marker='o',ls='-', label='Roman', lw=1,zorder=2.5,alpha=0.5)\n",
    "axs[1].plot(np.arange(1,5,1), m2_rr, marker='o', label='Roman+Rubin', lw=1)\n",
    "axs[1].plot(np.arange(1,5,1), m2_rubcus, marker='o', color='red', label='Roman+Rubin custom', lw=1)\n",
    "axs[1].set_xticks(np.arange(1,5,1))\n",
    "axs[1].set_xticklabels([r'$t_E$', r'$\\rho$', r'$\\pi_{EE}$', r'$\\pi_{EN}$'], fontsize=15)\n",
    "axs[1].set_yscale('log')\n",
    "axs[1].legend(loc='best')\n",
    "\n",
    "# Plotting relative bias to the true value\n",
    "axs[2].set_title(r'Relative bias to the true value: $\\frac{|fit-true|}{true}$', fontsize=15)\n",
    "m1_roman = abs(fit_roman['best_model'][2:6]-true_values[2:6])/abs(true_values[2:6])\n",
    "m1_rr = abs(fit_rr['best_model'][2:6]-true_values[2:6])/abs(true_values[2:6])\n",
    "m1_rubcus= abs(best_fit[2:6]-true_values[2:6])/abs(true_values[2:6])\n",
    "axs[2].plot(np.arange(1,5,1), m1_roman, marker='o', label='Roman', lw=1)\n",
    "axs[2].plot(np.arange(1,5,1), m1_rr, marker='o', label='Roman+Rubin', lw=1)\n",
    "axs[2].plot(np.arange(1,5,1), m1_rubcus, marker='o', color='red', label='Roman+Rubin custom', lw=1)\n",
    "axs[2].set_xticks(np.arange(1,5,1))\n",
    "axs[2].set_xticklabels([r'$t_E$', r'$\\rho$', r'$\\pi_{EE}$', r'$\\pi_{EN}$'], fontsize=15)\n",
    "axs[2].set_yscale('log')\n",
    "axs[2].legend(loc='best')\n",
    "\n",
    "plt.tight_layout()  # Adjust layout to prevent overlap\n",
    "plt.show()\n"
   ]
  },
  {
   "cell_type": "code",
   "execution_count": null,
   "id": "3e94ce0f-0629-4132-b89f-391712160553",
   "metadata": {
    "tags": []
   },
   "outputs": [],
   "source": [
    "import os\n",
    "# os.listdir('/home/anibal/results_roman_rubin/TRILEGAL_sets/')"
   ]
  },
  {
   "cell_type": "code",
   "execution_count": null,
   "id": "5bd0ea11-5778-47b4-93a8-ab8161f54df3",
   "metadata": {
    "tags": []
   },
   "outputs": [],
   "source": [
    "\n"
   ]
  },
  {
   "cell_type": "code",
   "execution_count": null,
   "id": "0fc546bd-f181-4745-a14c-95a49047c3b2",
   "metadata": {
    "tags": []
   },
   "outputs": [],
   "source": [
    "import numpy as np\n",
    "import matplotlib.pyplot as plt\n",
    "from pyLIMA import event\n",
    "from pyLIMA import telescopes\n",
    "from pyLIMA.models import PSPL_model\n",
    "from pyLIMA.models import FSPL_model\n",
    "from pyLIMA.models import FSPLarge_model\n",
    "from pyLIMA.models import PSBL_model\n",
    "from pyLIMA.models import USBL_model\n",
    "from pyLIMA.models import DSPL_model\n",
    "from pyLIMA.models import USBL_model\n",
    "from pyLIMA.outputs import pyLIMA_plots\n",
    "import pandas as pd\n",
    "from scipy.signal import find_peaks\n",
    "# i=2\n",
    "from tqdm.auto import tqdm\n",
    "DATA = pd.read_csv('/home/anibal/results_roman_rubin/TRILEGAL_sets/PB_split_1.csv')\n",
    "index=[]\n",
    "for i in tqdm(range(20)):#len(DATA))):\n",
    "    data = DATA.iloc[i]\n",
    "    params = {'t0': data['t0'], 'u0': data['u0'], 'tE': data['te'], 'rho': data['rho'], 's': data['s'],\n",
    "              'q': data['q'], 'alpha': data['alpha'], 'piEN': data['piEN'], 'piEE': data['piEE']}\n",
    "    # t0 = params['t0']\n",
    "    tE = params['tE']\n",
    "    # params\n",
    "    # print(tE)\n",
    "    simulated_event = event.Event()\n",
    "    simulated_event.name = 'Simulated'   \n",
    "    simulated_event.ra = 170\n",
    "    simulated_event.dec = -70\n",
    "    t0guess = 2457777.777\n",
    "    u0guess=0.01\n",
    "    rhoguess= 0.01\n",
    "    time_sim = np.linspace(t0guess-10*tE,t0guess+10*tE,240)        \n",
    "    lightcurve_sim = np.c_[time_sim,[19.] * len(time_sim),[0.01] * len(time_sim)]\n",
    "    telescope = telescopes.Telescope(name = 'Simulation', \n",
    "                                     camera_filter = 'G',\n",
    "                                     light_curve = lightcurve_sim.astype(float),\n",
    "                                     light_curve_names = ['time','mag','err_mag'],\n",
    "                                     light_curve_units = ['JD','mag','mag']) \n",
    "\n",
    "    simulated_event.telescopes.append(telescope)\n",
    "\n",
    "    # def plot_curve_usbl(u0=u0guess, tE=40, q=1e-3, alpha=3.14/180):\n",
    "    u0=params['u0']\n",
    "    # tE=\n",
    "    q=params['q']\n",
    "    alpha=params['alpha']\n",
    "    t0guess = 2457777.777\n",
    "    t0 = t0guess\n",
    "    rho=params['rho']\n",
    "    s=params['s']\n",
    "\n",
    "    usbl = USBL_model.USBLmodel(simulated_event, parallax=['None', 0])\n",
    "    usbl.define_model_parameters()\n",
    "    event_parameters = [t0, u0, tE, rho, s, q, alpha]\n",
    "\n",
    "    pyLIMA_parameters2 = usbl.compute_pyLIMA_parameters(event_parameters)\n",
    "    model = usbl.compute_the_microlensing_model(telescope, pyLIMA_parameters2)\n",
    "    magnification = usbl.model_magnification(telescope, pyLIMA_parameters2)\n",
    "    peaks, _ = find_peaks(2.5*np.log10(magnification), height=0)\n",
    "    latex_strings = [r'$u_0$', r'$t_E$', r'$\\rho$','s','q','$\\\\alpha$']\n",
    "    units = [' [JD]', ' ', ' [day]', ' ', ' ', ' ',' ', ' ']\n",
    "\n",
    "    # print(len(peaks))\n",
    "    if len(peaks)>1:\n",
    "        index.append(i)\n",
    "        \n",
    "        fig = plt.figure(figsize=(8, 6))\n",
    "        gs = GridSpec(2, 1, height_ratios=[2, 1])  # 2 rows, 2 columns\n",
    "\n",
    "        # Plotting the first figure in the first column of the top row\n",
    "        ax1 = fig.add_subplot(gs[0])\n",
    "        ax1.grid(True) \n",
    "        # ax1.invert_yaxis()\n",
    "        \n",
    "        # ax1.figure(figsize=(8,6))\n",
    "        ax1.set_xlabel(\"time\")\n",
    "        \n",
    "        ax1.set_ylabel(\"$\\\\Delta$mag unblended\")\n",
    "\n",
    "        ax1.plot(time_sim, 2.5*np.log10(magnification), \"r\", label=\"USBL\")\n",
    "        \n",
    "        ax1.plot(time_sim[peaks], 2.5*np.log10(magnification)[peaks], marker=\"x\",ls='',markersize=10,color='blue')\n",
    "        ax1.set_title(str(len(time_sim[peaks]))+' peak')\n",
    "        values = [u0, tE, rho, s, q, alpha]\n",
    "        rounded_values = [round(float(num), 3) for num in values]\n",
    "        rounded_values_units = [str(rounded_values[i]) + units[i] for i in range(len(rounded_values))]\n",
    "        # print(rounded_values_units)\n",
    "        ax3 = fig.add_subplot(gs[1])\n",
    "        ax3.axis('off')  # Hide the axis\n",
    "        table_data = [[latex_strings[i], rounded_values_units[i], latex_strings[i+3], rounded_values_units[i+3]] for i in range(3)]\n",
    "        table = ax3.table(cellText=table_data,loc='center', bbox=[0, 0, 1, 0.7])#,colWidths=[1/6,1/2])  # Add the table to the axis\n",
    "        table.auto_set_font_size(False)\n",
    "        table.set_fontsize(17)\n",
    "        table.scale(1, 1.)  # Adjust scaling as needed\n",
    "        ax1.legend()\n",
    "        # plt.tight_layout() \n",
    "        plt.show()      \n",
    "    # else:\n",
    "\n",
    "#         fig = plt.figure(figsize=(8, 6))\n",
    "#         gs = GridSpec(2, 1, height_ratios=[2, 1])  # 2 rows, 2 columns\n",
    "\n",
    "#         # Plotting the first figure in the first column of the top row\n",
    "#         ax1 = fig.add_subplot(gs[0])\n",
    "#         ax1.grid(True) \n",
    "#         # ax1.invert_yaxis()\n",
    "        \n",
    "#         # ax1.figure(figsize=(8,6))\n",
    "#         ax1.set_xlabel(\"time\")\n",
    "        \n",
    "#         ax1.set_ylabel(\"$\\\\Delta$mag unblended\")\n",
    "\n",
    "#         ax1.plot(time_sim, 2.5*np.log10(magnification), \"r\", label=\"USBL\")\n",
    "        \n",
    "#         ax1.plot(time_sim[peaks], 2.5*np.log10(magnification)[peaks], marker=\"x\",ls='',markersize=10,color='blue')\n",
    "#         ax1.set_title(str(len(time_sim[peaks]))+' peak')\n",
    "#         values = [u0, tE, rho, s, q, alpha]\n",
    "#         rounded_values = [round(float(num), 3) for num in values]\n",
    "#         rounded_values_units = [str(rounded_values[i]) + units[i] for i in range(len(rounded_values))]\n",
    "#         # print(rounded_values_units)\n",
    "#         ax3 = fig.add_subplot(gs[1])\n",
    "#         ax3.axis('off')  # Hide the axis\n",
    "#         table_data = [[latex_strings[i], rounded_values_units[i], latex_strings[i+3], rounded_values_units[i+3]] for i in range(3)]\n",
    "#         table = ax3.table(cellText=table_data,loc='center', bbox=[0, 0, 1, 0.7])#,colWidths=[1/6,1/2])  # Add the table to the axis\n",
    "#         table.auto_set_font_size(False)\n",
    "#         table.set_fontsize(17)\n",
    "#         table.scale(1, 1.)  # Adjust scaling as needed\n",
    "#         ax1.legend()\n",
    "        # plt.tight_layout() \n",
    "        # plt.show()     \n",
    "        \n"
   ]
  },
  {
   "cell_type": "code",
   "execution_count": null,
   "id": "44ea3c4e-77f4-491f-9126-63c92a5c4ad3",
   "metadata": {
    "tags": []
   },
   "outputs": [],
   "source": [
    "# print(len(index)/len(DATA)*100,'%')\n",
    "# print(index)"
   ]
  },
  {
   "cell_type": "code",
   "execution_count": null,
   "id": "0df2f82f-fb94-492a-96de-35a0fe6f6b53",
   "metadata": {
    "tags": []
   },
   "outputs": [],
   "source": [
    "i=2\n",
    "data = DATA.iloc[index[i]]\n",
    "# print(data)\n",
    "print(data['te'])\n",
    "print(data['t0'])\n"
   ]
  },
  {
   "cell_type": "code",
   "execution_count": null,
   "id": "f261c739-e8a0-4a4a-b0ba-8e58d7cbd296",
   "metadata": {
    "tags": []
   },
   "outputs": [],
   "source": [
    "\n",
    "nominal_seasons = [\n",
    "    {'start': '2027-02-11T00:00:00', 'end': '2027-04-24T00:00:00'},\n",
    "    {'start': '2027-08-16T00:00:00', 'end': '2027-10-27T00:00:00'},\n",
    "    {'start': '2028-02-11T00:00:00', 'end': '2028-04-24T00:00:00'},\n",
    "    {'start': '2030-02-11T00:00:00', 'end': '2030-04-24T00:00:00'},\n",
    "    {'start': '2030-08-16T00:00:00', 'end': '2030-10-27T00:00:00'},\n",
    "    {'start': '2031-02-11T00:00:00', 'end': '2031-04-24T00:00:00'},\n",
    "]\n",
    "\n",
    "# print(nominal_seasons[0])\n",
    "tstart1 = Time(nominal_seasons[0]['start'], format='isot').jd\n",
    "tend1 = Time(nominal_seasons[0]['end'], format='isot').jd\n",
    "\n",
    "data['t0']=tstart1+(tend1-tstart1)/2+72"
   ]
  },
  {
   "cell_type": "code",
   "execution_count": null,
   "id": "8680874f-c4a2-4124-a57b-6480cad38693",
   "metadata": {
    "tags": []
   },
   "outputs": [],
   "source": [
    "path_to_save = home + '/results_roman_rubin/'+'PB_peaks_crit/'\n",
    "# %matplotlib widget\n",
    "plt.close('all')\n",
    "for i in range(50):\n",
    "    data = DATA.iloc[index[i]]\n",
    "    data['t0']=tstart1+(tend1-tstart1)/2+72\n",
    "# new_creation = sim_event(i, path_to_save, data, opsim, path_ephemerides, path_phot_series, path_dataslice)\n",
    "    new_creation = sim_event(index[i], path_to_save, data, path_ephemerides, path_dataslice,'USBL')\n",
    "\n"
   ]
  },
  {
   "cell_type": "code",
   "execution_count": null,
   "id": "3d2030df-94e4-41b5-a365-0dde1451cf6b",
   "metadata": {
    "tags": []
   },
   "outputs": [],
   "source": [
    "files_txt = [f for f in os.listdir(path_to_save) if 'txt' in f]\n",
    "new_curves, params = read_curves(path_to_save+f'/'+files_txt[13])\n",
    "# Event_{int(index[i])}.txt\n",
    "print(path_to_save+f'/'+files_txt[2])\n",
    "# new_curves"
   ]
  },
  {
   "cell_type": "code",
   "execution_count": null,
   "id": "d0f8a5b5-c7c6-43a6-a185-651ae6bd2956",
   "metadata": {
    "tags": []
   },
   "outputs": [],
   "source": [
    "%matplotlib inline\n",
    "plt.close('all')\n",
    "\n",
    "# Sample lists of LaTeX strings and corresponding values\n",
    "latex_strings = [ r'$u_0$', r'$t_E$', r'$\\rho$','s','q','$\\\\alpha$', r'$\\pi_{EE}$', r'$\\pi_{EN}$']\n",
    "units = [ ' ', ' [day]', ' ', ' ', ' ',' ', ' ', ' ']\n",
    "values = list(params.values())[1:]\n",
    "rounded_values = [round(float(num), 3) for num in values]\n",
    "rounded_values_units = [str(rounded_values[i]) + units[i] for i in range(len(rounded_values))]\n",
    "print(rounded_values_units)\n",
    "\n",
    "# Create a figure and axis with GridSpec\n",
    "fig = plt.figure(figsize=(8, 8))\n",
    "gs = GridSpec(2, 1, height_ratios=[2, 1])  # 2 rows, 2 columns\n",
    "\n",
    "# Plotting the first figure in the first column of the top row\n",
    "ax1 = fig.add_subplot(gs[0])\n",
    "ax1.grid(True) \n",
    "ax1.invert_yaxis()\n",
    "for key in new_curves:\n",
    "    if not len(new_curves[key])==0:\n",
    "        # plt.errorbar(curves[key][:,0], curves[key][:,1], curves[key][:,2], marker='o', linestyle='')\n",
    "        # ax1.errorbar(curves[key][:, 0], curves[key][:, 1], curves[key][:, 2], marker='o', linestyle='')\n",
    "        if key == 'r':\n",
    "            ax1.errorbar(new_curves[key][:, 0], new_curves[key][:, 1], new_curves[key][:, 2], marker='o', linestyle='', zorder=2.5)\n",
    "        else:\n",
    "            ax1.errorbar(new_curves[key][:, 0], new_curves[key][:, 1], new_curves[key][:, 2], marker='o', linestyle='')\n",
    "\n",
    "ax1.set_xlabel('JD [day]',fontsize=15)\n",
    "ax1.set_ylabel('Magnitude',fontsize=15)\n",
    "ax1.set_title('Rubin custom cadence',fontsize=18)\n",
    "# Plotting the second figure in the second column of the top row\n",
    "# ax2 = fig.add_subplot(gs[0, 1], sharey=ax1)\n",
    "# # Plot your second figure here\n",
    "# for key in curves:\n",
    "#     if not len(curves[key])==0:\n",
    "#         if key == 'r':\n",
    "#             ax2.errorbar(new_curves[key][:, 0], new_curves[key][:, 1], new_curves[key][:, 2], marker='o', linestyle='', zorder=2.5)\n",
    "#         else:\n",
    "#             ax2.errorbar(new_curves[key][:, 0], new_curves[key][:, 1], new_curves[key][:, 2], marker='o', linestyle='')\n",
    "\n",
    "# ax2.set_xlabel('JD [day]',fontsize=15)\n",
    "# ax2.grid(True) \n",
    "# ax2.set_title('Rubin custom cadence',fontsize=18)\n",
    "\n",
    "# inset_ax = inset_axes(ax1, width=\"40%\", height=\"40%\", loc='upper right')\n",
    "# inset_ax.errorbar(new_curves['r'][:, 0], new_curves['r'][:, 1], new_curves['r'][:, 2], marker='o', color='red',linestyle='', zorder=2.5,alpha=0.5)\n",
    "# inset_ax.errorbar(new_curves['w'][:, 0], new_curves['w'][:, 1], new_curves['w'][:, 2], marker='o', color='blue',linestyle='',alpha=0.5 )\n",
    "\n",
    "# inset_ax.set_xlim(t0-tE,t0+tE)\n",
    "# inset_ax.invert_yaxis()\n",
    "# inset_ax.grid(True)\n",
    "# inset_ax.set_title('Inset Plot')\n",
    "# ax2.set_yticks([])\n",
    "# ax2.set_ylabel('Magnitude',fontsize=15)\n",
    "# ax2.invert_yaxis()\n",
    "\n",
    "# Create a table with LaTeX strings and values in the first column of the bottom row\n",
    "ax3 = fig.add_subplot(gs[1])\n",
    "ax3.axis('off')  # Hide the axis\n",
    "table_data = [[latex_strings[i], rounded_values_units[i],latex_strings[i+4], rounded_values_units[i+4]] for i in range(4)]\n",
    "table = ax3.table(cellText=table_data,loc='center', bbox=[0, 0, 1, 1],colWidths=[1/4,1/2,1/4,1/2])  # Add the table to the axis\n",
    "table.auto_set_font_size(False)\n",
    "table.set_fontsize(16)\n",
    "table.scale(1., 1)  # Adjust scaling as needed\n",
    "\n",
    "plt.tight_layout()  # Adjust layout to prevent overlap\n",
    "plt.show()\n"
   ]
  },
  {
   "cell_type": "code",
   "execution_count": null,
   "id": "81b06a93-e8d4-457a-9f13-e21b3a4a877d",
   "metadata": {},
   "outputs": [],
   "source": [
    "sys.path.append(home + '/results_roman_rubin/FFP_final/FFP/fit_FFP')\n",
    "os.listdir(home + '/results_roman_rubin/FFP_final/FFP/fit_FFP')\n",
    "from fit_events_FFP import fit_rubin_roman\n",
    "event_params = params\n",
    "path_save = path_to_save\n",
    "algo = 'TRF'\n",
    "wfirst_lc = new_curves['w']\n",
    "lsst_u = new_curves['u']\n",
    "lsst_g = new_curves['g']\n",
    "lsst_r = new_curves['r'] \n",
    "lsst_i = new_curves['i']\n",
    "lsst_z = new_curves['z']\n",
    "lsst_y = new_curves['y']\n",
    "# path_ephemerides\n",
    "# (, , , )\n",
    "Source = int(nsource)#1542\n",
    "fit_2, e, tel_list = fit_rubin_roman(Source,event_params, path_save, path_ephemerides, algo, wfirst_lc, lsst_u, lsst_g, lsst_r, lsst_i, lsst_z, lsst_y)"
   ]
  },
  {
   "cell_type": "code",
   "execution_count": null,
   "id": "d15228c3-ff7c-4613-80a1-d9c9ae6c17fc",
   "metadata": {},
   "outputs": [],
   "source": []
  }
 ],
 "metadata": {
  "kernelspec": {
   "display_name": "PYLIMA_UTD",
   "language": "python",
   "name": "pylima_utd"
  },
  "language_info": {
   "codemirror_mode": {
    "name": "ipython",
    "version": 3
   },
   "file_extension": ".py",
   "mimetype": "text/x-python",
   "name": "python",
   "nbconvert_exporter": "python",
   "pygments_lexer": "ipython3",
   "version": "3.11.9"
  }
 },
 "nbformat": 4,
 "nbformat_minor": 5
}
