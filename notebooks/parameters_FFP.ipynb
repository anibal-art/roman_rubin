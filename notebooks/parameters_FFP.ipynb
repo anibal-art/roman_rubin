{
 "cells": [
  {
   "cell_type": "code",
   "execution_count": 1,
   "id": "853741e4-c82a-430a-a10b-8a19a0e65bdc",
   "metadata": {
    "tags": []
   },
   "outputs": [],
   "source": [
    "import pandas as pd\n",
    "import numpy as np\n",
    "import matplotlib.pyplot as plt\n",
    "from tqdm.auto import tqdm\n",
    "from astropy import constants as const\n",
    "from astropy import units as u\n",
    "import math\n",
    "from astropy.constants import c, L_sun, sigma_sb, M_jup, M_earth"
   ]
  },
  {
   "cell_type": "code",
   "execution_count": 6,
   "id": "669528b7-4887-4667-88a9-3585511be5e0",
   "metadata": {
    "tags": []
   },
   "outputs": [
    {
     "name": "stdout",
     "output_type": "stream",
     "text": [
      "The len() of the database is:  6752296\n"
     ]
    },
    {
     "data": {
      "text/html": [
       "<div>\n",
       "<style scoped>\n",
       "    .dataframe tbody tr th:only-of-type {\n",
       "        vertical-align: middle;\n",
       "    }\n",
       "\n",
       "    .dataframe tbody tr th {\n",
       "        vertical-align: top;\n",
       "    }\n",
       "\n",
       "    .dataframe thead th {\n",
       "        text-align: right;\n",
       "    }\n",
       "</style>\n",
       "<table border=\"1\" class=\"dataframe\">\n",
       "  <thead>\n",
       "    <tr style=\"text-align: right;\">\n",
       "      <th></th>\n",
       "      <th>u</th>\n",
       "      <th>g</th>\n",
       "      <th>r</th>\n",
       "      <th>i</th>\n",
       "      <th>z</th>\n",
       "      <th>Y</th>\n",
       "      <th>W149</th>\n",
       "      <th>radius</th>\n",
       "      <th>D_S</th>\n",
       "      <th>D_L</th>\n",
       "      <th>mu_rel</th>\n",
       "    </tr>\n",
       "  </thead>\n",
       "  <tbody>\n",
       "    <tr>\n",
       "      <th>0</th>\n",
       "      <td>27.940</td>\n",
       "      <td>25.112</td>\n",
       "      <td>23.791</td>\n",
       "      <td>23.052</td>\n",
       "      <td>22.687</td>\n",
       "      <td>22.509</td>\n",
       "      <td>22.4888</td>\n",
       "      <td>0.204717</td>\n",
       "      <td>7708</td>\n",
       "      <td>3337</td>\n",
       "      <td>1.752341</td>\n",
       "    </tr>\n",
       "    <tr>\n",
       "      <th>1</th>\n",
       "      <td>32.152</td>\n",
       "      <td>28.801</td>\n",
       "      <td>27.358</td>\n",
       "      <td>25.353</td>\n",
       "      <td>24.371</td>\n",
       "      <td>23.905</td>\n",
       "      <td>23.7048</td>\n",
       "      <td>0.256539</td>\n",
       "      <td>5443</td>\n",
       "      <td>3490</td>\n",
       "      <td>3.368060</td>\n",
       "    </tr>\n",
       "    <tr>\n",
       "      <th>2</th>\n",
       "      <td>29.916</td>\n",
       "      <td>26.583</td>\n",
       "      <td>25.143</td>\n",
       "      <td>23.976</td>\n",
       "      <td>23.416</td>\n",
       "      <td>23.174</td>\n",
       "      <td>23.0758</td>\n",
       "      <td>0.377705</td>\n",
       "      <td>7715</td>\n",
       "      <td>4581</td>\n",
       "      <td>6.920123</td>\n",
       "    </tr>\n",
       "    <tr>\n",
       "      <th>3</th>\n",
       "      <td>19.718</td>\n",
       "      <td>18.786</td>\n",
       "      <td>18.695</td>\n",
       "      <td>18.736</td>\n",
       "      <td>18.808</td>\n",
       "      <td>18.839</td>\n",
       "      <td>19.3448</td>\n",
       "      <td>1.236383</td>\n",
       "      <td>6055</td>\n",
       "      <td>2758</td>\n",
       "      <td>9.626590</td>\n",
       "    </tr>\n",
       "    <tr>\n",
       "      <th>4</th>\n",
       "      <td>28.293</td>\n",
       "      <td>25.580</td>\n",
       "      <td>24.286</td>\n",
       "      <td>23.587</td>\n",
       "      <td>23.239</td>\n",
       "      <td>23.064</td>\n",
       "      <td>23.0568</td>\n",
       "      <td>0.232088</td>\n",
       "      <td>7359</td>\n",
       "      <td>6834</td>\n",
       "      <td>6.344430</td>\n",
       "    </tr>\n",
       "  </tbody>\n",
       "</table>\n",
       "</div>"
      ],
      "text/plain": [
       "        u       g       r       i       z       Y     W149    radius   D_S  \\\n",
       "0  27.940  25.112  23.791  23.052  22.687  22.509  22.4888  0.204717  7708   \n",
       "1  32.152  28.801  27.358  25.353  24.371  23.905  23.7048  0.256539  5443   \n",
       "2  29.916  26.583  25.143  23.976  23.416  23.174  23.0758  0.377705  7715   \n",
       "3  19.718  18.786  18.695  18.736  18.808  18.839  19.3448  1.236383  6055   \n",
       "4  28.293  25.580  24.286  23.587  23.239  23.064  23.0568  0.232088  7359   \n",
       "\n",
       "    D_L    mu_rel  \n",
       "0  3337  1.752341  \n",
       "1  3490  3.368060  \n",
       "2  4581  6.920123  \n",
       "3  2758  9.626590  \n",
       "4  6834  6.344430  "
      ]
     },
     "execution_count": 6,
     "metadata": {},
     "output_type": "execute_result"
    }
   ],
   "source": [
    "try:\n",
    "    data = pd.read_csv('/home/anibal/Downloads/things/df_trilegal_radios.csv')\n",
    "except:\n",
    "    Radii_star = []\n",
    "    for i in tqdm(range(len(data))):\n",
    "        logL = data['logL'][i]  # log10 of the luminosity in Lsun from TRILEGAL\n",
    "        logTe = data['logTe'][i]  # log10 of effective temperature in K from TRILEGAL\n",
    "        L_star = 10**(logL)\n",
    "        Teff = (10**(logTe))*u.K\n",
    "        top = L_star*L_sun\n",
    "        sigma = sigma_sb\n",
    "        bot = 4*np.pi*sigma*Teff**4\n",
    "        Rstar = np.sqrt(top/bot)\n",
    "        Radii_star.append(Rstar.to('R_sun').value)\n",
    "\n",
    "    data['radius']=Radii_star\n",
    "    df_koshimoto_large = pd.read_csv('/home/anibal/genulens/tmp_new.dat', delim_whitespace=True, comment='#', header=None)\n",
    "    header = [\"wtj\", \"M_L\", \"D_L\", \"D_S\", \"tE\", \"thetaE\", \"piE\", \"piEN\", \"piEE\", \"mu_rel\", \"muSl\", \"muSb\", \"i_L\", \"iS\",\n",
    "              \"iL\", \"fREM\"]\n",
    "    df_koshimoto_large.columns = header\n",
    "    data[\"D_S\"]=df_koshimoto_large[\"D_S\"]\n",
    "    data[\"D_L\"]=df_koshimoto_large[\"D_L\"]\n",
    "    data[\"mu_rel\"]=df_koshimoto_large[\"mu_rel\"]\n",
    "\n",
    "    data = data[['u','g','r','i','z','Y','W149','radius','D_S','D_L','mu_rel']]\n",
    "    data = data[data['D_S']<8000]\n",
    "    data.to_csv('/home/anibal/Downloads/df_trilegal_radios.csv', index=False)\n",
    "    \n",
    "\n",
    "print('The len() of the database is: ',len(data))\n",
    "data.head()"
   ]
  },
  {
   "cell_type": "code",
   "execution_count": 15,
   "id": "04360463-150c-4d08-bb04-2dc8be25ca72",
   "metadata": {
    "tags": []
   },
   "outputs": [
    {
     "data": {
      "image/png": "[encoded data removed]",
      "text/plain": [
       "<Figure size 640x480 with 1 Axes>"
      ]
     },
     "metadata": {},
     "output_type": "display_data"
    }
   ],
   "source": [
    "plt.hist(data['mu_rel'],bins=np.logspace(-2,4,100))\n",
    "plt.xscale(\"log\")\n",
    "plt.yscale(\"log\")"
   ]
  },
  {
   "cell_type": "code",
   "execution_count": 4,
   "id": "c3fa5c4b-8405-45c5-94a4-fe7d9f7df7e2",
   "metadata": {
    "tags": []
   },
   "outputs": [
    {
     "data": {
      "text/plain": [
       "40000"
      ]
     },
     "execution_count": 4,
     "metadata": {},
     "output_type": "execute_result"
    }
   ],
   "source": [
    "200*200"
   ]
  },
  {
   "cell_type": "code",
   "execution_count": 5,
   "id": "3ef893a6-d7b7-432d-b155-7579a67e39b3",
   "metadata": {
    "tags": []
   },
   "outputs": [],
   "source": [
    "# (20-min(data['radius']))/delta"
   ]
  },
  {
   "cell_type": "code",
   "execution_count": 6,
   "id": "78b71d7c-3ad2-4a28-a7e1-27f2c6ff4562",
   "metadata": {
    "tags": []
   },
   "outputs": [],
   "source": [
    "\n",
    "# h = 300\n",
    "# delta = (20 - min(data['radius'])) / h\n"
   ]
  },
  {
   "cell_type": "code",
   "execution_count": 7,
   "id": "5a3a1a8c-8ef2-4c59-92bf-a8c940780b73",
   "metadata": {
    "tags": []
   },
   "outputs": [],
   "source": [
    "# int(40000/300)\n",
    "# int(large_df/h)\n",
    "# delta"
   ]
  },
  {
   "cell_type": "code",
   "execution_count": 3,
   "id": "c87f2a24-cc7d-4f49-9964-22ee2cebc4e7",
   "metadata": {
    "tags": []
   },
   "outputs": [
    {
     "ename": "KeyboardInterrupt",
     "evalue": "",
     "output_type": "error",
     "traceback": [
      "\u001b[0;31m---------------------------------------------------------------------------\u001b[0m",
      "\u001b[0;31mKeyboardInterrupt\u001b[0m                         Traceback (most recent call last)",
      "Cell \u001b[0;32mIn[3], line 3\u001b[0m\n\u001b[1;32m      1\u001b[0m \u001b[38;5;66;03m# Define the step size\u001b[39;00m\n\u001b[1;32m      2\u001b[0m h \u001b[38;5;241m=\u001b[39m \u001b[38;5;241m100\u001b[39m\n\u001b[0;32m----> 3\u001b[0m delta \u001b[38;5;241m=\u001b[39m (\u001b[38;5;241m20\u001b[39m \u001b[38;5;241m-\u001b[39m \u001b[38;5;28mmin\u001b[39m(data[\u001b[38;5;124m'\u001b[39m\u001b[38;5;124mradius\u001b[39m\u001b[38;5;124m'\u001b[39m])) \u001b[38;5;241m/\u001b[39m h\n\u001b[1;32m      5\u001b[0m \u001b[38;5;66;03m# Initialize an empty list to store the chunks\u001b[39;00m\n\u001b[1;32m      6\u001b[0m chunks_list \u001b[38;5;241m=\u001b[39m []\n",
      "\u001b[0;31mKeyboardInterrupt\u001b[0m: "
     ]
    }
   ],
   "source": [
    "# Define the step size\n",
    "h = 100\n",
    "delta = (20 - min(data['radius'])) / h\n",
    "\n",
    "# Initialize an empty list to store the chunks\n",
    "chunks_list = []\n",
    "\n",
    "large_df = 20000\n",
    "# Loop to generate and store chunks\n",
    "for n in tqdm(range(1, h + 1)):\n",
    "    interval = (min(data['radius']) + (n-1) * delta, min(data['radius']) + n * delta)\n",
    "    chunk = data[(data['radius'] > interval[0]) & (data['radius'] <= interval[1])].head(int(large_df/h))\n",
    "    chunks_list.append(chunk)\n",
    "\n",
    "# Concatenate the list of DataFrames into a single DataFrame outside the loop\n",
    "chunked_df = pd.concat(chunks_list).reset_index(drop=True)\n",
    "\n",
    "print(chunked_df)"
   ]
  },
  {
   "cell_type": "code",
   "execution_count": 9,
   "id": "c3da89ff-ff02-418c-b6d0-1573cd748fae",
   "metadata": {
    "tags": []
   },
   "outputs": [],
   "source": [
    "# plt.hist(chunked_df['radius'], bins=np.arange(0,20,0.2))\n",
    "# plt.show()"
   ]
  },
  {
   "cell_type": "code",
   "execution_count": 10,
   "id": "4c6a1648-7ade-4eb8-8e3a-359a0913e6f4",
   "metadata": {
    "tags": []
   },
   "outputs": [],
   "source": [
    "# delta = (20-min(data['radius']))/100\n",
    "# chunks_list=[]\n",
    "# for n in tqdm(range(1,101)):\n",
    "#     interval = (min(data['radius'])+(n-1)*delta ,min(data['radius'])+n*delta)\n",
    "#     chunks_list.append(data[(min(data['radius'])<interval[0])&(interval[1]>data['radius'])].head(400))\n",
    "#     chunked_df = pd.concat(chunks_list).reset_index(drop=True)\n",
    "\n",
    "# plt.hist(chunked_df['radius'],bins=np.arange(0,20,0.1))\n",
    "# plt.yscale('log')"
   ]
  },
  {
   "cell_type": "code",
   "execution_count": 5,
   "id": "c74ae2ed-514f-4175-a20a-6407aef4a0f3",
   "metadata": {
    "tags": []
   },
   "outputs": [
    {
     "ename": "NameError",
     "evalue": "name 'chunked_df' is not defined",
     "output_type": "error",
     "traceback": [
      "\u001b[0;31m---------------------------------------------------------------------------\u001b[0m",
      "\u001b[0;31mNameError\u001b[0m                                 Traceback (most recent call last)",
      "Cell \u001b[0;32mIn[5], line 1\u001b[0m\n\u001b[0;32m----> 1\u001b[0m data \u001b[38;5;241m=\u001b[39m chunked_df\n\u001b[1;32m      2\u001b[0m ang_radii_E \u001b[38;5;241m=\u001b[39m []\n\u001b[1;32m      3\u001b[0m radii_source \u001b[38;5;241m=\u001b[39m []\n",
      "\u001b[0;31mNameError\u001b[0m: name 'chunked_df' is not defined"
     ]
    }
   ],
   "source": [
    "data = chunked_df\n",
    "ang_radii_E = []\n",
    "radii_source = []\n",
    "tstart_Roman = 2461508.763828608\n",
    "\n",
    "dict_micro = {'t0': [],'te': [],'u0': [],'rho': [],'piEE': [],'piEN': [], 'theta_E':[],'theta_s':[],'M':[]}\n",
    "for i in tqdm(range(len(data))):\n",
    "    ml = np.random.uniform(1 * u.M_earth.to('M_sun'), 13 * u.M_jup.to('M_sun'))\n",
    "    ml = ml*u.M_sun\n",
    "    # print(ml.to('M_earth'))\n",
    "    DS = (data.iloc[i]['D_S'] * u.pc).to('kpc')\n",
    "    DL = (data.iloc[i]['D_L'] * u.pc).to('kpc')\n",
    "    c = const.c\n",
    "    G = const.G\n",
    "    yr2day = 365.25\n",
    "    pi_rel = ((1 / DL) - (1 / DS))\n",
    "    k = 4 * G / (c ** 2)\n",
    "    aconv = (180 * 60 * 60 * 1000) / math.pi\n",
    "    theta_E = ((np.sqrt(k * pi_rel * ml))*u.rad.to('uas')).decompose()\n",
    "    mu_rel = data.iloc[i]['mu_rel']\n",
    "    tE = float((theta_E/(mu_rel*1000))*yr2day)\n",
    "    piE = float(pi_rel.value/theta_E)\n",
    "    # ang_radii_E.append(theta_E)\n",
    "    Rstar = data['radius'].iloc[i]*u.R_sun\n",
    "    theta_s = (np.arctan(Rstar/DS).decompose()).to('uas')\n",
    "    radii_source.append(theta_s)\n",
    "    #------------------------------------------------------------------------------------------------\n",
    "    # t0 = np.random.uniform(tstart_Roman,\n",
    "                           # tstart_Roman + 5 * 365)  # from 100 day before Roman is launched to one year later\n",
    "    u0 = np.random.uniform(0, 3)\n",
    "    rho = float((theta_s/theta_E).value)\n",
    "    phi = np.random.uniform(0, np.pi)\n",
    "    piEE = piE * np.cos(phi)\n",
    "    piEN = piE * np.sin(phi)\n",
    "    t0 = np.random.uniform(tstart_Roman, tstart_Roman + 5 * 365)\n",
    "    dict_micro['u0'].append(u0)\n",
    "    dict_micro['te'].append(tE)\n",
    "    dict_micro['rho'].append(rho)\n",
    "    dict_micro['piEE'].append(piEE)\n",
    "    dict_micro['piEN'].append(piEN)\n",
    "    dict_micro['t0'].append(t0)\n",
    "    dict_micro['theta_E'].append(theta_E.value)\n",
    "    dict_micro['theta_s'].append(theta_s.value)\n",
    "    dict_micro['M'].append(ml.to('M_jup'))\n"
   ]
  },
  {
   "cell_type": "code",
   "execution_count": 12,
   "id": "d19f713b-55e6-469c-868d-b7cf25675c82",
   "metadata": {
    "tags": []
   },
   "outputs": [],
   "source": [
    "# data = data.head(int(4e+4))"
   ]
  },
  {
   "cell_type": "code",
   "execution_count": 13,
   "id": "dfa37a79-0930-48cf-bf91-840aca986619",
   "metadata": {
    "tags": []
   },
   "outputs": [
    {
     "data": {
      "text/html": [
       "<div>\n",
       "<style scoped>\n",
       "    .dataframe tbody tr th:only-of-type {\n",
       "        vertical-align: middle;\n",
       "    }\n",
       "\n",
       "    .dataframe tbody tr th {\n",
       "        vertical-align: top;\n",
       "    }\n",
       "\n",
       "    .dataframe thead th {\n",
       "        text-align: right;\n",
       "    }\n",
       "</style>\n",
       "<table border=\"1\" class=\"dataframe\">\n",
       "  <thead>\n",
       "    <tr style=\"text-align: right;\">\n",
       "      <th></th>\n",
       "      <th>u</th>\n",
       "      <th>g</th>\n",
       "      <th>r</th>\n",
       "      <th>i</th>\n",
       "      <th>z</th>\n",
       "      <th>Y</th>\n",
       "      <th>W149</th>\n",
       "      <th>radius</th>\n",
       "      <th>D_S</th>\n",
       "      <th>D_L</th>\n",
       "      <th>mu_rel</th>\n",
       "      <th>t0</th>\n",
       "      <th>te</th>\n",
       "      <th>u0</th>\n",
       "      <th>rho</th>\n",
       "      <th>piEE</th>\n",
       "      <th>piEN</th>\n",
       "      <th>theta_E</th>\n",
       "      <th>theta_s</th>\n",
       "      <th>M</th>\n",
       "    </tr>\n",
       "  </thead>\n",
       "  <tbody>\n",
       "    <tr>\n",
       "      <th>0</th>\n",
       "      <td>32.301</td>\n",
       "      <td>29.220</td>\n",
       "      <td>27.113</td>\n",
       "      <td>24.495</td>\n",
       "      <td>22.827</td>\n",
       "      <td>21.965</td>\n",
       "      <td>21.2038</td>\n",
       "      <td>0.186704</td>\n",
       "      <td>7825</td>\n",
       "      <td>7574</td>\n",
       "      <td>10.674270</td>\n",
       "      <td>2.462985e+06</td>\n",
       "      <td>0.322183</td>\n",
       "      <td>0.006269</td>\n",
       "      <td>0.011785</td>\n",
       "      <td>0.000116</td>\n",
       "      <td>0.000435</td>\n",
       "      <td>9.415651</td>\n",
       "      <td>0.110960</td>\n",
       "      <td>2.692699627669436 jupiterMass</td>\n",
       "    </tr>\n",
       "    <tr>\n",
       "      <th>1</th>\n",
       "      <td>32.227</td>\n",
       "      <td>28.867</td>\n",
       "      <td>27.281</td>\n",
       "      <td>24.722</td>\n",
       "      <td>23.249</td>\n",
       "      <td>22.512</td>\n",
       "      <td>22.1068</td>\n",
       "      <td>0.196179</td>\n",
       "      <td>7904</td>\n",
       "      <td>7617</td>\n",
       "      <td>5.901980</td>\n",
       "      <td>2.463116e+06</td>\n",
       "      <td>0.543886</td>\n",
       "      <td>2.197145</td>\n",
       "      <td>0.013134</td>\n",
       "      <td>-0.000409</td>\n",
       "      <td>0.000356</td>\n",
       "      <td>8.788505</td>\n",
       "      <td>0.115426</td>\n",
       "      <td>2.084156364898913 jupiterMass</td>\n",
       "    </tr>\n",
       "    <tr>\n",
       "      <th>2</th>\n",
       "      <td>30.983</td>\n",
       "      <td>27.616</td>\n",
       "      <td>26.127</td>\n",
       "      <td>23.634</td>\n",
       "      <td>22.244</td>\n",
       "      <td>21.552</td>\n",
       "      <td>21.2058</td>\n",
       "      <td>0.196405</td>\n",
       "      <td>7953</td>\n",
       "      <td>6628</td>\n",
       "      <td>9.954552</td>\n",
       "      <td>2.461926e+06</td>\n",
       "      <td>1.435852</td>\n",
       "      <td>1.246748</td>\n",
       "      <td>0.002935</td>\n",
       "      <td>0.000135</td>\n",
       "      <td>0.000628</td>\n",
       "      <td>39.132819</td>\n",
       "      <td>0.114847</td>\n",
       "      <td>7.836662195753649 jupiterMass</td>\n",
       "    </tr>\n",
       "    <tr>\n",
       "      <th>3</th>\n",
       "      <td>32.146</td>\n",
       "      <td>28.835</td>\n",
       "      <td>27.420</td>\n",
       "      <td>25.085</td>\n",
       "      <td>23.836</td>\n",
       "      <td>23.220</td>\n",
       "      <td>22.9468</td>\n",
       "      <td>0.201212</td>\n",
       "      <td>7223</td>\n",
       "      <td>7101</td>\n",
       "      <td>8.432836</td>\n",
       "      <td>2.461978e+06</td>\n",
       "      <td>0.631033</td>\n",
       "      <td>1.018051</td>\n",
       "      <td>0.008892</td>\n",
       "      <td>0.000042</td>\n",
       "      <td>0.000158</td>\n",
       "      <td>14.569192</td>\n",
       "      <td>0.129548</td>\n",
       "      <td>11.478879577880164 jupiterMass</td>\n",
       "    </tr>\n",
       "    <tr>\n",
       "      <th>4</th>\n",
       "      <td>32.195</td>\n",
       "      <td>28.837</td>\n",
       "      <td>27.120</td>\n",
       "      <td>24.495</td>\n",
       "      <td>22.935</td>\n",
       "      <td>22.151</td>\n",
       "      <td>21.6768</td>\n",
       "      <td>0.189956</td>\n",
       "      <td>6878</td>\n",
       "      <td>2661</td>\n",
       "      <td>7.117403</td>\n",
       "      <td>2.463225e+06</td>\n",
       "      <td>7.460195</td>\n",
       "      <td>0.587427</td>\n",
       "      <td>0.000883</td>\n",
       "      <td>-0.000601</td>\n",
       "      <td>0.001467</td>\n",
       "      <td>145.372258</td>\n",
       "      <td>0.128436</td>\n",
       "      <td>11.798254779360356 jupiterMass</td>\n",
       "    </tr>\n",
       "  </tbody>\n",
       "</table>\n",
       "</div>"
      ],
      "text/plain": [
       "        u       g       r       i       z       Y     W149    radius   D_S  \\\n",
       "0  32.301  29.220  27.113  24.495  22.827  21.965  21.2038  0.186704  7825   \n",
       "1  32.227  28.867  27.281  24.722  23.249  22.512  22.1068  0.196179  7904   \n",
       "2  30.983  27.616  26.127  23.634  22.244  21.552  21.2058  0.196405  7953   \n",
       "3  32.146  28.835  27.420  25.085  23.836  23.220  22.9468  0.201212  7223   \n",
       "4  32.195  28.837  27.120  24.495  22.935  22.151  21.6768  0.189956  6878   \n",
       "\n",
       "    D_L     mu_rel            t0        te        u0       rho      piEE  \\\n",
       "0  7574  10.674270  2.462985e+06  0.322183  0.006269  0.011785  0.000116   \n",
       "1  7617   5.901980  2.463116e+06  0.543886  2.197145  0.013134 -0.000409   \n",
       "2  6628   9.954552  2.461926e+06  1.435852  1.246748  0.002935  0.000135   \n",
       "3  7101   8.432836  2.461978e+06  0.631033  1.018051  0.008892  0.000042   \n",
       "4  2661   7.117403  2.463225e+06  7.460195  0.587427  0.000883 -0.000601   \n",
       "\n",
       "       piEN     theta_E   theta_s                               M  \n",
       "0  0.000435    9.415651  0.110960   2.692699627669436 jupiterMass  \n",
       "1  0.000356    8.788505  0.115426   2.084156364898913 jupiterMass  \n",
       "2  0.000628   39.132819  0.114847   7.836662195753649 jupiterMass  \n",
       "3  0.000158   14.569192  0.129548  11.478879577880164 jupiterMass  \n",
       "4  0.001467  145.372258  0.128436  11.798254779360356 jupiterMass  "
      ]
     },
     "execution_count": 13,
     "metadata": {},
     "output_type": "execute_result"
    }
   ],
   "source": [
    "for key in dict_micro:\n",
    "    data[key] = dict_micro[key]\n",
    "data.head()"
   ]
  },
  {
   "cell_type": "code",
   "execution_count": null,
   "id": "fad60130-e6ad-4f2f-aae3-f2ffdcc7c755",
   "metadata": {
    "tags": []
   },
   "outputs": [],
   "source": []
  },
  {
   "cell_type": "code",
   "execution_count": 25,
   "id": "3bfae66f-a88f-4d4a-98c4-76e9fb5a6f46",
   "metadata": {
    "tags": []
   },
   "outputs": [
    {
     "data": {
      "text/plain": [
       "[<matplotlib.lines.Line2D at 0x7c2242889190>]"
      ]
     },
     "execution_count": 25,
     "metadata": {},
     "output_type": "execute_result"
    },
    {
     "data": {
      "image/png": "[encoded data removed]",
      "text/plain": [
       "<Figure size 640x480 with 1 Axes>"
      ]
     },
     "metadata": {},
     "output_type": "display_data"
    }
   ],
   "source": [
    "plt.plot(data['mu_rel'], np.sqrt(data['piEE']**2+data['piEN']**2), marker='o',ls='')\n",
    "# plt.xscale('log')\n",
    "# plt.yscale('log')"
   ]
  },
  {
   "cell_type": "code",
   "execution_count": null,
   "id": "6150c3e4-2701-4026-8dc8-f5383b8cb780",
   "metadata": {
    "tags": []
   },
   "outputs": [],
   "source": []
  },
  {
   "cell_type": "code",
   "execution_count": 6,
   "id": "0d0036db-4541-4add-b82c-38ba731ef9c0",
   "metadata": {
    "tags": []
   },
   "outputs": [],
   "source": [
    "df = pd.DataFrame()\n",
    "for key in dict_micro:\n",
    "    df[key] = dict_micro[key]\n",
    "# df.head()"
   ]
  },
  {
   "cell_type": "code",
   "execution_count": 7,
   "id": "bfa9b2a1-7609-4795-a3dd-5f1f1ef72160",
   "metadata": {
    "tags": []
   },
   "outputs": [
    {
     "data": {
      "image/png": "[encoded data removed]",
      "text/plain": [
       "<Figure size 640x480 with 1 Axes>"
      ]
     },
     "metadata": {},
     "output_type": "display_data"
    }
   ],
   "source": [
    "plt.hist(df['rho'][df['rho']>1])\n",
    "plt.yscale('log')"
   ]
  },
  {
   "cell_type": "code",
   "execution_count": 8,
   "id": "0ccdf44f-e28c-4618-9f2c-94e2fa78788e",
   "metadata": {
    "tags": []
   },
   "outputs": [],
   "source": [
    "# data.to_csv('/home/anibal/Downloads/df_trilegal_parameters.csv', index=False)"
   ]
  },
  {
   "cell_type": "code",
   "execution_count": 9,
   "id": "47d8ee8d-76c9-4470-ac7a-03d995555467",
   "metadata": {
    "tags": []
   },
   "outputs": [],
   "source": [
    "# data.head()\n",
    "# type(data['te'].values[0])\n",
    "# plt.hist(data['te'].values, range=(0, 20))\n",
    "\n",
    "# # plt.hist(data['te'])\n",
    "# plt.yscale('log')"
   ]
  },
  {
   "cell_type": "code",
   "execution_count": 10,
   "id": "aadfb8b8-7c54-4e17-8799-a59cbfb2a7b2",
   "metadata": {
    "tags": []
   },
   "outputs": [
    {
     "ename": "FileNotFoundError",
     "evalue": "[Errno 2] No such file or directory: '/home/anibal/Downloads/df_trilegal_parameters.csv'",
     "output_type": "error",
     "traceback": [
      "\u001b[0;31m---------------------------------------------------------------------------\u001b[0m",
      "\u001b[0;31mFileNotFoundError\u001b[0m                         Traceback (most recent call last)",
      "Cell \u001b[0;32mIn[10], line 2\u001b[0m\n\u001b[1;32m      1\u001b[0m \u001b[38;5;28;01mimport\u001b[39;00m \u001b[38;5;21;01mpandas\u001b[39;00m \u001b[38;5;28;01mas\u001b[39;00m \u001b[38;5;21;01mpd\u001b[39;00m\n\u001b[0;32m----> 2\u001b[0m data \u001b[38;5;241m=\u001b[39m pd\u001b[38;5;241m.\u001b[39mread_csv(\u001b[38;5;124m'\u001b[39m\u001b[38;5;124m/home/anibal/Downloads/df_trilegal_parameters.csv\u001b[39m\u001b[38;5;124m'\u001b[39m)\n\u001b[1;32m      3\u001b[0m data\u001b[38;5;241m.\u001b[39mhead()\n",
      "File \u001b[0;32m~/anaconda3/envs/pyLIMA/lib/python3.11/site-packages/pandas/io/parsers/readers.py:948\u001b[0m, in \u001b[0;36mread_csv\u001b[0;34m(filepath_or_buffer, sep, delimiter, header, names, index_col, usecols, dtype, engine, converters, true_values, false_values, skipinitialspace, skiprows, skipfooter, nrows, na_values, keep_default_na, na_filter, verbose, skip_blank_lines, parse_dates, infer_datetime_format, keep_date_col, date_parser, date_format, dayfirst, cache_dates, iterator, chunksize, compression, thousands, decimal, lineterminator, quotechar, quoting, doublequote, escapechar, comment, encoding, encoding_errors, dialect, on_bad_lines, delim_whitespace, low_memory, memory_map, float_precision, storage_options, dtype_backend)\u001b[0m\n\u001b[1;32m    935\u001b[0m kwds_defaults \u001b[38;5;241m=\u001b[39m _refine_defaults_read(\n\u001b[1;32m    936\u001b[0m     dialect,\n\u001b[1;32m    937\u001b[0m     delimiter,\n\u001b[0;32m   (...)\u001b[0m\n\u001b[1;32m    944\u001b[0m     dtype_backend\u001b[38;5;241m=\u001b[39mdtype_backend,\n\u001b[1;32m    945\u001b[0m )\n\u001b[1;32m    946\u001b[0m kwds\u001b[38;5;241m.\u001b[39mupdate(kwds_defaults)\n\u001b[0;32m--> 948\u001b[0m \u001b[38;5;28;01mreturn\u001b[39;00m _read(filepath_or_buffer, kwds)\n",
      "File \u001b[0;32m~/anaconda3/envs/pyLIMA/lib/python3.11/site-packages/pandas/io/parsers/readers.py:611\u001b[0m, in \u001b[0;36m_read\u001b[0;34m(filepath_or_buffer, kwds)\u001b[0m\n\u001b[1;32m    608\u001b[0m _validate_names(kwds\u001b[38;5;241m.\u001b[39mget(\u001b[38;5;124m\"\u001b[39m\u001b[38;5;124mnames\u001b[39m\u001b[38;5;124m\"\u001b[39m, \u001b[38;5;28;01mNone\u001b[39;00m))\n\u001b[1;32m    610\u001b[0m \u001b[38;5;66;03m# Create the parser.\u001b[39;00m\n\u001b[0;32m--> 611\u001b[0m parser \u001b[38;5;241m=\u001b[39m TextFileReader(filepath_or_buffer, \u001b[38;5;241m*\u001b[39m\u001b[38;5;241m*\u001b[39mkwds)\n\u001b[1;32m    613\u001b[0m \u001b[38;5;28;01mif\u001b[39;00m chunksize \u001b[38;5;129;01mor\u001b[39;00m iterator:\n\u001b[1;32m    614\u001b[0m     \u001b[38;5;28;01mreturn\u001b[39;00m parser\n",
      "File \u001b[0;32m~/anaconda3/envs/pyLIMA/lib/python3.11/site-packages/pandas/io/parsers/readers.py:1448\u001b[0m, in \u001b[0;36mTextFileReader.__init__\u001b[0;34m(self, f, engine, **kwds)\u001b[0m\n\u001b[1;32m   1445\u001b[0m     \u001b[38;5;28mself\u001b[39m\u001b[38;5;241m.\u001b[39moptions[\u001b[38;5;124m\"\u001b[39m\u001b[38;5;124mhas_index_names\u001b[39m\u001b[38;5;124m\"\u001b[39m] \u001b[38;5;241m=\u001b[39m kwds[\u001b[38;5;124m\"\u001b[39m\u001b[38;5;124mhas_index_names\u001b[39m\u001b[38;5;124m\"\u001b[39m]\n\u001b[1;32m   1447\u001b[0m \u001b[38;5;28mself\u001b[39m\u001b[38;5;241m.\u001b[39mhandles: IOHandles \u001b[38;5;241m|\u001b[39m \u001b[38;5;28;01mNone\u001b[39;00m \u001b[38;5;241m=\u001b[39m \u001b[38;5;28;01mNone\u001b[39;00m\n\u001b[0;32m-> 1448\u001b[0m \u001b[38;5;28mself\u001b[39m\u001b[38;5;241m.\u001b[39m_engine \u001b[38;5;241m=\u001b[39m \u001b[38;5;28mself\u001b[39m\u001b[38;5;241m.\u001b[39m_make_engine(f, \u001b[38;5;28mself\u001b[39m\u001b[38;5;241m.\u001b[39mengine)\n",
      "File \u001b[0;32m~/anaconda3/envs/pyLIMA/lib/python3.11/site-packages/pandas/io/parsers/readers.py:1705\u001b[0m, in \u001b[0;36mTextFileReader._make_engine\u001b[0;34m(self, f, engine)\u001b[0m\n\u001b[1;32m   1703\u001b[0m     \u001b[38;5;28;01mif\u001b[39;00m \u001b[38;5;124m\"\u001b[39m\u001b[38;5;124mb\u001b[39m\u001b[38;5;124m\"\u001b[39m \u001b[38;5;129;01mnot\u001b[39;00m \u001b[38;5;129;01min\u001b[39;00m mode:\n\u001b[1;32m   1704\u001b[0m         mode \u001b[38;5;241m+\u001b[39m\u001b[38;5;241m=\u001b[39m \u001b[38;5;124m\"\u001b[39m\u001b[38;5;124mb\u001b[39m\u001b[38;5;124m\"\u001b[39m\n\u001b[0;32m-> 1705\u001b[0m \u001b[38;5;28mself\u001b[39m\u001b[38;5;241m.\u001b[39mhandles \u001b[38;5;241m=\u001b[39m get_handle(\n\u001b[1;32m   1706\u001b[0m     f,\n\u001b[1;32m   1707\u001b[0m     mode,\n\u001b[1;32m   1708\u001b[0m     encoding\u001b[38;5;241m=\u001b[39m\u001b[38;5;28mself\u001b[39m\u001b[38;5;241m.\u001b[39moptions\u001b[38;5;241m.\u001b[39mget(\u001b[38;5;124m\"\u001b[39m\u001b[38;5;124mencoding\u001b[39m\u001b[38;5;124m\"\u001b[39m, \u001b[38;5;28;01mNone\u001b[39;00m),\n\u001b[1;32m   1709\u001b[0m     compression\u001b[38;5;241m=\u001b[39m\u001b[38;5;28mself\u001b[39m\u001b[38;5;241m.\u001b[39moptions\u001b[38;5;241m.\u001b[39mget(\u001b[38;5;124m\"\u001b[39m\u001b[38;5;124mcompression\u001b[39m\u001b[38;5;124m\"\u001b[39m, \u001b[38;5;28;01mNone\u001b[39;00m),\n\u001b[1;32m   1710\u001b[0m     memory_map\u001b[38;5;241m=\u001b[39m\u001b[38;5;28mself\u001b[39m\u001b[38;5;241m.\u001b[39moptions\u001b[38;5;241m.\u001b[39mget(\u001b[38;5;124m\"\u001b[39m\u001b[38;5;124mmemory_map\u001b[39m\u001b[38;5;124m\"\u001b[39m, \u001b[38;5;28;01mFalse\u001b[39;00m),\n\u001b[1;32m   1711\u001b[0m     is_text\u001b[38;5;241m=\u001b[39mis_text,\n\u001b[1;32m   1712\u001b[0m     errors\u001b[38;5;241m=\u001b[39m\u001b[38;5;28mself\u001b[39m\u001b[38;5;241m.\u001b[39moptions\u001b[38;5;241m.\u001b[39mget(\u001b[38;5;124m\"\u001b[39m\u001b[38;5;124mencoding_errors\u001b[39m\u001b[38;5;124m\"\u001b[39m, \u001b[38;5;124m\"\u001b[39m\u001b[38;5;124mstrict\u001b[39m\u001b[38;5;124m\"\u001b[39m),\n\u001b[1;32m   1713\u001b[0m     storage_options\u001b[38;5;241m=\u001b[39m\u001b[38;5;28mself\u001b[39m\u001b[38;5;241m.\u001b[39moptions\u001b[38;5;241m.\u001b[39mget(\u001b[38;5;124m\"\u001b[39m\u001b[38;5;124mstorage_options\u001b[39m\u001b[38;5;124m\"\u001b[39m, \u001b[38;5;28;01mNone\u001b[39;00m),\n\u001b[1;32m   1714\u001b[0m )\n\u001b[1;32m   1715\u001b[0m \u001b[38;5;28;01massert\u001b[39;00m \u001b[38;5;28mself\u001b[39m\u001b[38;5;241m.\u001b[39mhandles \u001b[38;5;129;01mis\u001b[39;00m \u001b[38;5;129;01mnot\u001b[39;00m \u001b[38;5;28;01mNone\u001b[39;00m\n\u001b[1;32m   1716\u001b[0m f \u001b[38;5;241m=\u001b[39m \u001b[38;5;28mself\u001b[39m\u001b[38;5;241m.\u001b[39mhandles\u001b[38;5;241m.\u001b[39mhandle\n",
      "File \u001b[0;32m~/anaconda3/envs/pyLIMA/lib/python3.11/site-packages/pandas/io/common.py:863\u001b[0m, in \u001b[0;36mget_handle\u001b[0;34m(path_or_buf, mode, encoding, compression, memory_map, is_text, errors, storage_options)\u001b[0m\n\u001b[1;32m    858\u001b[0m \u001b[38;5;28;01melif\u001b[39;00m \u001b[38;5;28misinstance\u001b[39m(handle, \u001b[38;5;28mstr\u001b[39m):\n\u001b[1;32m    859\u001b[0m     \u001b[38;5;66;03m# Check whether the filename is to be opened in binary mode.\u001b[39;00m\n\u001b[1;32m    860\u001b[0m     \u001b[38;5;66;03m# Binary mode does not support 'encoding' and 'newline'.\u001b[39;00m\n\u001b[1;32m    861\u001b[0m     \u001b[38;5;28;01mif\u001b[39;00m ioargs\u001b[38;5;241m.\u001b[39mencoding \u001b[38;5;129;01mand\u001b[39;00m \u001b[38;5;124m\"\u001b[39m\u001b[38;5;124mb\u001b[39m\u001b[38;5;124m\"\u001b[39m \u001b[38;5;129;01mnot\u001b[39;00m \u001b[38;5;129;01min\u001b[39;00m ioargs\u001b[38;5;241m.\u001b[39mmode:\n\u001b[1;32m    862\u001b[0m         \u001b[38;5;66;03m# Encoding\u001b[39;00m\n\u001b[0;32m--> 863\u001b[0m         handle \u001b[38;5;241m=\u001b[39m \u001b[38;5;28mopen\u001b[39m(\n\u001b[1;32m    864\u001b[0m             handle,\n\u001b[1;32m    865\u001b[0m             ioargs\u001b[38;5;241m.\u001b[39mmode,\n\u001b[1;32m    866\u001b[0m             encoding\u001b[38;5;241m=\u001b[39mioargs\u001b[38;5;241m.\u001b[39mencoding,\n\u001b[1;32m    867\u001b[0m             errors\u001b[38;5;241m=\u001b[39merrors,\n\u001b[1;32m    868\u001b[0m             newline\u001b[38;5;241m=\u001b[39m\u001b[38;5;124m\"\u001b[39m\u001b[38;5;124m\"\u001b[39m,\n\u001b[1;32m    869\u001b[0m         )\n\u001b[1;32m    870\u001b[0m     \u001b[38;5;28;01melse\u001b[39;00m:\n\u001b[1;32m    871\u001b[0m         \u001b[38;5;66;03m# Binary mode\u001b[39;00m\n\u001b[1;32m    872\u001b[0m         handle \u001b[38;5;241m=\u001b[39m \u001b[38;5;28mopen\u001b[39m(handle, ioargs\u001b[38;5;241m.\u001b[39mmode)\n",
      "\u001b[0;31mFileNotFoundError\u001b[0m: [Errno 2] No such file or directory: '/home/anibal/Downloads/df_trilegal_parameters.csv'"
     ]
    }
   ],
   "source": [
    "import pandas as pd\n",
    "data = pd.read_csv('/home/anibal/Downloads/df_trilegal_parameters.csv')\n",
    "data.head()\n",
    "# print(len(data))"
   ]
  },
  {
   "cell_type": "code",
   "execution_count": null,
   "id": "08ce529f-e542-4c19-bfd6-e72ef128bece",
   "metadata": {
    "tags": []
   },
   "outputs": [],
   "source": [
    "len(data['rho'][(data['rho']<1*data['u0'])&(data['rho']>0.1*data['u0'])])"
   ]
  },
  {
   "cell_type": "code",
   "execution_count": null,
   "id": "fc7e0a54-3f9e-441c-ad23-de847f05d651",
   "metadata": {
    "tags": []
   },
   "outputs": [],
   "source": []
  },
  {
   "cell_type": "code",
   "execution_count": null,
   "id": "ab3be015-6c60-4622-8af9-76351020f718",
   "metadata": {
    "tags": []
   },
   "outputs": [],
   "source": [
    "# np.logspace(-3,1,4)\n",
    "plt.hist2d(data['te'][(data['rho']<1*data['u0'])&(data['rho']>0.1*data['u0'])],np.sqrt(data['piEE'][(data['rho']<1*data['u0'])&(data['rho']>0.1*data['u0'])]**2+data['piEE'][(data['rho']<1*data['u0'])&(data['rho']>0.1*data['u0'])]**2),bins=(np.logspace(-2,1.5,20),np.logspace(-2,1.5,20)),cmap=plt.cm.BuPu)\n",
    "plt.yscale('log')\n",
    "plt.xscale('log')\n",
    "plt.xlabel(r'$t_E \\ [days]$', fontsize=20)\n",
    "plt.ylabel(r'$\\pi_E$', fontsize=20)\n",
    "plt.colorbar()\n",
    "plt.show()"
   ]
  },
  {
   "cell_type": "code",
   "execution_count": null,
   "id": "cc0c25f2-451a-4812-9e36-dbbd6e914ff8",
   "metadata": {
    "tags": []
   },
   "outputs": [],
   "source": [
    "# plt.hist()data['rho'][(data['rho']<1*data['u0'])&(data['rho']>0.1*data['u0'])]"
   ]
  },
  {
   "cell_type": "code",
   "execution_count": null,
   "id": "1cd69be1-2b36-4c8b-902f-553f152e9ab7",
   "metadata": {
    "tags": []
   },
   "outputs": [],
   "source": [
    "# print(len(data['rho'][(data['rho']<1*data['u0'])&(data['rho']>0.1*data['u0'])]))\n",
    "plt.hist2d(data['u0'][(data['rho']<1*data['u0'])&(data['rho']>0.1*data['u0'])], data['rho'][(data['rho']<1*data['u0'])&(data['rho']>0.1*data['u0'])],\n",
    "           bins=(np.logspace(-3,1,20),np.logspace(-3,0.6,20)),cmap=plt.cm.BuPu)\n",
    "plt.yscale('log')\n",
    "plt.xscale('log')\n",
    "plt.xlabel(r'$\\rho$', fontsize=20)\n",
    "plt.ylabel(r'$u_0$', fontsize=20)\n",
    "plt.xticks(fontsize=12)\n",
    "plt.yticks(fontsize=12)\n",
    "plt.colorbar()\n",
    "plt.show()"
   ]
  },
  {
   "cell_type": "code",
   "execution_count": null,
   "id": "f7863216-9442-4491-8e18-83abf451d653",
   "metadata": {
    "tags": []
   },
   "outputs": [],
   "source": [
    "import matplotlib.pyplot as plt\n",
    "import numpy as np\n",
    "\n",
    "# Filter out non-finite values from data['rho']\n",
    "valid_rho = data[np.isfinite(data['rho'])]\n",
    "# display(valid_rho['u0'])\n",
    "# # Filter out NaN values from data['u0']\n",
    "# valid_u0 = data['u0'].dropna()\n",
    "\n",
    "# # Filter out values greater than u0\n",
    "# valid_rho = valid_rho[valid_rho > valid_u0.values]\n",
    "\n",
    "# # Plot the histogram\n",
    "# print(len(valid_rho['rho'][valid_rho['rho']>valid_rho['u0']]))\n",
    "# print(len(valid_rho['rho'][(valid_rho['rho']<100*valid_rho['u0'])&(valid_rho['rho']>0.1*valid_rho['u0'])])*100/len(valid_rho))\n",
    "# print(len(valid_rho['rho'][valid_rho['rho']<100*valid_rho['u0']])*100/len(valid_rho))\n",
    "print(len(valid_rho['rho'][(valid_rho['rho']<100*valid_rho['u0'])&(valid_rho['rho']>0.1*valid_rho['u0'])]))\n",
    "print('FSPL cases',len(valid_rho['rho'][(valid_rho['rho']<100*valid_rho['u0'])&(valid_rho['rho']>0.1*valid_rho['u0'])])*100/len(valid_rho['rho']))\n",
    "# plt.hist(valid_rho['rho'][(valid_rho['rho']<100*valid_rho['u0'])&(valid_rho['rho']>0.1*valid_rho['u0'])], bins=np.arange(0,0.5,0.01))\n",
    "# plt.hist(valid_rho['u0'][(valid_rho['rho']<100*valid_rho['u0'])&(valid_rho['rho']>0.1*valid_rho['u0'])], bins=np.arange(0,3.5,0.5))\n",
    "plt.hist(valid_rho['rho'][(valid_rho['rho']<100*valid_rho['u0'])&(valid_rho['rho']>0.1*valid_rho['u0'])], bins=np.arange(0,5,0.5))\n",
    "plt.yscale('log')\n",
    "plt.show()\n",
    "\n"
   ]
  },
  {
   "cell_type": "code",
   "execution_count": null,
   "id": "92fef403-18ad-4b62-b855-5f234de71fd9",
   "metadata": {
    "tags": []
   },
   "outputs": [],
   "source": [
    "fs_effects = valid_rho[(valid_rho['rho']<1*valid_rho['u0'])&(valid_rho['rho']>0.1*valid_rho['u0'])]\n",
    "print(len(fs_effects))"
   ]
  },
  {
   "cell_type": "code",
   "execution_count": null,
   "id": "acf53086-8982-41ba-921d-e188af2e4c97",
   "metadata": {
    "tags": []
   },
   "outputs": [],
   "source": [
    "# data_params = data[['u', 'g' ,'r' ,'i' ,'z', 'Y', 'W149',\t't0',\t'te',\t'u0',\t'rho',\t'piEE', 'piEN']]"
   ]
  },
  {
   "cell_type": "code",
   "execution_count": null,
   "id": "df6b1219-8ea9-41de-959f-688988620b67",
   "metadata": {
    "tags": []
   },
   "outputs": [],
   "source": [
    "fs_effects.to_csv('/home/anibal/Downloads/parameters_fs_effect.csv', index=False)"
   ]
  },
  {
   "cell_type": "code",
   "execution_count": null,
   "id": "019d808a-8a9c-4b53-9a24-5db4a8949e7a",
   "metadata": {
    "tags": []
   },
   "outputs": [],
   "source": [
    "# import pandas as pd\n",
    "# data_nueva = pd.read_csv('/home/anibal/Downloads/parameters_ffp.csv',sep=',', decimal='.', header=[0])\n",
    "# data_nueva"
   ]
  },
  {
   "cell_type": "code",
   "execution_count": null,
   "id": "55fb2e9e-c939-4078-8638-6b6328baf3c6",
   "metadata": {
    "tags": []
   },
   "outputs": [],
   "source": [
    "# print(844037*8)\n",
    "# print(len(data_nueva))"
   ]
  },
  {
   "cell_type": "code",
   "execution_count": null,
   "id": "0d46a7a9-f70f-4b56-a4ac-0667ec53006c",
   "metadata": {
    "tags": []
   },
   "outputs": [],
   "source": [
    "# data_nueva.iloc[106]\n",
    "# import pandas as pd\n",
    "# import numpy as np\n",
    "# Create a sample DataFrame (replace this with your actual DataFrame)\n",
    "# data = {'Column1': range(100), 'Column2': range(100, 200)}\n",
    "# df = pd.DataFrame(data_nueva)\n",
    "# Split the DataFrame into 8 pieces\n",
    "# num_splits = 8\n",
    "# df_splits = np.array_split(data, num_splits)\n",
    "# # Access each split DataFrame\n",
    "# for i, df_split in enumerate(df_splits):\n",
    "#     csv_filename = f'/home/anibal/Downloads/parameters_split_{i + 1}.csv'\n",
    "#     df_split.to_csv(csv_filename, index=False)\n",
    "#     print(f\"Split {i + 1} saved to {csv_filename}\")"
   ]
  },
  {
   "cell_type": "code",
   "execution_count": 14,
   "id": "dee85d58-cec2-496b-affb-81eab5fa9b25",
   "metadata": {
    "tags": []
   },
   "outputs": [
    {
     "data": {
      "text/plain": [
       "4382.0"
      ]
     },
     "execution_count": 14,
     "metadata": {},
     "output_type": "execute_result"
    }
   ],
   "source": [
    "len(data)/4"
   ]
  },
  {
   "cell_type": "code",
   "execution_count": 15,
   "id": "caf89edd-1c03-43ab-9d91-e430a775e68c",
   "metadata": {
    "tags": []
   },
   "outputs": [
    {
     "name": "stdout",
     "output_type": "stream",
     "text": [
      "Split 1 saved to /home/anibal/results_roman_rubin/FFP_uni_split_1.csv\n",
      "Split 2 saved to /home/anibal/results_roman_rubin/FFP_uni_split_2.csv\n",
      "Split 3 saved to /home/anibal/results_roman_rubin/FFP_uni_split_3.csv\n",
      "Split 4 saved to /home/anibal/results_roman_rubin/FFP_uni_split_4.csv\n"
     ]
    }
   ],
   "source": [
    "import pandas as pd\n",
    "# Calculate the number of rows in each split\n",
    "rows_per_split = 4382\n",
    "num_splits = len(data) // rows_per_split\n",
    "# Split the DataFrame into 8 pieces with approximately 5000 rows each\n",
    "df_splits = [data.iloc[i * rows_per_split:(i + 1) * rows_per_split] for i in range(num_splits)]\n",
    "# Save each split DataFrame to a CSV file\n",
    "j = 0\n",
    "for i, df_split in enumerate(df_splits):\n",
    "    csv_filename = f'/home/anibal/results_roman_rubin/FFP_uni_split_{i + 1}.csv'\n",
    "    df_split.to_csv(csv_filename, index=False)\n",
    "    print(f\"Split {i + 1} saved to {csv_filename}\")\n",
    "    j = j+1\n",
    "    if j>8:\n",
    "        break"
   ]
  },
  {
   "cell_type": "code",
   "execution_count": null,
   "id": "e210760c-2d2d-403f-8b88-0cb87204b0c4",
   "metadata": {
    "tags": []
   },
   "outputs": [],
   "source": [
    "split_data = pd.read_csv('/home/anibal/results_roman_rubin/split_2.csv', sep=',', decimal='.')\n",
    "display(split_data)\n",
    "plt.hist(split_data['u0'])"
   ]
  },
  {
   "cell_type": "code",
   "execution_count": null,
   "id": "e692bff1-5274-4f85-be44-365a48af0dba",
   "metadata": {
    "tags": []
   },
   "outputs": [],
   "source": [
    "data[['D_L']].iloc[2]/1000\n",
    "data[['D_S']].iloc[2]/1000"
   ]
  },
  {
   "cell_type": "code",
   "execution_count": null,
   "id": "fb3c9ba7-77d6-4ef9-9a72-d19283108180",
   "metadata": {
    "tags": []
   },
   "outputs": [],
   "source": [
    "# type(300 * u.M_earth.to('M_sun'))"
   ]
  },
  {
   "cell_type": "code",
   "execution_count": null,
   "id": "625bd313-3dca-4b4f-b1f5-cb149af36687",
   "metadata": {},
   "outputs": [],
   "source": [
    "# ml = np.random.uniform(1 * u.M_earth.to('M_sun'), 13 * u.M_jup.to('M_sun'))\n",
    "# ml = ml*u.M_sun\n",
    "j=108\n",
    "ml = 300 * u.M_earth.to('M_sun')*u.M_sun\n",
    "# print(ml.to('M_earth'))\n",
    "DS = ((data[['D_S']].iloc[j]/1000).values)*u.kpc#(data.iloc[i]['D_S'] * u.pc).to('kpc')\n",
    "DL = ((data[['D_L']].iloc[j]/1000).values)*u.kpc#(data.iloc[i]['D_L'] * u.pc).to('kpc')\n",
    "c = const.c\n",
    "G = const.G\n",
    "yr2day = 365.25\n",
    "pi_rel = ((1 / DL) - (1 / DS))\n",
    "k = 4 * G / (c ** 2)\n",
    "aconv = (180 * 60 * 60 * 1000) / math.pi\n",
    "theta_E = (np.sqrt(k * pi_rel * ml))*u.rad.to('uas')#aconv*1000#u.rad.to('mas')\n",
    "print(theta_E.decompose())"
   ]
  },
  {
   "cell_type": "code",
   "execution_count": null,
   "id": "a4af5ae1-99ab-48c6-a3c7-30bf711e3429",
   "metadata": {
    "tags": []
   },
   "outputs": [],
   "source": [
    "data = pd.read_csv('/home/anibal/Downloads/parameters_fs_effect.csv')"
   ]
  },
  {
   "cell_type": "code",
   "execution_count": null,
   "id": "556011c9-af2f-46b8-94b1-a01094b36e68",
   "metadata": {
    "tags": []
   },
   "outputs": [],
   "source": [
    "len(data[(data['rho']>0.1*data['u0'])&(data['rho']<100*data['u0'])])\n",
    "len(data)"
   ]
  },
  {
   "cell_type": "code",
   "execution_count": null,
   "id": "91668a86-7f28-4de0-b9ae-2b7d3aa8c0ac",
   "metadata": {
    "tags": []
   },
   "outputs": [],
   "source": [
    "for i in range(8):\n",
    "    csv_filename = f'/home/anibal/results_roman_rubin/FFP_fs_split_{i + 1}.csv'\n",
    "    data = pd.read_csv(csv_filename)\n",
    "    print(len(data[(data['rho']>0.1*data['u0'])&(data['rho']<100*data['u0'])]))"
   ]
  },
  {
   "cell_type": "code",
   "execution_count": null,
   "id": "4b167499-f19a-4ec4-8cbc-897163a75a0e",
   "metadata": {
    "tags": []
   },
   "outputs": [],
   "source": [
    "a = 0\n",
    "for i in range(1,9):\n",
    "    data = pd.read_csv(f'/home/anibal/results_roman_rubin/FFP_fs_split_{i}.csv')\n",
    "    a += len(data['rho'][data['rho']>1])\n",
    "print(a)"
   ]
  },
  {
   "cell_type": "code",
   "execution_count": null,
   "id": "ac200f25-cc8b-4724-af9c-00100a6f967a",
   "metadata": {},
   "outputs": [],
   "source": []
  },
  {
   "cell_type": "code",
   "execution_count": null,
   "id": "bc3da64a-005f-4986-b56c-6f32b01293b4",
   "metadata": {},
   "outputs": [],
   "source": []
  },
  {
   "cell_type": "code",
   "execution_count": null,
   "id": "21cf6489-119d-454e-bd3b-28e9045adf47",
   "metadata": {},
   "outputs": [],
   "source": []
  }
 ],
 "metadata": {
  "kernelspec": {
   "display_name": "Python 3 (ipykernel)",
   "language": "python",
   "name": "python3"
  },
  "language_info": {
   "codemirror_mode": {
    "name": "ipython",
    "version": 3
   },
   "file_extension": ".py",
   "mimetype": "text/x-python",
   "name": "python",
   "nbconvert_exporter": "python",
   "pygments_lexer": "ipython3",
   "version": "3.12.4"
  }
 },
 "nbformat": 4,
 "nbformat_minor": 5
}
