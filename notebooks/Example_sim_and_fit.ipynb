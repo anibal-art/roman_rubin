{
 "cells": [
  {
   "cell_type": "code",
   "execution_count": 1,
   "id": "1fc7148b-6a47-4a6b-87a9-1f9f087146e2",
   "metadata": {
    "tags": []
   },
   "outputs": [
    {
     "name": "stdout",
     "output_type": "stream",
     "text": [
      "/home/anibal/roman_rubin\n"
     ]
    }
   ],
   "source": [
    "import os, sys\n",
    "import numpy as np\n",
    "import matplotlib.pyplot as plt\n",
    "from pyLIMA.outputs import pyLIMA_plots\n",
    "from cycler import cycler\n",
    "import pandas as pd\n",
    "sys.path.append(os.path.dirname(os.getcwd()))\n",
    "from functions_roman_rubin import sim_fit,sim_event\n",
    "from functions_roman_rubin import model_rubin_roman, fit_rubin_roman\n",
    "from functions_roman_rubin import read_data, save\n"
   ]
  },
  {
   "cell_type": "code",
   "execution_count": 2,
   "id": "2a7d6777-6d32-4e8a-8670-7031cb9c6a6f",
   "metadata": {},
   "outputs": [],
   "source": [
    "current_path = os.path.dirname(os.getcwd())\n",
    "# print(current_path)\n",
    "i=18 #select one event by its index in the TRILEGAL set\n",
    "model='USBL'\n",
    "\n",
    "path_TRILEGAL_set= current_path+'/TRILEGAL/PB_planet_split_1.csv'\n",
    "path_to_save_model= current_path+'/test_sim_fit/'\n",
    "path_to_save_fit= current_path+'/test_sim_fit/'\n",
    "path_ephemerides= current_path+'/ephemerides/Gaia.txt'\n",
    "path_dataslice = current_path+'/opsims/baseline/dataSlice.npy'\n",
    "path_fit_rr = path_to_save_fit+f'/Event_RR_{i}_TRF.npy'\n",
    "path_fit_roman =  path_to_save_fit+f'/Event_Roman_{i}_TRF.npy'\n",
    "ZP = {'W149':27.615, 'u':27.03, 'g':28.38, 'r':28.16,\n",
    "          'i':27.85, 'z':27.46, 'y':26.68}\n",
    "colorbands={'W149':'b', 'u':'purple', 'g':'g', 'r':'red',\n",
    "          'i':'yellow', 'z':'k', 'y':'cyan'}"
   ]
  },
  {
   "cell_type": "markdown",
   "id": "9b19c817-9608-42af-a706-d3412324b464",
   "metadata": {},
   "source": [
    "### The event that we want to simulate have the following parameters"
   ]
  },
  {
   "cell_type": "code",
   "execution_count": 3,
   "id": "40d72e89-5a1c-46e7-b778-94d4d732ba70",
   "metadata": {},
   "outputs": [
    {
     "name": "stdout",
     "output_type": "stream",
     "text": [
      "u                                  24.853\n",
      "g                                   22.55\n",
      "r                                  21.529\n",
      "i                                  21.133\n",
      "z                                  20.945\n",
      "Y                                  20.828\n",
      "W149                              20.8178\n",
      "radius                           0.513042\n",
      "D_S                                  5156\n",
      "D_L                                  2817\n",
      "mu_rel                           5.147491\n",
      "m_planet    9.462530108421484 jupiterMass\n",
      "m_star          18.65259824621826 solMass\n",
      "t0                         2462592.427461\n",
      "te                             351.034363\n",
      "u0                               0.147437\n",
      "rho                              0.000094\n",
      "piEE                            -0.032015\n",
      "piEN                             0.005886\n",
      "s                                 1.14786\n",
      "q                                0.000484\n",
      "alpha                            2.170221\n",
      "Name: 18, dtype: object\n"
     ]
    }
   ],
   "source": [
    "pd_planets = pd.read_csv(path_TRILEGAL_set)\n",
    "event_params = pd_planets.iloc[int(i)]\n",
    "print(event_params)\n"
   ]
  },
  {
   "cell_type": "markdown",
   "id": "82e16c10-c2ac-4db3-859a-41f5ae527065",
   "metadata": {},
   "source": [
    "## First we simulate the event \n",
    "The relevant code for this is the function sim_event(i, event_params, path_ephemerides, path_dataslice, model).\n",
    "\n",
    "The output:\n",
    "\n",
    "model(eg: pyLIMA.models.USBL_model.USBLmodel): the light curves, telescope name, etc.  \n",
    "pyLIMA_parameters (dictionary): PyLIMA parameters.\n",
    "decision (boolean): is made based on the detection criteria. This boolean is True if the event is a suitable candidate for fitting."
   ]
  },
  {
   "cell_type": "code",
   "execution_count": 4,
   "id": "0d7e8844-e27d-477f-893f-9d709fe5dcc6",
   "metadata": {},
   "outputs": [
    {
     "name": "stdout",
     "output_type": "stream",
     "text": [
      "/home/anibal/roman_rubin\n"
     ]
    },
    {
     "name": "stderr",
     "output_type": "stream",
     "text": [
      "/home/anibal/anaconda3/envs/pyLIMA/lib/python3.9/site-packages/erfa/core.py:133: ErfaWarning: ERFA function \"dtf2d\" yielded 1 of \"dubious year (Note 6)\"\n",
      "  warn(f'ERFA function \"{func_name}\" yielded {wmsg}', ErfaWarning)\n",
      "/home/anibal/anaconda3/envs/pyLIMA/lib/python3.9/site-packages/erfa/core.py:133: ErfaWarning: ERFA function \"utctai\" yielded 20736 of \"dubious year (Note 3)\"\n",
      "  warn(f'ERFA function \"{func_name}\" yielded {wmsg}', ErfaWarning)\n",
      "/home/anibal/anaconda3/envs/pyLIMA/lib/python3.9/site-packages/erfa/core.py:133: ErfaWarning: ERFA function \"taiutc\" yielded 20736 of \"dubious year (Note 4)\"\n",
      "  warn(f'ERFA function \"{func_name}\" yielded {wmsg}', ErfaWarning)\n",
      "/home/anibal/anaconda3/envs/pyLIMA/lib/python3.9/site-packages/erfa/core.py:133: ErfaWarning: ERFA function \"utctai\" yielded 1 of \"dubious year (Note 3)\"\n",
      "  warn(f'ERFA function \"{func_name}\" yielded {wmsg}', ErfaWarning)\n",
      "/home/anibal/anaconda3/envs/pyLIMA/lib/python3.9/site-packages/erfa/core.py:133: ErfaWarning: ERFA function \"taiutc\" yielded 1 of \"dubious year (Note 4)\"\n",
      "  warn(f'ERFA function \"{func_name}\" yielded {wmsg}', ErfaWarning)\n",
      "/home/anibal/anaconda3/envs/pyLIMA/lib/python3.9/site-packages/erfa/core.py:133: ErfaWarning: ERFA function \"utctai\" yielded 12 of \"dubious year (Note 3)\"\n",
      "  warn(f'ERFA function \"{func_name}\" yielded {wmsg}', ErfaWarning)\n",
      "/home/anibal/anaconda3/envs/pyLIMA/lib/python3.9/site-packages/erfa/core.py:133: ErfaWarning: ERFA function \"taiutc\" yielded 12 of \"dubious year (Note 4)\"\n",
      "  warn(f'ERFA function \"{func_name}\" yielded {wmsg}', ErfaWarning)\n"
     ]
    },
    {
     "name": "stdout",
     "output_type": "stream",
     "text": [
      "Parallax(Full) estimated for the telescope W149: SUCCESS\n"
     ]
    },
    {
     "name": "stderr",
     "output_type": "stream",
     "text": [
      "/home/anibal/anaconda3/envs/pyLIMA/lib/python3.9/site-packages/erfa/core.py:133: ErfaWarning: ERFA function \"utcut1\" yielded 12 of \"dubious year (Note 3)\"\n",
      "  warn(f'ERFA function \"{func_name}\" yielded {wmsg}', ErfaWarning)\n",
      "/home/anibal/anaconda3/envs/pyLIMA/lib/python3.9/site-packages/erfa/core.py:133: ErfaWarning: ERFA function \"utctai\" yielded 96 of \"dubious year (Note 3)\"\n",
      "  warn(f'ERFA function \"{func_name}\" yielded {wmsg}', ErfaWarning)\n",
      "/home/anibal/anaconda3/envs/pyLIMA/lib/python3.9/site-packages/erfa/core.py:133: ErfaWarning: ERFA function \"taiutc\" yielded 96 of \"dubious year (Note 4)\"\n",
      "  warn(f'ERFA function \"{func_name}\" yielded {wmsg}', ErfaWarning)\n",
      "/home/anibal/anaconda3/envs/pyLIMA/lib/python3.9/site-packages/erfa/core.py:133: ErfaWarning: ERFA function \"utcut1\" yielded 96 of \"dubious year (Note 3)\"\n",
      "  warn(f'ERFA function \"{func_name}\" yielded {wmsg}', ErfaWarning)\n",
      "/home/anibal/anaconda3/envs/pyLIMA/lib/python3.9/site-packages/erfa/core.py:133: ErfaWarning: ERFA function \"utctai\" yielded 86 of \"dubious year (Note 3)\"\n",
      "  warn(f'ERFA function \"{func_name}\" yielded {wmsg}', ErfaWarning)\n",
      "/home/anibal/anaconda3/envs/pyLIMA/lib/python3.9/site-packages/erfa/core.py:133: ErfaWarning: ERFA function \"taiutc\" yielded 86 of \"dubious year (Note 4)\"\n",
      "  warn(f'ERFA function \"{func_name}\" yielded {wmsg}', ErfaWarning)\n",
      "/home/anibal/anaconda3/envs/pyLIMA/lib/python3.9/site-packages/erfa/core.py:133: ErfaWarning: ERFA function \"utcut1\" yielded 86 of \"dubious year (Note 3)\"\n",
      "  warn(f'ERFA function \"{func_name}\" yielded {wmsg}', ErfaWarning)\n",
      "/home/anibal/anaconda3/envs/pyLIMA/lib/python3.9/site-packages/erfa/core.py:133: ErfaWarning: ERFA function \"utctai\" yielded 87 of \"dubious year (Note 3)\"\n",
      "  warn(f'ERFA function \"{func_name}\" yielded {wmsg}', ErfaWarning)\n",
      "/home/anibal/anaconda3/envs/pyLIMA/lib/python3.9/site-packages/erfa/core.py:133: ErfaWarning: ERFA function \"taiutc\" yielded 87 of \"dubious year (Note 4)\"\n",
      "  warn(f'ERFA function \"{func_name}\" yielded {wmsg}', ErfaWarning)\n",
      "/home/anibal/anaconda3/envs/pyLIMA/lib/python3.9/site-packages/erfa/core.py:133: ErfaWarning: ERFA function \"utcut1\" yielded 87 of \"dubious year (Note 3)\"\n",
      "  warn(f'ERFA function \"{func_name}\" yielded {wmsg}', ErfaWarning)\n",
      "/home/anibal/anaconda3/envs/pyLIMA/lib/python3.9/site-packages/erfa/core.py:133: ErfaWarning: ERFA function \"utctai\" yielded 25 of \"dubious year (Note 3)\"\n",
      "  warn(f'ERFA function \"{func_name}\" yielded {wmsg}', ErfaWarning)\n",
      "/home/anibal/anaconda3/envs/pyLIMA/lib/python3.9/site-packages/erfa/core.py:133: ErfaWarning: ERFA function \"taiutc\" yielded 25 of \"dubious year (Note 4)\"\n",
      "  warn(f'ERFA function \"{func_name}\" yielded {wmsg}', ErfaWarning)\n",
      "/home/anibal/anaconda3/envs/pyLIMA/lib/python3.9/site-packages/erfa/core.py:133: ErfaWarning: ERFA function \"utcut1\" yielded 25 of \"dubious year (Note 3)\"\n",
      "  warn(f'ERFA function \"{func_name}\" yielded {wmsg}', ErfaWarning)\n"
     ]
    },
    {
     "name": "stdout",
     "output_type": "stream",
     "text": [
      "Parallax(Full) estimated for the telescope u: SUCCESS\n",
      "Parallax(Full) estimated for the telescope g: SUCCESS\n",
      "Parallax(Full) estimated for the telescope r: SUCCESS\n",
      "Parallax(Full) estimated for the telescope i: SUCCESS\n",
      "Parallax(Full) estimated for the telescope z: SUCCESS\n",
      "Parallax(Full) estimated for the telescope y: SUCCESS\n",
      "['third_caustic', [0, 0]]\n",
      "A good event to fit\n"
     ]
    }
   ],
   "source": [
    "my_own_model, pyLIMA_parameters, decision = sim_event(i, event_params, path_ephemerides, path_dataslice,model)"
   ]
  },
  {
   "cell_type": "code",
   "execution_count": 5,
   "id": "cce04624-b600-4825-b9f6-0872866556b5",
   "metadata": {},
   "outputs": [
    {
     "name": "stdout",
     "output_type": "stream",
     "text": [
      "if the criterias are satisfied by this event we obtain \"True\": True\n"
     ]
    }
   ],
   "source": [
    "print('if the criterias are satisfied by this event we obtain \"True\":', decision)"
   ]
  },
  {
   "cell_type": "code",
   "execution_count": 6,
   "id": "d8c04a7b-a7a8-47b6-9e45-32ac7f49c46d",
   "metadata": {},
   "outputs": [
    {
     "name": "stdout",
     "output_type": "stream",
     "text": [
      "Save the simulated event\n",
      "Saving...\n",
      "File saved: /home/anibal/roman_rubin/test_sim_fit/Event_18.h5\n"
     ]
    }
   ],
   "source": [
    "if decision:\n",
    "    print(\"Save the simulated event\")\n",
    "    save(i, path_TRILEGAL_set, path_to_save_model, my_own_model, pyLIMA_parameters)"
   ]
  },
  {
   "cell_type": "code",
   "execution_count": 7,
   "id": "70340882-839e-4c0a-a645-3db67b33d1f8",
   "metadata": {},
   "outputs": [
    {
     "data": {
      "text/plain": [
       "2462592.427461098"
      ]
     },
     "execution_count": 7,
     "metadata": {},
     "output_type": "execute_result"
    }
   ],
   "source": [
    "pyLIMA_parameters['t_center']"
   ]
  },
  {
   "cell_type": "code",
   "execution_count": null,
   "id": "928451e1-2f8d-44d6-9cf3-f1b552cfc9fb",
   "metadata": {},
   "outputs": [],
   "source": []
  },
  {
   "cell_type": "code",
   "execution_count": 8,
   "id": "685894d0-fd58-49e1-a863-d888a8f72524",
   "metadata": {},
   "outputs": [],
   "source": [
    "# for i in range(5):\n",
    "#     if len(my_own_model.event.telescopes[i].lightcurve_magnitude['time'])!=0:\n",
    "#         plt.plot(my_own_model.event.telescopes[i].lightcurve_magnitude['time'],my_own_model.model_magnification(my_own_model.event.telescopes[i], pyLIMA_parameters),marker='o',ls='')\n",
    "#         # plt.plot(my_perfect_model.event.telescopes[0].lightcurve_magnitude['time'],my_perfect_model.model_magnification(my_perfect_model.event.telescopes[0], pyLIMA_params),marker='',ls='-',color='red')\n",
    "\n",
    "# plt.xlabel('MJD')\n",
    "# plt.ylabel('Magnification')\n",
    "# plt.show()"
   ]
  },
  {
   "cell_type": "code",
   "execution_count": 9,
   "id": "27d80957-3d72-4491-9558-19821dffd65e",
   "metadata": {
    "scrolled": true
   },
   "outputs": [
    {
     "data": {
      "image/png": "[encoded data removed]",
      "text/plain": [
       "<Figure size 640x480 with 1 Axes>"
      ]
     },
     "metadata": {},
     "output_type": "display_data"
    }
   ],
   "source": [
    "#plot without alignment\n",
    "\n",
    "telescopes = my_own_model.event.telescopes\n",
    "\n",
    "for telo in telescopes:\n",
    "    plt.errorbar(telo.lightcurve_magnitude['time'],telo.lightcurve_magnitude['mag'],telo.lightcurve_magnitude['err_mag'],ls='',marker='.',capsize=2,label=telo.name)\n",
    "\n",
    "plt.xlabel('Time')\n",
    "plt.ylabel('Magnitude')\n",
    "plt.legend(loc=(1,0))\n",
    "plt.gca().invert_yaxis()\n",
    "plt.show()\n"
   ]
  },
  {
   "cell_type": "markdown",
   "id": "d4410711-9f85-4402-a8c3-922b30ca33e1",
   "metadata": {},
   "source": [
    "## Plot this event with pyLIMA\n",
    "\n",
    "We can use the functionality of pyLIMA to make plot with aligned data in order to see the peak asociated to a planet of this particular event\n",
    "\n",
    "Comment on pyLIMA:\n",
    "\n",
    "To plot these events, since in our model we use the positions of Gaia with a shift in time,\n",
    "it is necessary to modify the pyLIMA code as follows:\n",
    "\n",
    " In /pyLIMA/toolbox/fake_telescopes.py, we must add 'spacecraft_positions' to the list\n",
    " in the function:\n",
    "\n",
    " replicate_a_telescope(microlensing_model, telescope_index, light_curve_time=None,\n",
    "                        astrometry_curve_time=None):\n",
    "\n",
    " attributes_to_copy = ['name', 'filter', 'location', 'ld_gamma', 'ld_sigma', 'ld_a1',\n",
    "                       'ld_a2', 'ld_gamma1', 'ld_gamma2', 'location', 'spacecraft_name',\n",
    "                       'spacecraft_positions', 'pixel_scale']\n",
    "\n"
   ]
  },
  {
   "cell_type": "code",
   "execution_count": 10,
   "id": "94f116cf-7721-41d3-91d9-fadf957f2373",
   "metadata": {},
   "outputs": [],
   "source": [
    "info_dataset, pyLIMA_parameters, bands = read_data(path_to_save_model+'/Event_18.h5')\n",
    "ulens_params = []\n",
    "PAR = ['t_center','u_center','tE','rho','separation','mass_ratio','alpha','piEN','piEE']\n",
    "\n",
    "for b in (PAR):\n",
    "    ulens_params.append(pyLIMA_parameters[b])\n",
    "flux_params = []\n",
    "\n",
    "# Here we change the zero point to the pyLIMA convention in order to make the alignment\n",
    "for b in bands:\n",
    "    if not len(bands[b])==0:\n",
    "        zp_Rubin_to_pyLIMA = (10**((-27.4+ZP[b])/2.5))\n",
    "        \n",
    "        flux_params.append(pyLIMA_parameters['fsource_'+b]/zp_Rubin_to_pyLIMA)\n",
    "        flux_params.append(pyLIMA_parameters['ftotal_'+b]/zp_Rubin_to_pyLIMA)\n",
    "        \n",
    "true_params = ulens_params+flux_params\n"
   ]
  },
  {
   "cell_type": "code",
   "execution_count": 11,
   "id": "648f3f0f-92b1-4d9e-a608-2a155dbd06eb",
   "metadata": {},
   "outputs": [
    {
     "name": "stdout",
     "output_type": "stream",
     "text": [
      "check_event  : Everything looks fine...\n"
     ]
    },
    {
     "name": "stderr",
     "output_type": "stream",
     "text": [
      "/home/anibal/anaconda3/envs/pyLIMA/lib/python3.9/site-packages/erfa/core.py:133: ErfaWarning: ERFA function \"utctai\" yielded 20736 of \"dubious year (Note 3)\"\n",
      "  warn(f'ERFA function \"{func_name}\" yielded {wmsg}', ErfaWarning)\n",
      "/home/anibal/anaconda3/envs/pyLIMA/lib/python3.9/site-packages/erfa/core.py:133: ErfaWarning: ERFA function \"taiutc\" yielded 20736 of \"dubious year (Note 4)\"\n",
      "  warn(f'ERFA function \"{func_name}\" yielded {wmsg}', ErfaWarning)\n"
     ]
    },
    {
     "name": "stdout",
     "output_type": "stream",
     "text": [
      "Parallax(Full) estimated for the telescope Roman (Roman+Rubin): SUCCESS\n",
      "Parallax(Full) estimated for the telescope g (Rubin): SUCCESS\n",
      "Parallax(Full) estimated for the telescope r (Rubin): SUCCESS\n",
      "Parallax(Full) estimated for the telescope i (Rubin): SUCCESS\n",
      "Parallax(Full) estimated for the telescope z (Rubin): SUCCESS\n",
      "Parallax(Full) estimated for the telescope y (Rubin): SUCCESS\n"
     ]
    },
    {
     "name": "stderr",
     "output_type": "stream",
     "text": [
      "/home/anibal/anaconda3/envs/pyLIMA/lib/python3.9/site-packages/erfa/core.py:133: ErfaWarning: ERFA function \"utctai\" yielded 1 of \"dubious year (Note 3)\"\n",
      "  warn(f'ERFA function \"{func_name}\" yielded {wmsg}', ErfaWarning)\n",
      "/home/anibal/anaconda3/envs/pyLIMA/lib/python3.9/site-packages/erfa/core.py:133: ErfaWarning: ERFA function \"taiutc\" yielded 1 of \"dubious year (Note 4)\"\n",
      "  warn(f'ERFA function \"{func_name}\" yielded {wmsg}', ErfaWarning)\n",
      "/home/anibal/anaconda3/envs/pyLIMA/lib/python3.9/site-packages/erfa/core.py:133: ErfaWarning: ERFA function \"utctai\" yielded 96 of \"dubious year (Note 3)\"\n",
      "  warn(f'ERFA function \"{func_name}\" yielded {wmsg}', ErfaWarning)\n",
      "/home/anibal/anaconda3/envs/pyLIMA/lib/python3.9/site-packages/erfa/core.py:133: ErfaWarning: ERFA function \"taiutc\" yielded 96 of \"dubious year (Note 4)\"\n",
      "  warn(f'ERFA function \"{func_name}\" yielded {wmsg}', ErfaWarning)\n",
      "/home/anibal/anaconda3/envs/pyLIMA/lib/python3.9/site-packages/erfa/core.py:133: ErfaWarning: ERFA function \"utcut1\" yielded 96 of \"dubious year (Note 3)\"\n",
      "  warn(f'ERFA function \"{func_name}\" yielded {wmsg}', ErfaWarning)\n",
      "/home/anibal/anaconda3/envs/pyLIMA/lib/python3.9/site-packages/erfa/core.py:133: ErfaWarning: ERFA function \"utctai\" yielded 86 of \"dubious year (Note 3)\"\n",
      "  warn(f'ERFA function \"{func_name}\" yielded {wmsg}', ErfaWarning)\n",
      "/home/anibal/anaconda3/envs/pyLIMA/lib/python3.9/site-packages/erfa/core.py:133: ErfaWarning: ERFA function \"taiutc\" yielded 86 of \"dubious year (Note 4)\"\n",
      "  warn(f'ERFA function \"{func_name}\" yielded {wmsg}', ErfaWarning)\n",
      "/home/anibal/anaconda3/envs/pyLIMA/lib/python3.9/site-packages/erfa/core.py:133: ErfaWarning: ERFA function \"utcut1\" yielded 86 of \"dubious year (Note 3)\"\n",
      "  warn(f'ERFA function \"{func_name}\" yielded {wmsg}', ErfaWarning)\n",
      "/home/anibal/anaconda3/envs/pyLIMA/lib/python3.9/site-packages/erfa/core.py:133: ErfaWarning: ERFA function \"utctai\" yielded 87 of \"dubious year (Note 3)\"\n",
      "  warn(f'ERFA function \"{func_name}\" yielded {wmsg}', ErfaWarning)\n",
      "/home/anibal/anaconda3/envs/pyLIMA/lib/python3.9/site-packages/erfa/core.py:133: ErfaWarning: ERFA function \"taiutc\" yielded 87 of \"dubious year (Note 4)\"\n",
      "  warn(f'ERFA function \"{func_name}\" yielded {wmsg}', ErfaWarning)\n",
      "/home/anibal/anaconda3/envs/pyLIMA/lib/python3.9/site-packages/erfa/core.py:133: ErfaWarning: ERFA function \"utcut1\" yielded 87 of \"dubious year (Note 3)\"\n",
      "  warn(f'ERFA function \"{func_name}\" yielded {wmsg}', ErfaWarning)\n"
     ]
    }
   ],
   "source": [
    "model_ulens = 'USBL'\n",
    "\n",
    "Source = 18\n",
    "event_params = pyLIMA_parameters\n",
    "event_params['te']=event_params['tE']\n",
    "event_params['s']=event_params['separation']\n",
    "event_params['q']=event_params['mass_ratio']\n",
    "\n",
    "f= 'W149'\n",
    "wfirst_lc = np.array([bands[f]['time'],bands[f]['mag'],bands[f]['err_mag']]).T\n",
    "f = 'u'\n",
    "lsst_u = np.array([bands[f]['time'],bands[f]['mag'],bands[f]['err_mag']]).T\n",
    "f='g'\n",
    "lsst_g = np.array([bands[f]['time'],bands[f]['mag'],bands[f]['err_mag']]).T\n",
    "f='r'\n",
    "lsst_r = np.array([bands[f]['time'],bands[f]['mag'],bands[f]['err_mag']]).T\n",
    "f='i'\n",
    "lsst_i = np.array([bands[f]['time'],bands[f]['mag'],bands[f]['err_mag']]).T\n",
    "f='z'\n",
    "lsst_z = np.array([bands[f]['time'],bands[f]['mag'],bands[f]['err_mag']]).T\n",
    "f='z'\n",
    "lsst_y = np.array([bands[f]['time'],bands[f]['mag'],bands[f]['err_mag']]).T\n",
    "\n",
    "model_true = model_rubin_roman(Source,True,event_params, path_ephemerides,model_ulens, wfirst_lc, lsst_u, lsst_g, lsst_r, lsst_i, lsst_z,\n",
    "                    lsst_y)\n"
   ]
  },
  {
   "cell_type": "code",
   "execution_count": 12,
   "id": "b2294044-c754-4c45-954b-24114e9d5258",
   "metadata": {},
   "outputs": [],
   "source": [
    "\n",
    "if len(true_params) != len(model_true.model_dictionnary):\n",
    "    telescopes_fluxes = model_true.find_telescopes_fluxes(true_params)\n",
    "    telescopes_fluxes = [getattr(telescopes_fluxes, key) for key in\n",
    "                         telescopes_fluxes]#._fields]\n",
    "    model_parameters3 = np.r_[true_params, telescopes_fluxes]\n",
    "else:\n",
    "    model_parameters3 = true_params\n"
   ]
  },
  {
   "cell_type": "code",
   "execution_count": 13,
   "id": "c130fe25-01b9-4452-9f2a-20d2b3bf4200",
   "metadata": {
    "scrolled": true
   },
   "outputs": [
    {
     "name": "stderr",
     "output_type": "stream",
     "text": [
      "/home/anibal/anaconda3/envs/pyLIMA/lib/python3.9/site-packages/erfa/core.py:133: ErfaWarning: ERFA function \"utctai\" yielded 92359 of \"dubious year (Note 3)\"\n",
      "  warn(f'ERFA function \"{func_name}\" yielded {wmsg}', ErfaWarning)\n",
      "/home/anibal/anaconda3/envs/pyLIMA/lib/python3.9/site-packages/erfa/core.py:133: ErfaWarning: ERFA function \"taiutc\" yielded 92359 of \"dubious year (Note 4)\"\n",
      "  warn(f'ERFA function \"{func_name}\" yielded {wmsg}', ErfaWarning)\n"
     ]
    },
    {
     "ename": "ValueError",
     "evalue": "Unknown target (V37). Maybe try different id_type?",
     "output_type": "error",
     "traceback": [
      "\u001b[0;31m---------------------------------------------------------------------------\u001b[0m",
      "\u001b[0;31mValueError\u001b[0m                                Traceback (most recent call last)",
      "Cell \u001b[0;32mIn[13], line 9\u001b[0m\n\u001b[1;32m      6\u001b[0m axes\u001b[38;5;241m.\u001b[39minvert_yaxis()\n\u001b[1;32m      7\u001b[0m \u001b[38;5;66;03m# axes.set_title('Simulated event')\u001b[39;00m\n\u001b[0;32m----> 9\u001b[0m \u001b[43mpyLIMA_plots\u001b[49m\u001b[38;5;241;43m.\u001b[39;49m\u001b[43mplot_photometric_models\u001b[49m\u001b[43m(\u001b[49m\u001b[43maxes\u001b[49m\u001b[43m,\u001b[49m\u001b[43m \u001b[49m\u001b[43mmodel_true\u001b[49m\u001b[43m,\u001b[49m\u001b[43m \u001b[49m\u001b[43mtrue_params\u001b[49m\u001b[43m,\u001b[49m\u001b[43m \u001b[49m\u001b[43mplot_unit\u001b[49m\u001b[38;5;241;43m=\u001b[39;49m\u001b[38;5;124;43m'\u001b[39;49m\u001b[38;5;124;43mMag\u001b[39;49m\u001b[38;5;124;43m'\u001b[39;49m\u001b[43m)\u001b[49m\n\u001b[1;32m     10\u001b[0m pyLIMA_plots\u001b[38;5;241m.\u001b[39mplot_aligned_data(axes, model_true, true_params, plot_unit\u001b[38;5;241m=\u001b[39m\u001b[38;5;124m'\u001b[39m\u001b[38;5;124mMag\u001b[39m\u001b[38;5;124m'\u001b[39m)\n\u001b[1;32m     11\u001b[0m colors \u001b[38;5;241m=\u001b[39m [\u001b[38;5;124m'\u001b[39m\u001b[38;5;124mdarkslategray\u001b[39m\u001b[38;5;124m'\u001b[39m, \u001b[38;5;124m'\u001b[39m\u001b[38;5;124mgray\u001b[39m\u001b[38;5;124m'\u001b[39m, \u001b[38;5;124m'\u001b[39m\u001b[38;5;124mlightgray\u001b[39m\u001b[38;5;124m'\u001b[39m]\n",
      "File \u001b[0;32m~/anaconda3/envs/pyLIMA/lib/python3.9/site-packages/pyLIMA/outputs/pyLIMA_plots.py:990\u001b[0m, in \u001b[0;36mplot_photometric_models\u001b[0;34m(figure_axe, microlensing_model, model_parameters, bokeh_plot, plot_unit)\u001b[0m\n\u001b[1;32m    986\u001b[0m \u001b[38;5;28;01mdef\u001b[39;00m \u001b[38;5;21mplot_photometric_models\u001b[39m(figure_axe, microlensing_model, model_parameters,\n\u001b[1;32m    987\u001b[0m                             bokeh_plot\u001b[38;5;241m=\u001b[39m\u001b[38;5;28;01mNone\u001b[39;00m, plot_unit\u001b[38;5;241m=\u001b[39m\u001b[38;5;124m'\u001b[39m\u001b[38;5;124mMag\u001b[39m\u001b[38;5;124m'\u001b[39m):\n\u001b[1;32m    988\u001b[0m     pyLIMA_parameters \u001b[38;5;241m=\u001b[39m microlensing_model\u001b[38;5;241m.\u001b[39mcompute_pyLIMA_parameters(model_parameters)\n\u001b[0;32m--> 990\u001b[0m     list_of_telescopes \u001b[38;5;241m=\u001b[39m \u001b[43mcreate_telescopes_to_plot_model\u001b[49m\u001b[43m(\u001b[49m\u001b[43mmicrolensing_model\u001b[49m\u001b[43m,\u001b[49m\n\u001b[1;32m    991\u001b[0m \u001b[43m                                                         \u001b[49m\u001b[43mpyLIMA_parameters\u001b[49m\u001b[43m)\u001b[49m\n\u001b[1;32m    992\u001b[0m     telescopes_names \u001b[38;5;241m=\u001b[39m np\u001b[38;5;241m.\u001b[39marray([i\u001b[38;5;241m.\u001b[39mname \u001b[38;5;28;01mfor\u001b[39;00m i \u001b[38;5;129;01min\u001b[39;00m microlensing_model\u001b[38;5;241m.\u001b[39mevent\u001b[38;5;241m.\u001b[39mtelescopes])\n\u001b[1;32m    994\u001b[0m     \u001b[38;5;66;03m# plot models\u001b[39;00m\n",
      "File \u001b[0;32m~/anaconda3/envs/pyLIMA/lib/python3.9/site-packages/pyLIMA/outputs/pyLIMA_plots.py:130\u001b[0m, in \u001b[0;36mcreate_telescopes_to_plot_model\u001b[0;34m(microlensing_model, pyLIMA_parameters)\u001b[0m\n\u001b[1;32m    126\u001b[0m     model_time\u001b[38;5;241m.\u001b[39msort()\n\u001b[1;32m    128\u001b[0m     model_time \u001b[38;5;241m=\u001b[39m np\u001b[38;5;241m.\u001b[39munique(model_time)\n\u001b[0;32m--> 130\u001b[0m     model_telescope \u001b[38;5;241m=\u001b[39m \u001b[43mfake_telescopes\u001b[49m\u001b[38;5;241;43m.\u001b[39;49m\u001b[43mreplicate_a_telescope\u001b[49m\u001b[43m(\u001b[49m\n\u001b[1;32m    131\u001b[0m \u001b[43m            \u001b[49m\u001b[43mmicrolensing_model\u001b[49m\u001b[43m,\u001b[49m\u001b[43m \u001b[49m\u001b[43mindex\u001b[49m\u001b[43m,\u001b[49m\n\u001b[1;32m    132\u001b[0m \u001b[43m            \u001b[49m\u001b[43mlight_curve_time\u001b[49m\u001b[38;5;241;43m=\u001b[39;49m\u001b[43mmodel_time\u001b[49m\u001b[43m,\u001b[49m\n\u001b[1;32m    133\u001b[0m \u001b[43m            \u001b[49m\u001b[43mastrometry_curve_time\u001b[49m\u001b[38;5;241;43m=\u001b[39;49m\u001b[38;5;28;43;01mNone\u001b[39;49;00m\u001b[43m)\u001b[49m\n\u001b[1;32m    135\u001b[0m     list_of_fake_telescopes\u001b[38;5;241m.\u001b[39mappend(model_telescope)\n\u001b[1;32m    137\u001b[0m \u001b[38;5;28;01mif\u001b[39;00m tel\u001b[38;5;241m.\u001b[39mlocation \u001b[38;5;241m==\u001b[39m \u001b[38;5;124m'\u001b[39m\u001b[38;5;124mEarth\u001b[39m\u001b[38;5;124m'\u001b[39m \u001b[38;5;129;01mand\u001b[39;00m Earth:\n",
      "File \u001b[0;32m~/anaconda3/envs/pyLIMA/lib/python3.9/site-packages/pyLIMA/toolbox/fake_telescopes.py:77\u001b[0m, in \u001b[0;36mreplicate_a_telescope\u001b[0;34m(microlensing_model, telescope_index, light_curve_time, astrometry_curve_time)\u001b[0m\n\u001b[1;32m     75\u001b[0m         \u001b[38;5;28;01mpass\u001b[39;00m\n\u001b[1;32m     76\u001b[0m \u001b[38;5;28;01mif\u001b[39;00m microlensing_model\u001b[38;5;241m.\u001b[39mparallax_model[\u001b[38;5;241m0\u001b[39m] \u001b[38;5;241m!=\u001b[39m \u001b[38;5;124m'\u001b[39m\u001b[38;5;124mNone\u001b[39m\u001b[38;5;124m'\u001b[39m:\n\u001b[0;32m---> 77\u001b[0m     \u001b[43mmodel_telescope\u001b[49m\u001b[38;5;241;43m.\u001b[39;49m\u001b[43minitialize_positions\u001b[49m\u001b[43m(\u001b[49m\u001b[43m)\u001b[49m\n\u001b[1;32m     78\u001b[0m     model_telescope\u001b[38;5;241m.\u001b[39mcompute_parallax(microlensing_model\u001b[38;5;241m.\u001b[39mparallax_model,\n\u001b[1;32m     79\u001b[0m                                  microlensing_model\u001b[38;5;241m.\u001b[39mevent\u001b[38;5;241m.\u001b[39mNorth,\n\u001b[1;32m     80\u001b[0m                                  microlensing_model\u001b[38;5;241m.\u001b[39mevent\u001b[38;5;241m.\u001b[39mEast)  \u001b[38;5;66;03m# ,\u001b[39;00m\n\u001b[1;32m     81\u001b[0m \u001b[38;5;28;01mreturn\u001b[39;00m model_telescope\n",
      "File \u001b[0;32m~/anaconda3/envs/pyLIMA/lib/python3.9/site-packages/pyLIMA/telescopes.py:230\u001b[0m, in \u001b[0;36mTelescope.initialize_positions\u001b[0;34m(self)\u001b[0m\n\u001b[1;32m    226\u001b[0m \u001b[38;5;28mself\u001b[39m\u001b[38;5;241m.\u001b[39mfind_Earth_positions()\n\u001b[1;32m    228\u001b[0m \u001b[38;5;28;01mif\u001b[39;00m \u001b[38;5;28mself\u001b[39m\u001b[38;5;241m.\u001b[39mlocation \u001b[38;5;241m==\u001b[39m \u001b[38;5;124m'\u001b[39m\u001b[38;5;124mSpace\u001b[39m\u001b[38;5;124m'\u001b[39m:\n\u001b[0;32m--> 230\u001b[0m     \u001b[38;5;28;43mself\u001b[39;49m\u001b[38;5;241;43m.\u001b[39;49m\u001b[43mfind_space_positions\u001b[49m\u001b[43m(\u001b[49m\u001b[43m)\u001b[49m\n\u001b[1;32m    232\u001b[0m \u001b[38;5;28;01melse\u001b[39;00m:\n\u001b[1;32m    234\u001b[0m     \u001b[38;5;28mself\u001b[39m\u001b[38;5;241m.\u001b[39mfind_sidereal_time()\n",
      "File \u001b[0;32m~/anaconda3/envs/pyLIMA/lib/python3.9/site-packages/pyLIMA/telescopes.py:326\u001b[0m, in \u001b[0;36mTelescope.find_space_positions\u001b[0;34m(self)\u001b[0m\n\u001b[1;32m    323\u001b[0m \u001b[38;5;28;01mif\u001b[39;00m data \u001b[38;5;129;01mis\u001b[39;00m \u001b[38;5;129;01mnot\u001b[39;00m \u001b[38;5;28;01mNone\u001b[39;00m:\n\u001b[1;32m    324\u001b[0m     time \u001b[38;5;241m=\u001b[39m data[\u001b[38;5;124m'\u001b[39m\u001b[38;5;124mtime\u001b[39m\u001b[38;5;124m'\u001b[39m]\u001b[38;5;241m.\u001b[39mvalue\n\u001b[0;32m--> 326\u001b[0m     satellite_positions, space_positions \u001b[38;5;241m=\u001b[39m \u001b[43mparallax\u001b[49m\u001b[38;5;241;43m.\u001b[39;49m\u001b[43mspace_ephemerides\u001b[49m\u001b[43m(\u001b[49m\u001b[38;5;28;43mself\u001b[39;49m\u001b[43m,\u001b[49m\n\u001b[1;32m    327\u001b[0m \u001b[43m                                                                      \u001b[49m\u001b[43mtime\u001b[49m\u001b[43m,\u001b[49m\n\u001b[1;32m    328\u001b[0m \u001b[43m                                                                      \u001b[49m\u001b[43mdata_type\u001b[49m\u001b[38;5;241;43m=\u001b[39;49m\u001b[43mdata_type\u001b[49m\u001b[43m)\u001b[49m\n\u001b[1;32m    330\u001b[0m     \u001b[38;5;28mself\u001b[39m\u001b[38;5;241m.\u001b[39mtelescope_positions[data_type] \u001b[38;5;241m=\u001b[39m satellite_positions\n\u001b[1;32m    331\u001b[0m     \u001b[38;5;28mself\u001b[39m\u001b[38;5;241m.\u001b[39mspacecraft_positions[data_type] \u001b[38;5;241m=\u001b[39m space_positions\n",
      "File \u001b[0;32m~/anaconda3/envs/pyLIMA/lib/python3.9/site-packages/pyLIMA/parallax/parallax.py:186\u001b[0m, in \u001b[0;36mspace_ephemerides\u001b[0;34m(telescope, time_to_treat, data_type)\u001b[0m\n\u001b[1;32m    181\u001b[0m \u001b[38;5;28;01melse\u001b[39;00m:\n\u001b[1;32m    182\u001b[0m \n\u001b[1;32m    183\u001b[0m     \u001b[38;5;66;03m# call JPL!\u001b[39;00m\n\u001b[1;32m    184\u001b[0m     \u001b[38;5;28;01mfrom\u001b[39;00m \u001b[38;5;21;01mpyLIMA\u001b[39;00m\u001b[38;5;21;01m.\u001b[39;00m\u001b[38;5;21;01mparallax\u001b[39;00m \u001b[38;5;28;01mimport\u001b[39;00m JPL_ephemerides\n\u001b[1;32m    185\u001b[0m     spacecraft_positions \u001b[38;5;241m=\u001b[39m \\\n\u001b[0;32m--> 186\u001b[0m         \u001b[43mJPL_ephemerides\u001b[49m\u001b[38;5;241;43m.\u001b[39;49m\u001b[43mhorizons_API\u001b[49m\u001b[43m(\u001b[49m\u001b[43msatellite_name\u001b[49m\u001b[43m,\u001b[49m\u001b[43m \u001b[49m\u001b[43mtime_to_treat\u001b[49m\u001b[43m,\u001b[49m\n\u001b[1;32m    187\u001b[0m \u001b[43m                                     \u001b[49m\u001b[43mobservatory\u001b[49m\u001b[38;5;241;43m=\u001b[39;49m\u001b[38;5;124;43m'\u001b[39;49m\u001b[38;5;124;43mGeocentric\u001b[39;49m\u001b[38;5;124;43m'\u001b[39;49m\u001b[43m)\u001b[49m[\u001b[38;5;241m1\u001b[39m]\n\u001b[1;32m    189\u001b[0m satellite_positions \u001b[38;5;241m=\u001b[39m np\u001b[38;5;241m.\u001b[39marray(spacecraft_positions)\n\u001b[1;32m    190\u001b[0m dates \u001b[38;5;241m=\u001b[39m satellite_positions[:, \u001b[38;5;241m0\u001b[39m]\u001b[38;5;241m.\u001b[39mastype(\u001b[38;5;28mfloat\u001b[39m)\n",
      "File \u001b[0;32m~/anaconda3/envs/pyLIMA/lib/python3.9/site-packages/pyLIMA/parallax/JPL_ephemerides.py:71\u001b[0m, in \u001b[0;36mhorizons_API\u001b[0;34m(body, time_to_treat, observatory)\u001b[0m\n\u001b[1;32m     66\u001b[0m tstop \u001b[38;5;241m=\u001b[39m \u001b[38;5;124m'\u001b[39m\u001b[38;5;124mJD\u001b[39m\u001b[38;5;124m'\u001b[39m \u001b[38;5;241m+\u001b[39m \u001b[38;5;28mstr\u001b[39m(time_to_treat\u001b[38;5;241m.\u001b[39mmax() \u001b[38;5;241m+\u001b[39m \u001b[38;5;241m1\u001b[39m)\n\u001b[1;32m     68\u001b[0m obj \u001b[38;5;241m=\u001b[39m Horizons(\u001b[38;5;28mid\u001b[39m\u001b[38;5;241m=\u001b[39mbody, location\u001b[38;5;241m=\u001b[39mOBSERVATORY_ID,\n\u001b[1;32m     69\u001b[0m                epochs\u001b[38;5;241m=\u001b[39m{\u001b[38;5;124m'\u001b[39m\u001b[38;5;124mstart\u001b[39m\u001b[38;5;124m'\u001b[39m: tstart, \u001b[38;5;124m'\u001b[39m\u001b[38;5;124mstop\u001b[39m\u001b[38;5;124m'\u001b[39m: tstop,\n\u001b[1;32m     70\u001b[0m                        \u001b[38;5;124m'\u001b[39m\u001b[38;5;124mstep\u001b[39m\u001b[38;5;124m'\u001b[39m: \u001b[38;5;124m'\u001b[39m\u001b[38;5;124m1440m\u001b[39m\u001b[38;5;124m'\u001b[39m})  \u001b[38;5;66;03m# daily cadence for interpolation\u001b[39;00m\n\u001b[0;32m---> 71\u001b[0m ephemerides \u001b[38;5;241m=\u001b[39m \u001b[43mobj\u001b[49m\u001b[38;5;241;43m.\u001b[39;49m\u001b[43mephemerides\u001b[49m\u001b[43m(\u001b[49m\u001b[43m)\u001b[49m\n\u001b[1;32m     73\u001b[0m dates \u001b[38;5;241m=\u001b[39m ephemerides[\u001b[38;5;124m'\u001b[39m\u001b[38;5;124mdatetime_jd\u001b[39m\u001b[38;5;124m'\u001b[39m]\u001b[38;5;241m.\u001b[39mdata\u001b[38;5;241m.\u001b[39mdata\n\u001b[1;32m     74\u001b[0m ra \u001b[38;5;241m=\u001b[39m ephemerides[\u001b[38;5;124m'\u001b[39m\u001b[38;5;124mRA\u001b[39m\u001b[38;5;124m'\u001b[39m]\u001b[38;5;241m.\u001b[39mdata\u001b[38;5;241m.\u001b[39mdata\n",
      "File \u001b[0;32m~/anaconda3/envs/pyLIMA/lib/python3.9/site-packages/astroquery/utils/class_or_instance.py:25\u001b[0m, in \u001b[0;36mclass_or_instance.__get__.<locals>.f\u001b[0;34m(*args, **kwds)\u001b[0m\n\u001b[1;32m     23\u001b[0m \u001b[38;5;28;01mdef\u001b[39;00m \u001b[38;5;21mf\u001b[39m(\u001b[38;5;241m*\u001b[39margs, \u001b[38;5;241m*\u001b[39m\u001b[38;5;241m*\u001b[39mkwds):\n\u001b[1;32m     24\u001b[0m     \u001b[38;5;28;01mif\u001b[39;00m obj \u001b[38;5;129;01mis\u001b[39;00m \u001b[38;5;129;01mnot\u001b[39;00m \u001b[38;5;28;01mNone\u001b[39;00m:\n\u001b[0;32m---> 25\u001b[0m         \u001b[38;5;28;01mreturn\u001b[39;00m \u001b[38;5;28;43mself\u001b[39;49m\u001b[38;5;241;43m.\u001b[39;49m\u001b[43mfn\u001b[49m\u001b[43m(\u001b[49m\u001b[43mobj\u001b[49m\u001b[43m,\u001b[49m\u001b[43m \u001b[49m\u001b[38;5;241;43m*\u001b[39;49m\u001b[43margs\u001b[49m\u001b[43m,\u001b[49m\u001b[43m \u001b[49m\u001b[38;5;241;43m*\u001b[39;49m\u001b[38;5;241;43m*\u001b[39;49m\u001b[43mkwds\u001b[49m\u001b[43m)\u001b[49m\n\u001b[1;32m     26\u001b[0m     \u001b[38;5;28;01melse\u001b[39;00m:\n\u001b[1;32m     27\u001b[0m         \u001b[38;5;28;01mreturn\u001b[39;00m \u001b[38;5;28mself\u001b[39m\u001b[38;5;241m.\u001b[39mfn(\u001b[38;5;28mcls\u001b[39m, \u001b[38;5;241m*\u001b[39margs, \u001b[38;5;241m*\u001b[39m\u001b[38;5;241m*\u001b[39mkwds)\n",
      "File \u001b[0;32m~/anaconda3/envs/pyLIMA/lib/python3.9/site-packages/astroquery/utils/process_asyncs.py:29\u001b[0m, in \u001b[0;36masync_to_sync.<locals>.create_method.<locals>.newmethod\u001b[0;34m(self, *args, **kwargs)\u001b[0m\n\u001b[1;32m     27\u001b[0m \u001b[38;5;28;01mif\u001b[39;00m kwargs\u001b[38;5;241m.\u001b[39mget(\u001b[38;5;124m'\u001b[39m\u001b[38;5;124mget_query_payload\u001b[39m\u001b[38;5;124m'\u001b[39m) \u001b[38;5;129;01mor\u001b[39;00m kwargs\u001b[38;5;241m.\u001b[39mget(\u001b[38;5;124m'\u001b[39m\u001b[38;5;124mfield_help\u001b[39m\u001b[38;5;124m'\u001b[39m):\n\u001b[1;32m     28\u001b[0m     \u001b[38;5;28;01mreturn\u001b[39;00m response\n\u001b[0;32m---> 29\u001b[0m result \u001b[38;5;241m=\u001b[39m \u001b[38;5;28;43mself\u001b[39;49m\u001b[38;5;241;43m.\u001b[39;49m\u001b[43m_parse_result\u001b[49m\u001b[43m(\u001b[49m\u001b[43mresponse\u001b[49m\u001b[43m,\u001b[49m\u001b[43m \u001b[49m\u001b[43mverbose\u001b[49m\u001b[38;5;241;43m=\u001b[39;49m\u001b[43mverbose\u001b[49m\u001b[43m)\u001b[49m\n\u001b[1;32m     30\u001b[0m \u001b[38;5;28mself\u001b[39m\u001b[38;5;241m.\u001b[39mtable \u001b[38;5;241m=\u001b[39m result\n\u001b[1;32m     31\u001b[0m \u001b[38;5;28;01mreturn\u001b[39;00m result\n",
      "File \u001b[0;32m~/anaconda3/envs/pyLIMA/lib/python3.9/site-packages/astroquery/jplhorizons/core.py:1374\u001b[0m, in \u001b[0;36mHorizonsClass._parse_result\u001b[0;34m(self, response, verbose)\u001b[0m\n\u001b[1;32m   1372\u001b[0m \u001b[38;5;66;03m# catch unknown target\u001b[39;00m\n\u001b[1;32m   1373\u001b[0m \u001b[38;5;28;01mif\u001b[39;00m (\u001b[38;5;124m\"\u001b[39m\u001b[38;5;124mMatching small-bodies\u001b[39m\u001b[38;5;124m\"\u001b[39m \u001b[38;5;129;01min\u001b[39;00m line \u001b[38;5;129;01mand\u001b[39;00m \u001b[38;5;124m\"\u001b[39m\u001b[38;5;124mNo matches found\u001b[39m\u001b[38;5;124m\"\u001b[39m \u001b[38;5;129;01min\u001b[39;00m src[idx \u001b[38;5;241m+\u001b[39m \u001b[38;5;241m1\u001b[39m]):\n\u001b[0;32m-> 1374\u001b[0m     \u001b[38;5;28;01mraise\u001b[39;00m \u001b[38;5;167;01mValueError\u001b[39;00m((\u001b[38;5;124m'\u001b[39m\u001b[38;5;124mUnknown target (\u001b[39m\u001b[38;5;132;01m{:s}\u001b[39;00m\u001b[38;5;124m). Maybe try \u001b[39m\u001b[38;5;124m'\u001b[39m\n\u001b[1;32m   1375\u001b[0m                       \u001b[38;5;124m'\u001b[39m\u001b[38;5;124mdifferent id_type?\u001b[39m\u001b[38;5;124m'\u001b[39m)\u001b[38;5;241m.\u001b[39mformat(\u001b[38;5;28mself\u001b[39m\u001b[38;5;241m.\u001b[39mid))\n\u001b[1;32m   1376\u001b[0m \u001b[38;5;66;03m# catch any unavailability of ephemeris data\u001b[39;00m\n\u001b[1;32m   1377\u001b[0m \u001b[38;5;28;01mif\u001b[39;00m \u001b[38;5;124m\"\u001b[39m\u001b[38;5;124mNo ephemeris for target\u001b[39m\u001b[38;5;124m\"\u001b[39m \u001b[38;5;129;01min\u001b[39;00m line:\n",
      "\u001b[0;31mValueError\u001b[0m: Unknown target (V37). Maybe try different id_type?"
     ]
    },
    {
     "data": {
      "image/png": "[encoded data removed]",
      "text/plain": [
       "<Figure size 800x600 with 1 Axes>"
      ]
     },
     "metadata": {},
     "output_type": "display_data"
    }
   ],
   "source": [
    "fig, axes = plt.subplots(1, 1,figsize=(8,6))\n",
    "\n",
    "axes.set_ylabel(\"Magnitude\",fontsize=20)\n",
    "axes.set_xlabel(\"Time\",fontsize=20)\n",
    "axes.grid(True, color='0.95')\n",
    "axes.invert_yaxis()\n",
    "# axes.set_title('Simulated event')\n",
    "\n",
    "pyLIMA_plots.plot_photometric_models(axes, model_true, true_params, plot_unit='Mag')\n",
    "pyLIMA_plots.plot_aligned_data(axes, model_true, true_params, plot_unit='Mag')\n",
    "colors = ['darkslategray', 'gray', 'lightgray']\n",
    "\n",
    "axes.legend(shadow=True, fontsize='large',\n",
    "                          bbox_to_anchor=(0, 1.02, 1, 0.2),\n",
    "                          loc=\"lower left\",\n",
    "                          mode=\"expand\", borderaxespad=0, ncol=3)\n",
    "plt.show()\n"
   ]
  },
  {
   "cell_type": "code",
   "execution_count": null,
   "id": "c9ab550d-2871-4f3f-acb6-da86b840fa3e",
   "metadata": {},
   "outputs": [],
   "source": []
  },
  {
   "cell_type": "markdown",
   "id": "4aa5922e-53b5-4b7b-a9a1-c9ed833b2ede",
   "metadata": {},
   "source": [
    "# Fits\n",
    "\n",
    "Relevant Function: \n",
    "\n",
    "fit_rubin_roman(Source,event_params, path_to_save_fit, path_ephemerides,model,algo,origin,\n",
    "                               band_roman, band_rubin_u, band_rubin_g, band_rubin_r,\n",
    "                                           band_rubin_i, band_rubin_z, band_rubin_y)\n",
    "\n",
    "This function performs the fitting of microlensing events using data from both the Rubin Observatory (LSST) and the Roman Space Telescope (WFIRST). It supports various microlensing models, including Finite-Source Point Lens (FSPL), Uniform Source Binary Lens (USBL), and Point Source Point Lens (PSPL). Additionally, the function accommodates multiple fitting algorithms, such as Trust Region Reflective (TRF), Markov Chain Monte Carlo (MCMC), and Differential Evolution (DE).\n",
    "\n",
    "The boundaries used for the fitting process can be modified within the function's script.\n",
    "\n"
   ]
  },
  {
   "cell_type": "code",
   "execution_count": null,
   "id": "f23f3bcf-c5d4-4c7c-bd26-92e3814d5f66",
   "metadata": {},
   "outputs": [],
   "source": [
    "algo='TRF'\n",
    "\n",
    "Source = i\n",
    "if decision:\n",
    "    lc_to_fit = {}\n",
    "    for telo in my_own_model.event.telescopes:\n",
    "        if not len(telo.lightcurve_magnitude['mag'])==0:\n",
    "            df = telo.lightcurve_magnitude.to_pandas()\n",
    "            lc_to_fit[telo.name] = df.values\n",
    "        else:\n",
    "            lc_to_fit[telo.name] = []\n",
    "    origin = my_own_model.origin\n",
    "    rango = 1\n",
    "    fit_rr, event_fit_rr, pyLIMAmodel_rr = fit_rubin_roman(Source,event_params, path_to_save_fit, path_ephemerides,model,algo,origin,rango,\n",
    "                               lc_to_fit[\"W149\"], lc_to_fit[\"u\"], lc_to_fit[\"g\"], lc_to_fit[\"r\"],\n",
    "                                           lc_to_fit[\"i\"], lc_to_fit[\"z\"],lc_to_fit[\"y\"])\n",
    "    fit_roman, event_fit_roman, pyLIMAmodel_roman = fit_rubin_roman(Source,event_params, path_to_save_fit, path_ephemerides,model,algo,origin,rango,\n",
    "                               lc_to_fit[\"W149\"], [], [], [], [], [],[])\n"
   ]
  },
  {
   "cell_type": "code",
   "execution_count": null,
   "id": "c9a8c868-575e-414c-af78-66c201154daa",
   "metadata": {},
   "outputs": [],
   "source": [
    "#we can make some tests to check if this is a good event before make the plot\n",
    "from scipy.stats import chi2\n",
    "chi2_roman = fit_roman.fit_results['chi2']\n",
    "DOF_roman = len(pyLIMAmodel_roman.event.telescopes[0].lightcurve_magnitude['time'])-len(fit_roman.fit_results['best_model'])\n",
    "print('Chi square reduced for Roman', chi2_roman/DOF_roman)\n",
    "print('p-value of a chi squared test', chi2.sf(chi2_roman, DOF_roman))\n",
    "print('We see a very low p-value this indicates that is unlikely that the model follow the data.')\n",
    "# #metrics\n",
    "\n",
    "#metric alpha\n",
    "alpha_roman = abs(np.array(true_params[0:len(fit_roman.fit_results['best_model'])])-fit_roman.fit_results['best_model'])/np.array(true_params[0:len(fit_roman.fit_results['best_model'])]) \n",
    "alpha_rr = (abs(np.array(true_params[0:len(fit_rr.fit_results['best_model'])])-fit_rr.fit_results['best_model'])/np.array(true_params[0:len(fit_rr.fit_results['best_model'])]))[0:len(fit_roman.fit_results['best_model'])]\n",
    "#metric beta\n",
    "beta_roman = abs(np.array(true_params[0:len(fit_roman.fit_results['best_model'])])-fit_roman.fit_results['best_model'])/abs(np.sqrt(np.diag(fit_roman.fit_results['covariance_matrix'])))\n",
    "beta_rr = (abs(np.array(true_params[0:len(fit_rr.fit_results['best_model'])])-fit_rr.fit_results['best_model'])/np.sqrt(np.diag(fit_rr.fit_results['covariance_matrix'])))[0:len(fit_roman.fit_results['best_model'])]\n",
    "#metric gamma\n",
    "gamma_roman = np.sqrt(np.diag(fit_roman.fit_results['covariance_matrix']))/np.array(true_params[0:len(fit_roman.fit_results['best_model'])])\n",
    "gamma_rr = (np.sqrt(np.diag(fit_rr.fit_results['covariance_matrix']))/np.array(true_params[0:len(fit_rr.fit_results['best_model'])]))[0:len(fit_roman.fit_results['best_model'])]\n",
    "\n"
   ]
  },
  {
   "cell_type": "code",
   "execution_count": null,
   "id": "22f64c1a-f29c-4d27-be08-458592d05a82",
   "metadata": {},
   "outputs": [],
   "source": [
    "# Parameter labels\n",
    "xticks = [r'$t_0$', r'$u_0$', r'$t_E$', r'$\\rho$', 's', 'q', r'$\\alpha$', r'$\\pi_{EN}$', r'$\\pi_{EE}$', 'F146_s', 'F146_b']\n",
    "\n",
    "# Create subplots\n",
    "fig, axs = plt.subplots(3, 1, figsize=(10, 15), sharex=True)\n",
    "\n",
    "# Plot alpha\n",
    "axs[0].plot(alpha_roman, marker='o', label='Roman')\n",
    "axs[0].plot(alpha_rr, marker='o', label='Roman + Rubin')\n",
    "axs[0].set_ylabel(r'$\\alpha = \\frac{|Fit-True|}{True}$', fontsize=16)\n",
    "axs[0].legend()\n",
    "axs[0].grid(True)\n",
    "\n",
    "# Plot beta\n",
    "axs[1].plot(beta_roman, marker='o', label='Roman')\n",
    "axs[1].plot(beta_rr, marker='o', label='Roman + Rubin')\n",
    "axs[1].set_ylabel(r'$\\beta =\\frac{|Fit-True|}{\\sigma}$', fontsize=16)\n",
    "axs[1].legend()\n",
    "axs[1].grid(True)\n",
    "\n",
    "# Plot gamma\n",
    "axs[2].plot(gamma_roman, marker='o', label='Roman')\n",
    "axs[2].plot(gamma_rr, marker='o', label='Roman + Rubin')\n",
    "axs[2].set_ylabel(r'$\\gamma =\\frac{\\sigma}{Fit}$', fontsize=16)\n",
    "axs[2].legend()\n",
    "axs[2].set_yscale('log')\n",
    "axs[2].grid(True)\n",
    "\n",
    "# Shared x-axis\n",
    "axs[0].set_xticks(ticks=range(len(xticks)), labels=xticks, rotation=45, fontsize=12)\n",
    "\n",
    "axs[2].set_xlabel('Parameters', fontsize=16)\n",
    "plt.tight_layout()\n",
    "plt.show()\n"
   ]
  },
  {
   "cell_type": "code",
   "execution_count": null,
   "id": "a5f3c2cf-50c5-4d63-8cb4-0afc9297ae9e",
   "metadata": {},
   "outputs": [],
   "source": []
  },
  {
   "cell_type": "code",
   "execution_count": null,
   "id": "07d62ce6-c159-4bde-be8f-60b9249790a9",
   "metadata": {},
   "outputs": [],
   "source": [
    "# just a re-definition\n",
    "model_rr = pyLIMAmodel_rr\n",
    "model_roman = pyLIMAmodel_roman\n",
    "\n",
    "data_fit_roman = fit_roman.fit_results\n",
    "data_fit_rr = fit_rr.fit_results"
   ]
  },
  {
   "cell_type": "markdown",
   "id": "ea4928ae-8738-407d-93b4-d207a408bca5",
   "metadata": {},
   "source": [
    "## Plot fitted events\n",
    "\n",
    "In this event I saw some structure in the residuals that indicate that the model is not fitting the data"
   ]
  },
  {
   "cell_type": "code",
   "execution_count": null,
   "id": "05fa587a-5a1e-4136-a7be-6588b08fad6c",
   "metadata": {},
   "outputs": [],
   "source": [
    "plt.close('all')\n",
    "\n",
    "# custom_cycler = (cycler(color=custom_color))\n",
    "# pyLIMA_plots.MARKERS_COLORS = custom_cycler\n",
    "# pyLIMA_plots.MARKER_SYMBOLS = np.array([custom_marker])\n",
    "### Find the telescope fluxes if needed\n",
    "\n",
    "if len(data_fit_rr['best_model']) != len(model_rr.model_dictionnary):\n",
    "    telescopes_fluxes = model_rr.find_telescopes_fluxes(data_fit_rr['best_model'])\n",
    "    telescopes_fluxes = [telescopes_fluxes[key] for key in\n",
    "                         telescopes_fluxes]#._fields]\n",
    "    model_parameters1 = np.r_[data_fit_rr['best_model'], telescopes_fluxes]\n",
    "else:\n",
    "    model_parameters1 = data_fit_rr['best_model']\n",
    "\n",
    "    \n",
    "if len(data_fit_roman['best_model']) != len(model_roman.model_dictionnary):\n",
    "    telescopes_fluxes = model_roman.find_telescopes_fluxes(data_fit_roman['best_model'])\n",
    "    telescopes_fluxes = [telescopes_fluxes[key] for key in\n",
    "                         telescopes_fluxes]#._fields]\n",
    "    model_parameters2 = np.r_[data_fit_rr['best_model'], telescopes_fluxes]\n",
    "else:\n",
    "    model_parameters2 = data_fit_rr['best_model']\n"
   ]
  },
  {
   "cell_type": "code",
   "execution_count": null,
   "id": "1f501f88-1df7-4f73-9353-3c40ee8d9e8c",
   "metadata": {
    "scrolled": true
   },
   "outputs": [],
   "source": [
    "# tmin, tmax = 2460200., data_ogle[-1,0]+5.\n",
    "# tmin, tmax = 2460160., data_ogle[-1,0]+20.\n",
    "\n",
    "%matplotlib inline\n",
    "fig, axes = plt.subplots(3, 1,figsize=(10,10), height_ratios=[3, 1,1], sharex=True)\n",
    "\n",
    "# Lc plot\n",
    "# axes[0].title.set_text('name')\n",
    "axes[0].set_ylabel(\"magnitude\") \n",
    "axes[0].grid(True, color='0.95')\n",
    "axes[0].invert_yaxis()\n",
    "# axes[0].set_xlim(tmin, tmax)\n",
    "# axes[0].set_ylim(18.5, 12.5)\n",
    "# axes[0].set_ylim(17.5, 12.5)\n",
    "\n",
    "#Plot model1 and align data to it\n",
    "pyLIMA_plots.plot_photometric_models(axes[0], model_rr, data_fit_rr['best_model'], plot_unit='Mag')\n",
    "pyLIMA_plots.plot_photometric_models(axes[0], model_roman, data_fit_roman['best_model'], plot_unit='Mag')\n",
    "pyLIMA_plots.plot_aligned_data(axes[0], model_rr, data_fit_rr['best_model'], plot_unit='Mag')\n",
    "colors = ['darkslategray', 'gray', 'lightgray']\n",
    "\n",
    "# for i in range(len(spec_jds)):\n",
    "#     axes[0].axvline(x=spec_jds[i], label='Spec_'+str(i), ls='--', color=colors[i])\n",
    "\n",
    "# plot residuals\n",
    "axes[1].set_ylabel(\"$\\Delta m_{RR} $\") \n",
    "axes[1].grid(True, color='0.95')\n",
    "axes[2].set_ylabel(\"$\\Delta m_{Roman} $\") \n",
    "axes[2].grid(True, color='0.95')\n",
    "\n",
    "pyLIMA_plots.plot_residuals(axes[1], model_rr, data_fit_rr['best_model'], plot_unit='Mag')\n",
    "pyLIMA_plots.plot_residuals(axes[2], model_roman, data_fit_roman['best_model'], plot_unit='Mag')\n",
    "# axes[1].set_xlim(tmin, tmax)\n",
    "axes[1].set_ylim(-2.5, 1)\n",
    "axes[1].axhline(y=0)\n",
    "\n",
    "# for i in range(len(spec_jds)):\n",
    "#     axes[1].axvline(x=spec_jds[i], ls='--', color=colors[i])\n",
    "\n",
    "axes[0].legend(shadow=True, fontsize='large',\n",
    "                          bbox_to_anchor=(0, 1.02, 1, 0.2),\n",
    "                          loc=\"lower left\",\n",
    "                          mode=\"expand\", borderaxespad=0, ncol=3)\n",
    "plt.show()\n"
   ]
  }
 ],
 "metadata": {
  "kernelspec": {
   "display_name": "PyLIMA",
   "language": "python",
   "name": "pylima"
  },
  "language_info": {
   "codemirror_mode": {
    "name": "ipython",
    "version": 3
   },
   "file_extension": ".py",
   "mimetype": "text/x-python",
   "name": "python",
   "nbconvert_exporter": "python",
   "pygments_lexer": "ipython3",
   "version": "3.9.20"
  }
 },
 "nbformat": 4,
 "nbformat_minor": 5
}
