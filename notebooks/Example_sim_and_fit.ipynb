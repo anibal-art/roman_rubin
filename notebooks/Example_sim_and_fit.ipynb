{
 "cells": [
  {
   "cell_type": "code",
   "execution_count": 3,
   "id": "1fc7148b-6a47-4a6b-87a9-1f9f087146e2",
   "metadata": {
    "tags": []
   },
   "outputs": [],
   "source": [
    "import os, sys\n",
    "sys.path.append(os.path.dirname(os.getcwd()))\n",
    "from functions_roman_rubin import sim_fit\n",
    "current_path = os.path.dirname(os.getcwd())\n",
    "# print(current_path)\n",
    "i=18\n",
    "model='USBL'\n",
    "algo='TRF'\n",
    "path_TRILEGAL_set= current_path+'/TRILEGAL/PB_planet_split_1.csv'\n",
    "path_to_save_model= current_path+'/test_sim_fit/'\n",
    "path_to_save_fit= current_path+'/test_sim_fit/'\n",
    "path_ephemerides= current_path+'/ephemerides/Gaia.txt'\n",
    "path_dataslice = current_path+'/opsims/baseline/dataSlice.npy'"
   ]
  },
  {
   "cell_type": "code",
   "execution_count": 4,
   "id": "eb76b59e-20cf-48ac-986a-aa9f564b5b1b",
   "metadata": {
    "tags": []
   },
   "outputs": [
    {
     "name": "stdout",
     "output_type": "stream",
     "text": [
      "/home/anibal/roman_rubin\n"
     ]
    },
    {
     "name": "stderr",
     "output_type": "stream",
     "text": [
      "/home/anibal/anaconda3/envs/pyLIMA_utd/lib/python3.11/site-packages/erfa/core.py:133: ErfaWarning: ERFA function \"dtf2d\" yielded 1 of \"dubious year (Note 6)\"\n",
      "  warn(f'ERFA function \"{func_name}\" yielded {wmsg}', ErfaWarning)\n",
      "/home/anibal/anaconda3/envs/pyLIMA_utd/lib/python3.11/site-packages/erfa/core.py:133: ErfaWarning: ERFA function \"utctai\" yielded 20736 of \"dubious year (Note 3)\"\n",
      "  warn(f'ERFA function \"{func_name}\" yielded {wmsg}', ErfaWarning)\n",
      "/home/anibal/anaconda3/envs/pyLIMA_utd/lib/python3.11/site-packages/erfa/core.py:133: ErfaWarning: ERFA function \"taiutc\" yielded 20736 of \"dubious year (Note 4)\"\n",
      "  warn(f'ERFA function \"{func_name}\" yielded {wmsg}', ErfaWarning)\n",
      "/home/anibal/anaconda3/envs/pyLIMA_utd/lib/python3.11/site-packages/erfa/core.py:133: ErfaWarning: ERFA function \"utctai\" yielded 1 of \"dubious year (Note 3)\"\n",
      "  warn(f'ERFA function \"{func_name}\" yielded {wmsg}', ErfaWarning)\n",
      "/home/anibal/anaconda3/envs/pyLIMA_utd/lib/python3.11/site-packages/erfa/core.py:133: ErfaWarning: ERFA function \"taiutc\" yielded 1 of \"dubious year (Note 4)\"\n",
      "  warn(f'ERFA function \"{func_name}\" yielded {wmsg}', ErfaWarning)\n",
      "/home/anibal/anaconda3/envs/pyLIMA_utd/lib/python3.11/site-packages/erfa/core.py:133: ErfaWarning: ERFA function \"utctai\" yielded 12 of \"dubious year (Note 3)\"\n",
      "  warn(f'ERFA function \"{func_name}\" yielded {wmsg}', ErfaWarning)\n",
      "/home/anibal/anaconda3/envs/pyLIMA_utd/lib/python3.11/site-packages/erfa/core.py:133: ErfaWarning: ERFA function \"taiutc\" yielded 12 of \"dubious year (Note 4)\"\n",
      "  warn(f'ERFA function \"{func_name}\" yielded {wmsg}', ErfaWarning)\n",
      "/home/anibal/anaconda3/envs/pyLIMA_utd/lib/python3.11/site-packages/erfa/core.py:133: ErfaWarning: ERFA function \"utcut1\" yielded 12 of \"dubious year (Note 3)\"\n",
      "  warn(f'ERFA function \"{func_name}\" yielded {wmsg}', ErfaWarning)\n",
      "/home/anibal/anaconda3/envs/pyLIMA_utd/lib/python3.11/site-packages/erfa/core.py:133: ErfaWarning: ERFA function \"utctai\" yielded 96 of \"dubious year (Note 3)\"\n",
      "  warn(f'ERFA function \"{func_name}\" yielded {wmsg}', ErfaWarning)\n",
      "/home/anibal/anaconda3/envs/pyLIMA_utd/lib/python3.11/site-packages/erfa/core.py:133: ErfaWarning: ERFA function \"taiutc\" yielded 96 of \"dubious year (Note 4)\"\n",
      "  warn(f'ERFA function \"{func_name}\" yielded {wmsg}', ErfaWarning)\n",
      "/home/anibal/anaconda3/envs/pyLIMA_utd/lib/python3.11/site-packages/erfa/core.py:133: ErfaWarning: ERFA function \"utcut1\" yielded 96 of \"dubious year (Note 3)\"\n",
      "  warn(f'ERFA function \"{func_name}\" yielded {wmsg}', ErfaWarning)\n",
      "/home/anibal/anaconda3/envs/pyLIMA_utd/lib/python3.11/site-packages/erfa/core.py:133: ErfaWarning: ERFA function \"utctai\" yielded 86 of \"dubious year (Note 3)\"\n",
      "  warn(f'ERFA function \"{func_name}\" yielded {wmsg}', ErfaWarning)\n",
      "/home/anibal/anaconda3/envs/pyLIMA_utd/lib/python3.11/site-packages/erfa/core.py:133: ErfaWarning: ERFA function \"taiutc\" yielded 86 of \"dubious year (Note 4)\"\n",
      "  warn(f'ERFA function \"{func_name}\" yielded {wmsg}', ErfaWarning)\n",
      "/home/anibal/anaconda3/envs/pyLIMA_utd/lib/python3.11/site-packages/erfa/core.py:133: ErfaWarning: ERFA function \"utcut1\" yielded 86 of \"dubious year (Note 3)\"\n",
      "  warn(f'ERFA function \"{func_name}\" yielded {wmsg}', ErfaWarning)\n",
      "/home/anibal/anaconda3/envs/pyLIMA_utd/lib/python3.11/site-packages/erfa/core.py:133: ErfaWarning: ERFA function \"utctai\" yielded 87 of \"dubious year (Note 3)\"\n",
      "  warn(f'ERFA function \"{func_name}\" yielded {wmsg}', ErfaWarning)\n",
      "/home/anibal/anaconda3/envs/pyLIMA_utd/lib/python3.11/site-packages/erfa/core.py:133: ErfaWarning: ERFA function \"taiutc\" yielded 87 of \"dubious year (Note 4)\"\n",
      "  warn(f'ERFA function \"{func_name}\" yielded {wmsg}', ErfaWarning)\n",
      "/home/anibal/anaconda3/envs/pyLIMA_utd/lib/python3.11/site-packages/erfa/core.py:133: ErfaWarning: ERFA function \"utcut1\" yielded 87 of \"dubious year (Note 3)\"\n",
      "  warn(f'ERFA function \"{func_name}\" yielded {wmsg}', ErfaWarning)\n",
      "/home/anibal/anaconda3/envs/pyLIMA_utd/lib/python3.11/site-packages/erfa/core.py:133: ErfaWarning: ERFA function \"utctai\" yielded 25 of \"dubious year (Note 3)\"\n",
      "  warn(f'ERFA function \"{func_name}\" yielded {wmsg}', ErfaWarning)\n",
      "/home/anibal/anaconda3/envs/pyLIMA_utd/lib/python3.11/site-packages/erfa/core.py:133: ErfaWarning: ERFA function \"taiutc\" yielded 25 of \"dubious year (Note 4)\"\n",
      "  warn(f'ERFA function \"{func_name}\" yielded {wmsg}', ErfaWarning)\n",
      "/home/anibal/anaconda3/envs/pyLIMA_utd/lib/python3.11/site-packages/erfa/core.py:133: ErfaWarning: ERFA function \"utcut1\" yielded 25 of \"dubious year (Note 3)\"\n",
      "  warn(f'ERFA function \"{func_name}\" yielded {wmsg}', ErfaWarning)\n"
     ]
    },
    {
     "name": "stdout",
     "output_type": "stream",
     "text": [
      "Parallax(Full) estimated for the telescope W149: SUCCESS\n",
      "Parallax(Full) estimated for the telescope u: SUCCESS\n",
      "Parallax(Full) estimated for the telescope g: SUCCESS\n",
      "Parallax(Full) estimated for the telescope r: SUCCESS\n",
      "Parallax(Full) estimated for the telescope i: SUCCESS\n",
      "Parallax(Full) estimated for the telescope z: SUCCESS\n",
      "Parallax(Full) estimated for the telescope y: SUCCESS\n",
      "['third_caustic', [0, 0]]\n",
      "A good event to fit\n",
      "Save the data and fit with  TRF\n",
      "saving...\n",
      "check_event  : Everything looks fine...\n"
     ]
    },
    {
     "name": "stderr",
     "output_type": "stream",
     "text": [
      "/home/anibal/anaconda3/envs/pyLIMA_utd/lib/python3.11/site-packages/erfa/core.py:133: ErfaWarning: ERFA function \"utctai\" yielded 20736 of \"dubious year (Note 3)\"\n",
      "  warn(f'ERFA function \"{func_name}\" yielded {wmsg}', ErfaWarning)\n",
      "/home/anibal/anaconda3/envs/pyLIMA_utd/lib/python3.11/site-packages/erfa/core.py:133: ErfaWarning: ERFA function \"taiutc\" yielded 20736 of \"dubious year (Note 4)\"\n",
      "  warn(f'ERFA function \"{func_name}\" yielded {wmsg}', ErfaWarning)\n"
     ]
    },
    {
     "name": "stdout",
     "output_type": "stream",
     "text": [
      "Parallax(Full) estimated for the telescope Roman: SUCCESS\n",
      "Parallax(Full) estimated for the telescope g: SUCCESS\n",
      "Parallax(Full) estimated for the telescope r: SUCCESS\n",
      "Parallax(Full) estimated for the telescope i: SUCCESS\n",
      "Parallax(Full) estimated for the telescope z: SUCCESS\n",
      "Parallax(Full) estimated for the telescope y: SUCCESS\n"
     ]
    },
    {
     "name": "stderr",
     "output_type": "stream",
     "text": [
      "/home/anibal/anaconda3/envs/pyLIMA_utd/lib/python3.11/site-packages/erfa/core.py:133: ErfaWarning: ERFA function \"utctai\" yielded 1 of \"dubious year (Note 3)\"\n",
      "  warn(f'ERFA function \"{func_name}\" yielded {wmsg}', ErfaWarning)\n",
      "/home/anibal/anaconda3/envs/pyLIMA_utd/lib/python3.11/site-packages/erfa/core.py:133: ErfaWarning: ERFA function \"taiutc\" yielded 1 of \"dubious year (Note 4)\"\n",
      "  warn(f'ERFA function \"{func_name}\" yielded {wmsg}', ErfaWarning)\n",
      "/home/anibal/anaconda3/envs/pyLIMA_utd/lib/python3.11/site-packages/erfa/core.py:133: ErfaWarning: ERFA function \"utctai\" yielded 96 of \"dubious year (Note 3)\"\n",
      "  warn(f'ERFA function \"{func_name}\" yielded {wmsg}', ErfaWarning)\n",
      "/home/anibal/anaconda3/envs/pyLIMA_utd/lib/python3.11/site-packages/erfa/core.py:133: ErfaWarning: ERFA function \"taiutc\" yielded 96 of \"dubious year (Note 4)\"\n",
      "  warn(f'ERFA function \"{func_name}\" yielded {wmsg}', ErfaWarning)\n",
      "/home/anibal/anaconda3/envs/pyLIMA_utd/lib/python3.11/site-packages/erfa/core.py:133: ErfaWarning: ERFA function \"utcut1\" yielded 96 of \"dubious year (Note 3)\"\n",
      "  warn(f'ERFA function \"{func_name}\" yielded {wmsg}', ErfaWarning)\n",
      "/home/anibal/anaconda3/envs/pyLIMA_utd/lib/python3.11/site-packages/erfa/core.py:133: ErfaWarning: ERFA function \"utctai\" yielded 86 of \"dubious year (Note 3)\"\n",
      "  warn(f'ERFA function \"{func_name}\" yielded {wmsg}', ErfaWarning)\n",
      "/home/anibal/anaconda3/envs/pyLIMA_utd/lib/python3.11/site-packages/erfa/core.py:133: ErfaWarning: ERFA function \"taiutc\" yielded 86 of \"dubious year (Note 4)\"\n",
      "  warn(f'ERFA function \"{func_name}\" yielded {wmsg}', ErfaWarning)\n",
      "/home/anibal/anaconda3/envs/pyLIMA_utd/lib/python3.11/site-packages/erfa/core.py:133: ErfaWarning: ERFA function \"utcut1\" yielded 86 of \"dubious year (Note 3)\"\n",
      "  warn(f'ERFA function \"{func_name}\" yielded {wmsg}', ErfaWarning)\n",
      "/home/anibal/anaconda3/envs/pyLIMA_utd/lib/python3.11/site-packages/erfa/core.py:133: ErfaWarning: ERFA function \"utctai\" yielded 87 of \"dubious year (Note 3)\"\n",
      "  warn(f'ERFA function \"{func_name}\" yielded {wmsg}', ErfaWarning)\n",
      "/home/anibal/anaconda3/envs/pyLIMA_utd/lib/python3.11/site-packages/erfa/core.py:133: ErfaWarning: ERFA function \"taiutc\" yielded 87 of \"dubious year (Note 4)\"\n",
      "  warn(f'ERFA function \"{func_name}\" yielded {wmsg}', ErfaWarning)\n",
      "/home/anibal/anaconda3/envs/pyLIMA_utd/lib/python3.11/site-packages/erfa/core.py:133: ErfaWarning: ERFA function \"utcut1\" yielded 87 of \"dubious year (Note 3)\"\n",
      "  warn(f'ERFA function \"{func_name}\" yielded {wmsg}', ErfaWarning)\n",
      "/home/anibal/anaconda3/envs/pyLIMA_utd/lib/python3.11/site-packages/erfa/core.py:133: ErfaWarning: ERFA function \"utctai\" yielded 25 of \"dubious year (Note 3)\"\n",
      "  warn(f'ERFA function \"{func_name}\" yielded {wmsg}', ErfaWarning)\n",
      "/home/anibal/anaconda3/envs/pyLIMA_utd/lib/python3.11/site-packages/erfa/core.py:133: ErfaWarning: ERFA function \"taiutc\" yielded 25 of \"dubious year (Note 4)\"\n",
      "  warn(f'ERFA function \"{func_name}\" yielded {wmsg}', ErfaWarning)\n",
      "/home/anibal/anaconda3/envs/pyLIMA_utd/lib/python3.11/site-packages/erfa/core.py:133: ErfaWarning: ERFA function \"utcut1\" yielded 25 of \"dubious year (Note 3)\"\n",
      "  warn(f'ERFA function \"{func_name}\" yielded {wmsg}', ErfaWarning)\n"
     ]
    },
    {
     "name": "stdout",
     "output_type": "stream",
     "text": [
      "initial_guess  : Initial parameters guess SUCCESS\n",
      "Using guess:  [2462592.427461098, 0.1474368375383864, 351.03436333528964, 9.353665605734084e-05, 1.1478599290943858, 0.0004842690847154, 2.170221123244217, 0.0058858226795134, -0.0320152930579978, 108.98890894257437, 227.1020197745454, 20.29705972956781, 44.95377491290438, 80.48701079970978, 115.85956729838873, 71.81287251572661, 166.46665663900635, 90.42961050277304, 198.9413151678031, 146.31165327648137, 218.25714149463693]\n",
      "fit  : Trust Region Reflective fit SUCCESS\n",
      "best_model: [2462582.4274610984, 0.10495356310421913, 702.0687266705792, 0.00018706593514021636, 1.3185220306150873, 0.0009685381694307999, 1.2034950788588044, 0.011771645359026799, -0.014090980994503205, 70.91695583930412, 423.48879683529674, 13.359252475582124, 86.29854109960397, 52.70380636424485, 220.82061602730195, 47.09836633813141, 320.91976690342983, 59.38744027325328, 381.11972104444334, 67.50109862098031, 413.56572370454626] chi2 302735.3463566707\n",
      "check_event  : Everything looks fine...\n",
      "Parallax(Full) estimated for the telescope Roman: SUCCESS\n",
      "initial_guess  : Initial parameters guess SUCCESS\n",
      "Using guess:  [2462592.427461098, 0.1474368375383864, 351.03436333528964, 9.353665605734084e-05, 1.1478599290943858, 0.0004842690847154, 2.170221123244217, 0.0058858226795134, -0.0320152930579978, 108.98890894257437, 227.1020197745454]\n",
      "fit  : Trust Region Reflective fit SUCCESS\n",
      "best_model: [2462582.4274675795, 0.18339734029226293, 455.7835264337163, 0.00015608337411324408, 1.1370732354187045, 0.0005881824539413075, 1.9723010068325673, 0.011771612038211735, -0.03314216701438488, 137.70507221182234, 427.9391257112973] chi2 316524.1271135638\n"
     ]
    }
   ],
   "source": [
    "sim_fit(i,model,algo,path_TRILEGAL_set,path_to_save_model,path_to_save_fit,path_ephemerides,path_dataslice)"
   ]
  },
  {
   "cell_type": "code",
   "execution_count": 4,
   "id": "af038dfd-a227-479e-a5fc-ca50449c8336",
   "metadata": {
    "tags": []
   },
   "outputs": [
    {
     "data": {
      "text/plain": [
       "['Event_RR_18_TRF.npy',\n",
       " 'Event_RR_0_TRF.npy',\n",
       " 'Event_0.h5',\n",
       " 'Event_Roman_18_TRF.npy',\n",
       " 'Event_18.h5',\n",
       " 'Event_Roman_0_TRF.npy']"
      ]
     },
     "execution_count": 4,
     "metadata": {},
     "output_type": "execute_result"
    }
   ],
   "source": [
    "os.listdir(path_to_save_model)"
   ]
  },
  {
   "cell_type": "code",
   "execution_count": 8,
   "id": "bfee1539-a805-4ca4-83ba-029840462227",
   "metadata": {
    "tags": []
   },
   "outputs": [
    {
     "name": "stdout",
     "output_type": "stream",
     "text": [
      "['18', '/home/anibal/roman_rubin/TRILEGAL/PB_planet_split_1.csv', ['third_caustic', [0, 0]]] {'alpha': 2.170221123244217, 'fblend_W149': 206.28179213395828, 'fblend_g': 100.45169468197552, 'fblend_i': 223.6983332752606, 'fblend_r': 69.10845649953637, 'fblend_u': 2.493525365117888, 'fblend_y': 87.62721758298721, 'fblend_z': 173.00884416162543, 'fsource_W149': 317.17398829050336, 'fsource_g': 114.33135273107756, 'fsource_i': 262.4849251897241, 'fsource_r': 380.0504336063954, 'fsource_u': 4.933245072029084, 'fsource_y': 131.55231680142592, 'fsource_z': 230.63654880597986, 'ftotal_W149': 523.4557804244616, 'ftotal_g': 214.78304741305308, 'ftotal_i': 486.1832584649847, 'ftotal_r': 449.1588901059318, 'ftotal_u': 7.426770437146972, 'ftotal_y': 219.17953438441313, 'ftotal_z': 403.6453929676053, 'gblend_W149': 0.6503742417395918, 'gblend_g': 0.8786014709215518, 'gblend_i': 0.852233068674597, 'gblend_r': 0.18184022537153455, 'gblend_u': 0.5054533737348428, 'gblend_y': 0.6661016674853225, 'gblend_z': 0.7501362861060108, 'mass_ratio': 0.0004842690847154, 'piEE': -0.0320152930579978, 'piEN': 0.0058858226795134, 'rho': 9.353665605734084e-05, 'separation': 1.1478599290943858, 't0': 2462555.2092552674, 'tE': 351.03436333528964, 't_center': 2462592.427461098, 'u0': 0.30260371100878064, 'u_center': 0.1474368375383864} {'W149': <QTable length=41568>\n",
      "       err_mag               mag                time       \n",
      "       float64             float64            float64      \n",
      "--------------------- ------------------ ------------------\n",
      " 0.006654699540251251  20.79944567024354          2461447.5\n",
      "0.0066907399497779674 20.811174162996345 2461447.5104166665\n",
      " 0.006653075147530749  20.79891555546852  2461447.520833333\n",
      " 0.006669121176619484  20.80414645365529 2461447.5312499995\n",
      " 0.006687185636736033 20.810020308037736  2461447.541666666\n",
      "  0.00665782671946364 20.800465849790488 2461447.5520833326\n",
      " 0.006632684437562429  20.79225008804239  2461447.562499999\n",
      " 0.006668492198189454  20.80394164800234 2461447.5729166656\n",
      "0.0066584526845010275 20.800670000780084  2461447.583333332\n",
      "                  ...                ...                ...\n",
      " 0.006288235002549542 20.676447229444513  2462980.395832262\n",
      " 0.006288024083502656 20.676374393017102 2462980.4062489285\n",
      " 0.006291612596456339 20.677613277299653  2462980.416665595\n",
      " 0.006319686999388989 20.687281256657762 2462980.4270822615\n",
      " 0.006299550207497723 20.680351119058283  2462980.437498928\n",
      " 0.006307624377969077 20.683132525897147 2462980.4479155946\n",
      " 0.006295313078915098 20.678890077687587  2462980.458332261\n",
      " 0.006297748382734439 20.679729936229453 2462980.4687489276\n",
      " 0.006312099760302117 20.684672681539087  2462980.479165594\n",
      " 0.006288973386391618 20.676702195426305 2462980.4895822606, 'u': <QTable length=0>\n",
      "err_mag   mag     time \n",
      "float64 float64 float64\n",
      "------- ------- -------, 'g': <QTable length=191>\n",
      "      err_mag               mag                time       \n",
      "      float64             float64            float64      \n",
      "-------------------- ------------------ ------------------\n",
      " 0.05950724200013523 22.520991599445082  2460418.798064238\n",
      " 0.04061767432048107 22.546351829001786 2460418.8007858275\n",
      "  0.0382202189464086 22.610230965405574  2460433.712841946\n",
      " 0.05255606021775317  22.50863203023506  2460441.746513849\n",
      " 0.03442805358347575  22.57524900663185 2460465.6721204473\n",
      " 0.03699428573208717  22.59099876297002  2460466.853070787\n",
      "0.060758159883184795 22.608734567479285 2460466.8535194555\n",
      "  0.0337012316399753 22.594941870158898  2460467.797469701\n",
      "0.060030795888067826 22.638906534765777 2460490.6235795515\n",
      "                 ...                ...                ...\n",
      " 0.05415979604776584  22.58198270369367 2463801.5462491903\n",
      " 0.03839314282426008 22.629004196540407 2463804.6808437854\n",
      "0.056318184045242706 22.493614325335173 2463804.6928256257\n",
      " 0.04207163787968579 22.533412986557895 2463834.5968907573\n",
      " 0.05178257543660776 22.567468275622037 2463836.6173883793\n",
      " 0.03611178152159449 22.536809258956485  2463836.617836237\n",
      " 0.04857791867478964   22.5457537242553  2463836.626426608\n",
      " 0.03393496939493447 22.524068931646738 2463853.5659067566\n",
      " 0.05547760806235453 22.568775120206155 2463856.5493293204\n",
      "0.027146932380502264 22.551474079482176 2463859.5329504614, 'r': <QTable length=197>\n",
      "      err_mag               mag                time       \n",
      "      float64             float64            float64      \n",
      "-------------------- ------------------ ------------------\n",
      "0.031933218095824244  21.51044389737925 2460413.7638286077\n",
      "0.016542877046111324  21.52469136157247 2460413.7660736754\n",
      "0.027378630128104042 21.528782139981846 2460418.8224778892\n",
      "0.029261018636740653 21.562123530008808 2460418.8252987918\n",
      " 0.03790413226170528 21.465308414096178  2460433.736847606\n",
      " 0.01734010194786872  21.51720834702524 2460434.9068727284\n",
      " 0.04795560279905061 21.404961957087384 2460441.7714510537\n",
      " 0.03183846477241883 21.510130092979946 2460490.6492131725\n",
      "0.022420572282527675 21.510751139937668 2460495.6187584414\n",
      "                 ...                ...                ...\n",
      " 0.03726672841629802   21.4728760605808 2463795.5132803395\n",
      "0.027262091294351753 21.530237118750158 2463804.6564149885\n",
      "0.025842996377314114 21.455129538124076 2463804.7167339153\n",
      "0.022628650141760243 21.535667661545347  2463804.723446101\n",
      "0.019832484435808494 21.529219887433612 2463834.6208454366\n",
      "0.027091888597236453  21.47611336347501 2463836.5934761316\n",
      " 0.02808022542583926  21.51427706322473 2463836.5939262146\n",
      "0.029922699055291064 21.540369645759657 2463836.6505123945\n",
      "0.030333038521968024 21.519402278856766 2463856.5740555692\n",
      " 0.08430139240274236 21.527996498229307 2463859.5086985207, 'i': <QTable length=195>\n",
      "      err_mag               mag                time       \n",
      "      float64             float64            float64      \n",
      "-------------------- ------------------ ------------------\n",
      "0.018144176067483343 21.159597266791277  2460413.788102894\n",
      " 0.03932253969082165 21.110495960313354  2460413.790359606\n",
      " 0.06311116184797434 21.145916485441507 2460418.9099950152\n",
      " 0.04649709997896078 21.182793333297088  2460418.921196972\n",
      " 0.05295967028084702 21.149284079256326 2460422.7991361674\n",
      " 0.03044644427705415 21.148647546952187 2460434.8951345733\n",
      " 0.05253401977863926  21.07999820729462 2460448.8760133814\n",
      " 0.06768699492537444 21.225521691469588 2460448.8779168515\n",
      "0.053618643467074824 21.067733437343982  2460460.873935638\n",
      "                 ...                ...                ...\n",
      "0.034473685993264266 21.140233701459856  2463752.673377322\n",
      " 0.02435768496759434  21.09884354316489 2463768.7532081343\n",
      "0.039501847403812074  21.08162302845639  2463784.572034256\n",
      "0.041815071461927464 21.093133353907103 2463792.7471020827\n",
      "0.032970747408630124 21.117291256720417 2463794.7349967896\n",
      " 0.03661658082950279 21.173962149488624 2463796.7359614526\n",
      " 0.03557923760158697 21.162489355972774  2463822.683784628\n",
      "0.028351705932930744   21.1496389510682  2463841.559719697\n",
      " 0.07630427956038116 21.256101107990837 2463854.5699972636\n",
      "0.057644656807573656 21.083825729592743 2463868.4912725613, 'z': <QTable length=176>\n",
      "      err_mag               mag                time       \n",
      "      float64             float64            float64      \n",
      "-------------------- ------------------ ------------------\n",
      " 0.04793681539605201 20.922040134658364 2460417.9120163107\n",
      "0.048141233534985686  20.91302615644119  2460422.824119487\n",
      " 0.06487176518310031 20.793791487832646 2460423.7952300785\n",
      " 0.05220578895337523 20.973398895392627 2460448.6848723167\n",
      " 0.04792651077176721 20.974428911727163 2460448.9004231775\n",
      " 0.04827914328254034 20.946918711807847 2460448.9022932015\n",
      " 0.06609529056866349 21.021391985703396  2460460.849993029\n",
      " 0.03879882829170062  20.89351627295375 2460476.8115007724\n",
      " 0.04827537090332951  20.91634278644622 2460486.7793298634\n",
      "                 ...                ...                ...\n",
      "   0.037538594489287 20.901878009027467  2463752.632816565\n",
      "0.041800261969559535   20.8745306006871 2463752.6490485296\n",
      "0.030706298148583316 20.940023947186987   2463768.77741443\n",
      "0.031345471460304634 20.939474240937585 2463784.5964151695\n",
      " 0.04601052026369618  20.85023998326814 2463794.7589634415\n",
      " 0.03463066734462863 20.952499030850586 2463796.7118993667\n",
      "0.040102689198662854 21.042801112314514 2463811.6655039615\n",
      " 0.03133750883875321  20.93467661897256 2463811.6659520343\n",
      " 0.04303187373102035 20.940295268839492 2463820.6392295836\n",
      " 0.07958690790458119 21.001117419890953 2463854.5452841897, 'y': <QTable length=55>\n",
      "      err_mag               mag                time       \n",
      "      float64             float64            float64      \n",
      "-------------------- ------------------ ------------------\n",
      " 0.06324595403457585 20.978726277243442 2460420.7613477865\n",
      "0.057219947866888075  20.81488380820491  2460420.761793955\n",
      " 0.11508283050470218 20.778090259516983 2460420.7845695126\n",
      " 0.08644644065658175  20.83143006733429  2460423.819855974\n",
      "0.045002862341867435 20.842215844539464 2460513.6568313474\n",
      "0.055964063666334905 20.825614128105116 2460513.6582005415\n",
      " 0.06630581046100784 20.869043709553477 2460513.6801918685\n",
      " 0.06619420210336795 20.804305092574566  2460513.681539964\n",
      " 0.15019035669541875 20.963997216428467 2460779.8015092737\n",
      "                 ...                ...                ...\n",
      " 0.12661613118113563 20.778458496010785 2463431.7377406345\n",
      "  0.1047310762854077  20.92074579873447 2463436.5658791433\n",
      " 0.07329404145534678 20.984432085659385 2463510.4908948047\n",
      " 0.09711325122633752 20.888538232652184  2463510.500488676\n",
      "  0.1015934221637758 20.610029255498105  2463791.702668585\n",
      " 0.08341742095994044  20.88137650359456  2463791.704518356\n",
      " 0.07069138882819773  20.89306870984829 2463791.7261974015\n",
      " 0.11839517097409925 20.759716675733753 2463811.6893878374\n",
      " 0.08449737951436605 20.974548668486637  2463811.689834066\n",
      "  0.1256428453716377  20.80000385342442   2463820.66317106}\n"
     ]
    }
   ],
   "source": [
    "from functions_roman_rubin import read_data\n",
    "info_dataset, pyLIMA_parameters, bands = read_data(path_to_save_model+'/Event_18.h5')\n",
    "print(info_dataset, pyLIMA_parameters, bands)"
   ]
  }
 ],
 "metadata": {
  "kernelspec": {
   "display_name": "PYLIMA_UTD",
   "language": "python",
   "name": "pylima_utd"
  },
  "language_info": {
   "codemirror_mode": {
    "name": "ipython",
    "version": 3
   },
   "file_extension": ".py",
   "mimetype": "text/x-python",
   "name": "python",
   "nbconvert_exporter": "python",
   "pygments_lexer": "ipython3",
   "version": "3.11.9"
  }
 },
 "nbformat": 4,
 "nbformat_minor": 5
}
