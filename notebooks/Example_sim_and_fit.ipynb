{
 "cells": [
  {
   "cell_type": "code",
   "execution_count": 1,
   "id": "1fc7148b-6a47-4a6b-87a9-1f9f087146e2",
   "metadata": {
    "tags": []
   },
   "outputs": [
    {
     "ename": "ModuleNotFoundError",
     "evalue": "No module named 'functions_roman_rubin'",
     "output_type": "error",
     "traceback": [
      "\u001b[0;31m---------------------------------------------------------------------------\u001b[0m",
      "\u001b[0;31mModuleNotFoundError\u001b[0m                       Traceback (most recent call last)",
      "Cell \u001b[0;32mIn[1], line 2\u001b[0m\n\u001b[1;32m      1\u001b[0m \u001b[38;5;28;01mimport\u001b[39;00m \u001b[38;5;21;01mos\u001b[39;00m\u001b[38;5;241m,\u001b[39m \u001b[38;5;21;01msys\u001b[39;00m\n\u001b[0;32m----> 2\u001b[0m \u001b[38;5;28;01mfrom\u001b[39;00m \u001b[38;5;21;01mfunctions_roman_rubin\u001b[39;00m \u001b[38;5;28;01mimport\u001b[39;00m model_rubin_roman\n\u001b[1;32m      3\u001b[0m \u001b[38;5;28;01mfrom\u001b[39;00m \u001b[38;5;21;01mfunctions_roman_rubin\u001b[39;00m \u001b[38;5;28;01mimport\u001b[39;00m read_data\n\u001b[1;32m      4\u001b[0m \u001b[38;5;28;01mimport\u001b[39;00m \u001b[38;5;21;01mnumpy\u001b[39;00m \u001b[38;5;28;01mas\u001b[39;00m \u001b[38;5;21;01mnp\u001b[39;00m\n",
      "\u001b[0;31mModuleNotFoundError\u001b[0m: No module named 'functions_roman_rubin'"
     ]
    }
   ],
   "source": [
    "import os, sys\n",
    "from functions_roman_rubin import model_rubin_roman\n",
    "from functions_roman_rubin import read_data\n",
    "import numpy as np\n",
    "import matplotlib.pyplot as plt\n",
    "from pyLIMA.outputs import pyLIMA_plots\n",
    "from cycler import cycler\n",
    "\n",
    "sys.path.append(os.path.dirname(os.getcwd()))\n",
    "from functions_roman_rubin import sim_fit\n",
    "current_path = os.path.dirname(os.getcwd())\n",
    "# print(current_path)\n",
    "i=18\n",
    "model='USBL'\n",
    "algo='TRF'\n",
    "path_TRILEGAL_set= current_path+'/TRILEGAL/PB_planet_split_1.csv'\n",
    "path_to_save_model= current_path+'/test_sim_fit/'\n",
    "path_to_save_fit= current_path+'/test_sim_fit/'\n",
    "path_ephemerides= current_path+'/ephemerides/Gaia.txt'\n",
    "path_dataslice = current_path+'/opsims/baseline/dataSlice.npy'"
   ]
  },
  {
   "cell_type": "code",
   "execution_count": null,
   "id": "eb76b59e-20cf-48ac-986a-aa9f564b5b1b",
   "metadata": {
    "tags": []
   },
   "outputs": [],
   "source": [
    "sim_fit(i,model,algo,path_TRILEGAL_set,path_to_save_model,path_to_save_fit,path_ephemerides,path_dataslice)"
   ]
  },
  {
   "cell_type": "code",
   "execution_count": null,
   "id": "af038dfd-a227-479e-a5fc-ca50449c8336",
   "metadata": {
    "tags": []
   },
   "outputs": [],
   "source": [
    "os.listdir(path_to_save_model)"
   ]
  },
  {
   "cell_type": "code",
   "execution_count": null,
   "id": "bfee1539-a805-4ca4-83ba-029840462227",
   "metadata": {
    "tags": []
   },
   "outputs": [],
   "source": [
    "info_dataset, pyLIMA_parameters, bands = read_data(path_to_save_model+'/Event_18.h5')"
   ]
  },
  {
   "cell_type": "code",
   "execution_count": null,
   "id": "048b2a99-664b-410b-ba6a-09974b1934c6",
   "metadata": {
    "tags": []
   },
   "outputs": [],
   "source": [
    "ZP = {'W149':27.615, 'u':27.03, 'g':28.38, 'r':28.16,\n",
    "          'i':27.85, 'z':27.46, 'y':26.68}\n",
    "colorbands={'W149':'b', 'u':'purple', 'g':'g', 'r':'red',\n",
    "          'i':'yellow', 'z':'k', 'y':'cyan'}"
   ]
  },
  {
   "cell_type": "code",
   "execution_count": null,
   "id": "c0e726ff-2469-4258-a36b-64b7c61a30f0",
   "metadata": {
    "tags": []
   },
   "outputs": [],
   "source": [
    "path_fit_rr = path_to_save_fit+f'/Event_RR_{18}_TRF.npy'\n",
    "path_fit_roman =  path_to_save_fit+f'/Event_Roman_{18}_TRF.npy'\n",
    "\n",
    "data_fit_rr = np.load(path_fit_rr,allow_pickle=True).item()\n",
    "data_fit_roman = np.load(path_fit_roman,allow_pickle=True).item()"
   ]
  },
  {
   "cell_type": "code",
   "execution_count": null,
   "id": "41c8fc6a-1a07-477e-ac8f-fde39d5543c7",
   "metadata": {
    "tags": []
   },
   "outputs": [],
   "source": [
    "print(data_fit_rr['best_model'])\n",
    "print(data_fit_roman['best_model'])\n",
    "print(pyLIMA_parameters)\n",
    "ulens_params = []\n",
    "PAR = ['t_center','u_center','tE','rho','separation','mass_ratio','alpha','piEN','piEE']\n",
    "# PAR = ['t0','u0','tE','piEN','piEE']\n",
    "for b in (PAR):\n",
    "    ulens_params.append(pyLIMA_parameters[b])\n",
    "flux_params = []\n",
    "for b in bands:\n",
    "    if not len(bands[b])==0:\n",
    "        zp_Rubin_to_pyLIMA = (10**((-27.4+ZP[b])/2.5))\n",
    "        \n",
    "        flux_params.append(pyLIMA_parameters['fsource_'+b]/zp_Rubin_to_pyLIMA)\n",
    "        flux_params.append(pyLIMA_parameters['ftotal_'+b]/zp_Rubin_to_pyLIMA)\n",
    "        \n",
    "true_params = ulens_params+flux_params"
   ]
  },
  {
   "cell_type": "code",
   "execution_count": null,
   "id": "576b3026-27f5-4186-897a-2c30161c10ec",
   "metadata": {
    "tags": []
   },
   "outputs": [],
   "source": [
    "model_ulens = 'USBL'\n",
    "\n",
    "Source = 18\n",
    "event_params = pyLIMA_parameters\n",
    "event_params['te']=event_params['tE']\n",
    "event_params['s']=event_params['separation']\n",
    "event_params['q']=event_params['mass_ratio']\n",
    "\n",
    "f= 'W149'\n",
    "wfirst_lc = np.array([bands[f]['time'],bands[f]['mag'],bands[f]['err_mag']]).T\n",
    "f = 'u'\n",
    "lsst_u = np.array([bands[f]['time'],bands[f]['mag'],bands[f]['err_mag']]).T\n",
    "f='g'\n",
    "lsst_g = np.array([bands[f]['time'],bands[f]['mag'],bands[f]['err_mag']]).T\n",
    "f='r'\n",
    "lsst_r = np.array([bands[f]['time'],bands[f]['mag'],bands[f]['err_mag']]).T\n",
    "f='i'\n",
    "lsst_i = np.array([bands[f]['time'],bands[f]['mag'],bands[f]['err_mag']]).T\n",
    "f='z'\n",
    "lsst_z = np.array([bands[f]['time'],bands[f]['mag'],bands[f]['err_mag']]).T\n",
    "f='z'\n",
    "lsst_y = np.array([bands[f]['time'],bands[f]['mag'],bands[f]['err_mag']]).T\n",
    "\n",
    "model_true = model_rubin_roman(Source,True,event_params, path_ephemerides,model_ulens, wfirst_lc, lsst_u, lsst_g, lsst_r, lsst_i, lsst_z,\n",
    "                    lsst_y)\n",
    "\n",
    "# {'t_center':data_fit_rr['best_model'][0]}\n",
    "model_rr = model_rubin_roman(Source,False,event_params, path_ephemerides,model_ulens, wfirst_lc, lsst_u, lsst_g, lsst_r, lsst_i, lsst_z,\n",
    "                    lsst_y)\n",
    "# {'t_center':data_fit_roman['best_model'][0]}\n",
    "model_roman = model_rubin_roman(Source,False,event_params, path_ephemerides,model_ulens, wfirst_lc, [], [], [], [], [],[])\n",
    "\n",
    "# model1 = model_rubin_roman(Source,event_params, path_ephemerides,model_ulens, wfirst_lc, lsst_u, lsst_g, lsst_r, lsst_i, lsst_z,\n",
    "#                     lsst_y)"
   ]
  },
  {
   "cell_type": "code",
   "execution_count": null,
   "id": "05fa587a-5a1e-4136-a7be-6588b08fad6c",
   "metadata": {},
   "outputs": [],
   "source": [
    "\n",
    "plt.close('all')\n",
    "# custom_cycler = (cycler(color=custom_color))\n",
    "\n",
    "# pyLIMA_plots.MARKERS_COLORS = custom_cycler\n",
    "# pyLIMA_plots.MARKER_SYMBOLS = np.array([custom_marker])\n",
    "### Find the telescope fluxes if needed\n",
    "\n",
    "if len(data_fit_rr['best_model']) != len(model_rr.model_dictionnary):\n",
    "    telescopes_fluxes = model_rr.find_telescopes_fluxes(data_fit_rr['best_model'])\n",
    "    # print(telescopes_fluxes)\n",
    "    # print(telescopes_fluxes['fsource_Roman'])\n",
    "    telescopes_fluxes = [telescopes_fluxes[key] for key in\n",
    "                         telescopes_fluxes]#._fields]\n",
    "    model_parameters1 = np.r_[data_fit_rr['best_model'], telescopes_fluxes]\n",
    "    # print(model_parameters1)\n",
    "else:\n",
    "    # print('its here')\n",
    "    model_parameters1 = data_fit_rr['best_model']\n",
    "\n",
    "    \n",
    "if len(data_fit_roman['best_model']) != len(model_roman.model_dictionnary):\n",
    "    telescopes_fluxes = model_roman.find_telescopes_fluxes(data_fit_roman['best_model'])\n",
    "    telescopes_fluxes = [telescopes_fluxes[key] for key in\n",
    "                         telescopes_fluxes]#._fields]\n",
    "    model_parameters2 = np.r_[data_fit_rr['best_model'], telescopes_fluxes]\n",
    "else:\n",
    "    model_parameters2 = data_fit_rr['best_model']\n",
    "    \n",
    "# if len(true_params) != len(model_true.model_dictionnary):\n",
    "#     telescopes_fluxes = model_true.find_telescopes_fluxes(true_params)\n",
    "#     telescopes_fluxes = [getattr(telescopes_fluxes, key) for key in\n",
    "#                          telescopes_fluxes]#._fields]\n",
    "#     model_parameters3 = np.r_[true_params, telescopes_fluxes]\n",
    "# else:\n",
    "#     model_parameters3 = true_params"
   ]
  },
  {
   "cell_type": "code",
   "execution_count": null,
   "id": "1f501f88-1df7-4f73-9353-3c40ee8d9e8c",
   "metadata": {},
   "outputs": [],
   "source": [
    "\n",
    "# tmin, tmax = 2460200., data_ogle[-1,0]+5.\n",
    "# tmin, tmax = 2460160., data_ogle[-1,0]+20.\n",
    "fig, axes = plt.subplots(3, 1,figsize=(10,10), height_ratios=[3, 1,1], sharex=True)\n",
    "\n",
    "# Lc plot\n",
    "axes[0].title.set_text('name')\n",
    "axes[0].set_ylabel(\"magnitude\") \n",
    "axes[0].grid(True, color='0.95')\n",
    "axes[0].invert_yaxis()\n",
    "# axes[0].set_xlim(tmin, tmax)\n",
    "# axes[0].set_ylim(18.5, 12.5) \n",
    "# axes[0].set_ylim(17.5, 12.5) \n",
    "\n",
    "#Plot model1 and align data to it\n",
    "pyLIMA_plots.plot_photometric_models(axes[0], model_rr, data_fit_rr['best_model'], plot_unit='Mag')\n",
    "pyLIMA_plots.plot_photometric_models(axes[0], model_roman, data_fit_roman['best_model'], plot_unit='Mag')\n",
    "pyLIMA_plots.plot_photometric_models(axes[0], model_true, true_params, plot_unit='Mag')\n",
    "pyLIMA_plots.plot_aligned_data(axes[0], model_rr, data_fit_rr['best_model'], plot_unit='Mag')\n",
    "# model_parameters2\n",
    "# model_parameters3\n",
    "colors = ['darkslategray', 'gray', 'lightgray']\n",
    "\n",
    "# for i in range(len(spec_jds)):\n",
    "#     axes[0].axvline(x=spec_jds[i], label='Spec_'+str(i), ls='--', color=colors[i])\n",
    "\n",
    "# plot residuals\n",
    "axes[1].set_ylabel(\"$\\Delta m_{RR} $\") \n",
    "axes[1].grid(True, color='0.95')\n",
    "axes[2].set_ylabel(\"$\\Delta m_{Roman} $\") \n",
    "axes[2].grid(True, color='0.95')\n",
    "\n",
    "pyLIMA_plots.plot_residuals(axes[1], model_rr, data_fit_rr['best_model'], plot_unit='Mag')\n",
    "pyLIMA_plots.plot_residuals(axes[2], model_roman, data_fit_roman['best_model'], plot_unit='Mag')\n",
    "# axes[1].set_xlim(tmin, tmax)\n",
    "axes[1].set_ylim(-2.5, 1)\n",
    "axes[1].axhline(y=0)\n",
    "\n",
    "# for i in range(len(spec_jds)):\n",
    "#     axes[1].axvline(x=spec_jds[i], ls='--', color=colors[i])\n",
    "\n",
    "axes[0].legend(shadow=True, fontsize='large',\n",
    "                          bbox_to_anchor=(0, 1.02, 1, 0.2),\n",
    "                          loc=\"lower left\",\n",
    "                          mode=\"expand\", borderaxespad=0, ncol=3)\n",
    "plt.show()\n"
   ]
  },
  {
   "cell_type": "code",
   "execution_count": null,
   "id": "4e0d2b9d-2414-4627-925d-79a4f6240ff1",
   "metadata": {},
   "outputs": [],
   "source": []
  }
 ],
 "metadata": {
  "kernelspec": {
   "display_name": "PYLIMA_UTD",
   "language": "python",
   "name": "pylima_utd"
  },
  "language_info": {
   "codemirror_mode": {
    "name": "ipython",
    "version": 3
   },
   "file_extension": ".py",
   "mimetype": "text/x-python",
   "name": "python",
   "nbconvert_exporter": "python",
   "pygments_lexer": "ipython3",
   "version": "3.11.9"
  }
 },
 "nbformat": 4,
 "nbformat_minor": 5
}
