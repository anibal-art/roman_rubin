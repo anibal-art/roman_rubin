{
 "cells": [
  {
   "cell_type": "code",
   "execution_count": 1,
   "id": "1fc7148b-6a47-4a6b-87a9-1f9f087146e2",
   "metadata": {
    "tags": []
   },
   "outputs": [
    {
     "name": "stdout",
     "output_type": "stream",
     "text": [
      "/home/anibal/roman_rubin\n"
     ]
    }
   ],
   "source": [
    "import os, sys\n",
    "import numpy as np\n",
    "import matplotlib.pyplot as plt\n",
    "from pyLIMA.outputs import pyLIMA_plots\n",
    "from cycler import cycler\n",
    "\n",
    "sys.path.append(os.path.dirname(os.getcwd()))\n",
    "from functions_roman_rubin import sim_fit\n",
    "from functions_roman_rubin import model_rubin_roman\n",
    "from functions_roman_rubin import read_data\n",
    "\n",
    "current_path = os.path.dirname(os.getcwd())\n",
    "# print(current_path)\n",
    "i=18\n",
    "model='USBL'\n",
    "algo='TRF'\n",
    "path_TRILEGAL_set= current_path+'/TRILEGAL/PB_planet_split_1.csv'\n",
    "path_to_save_model= current_path+'/test_sim_fit/'\n",
    "path_to_save_fit= current_path+'/test_sim_fit/'\n",
    "path_ephemerides= current_path+'/ephemerides/Gaia.txt'\n",
    "path_dataslice = current_path+'/opsims/baseline/dataSlice.npy'\n",
    "path_fit_rr = path_to_save_fit+f'/Event_RR_{i}_TRF.npy'\n",
    "path_fit_roman =  path_to_save_fit+f'/Event_Roman_{i}_TRF.npy'\n",
    "ZP = {'W149':27.615, 'u':27.03, 'g':28.38, 'r':28.16,\n",
    "          'i':27.85, 'z':27.46, 'y':26.68}\n",
    "colorbands={'W149':'b', 'u':'purple', 'g':'g', 'r':'red',\n",
    "          'i':'yellow', 'z':'k', 'y':'cyan'}"
   ]
  },
  {
   "cell_type": "code",
   "execution_count": 2,
   "id": "af038dfd-a227-479e-a5fc-ca50449c8336",
   "metadata": {
    "tags": []
   },
   "outputs": [],
   "source": [
    "# os.listdir(path_to_save_model)"
   ]
  },
  {
   "cell_type": "code",
   "execution_count": 3,
   "id": "eb76b59e-20cf-48ac-986a-aa9f564b5b1b",
   "metadata": {
    "tags": []
   },
   "outputs": [
    {
     "name": "stdout",
     "output_type": "stream",
     "text": [
      "/home/anibal/roman_rubin\n"
     ]
    },
    {
     "name": "stderr",
     "output_type": "stream",
     "text": [
      "/home/anibal/anaconda3/envs/pyLIMA_utd/lib/python3.11/site-packages/erfa/core.py:133: ErfaWarning: ERFA function \"dtf2d\" yielded 1 of \"dubious year (Note 6)\"\n",
      "  warn(f'ERFA function \"{func_name}\" yielded {wmsg}', ErfaWarning)\n",
      "/home/anibal/anaconda3/envs/pyLIMA_utd/lib/python3.11/site-packages/erfa/core.py:133: ErfaWarning: ERFA function \"utctai\" yielded 20736 of \"dubious year (Note 3)\"\n",
      "  warn(f'ERFA function \"{func_name}\" yielded {wmsg}', ErfaWarning)\n",
      "/home/anibal/anaconda3/envs/pyLIMA_utd/lib/python3.11/site-packages/erfa/core.py:133: ErfaWarning: ERFA function \"taiutc\" yielded 20736 of \"dubious year (Note 4)\"\n",
      "  warn(f'ERFA function \"{func_name}\" yielded {wmsg}', ErfaWarning)\n",
      "/home/anibal/anaconda3/envs/pyLIMA_utd/lib/python3.11/site-packages/erfa/core.py:133: ErfaWarning: ERFA function \"utctai\" yielded 1 of \"dubious year (Note 3)\"\n",
      "  warn(f'ERFA function \"{func_name}\" yielded {wmsg}', ErfaWarning)\n",
      "/home/anibal/anaconda3/envs/pyLIMA_utd/lib/python3.11/site-packages/erfa/core.py:133: ErfaWarning: ERFA function \"taiutc\" yielded 1 of \"dubious year (Note 4)\"\n",
      "  warn(f'ERFA function \"{func_name}\" yielded {wmsg}', ErfaWarning)\n",
      "/home/anibal/anaconda3/envs/pyLIMA_utd/lib/python3.11/site-packages/erfa/core.py:133: ErfaWarning: ERFA function \"utctai\" yielded 12 of \"dubious year (Note 3)\"\n",
      "  warn(f'ERFA function \"{func_name}\" yielded {wmsg}', ErfaWarning)\n",
      "/home/anibal/anaconda3/envs/pyLIMA_utd/lib/python3.11/site-packages/erfa/core.py:133: ErfaWarning: ERFA function \"taiutc\" yielded 12 of \"dubious year (Note 4)\"\n",
      "  warn(f'ERFA function \"{func_name}\" yielded {wmsg}', ErfaWarning)\n"
     ]
    },
    {
     "name": "stdout",
     "output_type": "stream",
     "text": [
      "Parallax(Full) estimated for the telescope W149: SUCCESS\n"
     ]
    },
    {
     "name": "stderr",
     "output_type": "stream",
     "text": [
      "/home/anibal/anaconda3/envs/pyLIMA_utd/lib/python3.11/site-packages/erfa/core.py:133: ErfaWarning: ERFA function \"utcut1\" yielded 12 of \"dubious year (Note 3)\"\n",
      "  warn(f'ERFA function \"{func_name}\" yielded {wmsg}', ErfaWarning)\n",
      "/home/anibal/anaconda3/envs/pyLIMA_utd/lib/python3.11/site-packages/erfa/core.py:133: ErfaWarning: ERFA function \"utctai\" yielded 96 of \"dubious year (Note 3)\"\n",
      "  warn(f'ERFA function \"{func_name}\" yielded {wmsg}', ErfaWarning)\n",
      "/home/anibal/anaconda3/envs/pyLIMA_utd/lib/python3.11/site-packages/erfa/core.py:133: ErfaWarning: ERFA function \"taiutc\" yielded 96 of \"dubious year (Note 4)\"\n",
      "  warn(f'ERFA function \"{func_name}\" yielded {wmsg}', ErfaWarning)\n",
      "/home/anibal/anaconda3/envs/pyLIMA_utd/lib/python3.11/site-packages/erfa/core.py:133: ErfaWarning: ERFA function \"utcut1\" yielded 96 of \"dubious year (Note 3)\"\n",
      "  warn(f'ERFA function \"{func_name}\" yielded {wmsg}', ErfaWarning)\n",
      "/home/anibal/anaconda3/envs/pyLIMA_utd/lib/python3.11/site-packages/erfa/core.py:133: ErfaWarning: ERFA function \"utctai\" yielded 86 of \"dubious year (Note 3)\"\n",
      "  warn(f'ERFA function \"{func_name}\" yielded {wmsg}', ErfaWarning)\n",
      "/home/anibal/anaconda3/envs/pyLIMA_utd/lib/python3.11/site-packages/erfa/core.py:133: ErfaWarning: ERFA function \"taiutc\" yielded 86 of \"dubious year (Note 4)\"\n",
      "  warn(f'ERFA function \"{func_name}\" yielded {wmsg}', ErfaWarning)\n",
      "/home/anibal/anaconda3/envs/pyLIMA_utd/lib/python3.11/site-packages/erfa/core.py:133: ErfaWarning: ERFA function \"utcut1\" yielded 86 of \"dubious year (Note 3)\"\n",
      "  warn(f'ERFA function \"{func_name}\" yielded {wmsg}', ErfaWarning)\n",
      "/home/anibal/anaconda3/envs/pyLIMA_utd/lib/python3.11/site-packages/erfa/core.py:133: ErfaWarning: ERFA function \"utctai\" yielded 87 of \"dubious year (Note 3)\"\n",
      "  warn(f'ERFA function \"{func_name}\" yielded {wmsg}', ErfaWarning)\n",
      "/home/anibal/anaconda3/envs/pyLIMA_utd/lib/python3.11/site-packages/erfa/core.py:133: ErfaWarning: ERFA function \"taiutc\" yielded 87 of \"dubious year (Note 4)\"\n",
      "  warn(f'ERFA function \"{func_name}\" yielded {wmsg}', ErfaWarning)\n",
      "/home/anibal/anaconda3/envs/pyLIMA_utd/lib/python3.11/site-packages/erfa/core.py:133: ErfaWarning: ERFA function \"utcut1\" yielded 87 of \"dubious year (Note 3)\"\n",
      "  warn(f'ERFA function \"{func_name}\" yielded {wmsg}', ErfaWarning)\n",
      "/home/anibal/anaconda3/envs/pyLIMA_utd/lib/python3.11/site-packages/erfa/core.py:133: ErfaWarning: ERFA function \"utctai\" yielded 25 of \"dubious year (Note 3)\"\n",
      "  warn(f'ERFA function \"{func_name}\" yielded {wmsg}', ErfaWarning)\n",
      "/home/anibal/anaconda3/envs/pyLIMA_utd/lib/python3.11/site-packages/erfa/core.py:133: ErfaWarning: ERFA function \"taiutc\" yielded 25 of \"dubious year (Note 4)\"\n",
      "  warn(f'ERFA function \"{func_name}\" yielded {wmsg}', ErfaWarning)\n",
      "/home/anibal/anaconda3/envs/pyLIMA_utd/lib/python3.11/site-packages/erfa/core.py:133: ErfaWarning: ERFA function \"utcut1\" yielded 25 of \"dubious year (Note 3)\"\n",
      "  warn(f'ERFA function \"{func_name}\" yielded {wmsg}', ErfaWarning)\n"
     ]
    },
    {
     "name": "stdout",
     "output_type": "stream",
     "text": [
      "Parallax(Full) estimated for the telescope u: SUCCESS\n",
      "Parallax(Full) estimated for the telescope g: SUCCESS\n",
      "Parallax(Full) estimated for the telescope r: SUCCESS\n",
      "Parallax(Full) estimated for the telescope i: SUCCESS\n",
      "Parallax(Full) estimated for the telescope z: SUCCESS\n",
      "Parallax(Full) estimated for the telescope y: SUCCESS\n",
      "['third_caustic', [0, 0]]\n",
      "A good event to fit\n",
      "u                                  24.853\n",
      "g                                   22.55\n",
      "r                                  21.529\n",
      "i                                  21.133\n",
      "z                                  20.945\n",
      "Y                                  20.828\n",
      "W149                              20.8178\n",
      "radius                           0.513042\n",
      "D_S                                  5156\n",
      "D_L                                  2817\n",
      "mu_rel                           5.147491\n",
      "m_planet    9.462530108421484 jupiterMass\n",
      "m_star          18.65259824621826 solMass\n",
      "t0                         2462592.427461\n",
      "te                             351.034363\n",
      "u0                               0.147437\n",
      "rho                              0.000094\n",
      "piEE                            -0.032015\n",
      "piEN                             0.005886\n",
      "s                                 1.14786\n",
      "q                                0.000484\n",
      "alpha                            2.170221\n",
      "Name: 18, dtype: object\n",
      "OrderedDict([('t_center', 2462592.427461098), ('u_center', 0.1474368375383864), ('tE', 351.03436333528964), ('rho', 9.353665605734084e-05), ('separation', 1.1478599290943858), ('mass_ratio', 0.0004842690847154), ('alpha', 2.170221123244217), ('piEN', 0.0058858226795134), ('piEE', -0.0320152930579978), ('fsource_W149', 317.17398829050336), ('ftotal_W149', 523.4557804244616), ('fsource_u', 4.933245072029084), ('ftotal_u', 7.426770437146972), ('fsource_g', 114.33135273107756), ('ftotal_g', 214.78304741305308), ('fsource_r', 380.0504336063954), ('ftotal_r', 449.1588901059318), ('fsource_i', 262.4849251897241), ('ftotal_i', 486.1832584649847), ('fsource_z', 230.63654880597986), ('ftotal_z', 403.6453929676053), ('fsource_y', 131.55231680142592), ('ftotal_y', 219.17953438441313), ('t0', 2462555.2092552674), ('u0', 0.30260371100878064), ('fblend_W149', 206.28179213395828), ('gblend_W149', 0.6503742417395918), ('fblend_u', 2.493525365117888), ('gblend_u', 0.5054533737348428), ('fblend_g', 100.45169468197552), ('gblend_g', 0.8786014709215518), ('fblend_r', 69.10845649953637), ('gblend_r', 0.18184022537153455), ('fblend_i', 223.6983332752606), ('gblend_i', 0.852233068674597), ('fblend_z', 173.00884416162543), ('gblend_z', 0.7501362861060108), ('fblend_y', 87.62721758298721), ('gblend_y', 0.6661016674853225)])\n",
      "Save the data and fit with  TRF\n",
      "saving...\n",
      "check_event  : Everything looks fine...\n"
     ]
    },
    {
     "name": "stderr",
     "output_type": "stream",
     "text": [
      "/home/anibal/anaconda3/envs/pyLIMA_utd/lib/python3.11/site-packages/erfa/core.py:133: ErfaWarning: ERFA function \"utctai\" yielded 20736 of \"dubious year (Note 3)\"\n",
      "  warn(f'ERFA function \"{func_name}\" yielded {wmsg}', ErfaWarning)\n",
      "/home/anibal/anaconda3/envs/pyLIMA_utd/lib/python3.11/site-packages/erfa/core.py:133: ErfaWarning: ERFA function \"taiutc\" yielded 20736 of \"dubious year (Note 4)\"\n",
      "  warn(f'ERFA function \"{func_name}\" yielded {wmsg}', ErfaWarning)\n"
     ]
    },
    {
     "name": "stdout",
     "output_type": "stream",
     "text": [
      "Parallax(Full) estimated for the telescope Roman: SUCCESS\n",
      "Parallax(Full) estimated for the telescope g: SUCCESS\n",
      "Parallax(Full) estimated for the telescope r: SUCCESS\n",
      "Parallax(Full) estimated for the telescope i: SUCCESS\n",
      "Parallax(Full) estimated for the telescope z: SUCCESS\n",
      "Parallax(Full) estimated for the telescope y: SUCCESS\n"
     ]
    },
    {
     "name": "stderr",
     "output_type": "stream",
     "text": [
      "/home/anibal/anaconda3/envs/pyLIMA_utd/lib/python3.11/site-packages/erfa/core.py:133: ErfaWarning: ERFA function \"utctai\" yielded 1 of \"dubious year (Note 3)\"\n",
      "  warn(f'ERFA function \"{func_name}\" yielded {wmsg}', ErfaWarning)\n",
      "/home/anibal/anaconda3/envs/pyLIMA_utd/lib/python3.11/site-packages/erfa/core.py:133: ErfaWarning: ERFA function \"taiutc\" yielded 1 of \"dubious year (Note 4)\"\n",
      "  warn(f'ERFA function \"{func_name}\" yielded {wmsg}', ErfaWarning)\n",
      "/home/anibal/anaconda3/envs/pyLIMA_utd/lib/python3.11/site-packages/erfa/core.py:133: ErfaWarning: ERFA function \"utctai\" yielded 96 of \"dubious year (Note 3)\"\n",
      "  warn(f'ERFA function \"{func_name}\" yielded {wmsg}', ErfaWarning)\n",
      "/home/anibal/anaconda3/envs/pyLIMA_utd/lib/python3.11/site-packages/erfa/core.py:133: ErfaWarning: ERFA function \"taiutc\" yielded 96 of \"dubious year (Note 4)\"\n",
      "  warn(f'ERFA function \"{func_name}\" yielded {wmsg}', ErfaWarning)\n",
      "/home/anibal/anaconda3/envs/pyLIMA_utd/lib/python3.11/site-packages/erfa/core.py:133: ErfaWarning: ERFA function \"utcut1\" yielded 96 of \"dubious year (Note 3)\"\n",
      "  warn(f'ERFA function \"{func_name}\" yielded {wmsg}', ErfaWarning)\n",
      "/home/anibal/anaconda3/envs/pyLIMA_utd/lib/python3.11/site-packages/erfa/core.py:133: ErfaWarning: ERFA function \"utctai\" yielded 86 of \"dubious year (Note 3)\"\n",
      "  warn(f'ERFA function \"{func_name}\" yielded {wmsg}', ErfaWarning)\n",
      "/home/anibal/anaconda3/envs/pyLIMA_utd/lib/python3.11/site-packages/erfa/core.py:133: ErfaWarning: ERFA function \"taiutc\" yielded 86 of \"dubious year (Note 4)\"\n",
      "  warn(f'ERFA function \"{func_name}\" yielded {wmsg}', ErfaWarning)\n",
      "/home/anibal/anaconda3/envs/pyLIMA_utd/lib/python3.11/site-packages/erfa/core.py:133: ErfaWarning: ERFA function \"utcut1\" yielded 86 of \"dubious year (Note 3)\"\n",
      "  warn(f'ERFA function \"{func_name}\" yielded {wmsg}', ErfaWarning)\n",
      "/home/anibal/anaconda3/envs/pyLIMA_utd/lib/python3.11/site-packages/erfa/core.py:133: ErfaWarning: ERFA function \"utctai\" yielded 87 of \"dubious year (Note 3)\"\n",
      "  warn(f'ERFA function \"{func_name}\" yielded {wmsg}', ErfaWarning)\n",
      "/home/anibal/anaconda3/envs/pyLIMA_utd/lib/python3.11/site-packages/erfa/core.py:133: ErfaWarning: ERFA function \"taiutc\" yielded 87 of \"dubious year (Note 4)\"\n",
      "  warn(f'ERFA function \"{func_name}\" yielded {wmsg}', ErfaWarning)\n",
      "/home/anibal/anaconda3/envs/pyLIMA_utd/lib/python3.11/site-packages/erfa/core.py:133: ErfaWarning: ERFA function \"utcut1\" yielded 87 of \"dubious year (Note 3)\"\n",
      "  warn(f'ERFA function \"{func_name}\" yielded {wmsg}', ErfaWarning)\n",
      "/home/anibal/anaconda3/envs/pyLIMA_utd/lib/python3.11/site-packages/erfa/core.py:133: ErfaWarning: ERFA function \"utctai\" yielded 25 of \"dubious year (Note 3)\"\n",
      "  warn(f'ERFA function \"{func_name}\" yielded {wmsg}', ErfaWarning)\n",
      "/home/anibal/anaconda3/envs/pyLIMA_utd/lib/python3.11/site-packages/erfa/core.py:133: ErfaWarning: ERFA function \"taiutc\" yielded 25 of \"dubious year (Note 4)\"\n",
      "  warn(f'ERFA function \"{func_name}\" yielded {wmsg}', ErfaWarning)\n",
      "/home/anibal/anaconda3/envs/pyLIMA_utd/lib/python3.11/site-packages/erfa/core.py:133: ErfaWarning: ERFA function \"utcut1\" yielded 25 of \"dubious year (Note 3)\"\n",
      "  warn(f'ERFA function \"{func_name}\" yielded {wmsg}', ErfaWarning)\n"
     ]
    },
    {
     "name": "stdout",
     "output_type": "stream",
     "text": [
      "initial_guess  : Initial parameters guess SUCCESS\n",
      "Using guess:  [2462592.427461098, 0.1474368375383864, 351.03436333528964, 9.353665605734084e-05, 1.1478599290943858, 0.0004842690847154, 2.170221123244217, 0.0058858226795134, -0.0320152930579978, 108.98890894257437, 227.1020197745454, 20.29705972956781, 44.95377491290438, 80.48701079970978, 115.85956729838873, 71.81287251572661, 166.46665663900635, 90.42961050277304, 198.9413151678031, 146.31165327648137, 218.25714149463693]\n",
      "fit  : Trust Region Reflective fit SUCCESS\n",
      "best_model: [2462582.4696181794, 0.0820024869747434, 877.7737517494476, 4.026544834772512e-05, -0.8313143098059845, -0.004000161502289789, 2.8433798290013903, 0.04463511911769396, -0.006544351667587629, 53.47153020597898, 424.3195962790775, 11.800142346142705, 86.07961819574014, 40.72157547614609, 221.37963356678446, 31.879961138117256, 322.9413800548101, 45.32141266447135, 383.27568160011623, 35.834131249957316, 421.16297980459706] chi2 164403.68002506834\n",
      "check_event  : Everything looks fine...\n",
      "Parallax(Full) estimated for the telescope Roman: SUCCESS\n",
      "initial_guess  : Initial parameters guess SUCCESS\n",
      "Using guess:  [2462592.427461098, 0.1474368375383864, 351.03436333528964, 9.353665605734084e-05, 1.1478599290943858, 0.0004842690847154, 2.170221123244217, 0.0058858226795134, -0.0320152930579978, 108.98890894257437, 227.1020197745454]\n",
      "fit  : Trust Region Reflective fit SUCCESS\n",
      "best_model: [2462582.4274610984, 0.05624279091902873, 1265.495361635926, 0.000578575145730831, -1.1738054911648688, 0.005326959923188021, 0.5546869651942391, -0.002069657836836972, 0.005158663594795286, 32.89746551056864, 418.6172919785651] chi2 53833.77499802059\n"
     ]
    }
   ],
   "source": [
    "# try:\n",
    "#     info_dataset, pyLIMA_parameters, bands = read_data(path_to_save_model+'/Event_18.h5')\n",
    "#     data_fit_rr = np.load(path_fit_rr,allow_pickle=True).item()\n",
    "#     data_fit_roman = np.load(path_fit_roman,allow_pickle=True).item()\n",
    "# except:    \n",
    "sim_fit(i,model,algo,path_TRILEGAL_set,path_to_save_model,path_to_save_fit,path_ephemerides,path_dataslice)\n",
    "info_dataset, pyLIMA_parameters, bands = read_data(path_to_save_model+'/Event_18.h5')\n",
    "data_fit_rr = np.load(path_fit_rr,allow_pickle=True).item()\n",
    "data_fit_roman = np.load(path_fit_roman,allow_pickle=True).item()"
   ]
  },
  {
   "cell_type": "code",
   "execution_count": 4,
   "id": "41c8fc6a-1a07-477e-ac8f-fde39d5543c7",
   "metadata": {
    "tags": []
   },
   "outputs": [],
   "source": [
    "# print(data_fit_rr['best_model'])\n",
    "# print(data_fit_roman['best_model'])\n",
    "# print(pyLIMA_parameters)\n",
    "ulens_params = []\n",
    "PAR = ['t_center','u_center','tE','rho','separation','mass_ratio','alpha','piEN','piEE']\n",
    "# PAR = ['t0','u0','tE','piEN','piEE']\n",
    "for b in (PAR):\n",
    "    ulens_params.append(pyLIMA_parameters[b])\n",
    "flux_params = []\n",
    "for b in bands:\n",
    "    if not len(bands[b])==0:\n",
    "        zp_Rubin_to_pyLIMA = (10**((-27.4+ZP[b])/2.5))\n",
    "        \n",
    "        flux_params.append(pyLIMA_parameters['fsource_'+b]/zp_Rubin_to_pyLIMA)\n",
    "        flux_params.append(pyLIMA_parameters['ftotal_'+b]/zp_Rubin_to_pyLIMA)\n",
    "        \n",
    "true_params = ulens_params+flux_params"
   ]
  },
  {
   "cell_type": "code",
   "execution_count": 5,
   "id": "576b3026-27f5-4186-897a-2c30161c10ec",
   "metadata": {
    "tags": []
   },
   "outputs": [
    {
     "name": "stdout",
     "output_type": "stream",
     "text": [
      "check_event  : Everything looks fine...\n"
     ]
    },
    {
     "name": "stderr",
     "output_type": "stream",
     "text": [
      "/home/anibal/anaconda3/envs/pyLIMA_utd/lib/python3.11/site-packages/erfa/core.py:133: ErfaWarning: ERFA function \"utctai\" yielded 20736 of \"dubious year (Note 3)\"\n",
      "  warn(f'ERFA function \"{func_name}\" yielded {wmsg}', ErfaWarning)\n",
      "/home/anibal/anaconda3/envs/pyLIMA_utd/lib/python3.11/site-packages/erfa/core.py:133: ErfaWarning: ERFA function \"taiutc\" yielded 20736 of \"dubious year (Note 4)\"\n",
      "  warn(f'ERFA function \"{func_name}\" yielded {wmsg}', ErfaWarning)\n",
      "/home/anibal/anaconda3/envs/pyLIMA_utd/lib/python3.11/site-packages/erfa/core.py:133: ErfaWarning: ERFA function \"utctai\" yielded 1 of \"dubious year (Note 3)\"\n",
      "  warn(f'ERFA function \"{func_name}\" yielded {wmsg}', ErfaWarning)\n",
      "/home/anibal/anaconda3/envs/pyLIMA_utd/lib/python3.11/site-packages/erfa/core.py:133: ErfaWarning: ERFA function \"taiutc\" yielded 1 of \"dubious year (Note 4)\"\n",
      "  warn(f'ERFA function \"{func_name}\" yielded {wmsg}', ErfaWarning)\n",
      "/home/anibal/anaconda3/envs/pyLIMA_utd/lib/python3.11/site-packages/erfa/core.py:133: ErfaWarning: ERFA function \"utctai\" yielded 96 of \"dubious year (Note 3)\"\n",
      "  warn(f'ERFA function \"{func_name}\" yielded {wmsg}', ErfaWarning)\n",
      "/home/anibal/anaconda3/envs/pyLIMA_utd/lib/python3.11/site-packages/erfa/core.py:133: ErfaWarning: ERFA function \"taiutc\" yielded 96 of \"dubious year (Note 4)\"\n",
      "  warn(f'ERFA function \"{func_name}\" yielded {wmsg}', ErfaWarning)\n",
      "/home/anibal/anaconda3/envs/pyLIMA_utd/lib/python3.11/site-packages/erfa/core.py:133: ErfaWarning: ERFA function \"utcut1\" yielded 96 of \"dubious year (Note 3)\"\n",
      "  warn(f'ERFA function \"{func_name}\" yielded {wmsg}', ErfaWarning)\n",
      "/home/anibal/anaconda3/envs/pyLIMA_utd/lib/python3.11/site-packages/erfa/core.py:133: ErfaWarning: ERFA function \"utctai\" yielded 86 of \"dubious year (Note 3)\"\n",
      "  warn(f'ERFA function \"{func_name}\" yielded {wmsg}', ErfaWarning)\n",
      "/home/anibal/anaconda3/envs/pyLIMA_utd/lib/python3.11/site-packages/erfa/core.py:133: ErfaWarning: ERFA function \"taiutc\" yielded 86 of \"dubious year (Note 4)\"\n",
      "  warn(f'ERFA function \"{func_name}\" yielded {wmsg}', ErfaWarning)\n",
      "/home/anibal/anaconda3/envs/pyLIMA_utd/lib/python3.11/site-packages/erfa/core.py:133: ErfaWarning: ERFA function \"utcut1\" yielded 86 of \"dubious year (Note 3)\"\n",
      "  warn(f'ERFA function \"{func_name}\" yielded {wmsg}', ErfaWarning)\n",
      "/home/anibal/anaconda3/envs/pyLIMA_utd/lib/python3.11/site-packages/erfa/core.py:133: ErfaWarning: ERFA function \"utctai\" yielded 87 of \"dubious year (Note 3)\"\n",
      "  warn(f'ERFA function \"{func_name}\" yielded {wmsg}', ErfaWarning)\n",
      "/home/anibal/anaconda3/envs/pyLIMA_utd/lib/python3.11/site-packages/erfa/core.py:133: ErfaWarning: ERFA function \"taiutc\" yielded 87 of \"dubious year (Note 4)\"\n",
      "  warn(f'ERFA function \"{func_name}\" yielded {wmsg}', ErfaWarning)\n",
      "/home/anibal/anaconda3/envs/pyLIMA_utd/lib/python3.11/site-packages/erfa/core.py:133: ErfaWarning: ERFA function \"utcut1\" yielded 87 of \"dubious year (Note 3)\"\n",
      "  warn(f'ERFA function \"{func_name}\" yielded {wmsg}', ErfaWarning)\n"
     ]
    },
    {
     "name": "stdout",
     "output_type": "stream",
     "text": [
      "Parallax(Full) estimated for the telescope Roman: SUCCESS\n",
      "Parallax(Full) estimated for the telescope g: SUCCESS\n",
      "Parallax(Full) estimated for the telescope r: SUCCESS\n",
      "Parallax(Full) estimated for the telescope i: SUCCESS\n",
      "Parallax(Full) estimated for the telescope z: SUCCESS\n",
      "Parallax(Full) estimated for the telescope y: SUCCESS\n",
      "check_event  : Everything looks fine...\n",
      "Parallax(Full) estimated for the telescope Roman: SUCCESS\n",
      "Parallax(Full) estimated for the telescope g: SUCCESS\n",
      "Parallax(Full) estimated for the telescope r: SUCCESS\n",
      "Parallax(Full) estimated for the telescope i: SUCCESS\n",
      "Parallax(Full) estimated for the telescope z: SUCCESS\n",
      "Parallax(Full) estimated for the telescope y: SUCCESS\n",
      "check_event  : Everything looks fine...\n",
      "Parallax(Full) estimated for the telescope Roman: SUCCESS\n"
     ]
    }
   ],
   "source": [
    "model_ulens = 'USBL'\n",
    "\n",
    "Source = 18\n",
    "event_params = pyLIMA_parameters\n",
    "event_params['te']=event_params['tE']\n",
    "event_params['s']=event_params['separation']\n",
    "event_params['q']=event_params['mass_ratio']\n",
    "\n",
    "f= 'W149'\n",
    "wfirst_lc = np.array([bands[f]['time'],bands[f]['mag'],bands[f]['err_mag']]).T\n",
    "f = 'u'\n",
    "lsst_u = np.array([bands[f]['time'],bands[f]['mag'],bands[f]['err_mag']]).T\n",
    "f='g'\n",
    "lsst_g = np.array([bands[f]['time'],bands[f]['mag'],bands[f]['err_mag']]).T\n",
    "f='r'\n",
    "lsst_r = np.array([bands[f]['time'],bands[f]['mag'],bands[f]['err_mag']]).T\n",
    "f='i'\n",
    "lsst_i = np.array([bands[f]['time'],bands[f]['mag'],bands[f]['err_mag']]).T\n",
    "f='z'\n",
    "lsst_z = np.array([bands[f]['time'],bands[f]['mag'],bands[f]['err_mag']]).T\n",
    "f='z'\n",
    "lsst_y = np.array([bands[f]['time'],bands[f]['mag'],bands[f]['err_mag']]).T\n",
    "\n",
    "model_true = model_rubin_roman(Source,True,event_params, path_ephemerides,model_ulens, wfirst_lc, lsst_u, lsst_g, lsst_r, lsst_i, lsst_z,\n",
    "                    lsst_y)\n",
    "\n",
    "# {'t_center':data_fit_rr['best_model'][0]}\n",
    "model_rr = model_rubin_roman(Source,False,event_params, path_ephemerides,model_ulens, wfirst_lc, lsst_u, lsst_g, lsst_r, lsst_i, lsst_z,\n",
    "                    lsst_y)\n",
    "# {'t_center':data_fit_roman['best_model'][0]}\n",
    "model_roman = model_rubin_roman(Source,False,event_params, path_ephemerides,model_ulens, wfirst_lc, [], [], [], [], [],[])\n",
    "\n",
    "# model1 = model_rubin_roman(Source,event_params, path_ephemerides,model_ulens, wfirst_lc, lsst_u, lsst_g, lsst_r, lsst_i, lsst_z,\n",
    "#                     lsst_y)"
   ]
  },
  {
   "cell_type": "code",
   "execution_count": 6,
   "id": "05fa587a-5a1e-4136-a7be-6588b08fad6c",
   "metadata": {},
   "outputs": [],
   "source": [
    "\n",
    "plt.close('all')\n",
    "# custom_cycler = (cycler(color=custom_color))\n",
    "\n",
    "# pyLIMA_plots.MARKERS_COLORS = custom_cycler\n",
    "# pyLIMA_plots.MARKER_SYMBOLS = np.array([custom_marker])\n",
    "### Find the telescope fluxes if needed\n",
    "\n",
    "if len(data_fit_rr['best_model']) != len(model_rr.model_dictionnary):\n",
    "    telescopes_fluxes = model_rr.find_telescopes_fluxes(data_fit_rr['best_model'])\n",
    "    # print(telescopes_fluxes)\n",
    "    # print(telescopes_fluxes['fsource_Roman'])\n",
    "    telescopes_fluxes = [telescopes_fluxes[key] for key in\n",
    "                         telescopes_fluxes]#._fields]\n",
    "    model_parameters1 = np.r_[data_fit_rr['best_model'], telescopes_fluxes]\n",
    "    # print(model_parameters1)\n",
    "else:\n",
    "    # print('its here')\n",
    "    model_parameters1 = data_fit_rr['best_model']\n",
    "\n",
    "    \n",
    "if len(data_fit_roman['best_model']) != len(model_roman.model_dictionnary):\n",
    "    telescopes_fluxes = model_roman.find_telescopes_fluxes(data_fit_roman['best_model'])\n",
    "    telescopes_fluxes = [telescopes_fluxes[key] for key in\n",
    "                         telescopes_fluxes]#._fields]\n",
    "    model_parameters2 = np.r_[data_fit_rr['best_model'], telescopes_fluxes]\n",
    "else:\n",
    "    model_parameters2 = data_fit_rr['best_model']\n",
    "    \n",
    "# if len(true_params) != len(model_true.model_dictionnary):\n",
    "#     telescopes_fluxes = model_true.find_telescopes_fluxes(true_params)\n",
    "#     telescopes_fluxes = [getattr(telescopes_fluxes, key) for key in\n",
    "#                          telescopes_fluxes]#._fields]\n",
    "#     model_parameters3 = np.r_[true_params, telescopes_fluxes]\n",
    "# else:\n",
    "#     model_parameters3 = true_params"
   ]
  },
  {
   "cell_type": "code",
   "execution_count": null,
   "id": "1f501f88-1df7-4f73-9353-3c40ee8d9e8c",
   "metadata": {},
   "outputs": [
    {
     "name": "stderr",
     "output_type": "stream",
     "text": [
      "/home/anibal/anaconda3/envs/pyLIMA_utd/lib/python3.11/site-packages/erfa/core.py:133: ErfaWarning: ERFA function \"utctai\" yielded 153108 of \"dubious year (Note 3)\"\n",
      "  warn(f'ERFA function \"{func_name}\" yielded {wmsg}', ErfaWarning)\n",
      "/home/anibal/anaconda3/envs/pyLIMA_utd/lib/python3.11/site-packages/erfa/core.py:133: ErfaWarning: ERFA function \"taiutc\" yielded 153108 of \"dubious year (Note 4)\"\n",
      "  warn(f'ERFA function \"{func_name}\" yielded {wmsg}', ErfaWarning)\n"
     ]
    },
    {
     "name": "stdout",
     "output_type": "stream",
     "text": [
      "Parallax(Full) estimated for the telescope Roman: SUCCESS\n"
     ]
    },
    {
     "name": "stderr",
     "output_type": "stream",
     "text": [
      "/home/anibal/anaconda3/envs/pyLIMA_utd/lib/python3.11/site-packages/erfa/core.py:133: ErfaWarning: ERFA function \"utctai\" yielded 136830 of \"dubious year (Note 3)\"\n",
      "  warn(f'ERFA function \"{func_name}\" yielded {wmsg}', ErfaWarning)\n",
      "/home/anibal/anaconda3/envs/pyLIMA_utd/lib/python3.11/site-packages/erfa/core.py:133: ErfaWarning: ERFA function \"taiutc\" yielded 136830 of \"dubious year (Note 4)\"\n",
      "  warn(f'ERFA function \"{func_name}\" yielded {wmsg}', ErfaWarning)\n",
      "/home/anibal/anaconda3/envs/pyLIMA_utd/lib/python3.11/site-packages/erfa/core.py:133: ErfaWarning: ERFA function \"utcut1\" yielded 136830 of \"dubious year (Note 3)\"\n",
      "  warn(f'ERFA function \"{func_name}\" yielded {wmsg}', ErfaWarning)\n"
     ]
    },
    {
     "name": "stdout",
     "output_type": "stream",
     "text": [
      "Parallax(Full) estimated for the telescope g: SUCCESS\n"
     ]
    }
   ],
   "source": [
    "\n",
    "# tmin, tmax = 2460200., data_ogle[-1,0]+5.\n",
    "# tmin, tmax = 2460160., data_ogle[-1,0]+20.\n",
    "%matplotlib widget\n",
    "fig, axes = plt.subplots(3, 1,figsize=(10,10), height_ratios=[3, 1,1], sharex=True)\n",
    "\n",
    "# Lc plot\n",
    "axes[0].title.set_text('name')\n",
    "axes[0].set_ylabel(\"magnitude\") \n",
    "axes[0].grid(True, color='0.95')\n",
    "axes[0].invert_yaxis()\n",
    "# axes[0].set_xlim(tmin, tmax)\n",
    "# axes[0].set_ylim(18.5, 12.5) \n",
    "# axes[0].set_ylim(17.5, 12.5) \n",
    "\n",
    "#Plot model1 and align data to it\n",
    "pyLIMA_plots.plot_photometric_models(axes[0], model_rr, data_fit_rr['best_model'], plot_unit='Mag')\n",
    "pyLIMA_plots.plot_photometric_models(axes[0], model_roman, data_fit_roman['best_model'], plot_unit='Mag')\n",
    "# pyLIMA_plots.plot_photometric_models(axes[0], model_true, true_params, plot_unit='Mag')\n",
    "pyLIMA_plots.plot_aligned_data(axes[0], model_rr, data_fit_rr['best_model'], plot_unit='Mag')\n",
    "# model_parameters2\n",
    "# model_parameters3\n",
    "colors = ['darkslategray', 'gray', 'lightgray']\n",
    "\n",
    "# for i in range(len(spec_jds)):\n",
    "#     axes[0].axvline(x=spec_jds[i], label='Spec_'+str(i), ls='--', color=colors[i])\n",
    "\n",
    "# plot residuals\n",
    "axes[1].set_ylabel(\"$\\Delta m_{RR} $\") \n",
    "axes[1].grid(True, color='0.95')\n",
    "axes[2].set_ylabel(\"$\\Delta m_{Roman} $\") \n",
    "axes[2].grid(True, color='0.95')\n",
    "\n",
    "pyLIMA_plots.plot_residuals(axes[1], model_rr, data_fit_rr['best_model'], plot_unit='Mag')\n",
    "pyLIMA_plots.plot_residuals(axes[2], model_roman, data_fit_roman['best_model'], plot_unit='Mag')\n",
    "# axes[1].set_xlim(tmin, tmax)\n",
    "axes[1].set_ylim(-2.5, 1)\n",
    "axes[1].axhline(y=0)\n",
    "\n",
    "# for i in range(len(spec_jds)):\n",
    "#     axes[1].axvline(x=spec_jds[i], ls='--', color=colors[i])\n",
    "\n",
    "axes[0].legend(shadow=True, fontsize='large',\n",
    "                          bbox_to_anchor=(0, 1.02, 1, 0.2),\n",
    "                          loc=\"lower left\",\n",
    "                          mode=\"expand\", borderaxespad=0, ncol=3)\n",
    "plt.show()\n"
   ]
  },
  {
   "cell_type": "code",
   "execution_count": null,
   "id": "4e0d2b9d-2414-4627-925d-79a4f6240ff1",
   "metadata": {},
   "outputs": [],
   "source": []
  }
 ],
 "metadata": {
  "kernelspec": {
   "display_name": "PYLIMA_UTD",
   "language": "python",
   "name": "pylima_utd"
  },
  "language_info": {
   "codemirror_mode": {
    "name": "ipython",
    "version": 3
   },
   "file_extension": ".py",
   "mimetype": "text/x-python",
   "name": "python",
   "nbconvert_exporter": "python",
   "pygments_lexer": "ipython3",
   "version": "3.11.9"
  }
 },
 "nbformat": 4,
 "nbformat_minor": 5
}
