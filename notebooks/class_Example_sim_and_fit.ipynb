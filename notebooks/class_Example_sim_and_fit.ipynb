{
 "cells": [
  {
   "cell_type": "code",
   "execution_count": 1,
   "id": "1fc7148b-6a47-4a6b-87a9-1f9f087146e2",
   "metadata": {
    "tags": []
   },
   "outputs": [
    {
     "name": "stdout",
     "output_type": "stream",
     "text": [
      "/home/anibal-pc/roman_rubin\n"
     ]
    }
   ],
   "source": [
    "import os, sys\n",
    "import numpy as np\n",
    "import pandas as pd\n",
    "import matplotlib.pyplot as plt\n",
    "from pyLIMA.outputs import pyLIMA_plots\n",
    "from cycler import cycler\n",
    "sys.path.append(os.path.dirname(os.getcwd()))\n",
    "from class_functions_roman_rubin import sim_events"
   ]
  },
  {
   "cell_type": "code",
   "execution_count": 2,
   "id": "ebaf9b01-dd0f-4dcd-883e-2822512c04b0",
   "metadata": {},
   "outputs": [],
   "source": [
    "\n",
    "current_path = os.path.dirname(os.getcwd())\n",
    "model='USBL'\n",
    "path_save_sim= current_path+'/test_sim_fit/'\n",
    "path_save_fit= current_path+'/test_sim_fit/'\n",
    "path_ephemerides= current_path+'/ephemerides/Gaia.txt'\n",
    "path_dataslice = current_path+'/opsims/baseline/dataSlice.npy'\n",
    "path_TRILEGAL_set= current_path+'/TRILEGAL/PB_planet_split_1.csv'\n",
    "i=18\n",
    "data_trilegal = pd.read_csv(path_TRILEGAL_set)\n",
    "data = data_trilegal.iloc[int(i)]\n",
    "event = sim_events(model, path_ephemerides, path_dataslice, data, i, path_save_sim, path_save_fit)\n",
    "ZP = {'W149':27.615, 'u':27.03, 'g':28.38, 'r':28.16, 'i':27.85, 'z':27.46, 'y':26.68}\n"
   ]
  },
  {
   "cell_type": "code",
   "execution_count": 3,
   "id": "a595a006-ca62-4e69-bfd3-43813eb7fb77",
   "metadata": {},
   "outputs": [
    {
     "name": "stderr",
     "output_type": "stream",
     "text": [
      "/home/anibal-pc/anaconda3/envs/pyLIMA/lib/python3.9/site-packages/erfa/core.py:133: ErfaWarning: ERFA function \"dtf2d\" yielded 1 of \"dubious year (Note 6)\"\n",
      "  warn(f'ERFA function \"{func_name}\" yielded {wmsg}', ErfaWarning)\n",
      "/home/anibal-pc/anaconda3/envs/pyLIMA/lib/python3.9/site-packages/erfa/core.py:133: ErfaWarning: ERFA function \"utctai\" yielded 20736 of \"dubious year (Note 3)\"\n",
      "  warn(f'ERFA function \"{func_name}\" yielded {wmsg}', ErfaWarning)\n",
      "/home/anibal-pc/anaconda3/envs/pyLIMA/lib/python3.9/site-packages/erfa/core.py:133: ErfaWarning: ERFA function \"taiutc\" yielded 20736 of \"dubious year (Note 4)\"\n",
      "  warn(f'ERFA function \"{func_name}\" yielded {wmsg}', ErfaWarning)\n",
      "/home/anibal-pc/anaconda3/envs/pyLIMA/lib/python3.9/site-packages/erfa/core.py:133: ErfaWarning: ERFA function \"utctai\" yielded 1 of \"dubious year (Note 3)\"\n",
      "  warn(f'ERFA function \"{func_name}\" yielded {wmsg}', ErfaWarning)\n",
      "/home/anibal-pc/anaconda3/envs/pyLIMA/lib/python3.9/site-packages/erfa/core.py:133: ErfaWarning: ERFA function \"taiutc\" yielded 1 of \"dubious year (Note 4)\"\n",
      "  warn(f'ERFA function \"{func_name}\" yielded {wmsg}', ErfaWarning)\n",
      "/home/anibal-pc/anaconda3/envs/pyLIMA/lib/python3.9/site-packages/erfa/core.py:133: ErfaWarning: ERFA function \"utctai\" yielded 12 of \"dubious year (Note 3)\"\n",
      "  warn(f'ERFA function \"{func_name}\" yielded {wmsg}', ErfaWarning)\n",
      "/home/anibal-pc/anaconda3/envs/pyLIMA/lib/python3.9/site-packages/erfa/core.py:133: ErfaWarning: ERFA function \"taiutc\" yielded 12 of \"dubious year (Note 4)\"\n",
      "  warn(f'ERFA function \"{func_name}\" yielded {wmsg}', ErfaWarning)\n"
     ]
    },
    {
     "name": "stdout",
     "output_type": "stream",
     "text": [
      "Parallax(Full) estimated for the telescope W149: SUCCESS\n"
     ]
    },
    {
     "name": "stderr",
     "output_type": "stream",
     "text": [
      "/home/anibal-pc/anaconda3/envs/pyLIMA/lib/python3.9/site-packages/erfa/core.py:133: ErfaWarning: ERFA function \"utcut1\" yielded 12 of \"dubious year (Note 3)\"\n",
      "  warn(f'ERFA function \"{func_name}\" yielded {wmsg}', ErfaWarning)\n",
      "/home/anibal-pc/anaconda3/envs/pyLIMA/lib/python3.9/site-packages/erfa/core.py:133: ErfaWarning: ERFA function \"utctai\" yielded 96 of \"dubious year (Note 3)\"\n",
      "  warn(f'ERFA function \"{func_name}\" yielded {wmsg}', ErfaWarning)\n",
      "/home/anibal-pc/anaconda3/envs/pyLIMA/lib/python3.9/site-packages/erfa/core.py:133: ErfaWarning: ERFA function \"taiutc\" yielded 96 of \"dubious year (Note 4)\"\n",
      "  warn(f'ERFA function \"{func_name}\" yielded {wmsg}', ErfaWarning)\n",
      "/home/anibal-pc/anaconda3/envs/pyLIMA/lib/python3.9/site-packages/erfa/core.py:133: ErfaWarning: ERFA function \"utcut1\" yielded 96 of \"dubious year (Note 3)\"\n",
      "  warn(f'ERFA function \"{func_name}\" yielded {wmsg}', ErfaWarning)\n",
      "/home/anibal-pc/anaconda3/envs/pyLIMA/lib/python3.9/site-packages/erfa/core.py:133: ErfaWarning: ERFA function \"utctai\" yielded 86 of \"dubious year (Note 3)\"\n",
      "  warn(f'ERFA function \"{func_name}\" yielded {wmsg}', ErfaWarning)\n",
      "/home/anibal-pc/anaconda3/envs/pyLIMA/lib/python3.9/site-packages/erfa/core.py:133: ErfaWarning: ERFA function \"taiutc\" yielded 86 of \"dubious year (Note 4)\"\n",
      "  warn(f'ERFA function \"{func_name}\" yielded {wmsg}', ErfaWarning)\n",
      "/home/anibal-pc/anaconda3/envs/pyLIMA/lib/python3.9/site-packages/erfa/core.py:133: ErfaWarning: ERFA function \"utcut1\" yielded 86 of \"dubious year (Note 3)\"\n",
      "  warn(f'ERFA function \"{func_name}\" yielded {wmsg}', ErfaWarning)\n",
      "/home/anibal-pc/anaconda3/envs/pyLIMA/lib/python3.9/site-packages/erfa/core.py:133: ErfaWarning: ERFA function \"utctai\" yielded 87 of \"dubious year (Note 3)\"\n",
      "  warn(f'ERFA function \"{func_name}\" yielded {wmsg}', ErfaWarning)\n",
      "/home/anibal-pc/anaconda3/envs/pyLIMA/lib/python3.9/site-packages/erfa/core.py:133: ErfaWarning: ERFA function \"taiutc\" yielded 87 of \"dubious year (Note 4)\"\n",
      "  warn(f'ERFA function \"{func_name}\" yielded {wmsg}', ErfaWarning)\n",
      "/home/anibal-pc/anaconda3/envs/pyLIMA/lib/python3.9/site-packages/erfa/core.py:133: ErfaWarning: ERFA function \"utcut1\" yielded 87 of \"dubious year (Note 3)\"\n",
      "  warn(f'ERFA function \"{func_name}\" yielded {wmsg}', ErfaWarning)\n",
      "/home/anibal-pc/anaconda3/envs/pyLIMA/lib/python3.9/site-packages/erfa/core.py:133: ErfaWarning: ERFA function \"utctai\" yielded 25 of \"dubious year (Note 3)\"\n",
      "  warn(f'ERFA function \"{func_name}\" yielded {wmsg}', ErfaWarning)\n",
      "/home/anibal-pc/anaconda3/envs/pyLIMA/lib/python3.9/site-packages/erfa/core.py:133: ErfaWarning: ERFA function \"taiutc\" yielded 25 of \"dubious year (Note 4)\"\n",
      "  warn(f'ERFA function \"{func_name}\" yielded {wmsg}', ErfaWarning)\n",
      "/home/anibal-pc/anaconda3/envs/pyLIMA/lib/python3.9/site-packages/erfa/core.py:133: ErfaWarning: ERFA function \"utcut1\" yielded 25 of \"dubious year (Note 3)\"\n",
      "  warn(f'ERFA function \"{func_name}\" yielded {wmsg}', ErfaWarning)\n"
     ]
    },
    {
     "name": "stdout",
     "output_type": "stream",
     "text": [
      "Parallax(Full) estimated for the telescope u: SUCCESS\n",
      "Parallax(Full) estimated for the telescope g: SUCCESS\n",
      "Parallax(Full) estimated for the telescope r: SUCCESS\n",
      "Parallax(Full) estimated for the telescope i: SUCCESS\n",
      "Parallax(Full) estimated for the telescope z: SUCCESS\n",
      "Parallax(Full) estimated for the telescope y: SUCCESS\n"
     ]
    }
   ],
   "source": [
    "# simulation\n",
    "new_creation, my_own_model = event.sim_event()"
   ]
  },
  {
   "cell_type": "code",
   "execution_count": 4,
   "id": "765194f0-1cae-4958-bb96-56961b51d51c",
   "metadata": {},
   "outputs": [],
   "source": [
    "# 10**(0.75)\n",
    "# np.logspace(-4,1,100)\n",
    "# np.logspace(-4,0.5,30)"
   ]
  },
  {
   "cell_type": "code",
   "execution_count": null,
   "id": "7adfde32-f060-4ee7-ac4a-eaa0650b6fcd",
   "metadata": {},
   "outputs": [],
   "source": []
  },
  {
   "cell_type": "code",
   "execution_count": 5,
   "id": "1e989109-45b9-4010-81a0-57ef8d1dad97",
   "metadata": {},
   "outputs": [
    {
     "name": "stdout",
     "output_type": "stream",
     "text": [
      "A good event to fit\n",
      "check_event  : Everything looks fine...\n"
     ]
    },
    {
     "name": "stderr",
     "output_type": "stream",
     "text": [
      "  0%|                                                    | 0/30 [00:00<?, ?it/s]"
     ]
    },
    {
     "name": "stdout",
     "output_type": "stream",
     "text": [
      "check_event  : Everything looks fine...\n"
     ]
    },
    {
     "name": "stderr",
     "output_type": "stream",
     "text": [
      " 57%|█████████████████████▌                | 17/30 [2:38:47<2:01:25, 560.43s/it]\n",
      "\n",
      "KeyboardInterrupt\n",
      "\n"
     ]
    }
   ],
   "source": [
    "from tqdm.auto import tqdm\n",
    "decision = event.criteria_save(my_own_model)\n",
    "\n",
    "# if decision:\n",
    "tel_roman = event.tel_roman_fit(my_own_model)\n",
    "tel_rr = event.tel_rr_fit(my_own_model)\n",
    "algo = 'TRF'\n",
    "# rango = 0.1\n",
    "results_rr = []\n",
    "results_roman= []\n",
    "\n",
    "import sys\n",
    "import os\n",
    "from contextlib import contextmanager\n",
    "\n",
    "@contextmanager\n",
    "def suppress_stdout():\n",
    "    original_stdout = sys.stdout\n",
    "    sys.stdout = open(os.devnull, 'w')\n",
    "    try:\n",
    "        yield\n",
    "    finally:\n",
    "        sys.stdout = original_stdout\n",
    "\n",
    "\n",
    "cov_matrix = []\n",
    "best_model = []\n",
    "chi_results = []\n",
    "\n",
    "with suppress_stdout():\n",
    "    \n",
    "    for rango in tqdm(np.logspace(-4,1,30)):\n",
    "        # fit_roman = event.fit_event(tel_roman, rango, algo)\n",
    "        fit_rr = event.fit_event(tel_rr, rango, algo)\n",
    "        # results_rr.append(fit_rr)\n",
    "        cov_matrix.append(fit_rr.fit_results['covariance_matrix'])\n",
    "        best_model.append(fit_rr.fit_results['best_model'])\n",
    "        chi_results.append(fit_rr.fit_results['chi2'])\n",
    "        \n",
    "        # results_roman.append(fit_roman)"
   ]
  },
  {
   "cell_type": "code",
   "execution_count": 27,
   "id": "30d05fa2-b245-4f88-8f60-48a03760e80e",
   "metadata": {},
   "outputs": [],
   "source": [
    "# k=0\n",
    "met3 = []\n",
    "chi_results = []\n",
    "for k in range(30):\n",
    "    fit = results_rr[k].fit_results['best_model']\n",
    "    sigma = np.sqrt(np.diag(results_rr[k].fit_results['covariance_matrix']))\n",
    "    chi_results.append(results_rr[k].fit_results['chi2'])\n",
    "    "
   ]
  },
  {
   "cell_type": "code",
   "execution_count": 6,
   "id": "b72c8870-ec0e-4b4f-970c-effbcc06f444",
   "metadata": {},
   "outputs": [
    {
     "ename": "IndexError",
     "evalue": "list index out of range",
     "output_type": "error",
     "traceback": [
      "\u001b[0;31m---------------------------------------------------------------------------\u001b[0m",
      "\u001b[0;31mIndexError\u001b[0m                                Traceback (most recent call last)",
      "Cell \u001b[0;32mIn[6], line 1\u001b[0m\n\u001b[0;32m----> 1\u001b[0m dof \u001b[38;5;241m=\u001b[39m \u001b[38;5;28mint\u001b[39m(tel_rr\u001b[38;5;241m.\u001b[39mtotal_number_of_data_points()\u001b[38;5;241m-\u001b[39m\u001b[38;5;28mlen\u001b[39m(\u001b[43mresults_rr\u001b[49m\u001b[43m[\u001b[49m\u001b[38;5;241;43m0\u001b[39;49m\u001b[43m]\u001b[49m\u001b[38;5;241m.\u001b[39mfit_results[\u001b[38;5;124m'\u001b[39m\u001b[38;5;124mbest_model\u001b[39m\u001b[38;5;124m'\u001b[39m]))\n\u001b[1;32m      2\u001b[0m chi_reduced \u001b[38;5;241m=\u001b[39m np\u001b[38;5;241m.\u001b[39marray(chi_results)\u001b[38;5;241m/\u001b[39mdof\n",
      "\u001b[0;31mIndexError\u001b[0m: list index out of range"
     ]
    }
   ],
   "source": [
    "dof = int(tel_rr.total_number_of_data_points()-len(results_rr[0].fit_results['best_model']))\n",
    "chi_reduced = np.array(chi_results)/dof"
   ]
  },
  {
   "cell_type": "code",
   "execution_count": 7,
   "id": "9946608e-0d95-48c6-966b-c0f860a6ef5d",
   "metadata": {},
   "outputs": [
    {
     "ename": "NameError",
     "evalue": "name 'dof' is not defined",
     "output_type": "error",
     "traceback": [
      "\u001b[0;31m---------------------------------------------------------------------------\u001b[0m",
      "\u001b[0;31mNameError\u001b[0m                                 Traceback (most recent call last)",
      "Cell \u001b[0;32mIn[7], line 1\u001b[0m\n\u001b[0;32m----> 1\u001b[0m \u001b[43mdof\u001b[49m\n",
      "\u001b[0;31mNameError\u001b[0m: name 'dof' is not defined"
     ]
    }
   ],
   "source": [
    "dof"
   ]
  },
  {
   "cell_type": "code",
   "execution_count": null,
   "id": "b6ed141c-18b1-458c-9ee9-396c25fa6ca7",
   "metadata": {},
   "outputs": [],
   "source": [
    "plt.figure(figsize=(8, 6))\n",
    "scatter = plt.scatter(np.logspace(-4,0,30), met3, c=chi_reduced, cmap='viridis',s=50)\n",
    "plt.plot(np.logspace(-4,0,30), met3,ls='-',lw=0.5)\n",
    "plt.colorbar(scatter, label=r'$\\chi^2/dof$')  # Add a colorbar\n",
    "plt.xscale('log')\n",
    "# Add labels and title\n",
    "plt.xlabel('Width interval / true value')\n",
    "plt.ylabel(r'$\\sigma/fit$')\n",
    "# plt.title('Scatter Plot Colored by z')\n",
    "\n",
    "# Show the plot\n",
    "plt.show()"
   ]
  },
  {
   "cell_type": "code",
   "execution_count": 25,
   "id": "61bd85f1-8f4f-4690-a074-6945476ca8bc",
   "metadata": {},
   "outputs": [
    {
     "name": "stdout",
     "output_type": "stream",
     "text": [
      "[2462591.9545204043, 0.15931062057134274, 381.7927029676622, 0.0001028903216630749, 1.082756374662331, 0.0005021345692714344, 1.9561542526676658, 0.006245692471560368, -0.029459931748034494, 110.21181801900383, 445.28343697392035]\n",
      "[2462587.417940792, 0.15706175912866524, 381.8565784135972, 8.422118504218721e-05, 1.123526934167674, 0.000510556133075407, 2.033489056628841, 0.005845809836907915, -0.02945242675297728, 117.11031291867856, 442.80788034137186, 20.422859721039984, 75.93909149088299, 85.62938139543895, 195.0845234551332, 93.42141066799601, 277.5860545314822, 118.04485698048617, 330.9088930919004, 194.4465288724463, 360.11296422662883]\n"
     ]
    }
   ],
   "source": [
    "print(fit_roman.fit_results['best_model'])\n",
    "print(fit_rr.fit_results['best_model'])"
   ]
  },
  {
   "cell_type": "code",
   "execution_count": 24,
   "id": "dcfde477-9938-4184-94d4-5232288fc682",
   "metadata": {},
   "outputs": [
    {
     "name": "stdout",
     "output_type": "stream",
     "text": [
      "6548944.643569101\n",
      "2177747.207374841\n"
     ]
    }
   ],
   "source": [
    "print(fit_roman.fit_results['chi2'])\n",
    "print(fit_rr.fit_results['chi2'])\n"
   ]
  },
  {
   "cell_type": "code",
   "execution_count": 32,
   "id": "f08d93bc-7b20-4b0c-a75a-cac0c8e003d3",
   "metadata": {},
   "outputs": [],
   "source": [
    "# event.ulens_params()"
   ]
  },
  {
   "cell_type": "code",
   "execution_count": 31,
   "id": "2a7d6777-6d32-4e8a-8670-7031cb9c6a6f",
   "metadata": {},
   "outputs": [
    {
     "name": "stderr",
     "output_type": "stream",
     "text": [
      "/home/anibal-pc/anaconda3/envs/pyLIMA/lib/python3.9/site-packages/erfa/core.py:133: ErfaWarning: ERFA function \"utctai\" yielded 20736 of \"dubious year (Note 3)\"\n",
      "  warn(f'ERFA function \"{func_name}\" yielded {wmsg}', ErfaWarning)\n",
      "/home/anibal-pc/anaconda3/envs/pyLIMA/lib/python3.9/site-packages/erfa/core.py:133: ErfaWarning: ERFA function \"taiutc\" yielded 20736 of \"dubious year (Note 4)\"\n",
      "  warn(f'ERFA function \"{func_name}\" yielded {wmsg}', ErfaWarning)\n",
      "/home/anibal-pc/anaconda3/envs/pyLIMA/lib/python3.9/site-packages/erfa/core.py:133: ErfaWarning: ERFA function \"utctai\" yielded 1 of \"dubious year (Note 3)\"\n",
      "  warn(f'ERFA function \"{func_name}\" yielded {wmsg}', ErfaWarning)\n",
      "/home/anibal-pc/anaconda3/envs/pyLIMA/lib/python3.9/site-packages/erfa/core.py:133: ErfaWarning: ERFA function \"taiutc\" yielded 1 of \"dubious year (Note 4)\"\n",
      "  warn(f'ERFA function \"{func_name}\" yielded {wmsg}', ErfaWarning)\n"
     ]
    },
    {
     "name": "stdout",
     "output_type": "stream",
     "text": [
      "Parallax(Full) estimated for the telescope Roman: SUCCESS\n",
      "Parallax(Full) estimated for the telescope Roman: SUCCESS\n",
      "Parallax(Full) estimated for the telescope g: SUCCESS\n",
      "Parallax(Full) estimated for the telescope r: SUCCESS\n",
      "Parallax(Full) estimated for the telescope i: SUCCESS\n",
      "Parallax(Full) estimated for the telescope z: SUCCESS\n",
      "Parallax(Full) estimated for the telescope y: SUCCESS\n"
     ]
    },
    {
     "name": "stderr",
     "output_type": "stream",
     "text": [
      "/home/anibal-pc/anaconda3/envs/pyLIMA/lib/python3.9/site-packages/erfa/core.py:133: ErfaWarning: ERFA function \"utctai\" yielded 96 of \"dubious year (Note 3)\"\n",
      "  warn(f'ERFA function \"{func_name}\" yielded {wmsg}', ErfaWarning)\n",
      "/home/anibal-pc/anaconda3/envs/pyLIMA/lib/python3.9/site-packages/erfa/core.py:133: ErfaWarning: ERFA function \"taiutc\" yielded 96 of \"dubious year (Note 4)\"\n",
      "  warn(f'ERFA function \"{func_name}\" yielded {wmsg}', ErfaWarning)\n",
      "/home/anibal-pc/anaconda3/envs/pyLIMA/lib/python3.9/site-packages/erfa/core.py:133: ErfaWarning: ERFA function \"utcut1\" yielded 96 of \"dubious year (Note 3)\"\n",
      "  warn(f'ERFA function \"{func_name}\" yielded {wmsg}', ErfaWarning)\n",
      "/home/anibal-pc/anaconda3/envs/pyLIMA/lib/python3.9/site-packages/erfa/core.py:133: ErfaWarning: ERFA function \"utctai\" yielded 86 of \"dubious year (Note 3)\"\n",
      "  warn(f'ERFA function \"{func_name}\" yielded {wmsg}', ErfaWarning)\n",
      "/home/anibal-pc/anaconda3/envs/pyLIMA/lib/python3.9/site-packages/erfa/core.py:133: ErfaWarning: ERFA function \"taiutc\" yielded 86 of \"dubious year (Note 4)\"\n",
      "  warn(f'ERFA function \"{func_name}\" yielded {wmsg}', ErfaWarning)\n",
      "/home/anibal-pc/anaconda3/envs/pyLIMA/lib/python3.9/site-packages/erfa/core.py:133: ErfaWarning: ERFA function \"utcut1\" yielded 86 of \"dubious year (Note 3)\"\n",
      "  warn(f'ERFA function \"{func_name}\" yielded {wmsg}', ErfaWarning)\n",
      "/home/anibal-pc/anaconda3/envs/pyLIMA/lib/python3.9/site-packages/erfa/core.py:133: ErfaWarning: ERFA function \"utctai\" yielded 87 of \"dubious year (Note 3)\"\n",
      "  warn(f'ERFA function \"{func_name}\" yielded {wmsg}', ErfaWarning)\n",
      "/home/anibal-pc/anaconda3/envs/pyLIMA/lib/python3.9/site-packages/erfa/core.py:133: ErfaWarning: ERFA function \"taiutc\" yielded 87 of \"dubious year (Note 4)\"\n",
      "  warn(f'ERFA function \"{func_name}\" yielded {wmsg}', ErfaWarning)\n",
      "/home/anibal-pc/anaconda3/envs/pyLIMA/lib/python3.9/site-packages/erfa/core.py:133: ErfaWarning: ERFA function \"utcut1\" yielded 87 of \"dubious year (Note 3)\"\n",
      "  warn(f'ERFA function \"{func_name}\" yielded {wmsg}', ErfaWarning)\n",
      "/home/anibal-pc/anaconda3/envs/pyLIMA/lib/python3.9/site-packages/erfa/core.py:133: ErfaWarning: ERFA function \"utctai\" yielded 24 of \"dubious year (Note 3)\"\n",
      "  warn(f'ERFA function \"{func_name}\" yielded {wmsg}', ErfaWarning)\n",
      "/home/anibal-pc/anaconda3/envs/pyLIMA/lib/python3.9/site-packages/erfa/core.py:133: ErfaWarning: ERFA function \"taiutc\" yielded 24 of \"dubious year (Note 4)\"\n",
      "  warn(f'ERFA function \"{func_name}\" yielded {wmsg}', ErfaWarning)\n",
      "/home/anibal-pc/anaconda3/envs/pyLIMA/lib/python3.9/site-packages/erfa/core.py:133: ErfaWarning: ERFA function \"utcut1\" yielded 24 of \"dubious year (Note 3)\"\n",
      "  warn(f'ERFA function \"{func_name}\" yielded {wmsg}', ErfaWarning)\n"
     ]
    }
   ],
   "source": [
    "# creamos los \n",
    "from pyLIMA.models import USBL_model\n",
    "\n",
    "t0 = event.ulens_params()['t0']\n",
    "\n",
    "model_roman_plot = USBL_model.USBLmodel(tel_roman, blend_flux_parameter='ftotal',\n",
    "                                    parallax=['Full', t0])\n",
    "\n",
    "model_rr_plot = USBL_model.USBLmodel(tel_rr, blend_flux_parameter='ftotal',\n",
    "                                    parallax=['Full', t0])"
   ]
  },
  {
   "cell_type": "markdown",
   "id": "9b19c817-9608-42af-a706-d3412324b464",
   "metadata": {},
   "source": [
    "### The event that we want to simulate have the following parameters"
   ]
  },
  {
   "cell_type": "markdown",
   "id": "82e16c10-c2ac-4db3-859a-41f5ae527065",
   "metadata": {},
   "source": [
    "## First we simulate the event \n",
    "The relevant code for this is the function sim_event(i, event_params, path_ephemerides, path_dataslice, model).\n",
    "\n",
    "The output:\n",
    "\n",
    "model(eg: pyLIMA.models.USBL_model.USBLmodel): the light curves, telescope name, etc.  \n",
    "pyLIMA_parameters (dictionary): PyLIMA parameters.\n",
    "decision (boolean): is made based on the detection criteria. This boolean is True if the event is a suitable candidate for fitting."
   ]
  },
  {
   "cell_type": "code",
   "execution_count": 8,
   "id": "928451e1-2f8d-44d6-9cf3-f1b552cfc9fb",
   "metadata": {},
   "outputs": [
    {
     "name": "stderr",
     "output_type": "stream",
     "text": [
      "/home/anibal-pc/anaconda3/envs/pyLIMA/lib/python3.9/site-packages/erfa/core.py:133: ErfaWarning: ERFA function \"utctai\" yielded 14329 of \"dubious year (Note 3)\"\n",
      "  warn(f'ERFA function \"{func_name}\" yielded {wmsg}', ErfaWarning)\n",
      "/home/anibal-pc/anaconda3/envs/pyLIMA/lib/python3.9/site-packages/erfa/core.py:133: ErfaWarning: ERFA function \"taiutc\" yielded 14329 of \"dubious year (Note 4)\"\n",
      "  warn(f'ERFA function \"{func_name}\" yielded {wmsg}', ErfaWarning)\n",
      "/home/anibal-pc/anaconda3/envs/pyLIMA/lib/python3.9/site-packages/erfa/core.py:133: ErfaWarning: ERFA function \"utcut1\" yielded 14329 of \"dubious year (Note 3)\"\n",
      "  warn(f'ERFA function \"{func_name}\" yielded {wmsg}', ErfaWarning)\n",
      "/home/anibal-pc/anaconda3/envs/pyLIMA/lib/python3.9/site-packages/erfa/core.py:133: ErfaWarning: ERFA function \"utctai\" yielded 1 of \"dubious year (Note 3)\"\n",
      "  warn(f'ERFA function \"{func_name}\" yielded {wmsg}', ErfaWarning)\n",
      "/home/anibal-pc/anaconda3/envs/pyLIMA/lib/python3.9/site-packages/erfa/core.py:133: ErfaWarning: ERFA function \"taiutc\" yielded 1 of \"dubious year (Note 4)\"\n",
      "  warn(f'ERFA function \"{func_name}\" yielded {wmsg}', ErfaWarning)\n"
     ]
    },
    {
     "name": "stdout",
     "output_type": "stream",
     "text": [
      "Parallax(Full) estimated for the telescope Simulation: SUCCESS\n",
      "[44.60114591894671, -33.43769499240443]\n",
      "1.1226398944854736 seconds\n"
     ]
    }
   ],
   "source": [
    "from pyLIMA import event\n",
    "from pyLIMA import telescopes\n",
    "from pyLIMA.models import USBL_model\n",
    "from pyLIMA.simulations import simulator\n",
    "from astropy.time import Time\n",
    "from astropy.coordinates import SkyCoord\n",
    "import astropy.units as u\n",
    "from astropy.table import QTable\n",
    "from scipy.signal import find_peaks\n",
    "\n",
    "def find_peaks_event(pyLIMA_parameters, my_own_model):\n",
    "    gc = SkyCoord(l=0.5 * u.degree, b=-1.25 * u.degree, frame='galactic')\n",
    "    Ra = gc.icrs.ra.value\n",
    "    Dec = gc.icrs.dec.value\n",
    "    simulated_event = event.Event(ra=Ra, dec=Dec)\n",
    "    simulated_event.name = 'Simulated'   \n",
    "    \n",
    "    time_sim = np.linspace(pyLIMA_parameters['t_center']-3*pyLIMA_parameters['tE'],pyLIMA_parameters['t_center']+3*pyLIMA_parameters['tE'],20000)        \n",
    "    lightcurve_sim = np.c_[time_sim,[19.] * len(time_sim),[0.01] * len(time_sim)]\n",
    "    telescope = telescopes.Telescope(name = 'Simulation', \n",
    "                                     camera_filter = 'G',\n",
    "                                     light_curve = lightcurve_sim.astype(float),\n",
    "                                     light_curve_names = ['time','mag','err_mag'],\n",
    "                                     light_curve_units = ['JD','mag','mag']) \n",
    "    \n",
    "    simulated_event.telescopes.append(telescope)\n",
    "    \n",
    "    my_perfect_model = USBL_model.USBLmodel(simulated_event, origin=my_own_model.origin,\n",
    "                                        blend_flux_parameter='ftotal',\n",
    "                                        parallax=['Full', pyLIMA_parameters['t_center']])\n",
    "    my_own_parameters = []\n",
    "    for key in ['t_center','u_center','tE','rho','separation','mass_ratio','alpha','piEN','piEE']:\n",
    "        my_own_parameters.append(pyLIMA_parameters[key])\n",
    "    \n",
    "    my_own_flux_parameters = []\n",
    "    fs, G, F = {}, {}, {}\n",
    "    \n",
    "    flux_baseline = 10 ** ((27.4 - 20) / 2.5)\n",
    "    g = 0\n",
    "    f_source = flux_baseline / (1 + g)\n",
    "    f_total = f_source * (1 + g)\n",
    "    if my_perfect_model.blend_flux_parameter == \"ftotal\":\n",
    "        my_own_flux_parameters.append(f_source)\n",
    "        my_own_flux_parameters.append(f_total)\n",
    "    \n",
    "    my_own_parameters += my_own_flux_parameters\n",
    "    pyLIMA_params = my_perfect_model.compute_pyLIMA_parameters(my_own_parameters)\n",
    "    simulator.simulate_lightcurve_flux(my_perfect_model, pyLIMA_params)\n",
    "    \n",
    "    peaks, _ = find_peaks(my_perfect_model.model_magnification(my_perfect_model.event.telescopes[0], pyLIMA_params), height=0)\n",
    "    # print(help((my_perfect_model.event.telescopes[0].lightcurve_magnitude['time'][peaks][0]).unit))\n",
    "    tpeaks = []\n",
    "    for j in range(len(peaks)):\n",
    "        tpeaks.append(pyLIMA_parameters['t_center'] - my_perfect_model.event.telescopes[0].lightcurve_magnitude['time'][peaks][j].value)\n",
    "    return tpeaks\n",
    "\n",
    "import time\n",
    "start=time.time()\n",
    "print(find_peaks_event(pyLIMA_parameters, my_own_model))\n",
    "end = time.time()\n",
    "print(end-start, 'seconds')"
   ]
  },
  {
   "cell_type": "code",
   "execution_count": 14,
   "id": "27d80957-3d72-4491-9558-19821dffd65e",
   "metadata": {
    "scrolled": true
   },
   "outputs": [
    {
     "data": {
      "image/png": "[encoded data removed]",
      "text/plain": [
       "<Figure size 640x480 with 1 Axes>"
      ]
     },
     "metadata": {},
     "output_type": "display_data"
    }
   ],
   "source": [
    "#plot without alignment\n",
    "telescopes = my_own_model.event.telescopes\n",
    "\n",
    "for telo in telescopes:\n",
    "    plt.errorbar(telo.lightcurve_magnitude['time'],telo.lightcurve_magnitude['mag'],telo.lightcurve_magnitude['err_mag'],ls='',marker='.',capsize=2,label=telo.name)\n",
    "\n",
    "plt.xlabel('Time')\n",
    "plt.ylabel('Magnitude')\n",
    "plt.legend(loc=(1,0))\n",
    "plt.gca().invert_yaxis()\n",
    "plt.show()\n"
   ]
  }
 ],
 "metadata": {
  "kernelspec": {
   "display_name": "PyLIMA",
   "language": "python",
   "name": "pylima"
  },
  "language_info": {
   "codemirror_mode": {
    "name": "ipython",
    "version": 3
   },
   "file_extension": ".py",
   "mimetype": "text/x-python",
   "name": "python",
   "nbconvert_exporter": "python",
   "pygments_lexer": "ipython3",
   "version": "3.9.20"
  }
 },
 "nbformat": 4,
 "nbformat_minor": 5
}
