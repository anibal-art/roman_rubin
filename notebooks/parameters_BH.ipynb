{
 "cells": [
  {
   "cell_type": "code",
   "execution_count": 5,
   "id": "853741e4-c82a-430a-a10b-8a19a0e65bdc",
   "metadata": {
    "tags": []
   },
   "outputs": [],
   "source": [
    "import pandas as pd\n",
    "import numpy as np\n",
    "import matplotlib.pyplot as plt\n",
    "from tqdm.auto import tqdm\n",
    "from astropy import constants as const\n",
    "from astropy import units as u\n",
    "import math\n",
    "from astropy.constants import c, L_sun, sigma_sb, M_jup, M_earth"
   ]
  },
  {
   "cell_type": "code",
   "execution_count": 6,
   "id": "669528b7-4887-4667-88a9-3585511be5e0",
   "metadata": {
    "tags": []
   },
   "outputs": [
    {
     "name": "stdout",
     "output_type": "stream",
     "text": [
      "The len() of the database is:  6752296\n"
     ]
    },
    {
     "data": {
      "text/html": [
       "<div>\n",
       "<style scoped>\n",
       "    .dataframe tbody tr th:only-of-type {\n",
       "        vertical-align: middle;\n",
       "    }\n",
       "\n",
       "    .dataframe tbody tr th {\n",
       "        vertical-align: top;\n",
       "    }\n",
       "\n",
       "    .dataframe thead th {\n",
       "        text-align: right;\n",
       "    }\n",
       "</style>\n",
       "<table border=\"1\" class=\"dataframe\">\n",
       "  <thead>\n",
       "    <tr style=\"text-align: right;\">\n",
       "      <th></th>\n",
       "      <th>u</th>\n",
       "      <th>g</th>\n",
       "      <th>r</th>\n",
       "      <th>i</th>\n",
       "      <th>z</th>\n",
       "      <th>Y</th>\n",
       "      <th>W149</th>\n",
       "      <th>radius</th>\n",
       "      <th>D_S</th>\n",
       "      <th>D_L</th>\n",
       "      <th>mu_rel</th>\n",
       "    </tr>\n",
       "  </thead>\n",
       "  <tbody>\n",
       "    <tr>\n",
       "      <th>0</th>\n",
       "      <td>27.940</td>\n",
       "      <td>25.112</td>\n",
       "      <td>23.791</td>\n",
       "      <td>23.052</td>\n",
       "      <td>22.687</td>\n",
       "      <td>22.509</td>\n",
       "      <td>22.4888</td>\n",
       "      <td>0.204717</td>\n",
       "      <td>7708</td>\n",
       "      <td>3337</td>\n",
       "      <td>1.752341</td>\n",
       "    </tr>\n",
       "    <tr>\n",
       "      <th>1</th>\n",
       "      <td>32.152</td>\n",
       "      <td>28.801</td>\n",
       "      <td>27.358</td>\n",
       "      <td>25.353</td>\n",
       "      <td>24.371</td>\n",
       "      <td>23.905</td>\n",
       "      <td>23.7048</td>\n",
       "      <td>0.256539</td>\n",
       "      <td>5443</td>\n",
       "      <td>3490</td>\n",
       "      <td>3.368060</td>\n",
       "    </tr>\n",
       "    <tr>\n",
       "      <th>2</th>\n",
       "      <td>29.916</td>\n",
       "      <td>26.583</td>\n",
       "      <td>25.143</td>\n",
       "      <td>23.976</td>\n",
       "      <td>23.416</td>\n",
       "      <td>23.174</td>\n",
       "      <td>23.0758</td>\n",
       "      <td>0.377705</td>\n",
       "      <td>7715</td>\n",
       "      <td>4581</td>\n",
       "      <td>6.920123</td>\n",
       "    </tr>\n",
       "    <tr>\n",
       "      <th>3</th>\n",
       "      <td>19.718</td>\n",
       "      <td>18.786</td>\n",
       "      <td>18.695</td>\n",
       "      <td>18.736</td>\n",
       "      <td>18.808</td>\n",
       "      <td>18.839</td>\n",
       "      <td>19.3448</td>\n",
       "      <td>1.236383</td>\n",
       "      <td>6055</td>\n",
       "      <td>2758</td>\n",
       "      <td>9.626590</td>\n",
       "    </tr>\n",
       "    <tr>\n",
       "      <th>4</th>\n",
       "      <td>28.293</td>\n",
       "      <td>25.580</td>\n",
       "      <td>24.286</td>\n",
       "      <td>23.587</td>\n",
       "      <td>23.239</td>\n",
       "      <td>23.064</td>\n",
       "      <td>23.0568</td>\n",
       "      <td>0.232088</td>\n",
       "      <td>7359</td>\n",
       "      <td>6834</td>\n",
       "      <td>6.344430</td>\n",
       "    </tr>\n",
       "  </tbody>\n",
       "</table>\n",
       "</div>"
      ],
      "text/plain": [
       "        u       g       r       i       z       Y     W149    radius   D_S  \\\n",
       "0  27.940  25.112  23.791  23.052  22.687  22.509  22.4888  0.204717  7708   \n",
       "1  32.152  28.801  27.358  25.353  24.371  23.905  23.7048  0.256539  5443   \n",
       "2  29.916  26.583  25.143  23.976  23.416  23.174  23.0758  0.377705  7715   \n",
       "3  19.718  18.786  18.695  18.736  18.808  18.839  19.3448  1.236383  6055   \n",
       "4  28.293  25.580  24.286  23.587  23.239  23.064  23.0568  0.232088  7359   \n",
       "\n",
       "    D_L    mu_rel  \n",
       "0  3337  1.752341  \n",
       "1  3490  3.368060  \n",
       "2  4581  6.920123  \n",
       "3  2758  9.626590  \n",
       "4  6834  6.344430  "
      ]
     },
     "execution_count": 6,
     "metadata": {},
     "output_type": "execute_result"
    }
   ],
   "source": [
    "\n",
    "try:\n",
    "    data = pd.read_csv('/home/anibal/Downloads/things/df_trilegal_radios.csv')\n",
    "except:\n",
    "    Radii_star = []\n",
    "    for i in tqdm(range(len(data))):\n",
    "        logL = data['logL'][i]  # log10 of the luminosity in Lsun from TRILEGAL\n",
    "        logTe = data['logTe'][i]  # log10 of effective temperature in K from TRILEGAL\n",
    "        L_star = 10**(logL)\n",
    "        Teff = (10**(logTe))*u.K\n",
    "        top = L_star*L_sun\n",
    "        sigma = sigma_sb\n",
    "        bot = 4*np.pi*sigma*Teff**4\n",
    "        Rstar = np.sqrt(top/bot)\n",
    "        Radii_star.append(Rstar.to('R_sun').value)\n",
    "\n",
    "    data['radius']=Radii_star\n",
    "    df_koshimoto_large = pd.read_csv('/home/anibal/genulens/tmp_new.dat', delim_whitespace=True, comment='#', header=None)\n",
    "    header = [\"wtj\", \"M_L\", \"D_L\", \"D_S\", \"tE\", \"thetaE\", \"piE\", \"piEN\", \"piEE\", \"mu_rel\", \"muSl\", \"muSb\", \"i_L\", \"iS\",\n",
    "              \"iL\", \"fREM\"]\n",
    "    df_koshimoto_large.columns = header\n",
    "    data[\"D_S\"]=df_koshimoto_large[\"D_S\"]\n",
    "    data[\"D_L\"]=df_koshimoto_large[\"D_L\"]\n",
    "    data[\"mu_rel\"]=df_koshimoto_large[\"mu_rel\"]\n",
    "\n",
    "    data = data[['u','g','r','i','z','Y','W149','radius','D_S','D_L','mu_rel']]\n",
    "    data = data[data['D_S']<8000]\n",
    "    data.to_csv('/home/anibal/Downloads/df_trilegal_radios.csv', index=False)\n",
    "    \n",
    "\n",
    "print('The len() of the database is: ',len(data))\n",
    "data.head()\n",
    "\n"
   ]
  },
  {
   "cell_type": "code",
   "execution_count": 7,
   "id": "b2bf6d03-65be-4c6d-bada-f8a74f62ec60",
   "metadata": {
    "tags": []
   },
   "outputs": [],
   "source": [
    "# print(len(data))# data.columns = ['u', 'g', 'r', 'i', 'z', 'Y', 'W149', 'radius', 'D_S', 'D_L', 'mu_rel']#, 't0', 'tE', 'u0', 'rho', 'piEE', 'piEN']"
   ]
  },
  {
   "cell_type": "code",
   "execution_count": 8,
   "id": "d4f71efb-cd28-4d97-a9e3-e402fa7a84e9",
   "metadata": {
    "tags": []
   },
   "outputs": [],
   "source": [
    "# print((1*u.rad).to('mas'))\n",
    "# aconv = (180 * 60 * 60 * 1000) / math.pi\n",
    "# print(aconv)"
   ]
  },
  {
   "cell_type": "code",
   "execution_count": 9,
   "id": "c74ae2ed-514f-4175-a20a-6407aef4a0f3",
   "metadata": {
    "tags": []
   },
   "outputs": [
    {
     "data": {
      "application/vnd.jupyter.widget-view+json": {
       "model_id": "e415061ca4014625b512cbcf815cc6cd",
       "version_major": 2,
       "version_minor": 0
      },
      "text/plain": [
       "  0%|          | 0/40000 [00:00<?, ?it/s]"
      ]
     },
     "metadata": {},
     "output_type": "display_data"
    },
    {
     "data": {
      "text/html": [
       "<div>\n",
       "<style scoped>\n",
       "    .dataframe tbody tr th:only-of-type {\n",
       "        vertical-align: middle;\n",
       "    }\n",
       "\n",
       "    .dataframe tbody tr th {\n",
       "        vertical-align: top;\n",
       "    }\n",
       "\n",
       "    .dataframe thead th {\n",
       "        text-align: right;\n",
       "    }\n",
       "</style>\n",
       "<table border=\"1\" class=\"dataframe\">\n",
       "  <thead>\n",
       "    <tr style=\"text-align: right;\">\n",
       "      <th></th>\n",
       "      <th>u</th>\n",
       "      <th>g</th>\n",
       "      <th>r</th>\n",
       "      <th>i</th>\n",
       "      <th>z</th>\n",
       "      <th>Y</th>\n",
       "      <th>W149</th>\n",
       "      <th>radius</th>\n",
       "      <th>D_S</th>\n",
       "      <th>D_L</th>\n",
       "      <th>mu_rel</th>\n",
       "      <th>t0</th>\n",
       "      <th>te</th>\n",
       "      <th>u0</th>\n",
       "      <th>rho</th>\n",
       "      <th>piEE</th>\n",
       "      <th>piEN</th>\n",
       "    </tr>\n",
       "  </thead>\n",
       "  <tbody>\n",
       "    <tr>\n",
       "      <th>0</th>\n",
       "      <td>27.940</td>\n",
       "      <td>25.112</td>\n",
       "      <td>23.791</td>\n",
       "      <td>23.052</td>\n",
       "      <td>22.687</td>\n",
       "      <td>22.509</td>\n",
       "      <td>22.4888</td>\n",
       "      <td>0.204717</td>\n",
       "      <td>7708</td>\n",
       "      <td>3337</td>\n",
       "      <td>1.752341</td>\n",
       "      <td>2.462970e+06</td>\n",
       "      <td>1656.410720</td>\n",
       "      <td>2.035848</td>\n",
       "      <td>0.000016</td>\n",
       "      <td>-0.017324</td>\n",
       "      <td>0.012536</td>\n",
       "    </tr>\n",
       "    <tr>\n",
       "      <th>1</th>\n",
       "      <td>32.152</td>\n",
       "      <td>28.801</td>\n",
       "      <td>27.358</td>\n",
       "      <td>25.353</td>\n",
       "      <td>24.371</td>\n",
       "      <td>23.905</td>\n",
       "      <td>23.7048</td>\n",
       "      <td>0.256539</td>\n",
       "      <td>5443</td>\n",
       "      <td>3490</td>\n",
       "      <td>3.368060</td>\n",
       "      <td>2.461921e+06</td>\n",
       "      <td>455.221659</td>\n",
       "      <td>2.605656</td>\n",
       "      <td>0.000052</td>\n",
       "      <td>0.016386</td>\n",
       "      <td>0.018203</td>\n",
       "    </tr>\n",
       "    <tr>\n",
       "      <th>2</th>\n",
       "      <td>29.916</td>\n",
       "      <td>26.583</td>\n",
       "      <td>25.143</td>\n",
       "      <td>23.976</td>\n",
       "      <td>23.416</td>\n",
       "      <td>23.174</td>\n",
       "      <td>23.0758</td>\n",
       "      <td>0.377705</td>\n",
       "      <td>7715</td>\n",
       "      <td>4581</td>\n",
       "      <td>6.920123</td>\n",
       "      <td>2.462858e+06</td>\n",
       "      <td>514.568756</td>\n",
       "      <td>2.428391</td>\n",
       "      <td>0.000023</td>\n",
       "      <td>0.004346</td>\n",
       "      <td>0.007990</td>\n",
       "    </tr>\n",
       "    <tr>\n",
       "      <th>3</th>\n",
       "      <td>19.718</td>\n",
       "      <td>18.786</td>\n",
       "      <td>18.695</td>\n",
       "      <td>18.736</td>\n",
       "      <td>18.808</td>\n",
       "      <td>18.839</td>\n",
       "      <td>19.3448</td>\n",
       "      <td>1.236383</td>\n",
       "      <td>6055</td>\n",
       "      <td>2758</td>\n",
       "      <td>9.626590</td>\n",
       "      <td>2.461852e+06</td>\n",
       "      <td>426.119229</td>\n",
       "      <td>2.286683</td>\n",
       "      <td>0.000085</td>\n",
       "      <td>0.002253</td>\n",
       "      <td>0.017434</td>\n",
       "    </tr>\n",
       "    <tr>\n",
       "      <th>4</th>\n",
       "      <td>28.293</td>\n",
       "      <td>25.580</td>\n",
       "      <td>24.286</td>\n",
       "      <td>23.587</td>\n",
       "      <td>23.239</td>\n",
       "      <td>23.064</td>\n",
       "      <td>23.0568</td>\n",
       "      <td>0.232088</td>\n",
       "      <td>7359</td>\n",
       "      <td>6834</td>\n",
       "      <td>6.344430</td>\n",
       "      <td>2.461784e+06</td>\n",
       "      <td>136.696231</td>\n",
       "      <td>1.457285</td>\n",
       "      <td>0.000062</td>\n",
       "      <td>-0.002854</td>\n",
       "      <td>0.003344</td>\n",
       "    </tr>\n",
       "  </tbody>\n",
       "</table>\n",
       "</div>"
      ],
      "text/plain": [
       "        u       g       r       i       z       Y     W149    radius   D_S  \\\n",
       "0  27.940  25.112  23.791  23.052  22.687  22.509  22.4888  0.204717  7708   \n",
       "1  32.152  28.801  27.358  25.353  24.371  23.905  23.7048  0.256539  5443   \n",
       "2  29.916  26.583  25.143  23.976  23.416  23.174  23.0758  0.377705  7715   \n",
       "3  19.718  18.786  18.695  18.736  18.808  18.839  19.3448  1.236383  6055   \n",
       "4  28.293  25.580  24.286  23.587  23.239  23.064  23.0568  0.232088  7359   \n",
       "\n",
       "    D_L    mu_rel            t0           te        u0       rho      piEE  \\\n",
       "0  3337  1.752341  2.462970e+06  1656.410720  2.035848  0.000016 -0.017324   \n",
       "1  3490  3.368060  2.461921e+06   455.221659  2.605656  0.000052  0.016386   \n",
       "2  4581  6.920123  2.462858e+06   514.568756  2.428391  0.000023  0.004346   \n",
       "3  2758  9.626590  2.461852e+06   426.119229  2.286683  0.000085  0.002253   \n",
       "4  6834  6.344430  2.461784e+06   136.696231  1.457285  0.000062 -0.002854   \n",
       "\n",
       "       piEN  \n",
       "0  0.012536  \n",
       "1  0.018203  \n",
       "2  0.007990  \n",
       "3  0.017434  \n",
       "4  0.003344  "
      ]
     },
     "execution_count": 9,
     "metadata": {},
     "output_type": "execute_result"
    }
   ],
   "source": [
    "ang_radii_E = []\n",
    "radii_source = []\n",
    "tstart_Roman = 2461508.763828608\n",
    "dict_micro = {'t0': [],'te': [],'u0': [],'rho': [],'piEE': [],'piEN': []}\n",
    "for i in tqdm(range(int(4e+4))):#len(data))):\n",
    "    # ml = (50*u.M_sun).value\n",
    "    ml = np.random.uniform((2 * u.M_sun).value, (150 * u.M_sun).value)\n",
    "    ml = ml*u.M_sun\n",
    "    DS = (data.iloc[i]['D_S'] * u.pc).to('kpc')\n",
    "    DL = (data.iloc[i]['D_L'] * u.pc).to('kpc')\n",
    "    c = const.c\n",
    "    G = const.G\n",
    "    yr2day = 365.25\n",
    "    pi_rel = ((1 / DL) - (1 / DS))\n",
    "    k = 4 * G / (c ** 2)\n",
    "    aconv = (180 * 60 * 60 * 1000) / math.pi\n",
    "    theta_E = np.sqrt(k * pi_rel * ml).decompose() * aconv\n",
    "    mu_rel = data.iloc[i]['mu_rel']\n",
    "    tE = float((theta_E/mu_rel)*yr2day)\n",
    "    piE = float(pi_rel.value/theta_E)\n",
    "    ang_radii_E.append(theta_E)\n",
    "    Rstar = data['radius'][i]*u.R_sun\n",
    "    theta_s = np.arctan(Rstar/DS).decompose().to('mas').value\n",
    "    radii_source.append(theta_s)\n",
    "    #------------------------------------------------------------------------------------------------\n",
    "    # t0 = np.random.uniform(tstart_Roman,\n",
    "                           # tstart_Roman + 5 * 365)  # from 100 day before Roman is launched to one year later\n",
    "    u0 = np.random.uniform(0, 3)\n",
    "    rho = float((theta_s/theta_E).value)\n",
    "    phi = np.random.uniform(0, np.pi)\n",
    "    piEE = piE * np.cos(phi)\n",
    "    piEN = piE * np.sin(phi)\n",
    "    q = np.random.uniform(0,1)\n",
    "    d = np.random.uniform(0.1,28)\n",
    "    s = float(((np.arctan(d*u.au/DL).to('mas'))/(theta_E)).value)\n",
    "    # print(s)\n",
    "    # print(theta_E)\n",
    "    # s = np.random.uniform(0,np.arctan(d/dl)/theta_E)\n",
    "    t0 = np.random.uniform(tstart_Roman,\n",
    "                       tstart_Roman + 5 * 365)\n",
    "    dict_micro['u0'].append(u0)\n",
    "    dict_micro['te'].append(tE)\n",
    "    dict_micro['rho'].append(rho)\n",
    "    dict_micro['piEE'].append(piEE)\n",
    "    dict_micro['piEN'].append(piEN)\n",
    "    dict_micro['t0'].append(t0)\n",
    "\n",
    "data = data.head(int(4e+4))\n",
    "for key in dict_micro:\n",
    "    data[key] = dict_micro[key]\n",
    "data.head()\n"
   ]
  },
  {
   "cell_type": "code",
   "execution_count": null,
   "id": "d5554e60-c20c-4f3b-9cd9-603cefa2e0d5",
   "metadata": {
    "tags": []
   },
   "outputs": [],
   "source": []
  },
  {
   "cell_type": "code",
   "execution_count": null,
   "id": "0d0036db-4541-4add-b82c-38ba731ef9c0",
   "metadata": {
    "tags": []
   },
   "outputs": [],
   "source": []
  },
  {
   "cell_type": "code",
   "execution_count": 10,
   "id": "3b8747ba-2d4c-4afe-bb45-68b2f46f286f",
   "metadata": {
    "tags": []
   },
   "outputs": [],
   "source": [
    "# print(len(data[data['rho']>0.1*data['u0']]))\n"
   ]
  },
  {
   "cell_type": "code",
   "execution_count": 11,
   "id": "9334a861-19e9-45b8-90bb-0ee962ac2c3e",
   "metadata": {
    "tags": []
   },
   "outputs": [],
   "source": [
    "# plt.hist(data['te'])\n",
    "# plt.yscale('log')\n",
    "# plt.show()\n",
    "# plt.plot(data['u0'], data['rho'], marker='o', linestyle='')\n",
    "# plt.yscale('log')"
   ]
  },
  {
   "cell_type": "code",
   "execution_count": 12,
   "id": "0ccdf44f-e28c-4618-9f2c-94e2fa78788e",
   "metadata": {
    "tags": []
   },
   "outputs": [],
   "source": [
    "file_name = '/home/anibal/Downloads/BH_params.csv'\n",
    "data.to_csv(file_name, index=False)"
   ]
  },
  {
   "cell_type": "code",
   "execution_count": 13,
   "id": "aadfb8b8-7c54-4e17-8799-a59cbfb2a7b2",
   "metadata": {
    "tags": []
   },
   "outputs": [
    {
     "data": {
      "text/html": [
       "<div>\n",
       "<style scoped>\n",
       "    .dataframe tbody tr th:only-of-type {\n",
       "        vertical-align: middle;\n",
       "    }\n",
       "\n",
       "    .dataframe tbody tr th {\n",
       "        vertical-align: top;\n",
       "    }\n",
       "\n",
       "    .dataframe thead th {\n",
       "        text-align: right;\n",
       "    }\n",
       "</style>\n",
       "<table border=\"1\" class=\"dataframe\">\n",
       "  <thead>\n",
       "    <tr style=\"text-align: right;\">\n",
       "      <th></th>\n",
       "      <th>u</th>\n",
       "      <th>g</th>\n",
       "      <th>r</th>\n",
       "      <th>i</th>\n",
       "      <th>z</th>\n",
       "      <th>Y</th>\n",
       "      <th>W149</th>\n",
       "      <th>radius</th>\n",
       "      <th>D_S</th>\n",
       "      <th>D_L</th>\n",
       "      <th>mu_rel</th>\n",
       "      <th>t0</th>\n",
       "      <th>te</th>\n",
       "      <th>u0</th>\n",
       "      <th>rho</th>\n",
       "      <th>piEE</th>\n",
       "      <th>piEN</th>\n",
       "    </tr>\n",
       "  </thead>\n",
       "  <tbody>\n",
       "    <tr>\n",
       "      <th>0</th>\n",
       "      <td>27.940</td>\n",
       "      <td>25.112</td>\n",
       "      <td>23.791</td>\n",
       "      <td>23.052</td>\n",
       "      <td>22.687</td>\n",
       "      <td>22.509</td>\n",
       "      <td>22.4888</td>\n",
       "      <td>0.204717</td>\n",
       "      <td>7708</td>\n",
       "      <td>3337</td>\n",
       "      <td>1.752341</td>\n",
       "      <td>2.462970e+06</td>\n",
       "      <td>1656.410720</td>\n",
       "      <td>2.035848</td>\n",
       "      <td>0.000016</td>\n",
       "      <td>-0.017324</td>\n",
       "      <td>0.012536</td>\n",
       "    </tr>\n",
       "    <tr>\n",
       "      <th>1</th>\n",
       "      <td>32.152</td>\n",
       "      <td>28.801</td>\n",
       "      <td>27.358</td>\n",
       "      <td>25.353</td>\n",
       "      <td>24.371</td>\n",
       "      <td>23.905</td>\n",
       "      <td>23.7048</td>\n",
       "      <td>0.256539</td>\n",
       "      <td>5443</td>\n",
       "      <td>3490</td>\n",
       "      <td>3.368060</td>\n",
       "      <td>2.461921e+06</td>\n",
       "      <td>455.221659</td>\n",
       "      <td>2.605656</td>\n",
       "      <td>0.000052</td>\n",
       "      <td>0.016386</td>\n",
       "      <td>0.018203</td>\n",
       "    </tr>\n",
       "    <tr>\n",
       "      <th>2</th>\n",
       "      <td>29.916</td>\n",
       "      <td>26.583</td>\n",
       "      <td>25.143</td>\n",
       "      <td>23.976</td>\n",
       "      <td>23.416</td>\n",
       "      <td>23.174</td>\n",
       "      <td>23.0758</td>\n",
       "      <td>0.377705</td>\n",
       "      <td>7715</td>\n",
       "      <td>4581</td>\n",
       "      <td>6.920123</td>\n",
       "      <td>2.462858e+06</td>\n",
       "      <td>514.568756</td>\n",
       "      <td>2.428391</td>\n",
       "      <td>0.000023</td>\n",
       "      <td>0.004346</td>\n",
       "      <td>0.007990</td>\n",
       "    </tr>\n",
       "    <tr>\n",
       "      <th>3</th>\n",
       "      <td>19.718</td>\n",
       "      <td>18.786</td>\n",
       "      <td>18.695</td>\n",
       "      <td>18.736</td>\n",
       "      <td>18.808</td>\n",
       "      <td>18.839</td>\n",
       "      <td>19.3448</td>\n",
       "      <td>1.236383</td>\n",
       "      <td>6055</td>\n",
       "      <td>2758</td>\n",
       "      <td>9.626590</td>\n",
       "      <td>2.461852e+06</td>\n",
       "      <td>426.119229</td>\n",
       "      <td>2.286683</td>\n",
       "      <td>0.000085</td>\n",
       "      <td>0.002253</td>\n",
       "      <td>0.017434</td>\n",
       "    </tr>\n",
       "    <tr>\n",
       "      <th>4</th>\n",
       "      <td>28.293</td>\n",
       "      <td>25.580</td>\n",
       "      <td>24.286</td>\n",
       "      <td>23.587</td>\n",
       "      <td>23.239</td>\n",
       "      <td>23.064</td>\n",
       "      <td>23.0568</td>\n",
       "      <td>0.232088</td>\n",
       "      <td>7359</td>\n",
       "      <td>6834</td>\n",
       "      <td>6.344430</td>\n",
       "      <td>2.461784e+06</td>\n",
       "      <td>136.696231</td>\n",
       "      <td>1.457285</td>\n",
       "      <td>0.000062</td>\n",
       "      <td>-0.002854</td>\n",
       "      <td>0.003344</td>\n",
       "    </tr>\n",
       "  </tbody>\n",
       "</table>\n",
       "</div>"
      ],
      "text/plain": [
       "        u       g       r       i       z       Y     W149    radius   D_S  \\\n",
       "0  27.940  25.112  23.791  23.052  22.687  22.509  22.4888  0.204717  7708   \n",
       "1  32.152  28.801  27.358  25.353  24.371  23.905  23.7048  0.256539  5443   \n",
       "2  29.916  26.583  25.143  23.976  23.416  23.174  23.0758  0.377705  7715   \n",
       "3  19.718  18.786  18.695  18.736  18.808  18.839  19.3448  1.236383  6055   \n",
       "4  28.293  25.580  24.286  23.587  23.239  23.064  23.0568  0.232088  7359   \n",
       "\n",
       "    D_L    mu_rel            t0           te        u0       rho      piEE  \\\n",
       "0  3337  1.752341  2.462970e+06  1656.410720  2.035848  0.000016 -0.017324   \n",
       "1  3490  3.368060  2.461921e+06   455.221659  2.605656  0.000052  0.016386   \n",
       "2  4581  6.920123  2.462858e+06   514.568756  2.428391  0.000023  0.004346   \n",
       "3  2758  9.626590  2.461852e+06   426.119229  2.286683  0.000085  0.002253   \n",
       "4  6834  6.344430  2.461784e+06   136.696231  1.457285  0.000062 -0.002854   \n",
       "\n",
       "       piEN  \n",
       "0  0.012536  \n",
       "1  0.018203  \n",
       "2  0.007990  \n",
       "3  0.017434  \n",
       "4  0.003344  "
      ]
     },
     "execution_count": 13,
     "metadata": {},
     "output_type": "execute_result"
    }
   ],
   "source": [
    "data = pd.read_csv(file_name)\n",
    "data.head()"
   ]
  },
  {
   "cell_type": "code",
   "execution_count": 14,
   "id": "afeac650-c82b-4b6e-8caa-aa8a1b43a293",
   "metadata": {
    "tags": []
   },
   "outputs": [],
   "source": [
    "# plt.hist(data['alpha'])\n",
    "# # plt.yscale('log')\n",
    "# plt.xlabel('s', fontsize=20)"
   ]
  },
  {
   "cell_type": "code",
   "execution_count": 15,
   "id": "caf89edd-1c03-43ab-9d91-e430a775e68c",
   "metadata": {
    "tags": []
   },
   "outputs": [
    {
     "name": "stdout",
     "output_type": "stream",
     "text": [
      "Split 1 saved to /home/anibal/results_roman_rubin/BH_split_1.csv\n",
      "Split 2 saved to /home/anibal/results_roman_rubin/BH_split_2.csv\n",
      "Split 3 saved to /home/anibal/results_roman_rubin/BH_split_3.csv\n",
      "Split 4 saved to /home/anibal/results_roman_rubin/BH_split_4.csv\n",
      "Split 5 saved to /home/anibal/results_roman_rubin/BH_split_5.csv\n",
      "Split 6 saved to /home/anibal/results_roman_rubin/BH_split_6.csv\n",
      "Split 7 saved to /home/anibal/results_roman_rubin/BH_split_7.csv\n",
      "Split 8 saved to /home/anibal/results_roman_rubin/BH_split_8.csv\n"
     ]
    }
   ],
   "source": [
    "import pandas as pd\n",
    "# Calculate the number of rows in each split\n",
    "rows_per_split = 5000\n",
    "num_splits = len(data) // rows_per_split\n",
    "# Split the DataFrame into 8 pieces with approximately 5000 rows each\n",
    "df_splits = [data.iloc[i * rows_per_split:(i + 1) * rows_per_split] for i in range(num_splits)]\n",
    "# Save each split DataFrame to a CSV file\n",
    "\n",
    "j = 0\n",
    "for i, df_split in enumerate(df_splits):\n",
    "    csv_filename = f'/home/anibal/results_roman_rubin/BH_split_{i + 1}.csv'\n",
    "    df_split.to_csv(csv_filename, index=False)\n",
    "    print(f\"Split {i + 1} saved to {csv_filename}\")\n",
    "    j = j+1\n",
    "    if j>8:\n",
    "        break\n"
   ]
  },
  {
   "cell_type": "code",
   "execution_count": 16,
   "id": "e210760c-2d2d-403f-8b88-0cb87204b0c4",
   "metadata": {
    "tags": []
   },
   "outputs": [],
   "source": [
    "# split_data = pd.read_csv('/home/anibal/results_roman_rubin/PB_split_4.csv', sep=',', decimal='.')\n",
    "# display(split_data)\n",
    "# plt.hist(split_data['te'])\n",
    "# plt.yscale('log')\n",
    "# print(len(split_data))"
   ]
  },
  {
   "cell_type": "code",
   "execution_count": 17,
   "id": "b0ed56b8-489a-4d86-b6dd-7213e89eccbe",
   "metadata": {
    "tags": []
   },
   "outputs": [
    {
     "data": {
      "text/plain": [
       "0        1656.410720\n",
       "1         455.221659\n",
       "2         514.568756\n",
       "3         426.119229\n",
       "4         136.696231\n",
       "            ...     \n",
       "39995     362.913827\n",
       "39996     637.593547\n",
       "39997     140.488165\n",
       "39998      86.891917\n",
       "39999      32.774264\n",
       "Name: te, Length: 40000, dtype: float64"
      ]
     },
     "execution_count": 17,
     "metadata": {},
     "output_type": "execute_result"
    }
   ],
   "source": [
    "data['te']"
   ]
  },
  {
   "cell_type": "code",
   "execution_count": 18,
   "id": "0f55633e-49a6-4d0a-8b73-ac1255dc2d2b",
   "metadata": {
    "tags": []
   },
   "outputs": [
    {
     "data": {
      "text/plain": [
       "(array([4012., 4090., 3909., 3955., 3925., 4102., 3940., 4027., 4046.,\n",
       "        3994.]),\n",
       " array([6.09063323e-05, 3.00052782e-01, 6.00044657e-01, 9.00036533e-01,\n",
       "        1.20002841e+00, 1.50002028e+00, 1.80001216e+00, 2.10000403e+00,\n",
       "        2.39999591e+00, 2.69998779e+00, 2.99997966e+00]),\n",
       " <BarContainer object of 10 artists>)"
      ]
     },
     "execution_count": 18,
     "metadata": {},
     "output_type": "execute_result"
    },
    {
     "data": {
      "image/png": "[encoded data removed]",
      "text/plain": [
       "<Figure size 640x480 with 1 Axes>"
      ]
     },
     "metadata": {},
     "output_type": "display_data"
    }
   ],
   "source": [
    "plt.hist(data['u0'])"
   ]
  },
  {
   "cell_type": "code",
   "execution_count": 19,
   "id": "66761d1b-8b3c-4c94-99bc-714c3d0e2ad2",
   "metadata": {
    "tags": []
   },
   "outputs": [
    {
     "data": {
      "image/png": "[encoded data removed]",
      "text/plain": [
       "<Figure size 640x480 with 2 Axes>"
      ]
     },
     "metadata": {},
     "output_type": "display_data"
    }
   ],
   "source": [
    "plt.hist2d(data['te'],np.sqrt(data['piEE']**2+data['piEE']**2),bins=(np.logspace(1,3.5,20),np.logspace(-4,-0.5,20)),cmap=plt.cm.BuPu)\n",
    "plt.yscale('log')\n",
    "plt.xscale('log')\n",
    "plt.xlabel(r'$t_E \\ [days]$', fontsize=20)\n",
    "plt.ylabel(r'$\\pi_E  $', fontsize=20)\n",
    "plt.colorbar()\n",
    "plt.show()"
   ]
  },
  {
   "cell_type": "code",
   "execution_count": 20,
   "id": "ab889608-bf33-4d33-b09b-111f40d0284a",
   "metadata": {
    "tags": []
   },
   "outputs": [],
   "source": [
    "# plt.hist2d(data['u0'], data['rho'],\n",
    "#            bins=(np.logspace(-3,1,20),np.logspace(-3,0.6,20)),cmap=plt.cm.BuPu)\n",
    "# plt.yscale('log')\n",
    "# plt.xscale('log')\n",
    "# plt.xlabel(r'$\\rho$', fontsize=20)\n",
    "# plt.ylabel(r'$u_0$', fontsize=20)\n",
    "# plt.xticks(fontsize=12)\n",
    "# plt.yticks(fontsize=12)\n",
    "# plt.colorbar()\n",
    "# plt.show()"
   ]
  }
 ],
 "metadata": {
  "kernelspec": {
   "display_name": "pyLIMA-git",
   "language": "python",
   "name": "pylima-git"
  },
  "language_info": {
   "codemirror_mode": {
    "name": "ipython",
    "version": 3
   },
   "file_extension": ".py",
   "mimetype": "text/x-python",
   "name": "python",
   "nbconvert_exporter": "python",
   "pygments_lexer": "ipython3",
   "version": "3.11.5"
  }
 },
 "nbformat": 4,
 "nbformat_minor": 5
}
